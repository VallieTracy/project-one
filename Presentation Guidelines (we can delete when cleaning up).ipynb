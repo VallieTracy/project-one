{
 "cells": [
  {
   "cell_type": "markdown",
   "metadata": {},
   "source": [
    "# Presentation Guidelines     \n",
    "\n",
    "**TITLE SLIDE**     \n",
    "1.) Include the name of the Project and Group Members"
   ]
  },
  {
   "cell_type": "markdown",
   "metadata": {},
   "source": [
    "**MOTIVATION & SUMMARY SLIDE:**     \n",
    "1.) Define the core message or hypothesis of your project--At least for Kaan and I, our null hypothesis is that co2 has no impact on birthrate. Do we say that our hypothesis is that co2 does impact birthrate (but the null hypothesis is our way of trying to prove it??)       \n",
    "\n",
    "2.) Describe the questions you asked, and why you asked them--Can you statistically show a direct correlation between co2 emissions and birthrate? What does it matter if we can't prove it with the numbers.     \n",
    "\n",
    "3.) Describe whether you were able to answer these questions to your satisfaction, and briefly summarize your findings--Looking directly at co2 emissions and birthrate, we did discover some potentiall statistically significant data. When performing the anova test, we rejected our null hypothesis for 7 out of our 10 years. And we further found statistically significant p-values when looking at smaller groups within the anova test.     \n",
    "\n",
    "We obviously only scratched the surface, so I would say no, we didn't answer our questions to our satisfaction. "
   ]
  },
  {
   "cell_type": "markdown",
   "metadata": {},
   "source": [
    "**QUESTIONS & DATA:**          \n",
    "1.) Elaborate on the questions you asked, describing what kinds of data you needed to answer them, and where you found it--For Kaan and my portion, we didn't need any data beyond what Bernt had found (co2 emissions and birthrate)."
   ]
  },
  {
   "cell_type": "markdown",
   "metadata": {},
   "source": [
    "**DATA CLEANUP & EXPLORATION:**     \n",
    "1.) Describe the exploration and cleanup process--Luckily, for our portion of the process, it wasn't too difficult to clean up the data.  Both co2 and birthrate had an initial column of countries, and then the rest of the columns were years, in order from around 1800 to 2014.  It was easy to merge 'on' country, then we simply renamed only the columns that we were interested in, and then keep only those columns.  And then from that dataframe, we created one new dataframe per year that we looked at, which included three columns (country, that year's co2, and that year's birthrate).  For each of those, we then dropped any nan's and put the co2 in descending order (for upcoming anova and t-tests).   \n",
    "\n",
    "2.) Discuss insights you had while exploring the data that you didn't anticipate--reading this prompt, perhaps an insight for me is that I've so 'monkey-see-monkey-do' up until this point, that maybe I'm not using my critical thinking skills on the data-at-hand.  I'm more focused on am I doing this correctly, what data should I be working with, etc.     \n",
    "\n",
    "3.) Discuss any problems that arose after exploring the data, and how you resolved them--after working on our separate years, Kaan and I discussed and realized we both had a handful of t-tests that returned a p-value of 'nan.'  We resolved it by resetting our bins to exclude what was a singleton high-level-co2 in each instance.  This resolved the issue.    \n",
    "\n",
    "4.) Present and discuss interesting figures developed during exploration, ideally with the help of Jupyter Notebook "
   ]
  },
  {
   "cell_type": "markdown",
   "metadata": {},
   "source": [
    "**DATA ANALYSIS:**     \n",
    "1.) Discuss the steps you took to analyze the data and answer each question you asked in your proposal--For Kaan and my portion, we first performed linear regressions on each year of co2 v birthrate.  We then performed anova and independent t-tests by grouping the co2 levels into three groups of low-level, mid-level, and high-level.  We performed the anova test on all three groups, and the independent t-tests on the co2 groups against one another.    \n",
    "\n",
    "2.) Present and discuss interesting figures developed during analysis, ideally with the help of Jupyter Notebook"
   ]
  },
  {
   "cell_type": "markdown",
   "metadata": {},
   "source": [
    "**DISCUSSION:**     \n",
    "1.) Discuss your findings. Did you find what you expected to find? If not, why not? The linear regressions returned a moderate correlation, but I was expecting a weaker correlation.  Though, except for 1944, they were all negatively correlated.  More of a correlation than I was expecting.  For the anova test, performed from 1924 to 2014, 7 out of the 10 tests rejected the null hypothesis, meaning there could be statistical significance in those findings.  9 out of our 10 t-tests on the low v mid co2 groups also resulted in rejecting the null hypothesis.   \n",
    "\n",
    "2.) What inferences or general conclusions can you draw from your analysis? There might be more of a correlation between birthrate and co2 than we first thought.  But there's a lot more analysis that we could and would need to do."
   ]
  },
  {
   "cell_type": "markdown",
   "metadata": {},
   "source": [
    "**POST MORTEM**          \n",
    "1.) Discuss any difficulties that arose, and how you dealt with them     \n",
    "\n",
    "2.) Discuss any additional questions that came up, but which you didn't have time to answer: What would you research next, if you had two more weeks? "
   ]
  },
  {
   "cell_type": "markdown",
   "metadata": {},
   "source": [
    "**QUESTIONS**     \n",
    "Open-floor Q&A with the audience"
   ]
  },
  {
   "cell_type": "code",
   "execution_count": null,
   "metadata": {},
   "outputs": [],
   "source": []
  }
 ],
 "metadata": {
  "kernelspec": {
   "display_name": "Python 3",
   "language": "python",
   "name": "python3"
  },
  "language_info": {
   "codemirror_mode": {
    "name": "ipython",
    "version": 3
   },
   "file_extension": ".py",
   "mimetype": "text/x-python",
   "name": "python",
   "nbconvert_exporter": "python",
   "pygments_lexer": "ipython3",
   "version": "3.7.4"
  }
 },
 "nbformat": 4,
 "nbformat_minor": 2
}
