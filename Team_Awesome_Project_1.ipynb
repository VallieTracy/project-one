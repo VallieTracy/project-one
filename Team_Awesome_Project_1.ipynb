{
 "cells": [
  {
   "cell_type": "code",
   "execution_count": null,
   "metadata": {},
   "outputs": [],
   "source": [
    "import numpy as np\n",
    "import pandas as pd\n",
    "import matplotlib.pyplot as plt\n",
    "import math\n",
    "import plotly.express as px"
   ]
  },
  {
   "cell_type": "code",
   "execution_count": null,
   "metadata": {},
   "outputs": [],
   "source": [
    "# Bernt's code starts here"
   ]
  },
  {
   "cell_type": "code",
   "execution_count": null,
   "metadata": {},
   "outputs": [],
   "source": [
    "# Importing necessary dataframes\n",
    "\n",
    "birthrate_csv = \"../project-one/Resources/children_per_woman_total_fertility.csv\"\n",
    "birthrate_df = pd.read_csv(birthrate_csv)\n",
    "\n",
    "\n",
    "co2_csv = \"../project-one/Resources/co2_emissions_tonnes_per_person.csv\"\n",
    "co2_df = pd.read_csv(co2_csv)\n",
    "# co2_df.head()\n",
    "\n",
    "income_csv = \"../project-one/Resources/income_per_person_gdppercapita_ppp_inflation_adjusted.csv\"\n",
    "income_df = pd.read_csv(income_csv)\n",
    "# income_df.head()\n",
    "# units are in dollars, I believe\n",
    "\n",
    "population_csv = \"../project-one/Resources/population_total.csv\"\n",
    "population_df = pd.read_csv(population_csv)\n",
    "# population_df.head()\n",
    "\n"
   ]
  },
  {
   "cell_type": "code",
   "execution_count": null,
   "metadata": {},
   "outputs": [],
   "source": [
    "co2_single_column = co2_df\n",
    "co2_single_column.head()"
   ]
  },
  {
   "cell_type": "code",
   "execution_count": null,
   "metadata": {},
   "outputs": [],
   "source": [
    "x_group = np.arange(1800, 2015)\n",
    "y_group = co2_single_column.loc[['Afghanistan','Zimbabwe']]\n",
    "\n",
    "#plt.plot(x_group, y_group)\n",
    "#plt.show()\n",
    "\n",
    "len(x_group)\n",
    "#print(x_group)"
   ]
  },
  {
   "cell_type": "code",
   "execution_count": null,
   "metadata": {},
   "outputs": [],
   "source": [
    "import numpy as np\n",
    "co2_df['randNumCol'] = np.random.randint(1, 45000, co2_df.shape[0])\n",
    "co2_df.head()"
   ]
  },
  {
   "cell_type": "code",
   "execution_count": null,
   "metadata": {},
   "outputs": [],
   "source": [
    "income_dos = income_df\n",
    "income_dos = income_dos.set_index('country')\n",
    "income_dos"
   ]
  },
  {
   "cell_type": "code",
   "execution_count": null,
   "metadata": {},
   "outputs": [],
   "source": [
    "t_df = income_dos.T\n",
    "\n",
    "t_df = np.log10(t_df[::])\n",
    "\n",
    "t_df.head()"
   ]
  },
  {
   "cell_type": "code",
   "execution_count": null,
   "metadata": {},
   "outputs": [],
   "source": [
    "t_df.plot(title = \"Per capita income (log) over time, all countries\", linewidth = .5, legend = False)\n",
    "\n",
    "plt.ylabel('Income (log)')\n",
    "\n",
    "plt.savefig(\"Per capita income, all countries\", dpi=150)"
   ]
  },
  {
   "cell_type": "code",
   "execution_count": null,
   "metadata": {},
   "outputs": [],
   "source": [
    "t_co2 = co2_single_column.T\n",
    "\n",
    "t_co2.columns = t_co2.iloc[0]\n",
    "t_co2 = t_co2.drop(['randNumCol'])\n",
    "t_co2 = t_co2.drop(['country'])\n",
    "\n",
    "t_co2 = t_co2.replace(to_replace = np.nan, value = 0) \n",
    "t_co2"
   ]
  },
  {
   "cell_type": "code",
   "execution_count": null,
   "metadata": {},
   "outputs": [],
   "source": [
    "t_co2.plot(legend = False, title = 'Per capita income (log values) for all countries, 1800 - 2014')"
   ]
  },
  {
   "cell_type": "code",
   "execution_count": null,
   "metadata": {},
   "outputs": [],
   "source": []
  },
  {
   "cell_type": "code",
   "execution_count": null,
   "metadata": {},
   "outputs": [],
   "source": []
  },
  {
   "cell_type": "code",
   "execution_count": null,
   "metadata": {},
   "outputs": [],
   "source": []
  },
  {
   "cell_type": "code",
   "execution_count": null,
   "metadata": {},
   "outputs": [],
   "source": [
    "# Clean dataframes\n",
    "\n",
    "# Merge the data...BUT FIRST!! To prep for an inner join (where the only data merged is\n",
    "# whatever matches in our reference columns), we can dropna() first, and then merge\n",
    "\n",
    "# Removing \"not a number's\"\n",
    "\n",
    "#max_log = math.log10(max_pop)\n",
    "#print(max_log)"
   ]
  },
  {
   "cell_type": "code",
   "execution_count": null,
   "metadata": {},
   "outputs": [],
   "source": [
    "# Find the maximum population in the dataset and store in a variable \n",
    "# This will be used later to standardize our population sizes (that is, all populations used\n",
    "# will be divided by this value, so we can compare all populations over time visually, and \n",
    "# those comparisons will be valid)\n",
    "max_pop = population_df['2014'].max()\n",
    "print(max_pop)"
   ]
  },
  {
   "cell_type": "code",
   "execution_count": null,
   "metadata": {},
   "outputs": [],
   "source": [
    "# Optional: Find the country associated with the max population\n",
    "population_df.loc[population_df['2014'] == 1390000000]"
   ]
  },
  {
   "cell_type": "code",
   "execution_count": null,
   "metadata": {},
   "outputs": [],
   "source": []
  },
  {
   "cell_type": "code",
   "execution_count": null,
   "metadata": {},
   "outputs": [],
   "source": [
    "# Step 4: Plot our data with CO2 emissions on the x-axis, and birthrate on the y-axis\n",
    "# BONUS: try formatting dot size by population or income level\n",
    "population_1804_df = population_df[[\"country\", \"1804\"]]\n",
    "\n",
    "population_1804_df = population_1804_df.rename(columns={\"country\": \"Country\", \"1804\": \"Population\"})\n",
    "population_1804_df.head()"
   ]
  },
  {
   "cell_type": "code",
   "execution_count": null,
   "metadata": {},
   "outputs": [],
   "source": []
  },
  {
   "cell_type": "code",
   "execution_count": null,
   "metadata": {},
   "outputs": [],
   "source": []
  },
  {
   "cell_type": "code",
   "execution_count": null,
   "metadata": {},
   "outputs": [],
   "source": [
    "# Step 1.5: We need to create individual df's for each of our target years, THEN do the dropna's, and THEN merge them together. \n",
    "birthrate_1804_df = birthrate_df[[\"country\", \"1804\"]]\n",
    "birthrate_1834_df = birthrate_df[[\"country\", \"1834\"]]\n",
    "birthrate_1864_df = birthrate_df[[\"country\", \"1864\"]]\n",
    "birthrate_1894_df = birthrate_df[[\"country\", \"1894\"]]\n",
    "birthrate_1924_df = birthrate_df[[\"country\", \"1924\"]]\n",
    "birthrate_1954_df = birthrate_df[[\"country\", \"1954\"]]\n",
    "birthrate_1984_df = birthrate_df[[\"country\", \"1984\"]]\n",
    "birthrate_2014_df = birthrate_df[[\"country\", \"2014\"]]\n",
    "\n",
    "birthrate_1984_df.head()\n"
   ]
  },
  {
   "cell_type": "code",
   "execution_count": null,
   "metadata": {},
   "outputs": [],
   "source": [
    "# Creating df's for CO2\n",
    "\n",
    "co2_1804_df = co2_df[[\"country\", \"1804\"]]\n",
    "co2_1834_df = co2_df[[\"country\", \"1834\"]]\n",
    "co2_1864_df = co2_df[[\"country\", \"1864\"]]\n",
    "co2_1894_df = co2_df[[\"country\", \"1894\"]]\n",
    "co2_1924_df = co2_df[[\"country\", \"1924\"]]\n",
    "co2_1954_df = co2_df[[\"country\", \"1954\"]]\n",
    "co2_1984_df = co2_df[[\"country\", \"1984\"]]\n",
    "co2_2014_df = co2_df[[\"country\", \"2014\"]]\n",
    "\n",
    "co2_df.max()\n"
   ]
  },
  {
   "cell_type": "code",
   "execution_count": null,
   "metadata": {},
   "outputs": [],
   "source": [
    "# Creating df's for population\n",
    "\n",
    "population_1804_df = population_df[[\"country\", \"1804\"]]\n",
    "population_1834_df = population_df[[\"country\", \"1834\"]]\n",
    "population_1864_df = population_df[[\"country\", \"1864\"]]\n",
    "population_1894_df = population_df[[\"country\", \"1894\"]]\n",
    "population_1924_df = population_df[[\"country\", \"1924\"]]\n",
    "population_1954_df = population_df[[\"country\", \"1954\"]]\n",
    "population_1984_df = population_df[[\"country\", \"1984\"]]\n",
    "population_2014_df = population_df[[\"country\", \"2014\"]]"
   ]
  },
  {
   "cell_type": "code",
   "execution_count": null,
   "metadata": {},
   "outputs": [],
   "source": [
    "# Creating df's for income\n",
    "\n",
    "income_1804_df = income_df[[\"country\", \"1804\"]]\n",
    "income_1834_df = income_df[[\"country\", \"1834\"]]\n",
    "income_1864_df = income_df[[\"country\", \"1864\"]]\n",
    "income_1894_df = income_df[[\"country\", \"1894\"]]\n",
    "income_1924_df = income_df[[\"country\", \"1924\"]]\n",
    "income_1954_df = income_df[[\"country\", \"1954\"]]\n",
    "income_1984_df = income_df[[\"country\", \"1984\"]]\n",
    "income_2014_df = income_df[[\"country\", \"2014\"]]"
   ]
  },
  {
   "cell_type": "code",
   "execution_count": null,
   "metadata": {},
   "outputs": [],
   "source": [
    "# Merge each year's df's into a single df for the year (e.g. merge co2_1804 and birthrate_1804 together, based on country)\n",
    "\n",
    "merged_1804_df = pd.merge(co2_1804_df, birthrate_1804_df, on='country', how='inner')\n",
    "merged_1804_df = merged_1804_df.dropna()\n",
    "merged_1804_df.head()"
   ]
  },
  {
   "cell_type": "code",
   "execution_count": null,
   "metadata": {},
   "outputs": [],
   "source": [
    "# Rename the columns of the newly merged dataframe\n",
    "\n",
    "merged_1804_df = merged_1804_df.rename(columns={\"country\": \"Country\", \"1804_x\": \"CO2 Emissions\", \"1804_y\": \"Birthrate\"})\n",
    "merged_1804_df.head()"
   ]
  },
  {
   "cell_type": "code",
   "execution_count": null,
   "metadata": {},
   "outputs": [],
   "source": [
    "# Do a second merge of population and income into a new df\n",
    "\n",
    "second_merge_1804_df = pd.merge(population_1804_df, income_1804_df, on='country', how='inner')\n",
    "second_merge_1804_df.head()"
   ]
  },
  {
   "cell_type": "code",
   "execution_count": null,
   "metadata": {},
   "outputs": [],
   "source": [
    "# Rename columns on second merge and dropna()\n",
    "\n",
    "second_merge_1804_df = second_merge_1804_df.rename(columns={\"country\": \"Country\", \"1804_x\": \"Population\", \"1804_y\": \"Income\"})\n",
    "second_merge_1804_df = second_merge_1804_df.dropna()\n",
    "second_merge_1804_df.head()"
   ]
  },
  {
   "cell_type": "code",
   "execution_count": null,
   "metadata": {},
   "outputs": [],
   "source": [
    "# Merge the resulting df's of the first two merges together, so that you end up with one df with 4 columns of data for:\n",
    "# CO2, birthrate, population, and income\n",
    "\n",
    "final_merge_1804_df = pd.merge(merged_1804_df, second_merge_1804_df, on='Country', how='inner')\n",
    "final_merge_1804_df.head()"
   ]
  },
  {
   "cell_type": "code",
   "execution_count": null,
   "metadata": {},
   "outputs": [],
   "source": [
    "# Create a new population reference df for setting colors. Note the use of the max population variable from earlier\n",
    "\n",
    "final_merge_1804_df['Population Color'] = final_merge_1804_df['Population']/max_pop\n",
    "\n",
    "final_merge_1804_df.head()"
   ]
  },
  {
   "cell_type": "code",
   "execution_count": null,
   "metadata": {},
   "outputs": [],
   "source": [
    "# Create a variable to change the scaling of the bubbles for all charts at once. \n",
    "# Note - will have to rerun each chart to update if this variable changes\n",
    "\n",
    "scale_variable = 100000"
   ]
  },
  {
   "cell_type": "code",
   "execution_count": null,
   "metadata": {},
   "outputs": [],
   "source": [
    "x_axis = final_merge_1804_df[\"CO2 Emissions\"]\n",
    "y_axis = final_merge_1804_df[\"Birthrate\"]\n",
    "\n",
    "# s = [income for final_merge_1804_df[\"Income\"]] # - I believe this should work\n",
    "\n",
    "plt.xlabel(\"CO2 Emissions\")\n",
    "plt.ylabel(\"Birthrate\")\n",
    "plt.title(\"1804\")\n",
    "plt.text(25, 9, r'Marker size = population', fontsize=8)\n",
    "plt.text(25, 8, r'Marker color = per capita income', fontsize=8)\n",
    "\n",
    "plt.xlim(0,50)\n",
    "plt.ylim(0,10)\n",
    "\n",
    "plt.grid(color='grey', linestyle='-', linewidth=0.25, alpha=0.5)\n",
    "\n",
    "plt.scatter(x_axis, y_axis, c=final_merge_1804_df['Income'],  \n",
    "            alpha=0.5, s = final_merge_1804_df['Population']/scale_variable)\n",
    "\n",
    "plt.savefig(\"1804.png\", dpi=150)\n",
    "\n",
    "plt.show()"
   ]
  },
  {
   "cell_type": "code",
   "execution_count": null,
   "metadata": {},
   "outputs": [],
   "source": []
  },
  {
   "cell_type": "code",
   "execution_count": null,
   "metadata": {},
   "outputs": [],
   "source": [
    "first_merge_1834_df = pd.merge(co2_1834_df, birthrate_1834_df, on='country', how='inner')\n",
    "first_merge_1834_df = first_merge_1834_df.dropna()\n",
    "first_merge_1834_df = first_merge_1834_df.rename(columns={\"country\": \"Country\", \"1834_x\": \"CO2 Emissions\", \"1834_y\": \"Birthrate\"})"
   ]
  },
  {
   "cell_type": "code",
   "execution_count": null,
   "metadata": {},
   "outputs": [],
   "source": [
    "second_merge_1834_df = pd.merge(population_1834_df, income_1834_df, on='country', how='inner')\n",
    "second_merge_1834_df = second_merge_1834_df.dropna()\n",
    "second_merge_1834_df = second_merge_1834_df.rename(columns={\"country\": \"Country\", \"1834_x\": \"Population\", \"1834_y\": \"Income\"})"
   ]
  },
  {
   "cell_type": "code",
   "execution_count": null,
   "metadata": {},
   "outputs": [],
   "source": [
    "final_merge_1834_df = pd.merge(first_merge_1834_df, second_merge_1834_df, on='Country', how='inner')\n",
    "\n",
    "final_merge_1834_df.head()\n",
    "len(final_merge_1834_df)"
   ]
  },
  {
   "cell_type": "code",
   "execution_count": null,
   "metadata": {},
   "outputs": [],
   "source": [
    "final_merge_1834_df['Population Color'] = final_merge_1834_df['Population']/max_pop\n",
    "final_merge_1834_df.head()"
   ]
  },
  {
   "cell_type": "code",
   "execution_count": null,
   "metadata": {},
   "outputs": [],
   "source": [
    "x_axis = final_merge_1834_df[\"CO2 Emissions\"]\n",
    "y_axis = final_merge_1834_df[\"Birthrate\"]\n",
    "\n",
    "# s = [income for final_merge_1804_df[\"Income\"]] # - I believe this should work\n",
    "\n",
    "plt.xlabel(\"CO2 Emissions\")\n",
    "plt.ylabel(\"Birthrate\")\n",
    "plt.title(\"1834\")\n",
    "plt.text(25, 9, r'Marker size = population', fontsize=8)\n",
    "plt.text(25, 8, r'Marker color = per capita income', fontsize=8)\n",
    "\n",
    "plt.xlim(0,50)\n",
    "plt.ylim(0,10)\n",
    "\n",
    "plt.grid(color='grey', linestyle='-', linewidth=0.25, alpha=0.5)\n",
    "\n",
    "plt.scatter(x_axis, y_axis, c=final_merge_1834_df['Income'],  \n",
    "            alpha=0.5, s = final_merge_1834_df['Population']/scale_variable)\n",
    "\n",
    "plt.savefig(\"1834.png\", dpi=150)\n",
    "\n",
    "plt.show()"
   ]
  },
  {
   "cell_type": "code",
   "execution_count": null,
   "metadata": {},
   "outputs": [],
   "source": [
    "first_merge_1864_df = pd.merge(co2_1864_df, birthrate_1864_df, on='country', how='inner')\n",
    "first_merge_1864_df = first_merge_1864_df.dropna()\n",
    "first_merge_1864_df = first_merge_1864_df.rename(columns={\"country\": \"Country\", \"1864_x\": \"CO2 Emissions\", \"1864_y\": \"Birthrate\"})\n",
    "\n",
    "second_merge_1864_df = pd.merge(population_1864_df, income_1864_df, on='country', how='inner')\n",
    "second_merge_1864_df = second_merge_1864_df.dropna()\n",
    "second_merge_1864_df = second_merge_1864_df.rename(columns={\"country\": \"Country\", \"1864_x\": \"Population\", \"1864_y\": \"Income\"})\n",
    "\n",
    "final_merge_1864_df = pd.merge(first_merge_1864_df, second_merge_1864_df, on='Country', how='inner')\n",
    "\n",
    "final_merge_1864_df.head()\n",
    "len(final_merge_1864_df)"
   ]
  },
  {
   "cell_type": "code",
   "execution_count": null,
   "metadata": {},
   "outputs": [],
   "source": [
    "final_merge_1864_df['Population Color'] = final_merge_1864_df['Population']/max_pop\n",
    "final_merge_1864_df.head()"
   ]
  },
  {
   "cell_type": "code",
   "execution_count": null,
   "metadata": {},
   "outputs": [],
   "source": [
    "x_axis = final_merge_1864_df[\"CO2 Emissions\"]\n",
    "y_axis = final_merge_1864_df[\"Birthrate\"]\n",
    "\n",
    "plt.xlabel(\"CO2 Emissions\")\n",
    "plt.ylabel(\"Birthrate\")\n",
    "plt.title(\"1864\")\n",
    "plt.text(25, 9, r'Marker size = population', fontsize=8)\n",
    "plt.text(25, 8, r'Marker color = per capita income', fontsize=8)\n",
    "\n",
    "plt.xlim(0,50)\n",
    "plt.ylim(0,10)\n",
    "\n",
    "plt.grid(color='grey', linestyle='-', linewidth=0.25, alpha=0.5)\n",
    "\n",
    "plt.scatter(x_axis, y_axis, c=final_merge_1864_df['Income'],  \n",
    "            alpha=0.5, s = final_merge_1864_df['Population']/scale_variable)\n",
    "\n",
    "plt.savefig(\"1864.png\", dpi=150)\n",
    "\n",
    "plt.show()"
   ]
  },
  {
   "cell_type": "code",
   "execution_count": null,
   "metadata": {},
   "outputs": [],
   "source": [
    "first_merge_1894_df = pd.merge(co2_1894_df, birthrate_1894_df, on='country', how='inner')\n",
    "first_merge_1894_df = first_merge_1894_df.dropna()\n",
    "first_merge_1894_df = first_merge_1894_df.rename(columns={\"country\": \"Country\", \"1894_x\": \"CO2 Emissions\", \"1894_y\": \"Birthrate\"})\n",
    "\n",
    "second_merge_1894_df = pd.merge(population_1894_df, income_1894_df, on='country', how='inner')\n",
    "second_merge_1894_df = second_merge_1894_df.dropna()\n",
    "second_merge_1894_df = second_merge_1894_df.rename(columns={\"country\": \"Country\", \"1894_x\": \"Population\", \"1894_y\": \"Income\"})\n",
    "\n",
    "final_merge_1894_df = pd.merge(first_merge_1894_df, second_merge_1894_df, on='Country', how='inner')\n",
    "\n",
    "final_merge_1894_df.head()\n",
    "len(final_merge_1894_df)"
   ]
  },
  {
   "cell_type": "code",
   "execution_count": null,
   "metadata": {},
   "outputs": [],
   "source": [
    "final_merge_1894_df['Population Color'] = final_merge_1894_df['Population']/max_pop\n",
    "final_merge_1894_df.head()"
   ]
  },
  {
   "cell_type": "code",
   "execution_count": null,
   "metadata": {},
   "outputs": [],
   "source": [
    "x_axis = final_merge_1894_df[\"CO2 Emissions\"]\n",
    "y_axis = final_merge_1894_df[\"Birthrate\"]\n",
    "\n",
    "plt.xlabel(\"CO2 Emissions\")\n",
    "plt.ylabel(\"Birthrate\")\n",
    "plt.title(\"1894\")\n",
    "plt.text(25, 9, r'Marker size = population', fontsize=8)\n",
    "plt.text(25, 8, r'Marker color = per capita income', fontsize=8)\n",
    "\n",
    "plt.xlim(0,50)\n",
    "plt.ylim(0,10)\n",
    "\n",
    "plt.grid(color='grey', linestyle='-', linewidth=0.25, alpha=0.5)\n",
    "\n",
    "plt.scatter(x_axis, y_axis, c=final_merge_1894_df['Income'],  \n",
    "            alpha=0.5, s = final_merge_1894_df['Population']/scale_variable)\n",
    "\n",
    "plt.savefig(\"1894.png\", dpi=150)\n",
    "\n",
    "plt.show()"
   ]
  },
  {
   "cell_type": "code",
   "execution_count": null,
   "metadata": {},
   "outputs": [],
   "source": [
    "first_merge_1924_df = pd.merge(co2_1924_df, birthrate_1924_df, on='country', how='inner')\n",
    "first_merge_1924_df = first_merge_1924_df.dropna()\n",
    "first_merge_1924_df = first_merge_1924_df.rename(columns={\"country\": \"Country\", \"1924_x\": \"CO2 Emissions\", \"1924_y\": \"Birthrate\"})\n",
    "\n",
    "second_merge_1924_df = pd.merge(population_1924_df, income_1924_df, on='country', how='inner')\n",
    "second_merge_1924_df = second_merge_1924_df.dropna()\n",
    "second_merge_1924_df = second_merge_1924_df.rename(columns={\"country\": \"Country\", \"1924_x\": \"Population\", \"1924_y\": \"Income\"})\n",
    "\n",
    "final_merge_1924_df = pd.merge(first_merge_1924_df, second_merge_1924_df, on='Country', how='inner')\n",
    "\n",
    "final_merge_1924_df.head()\n",
    "len(final_merge_1924_df)"
   ]
  },
  {
   "cell_type": "code",
   "execution_count": null,
   "metadata": {},
   "outputs": [],
   "source": [
    "final_merge_1924_df['Population Color'] = final_merge_1924_df['Population']/max_pop\n",
    "final_merge_1924_df.head()"
   ]
  },
  {
   "cell_type": "code",
   "execution_count": null,
   "metadata": {},
   "outputs": [],
   "source": [
    "x_axis = final_merge_1924_df[\"CO2 Emissions\"]\n",
    "y_axis = final_merge_1924_df[\"Birthrate\"]\n",
    "\n",
    "plt.xlabel(\"CO2 Emissions\")\n",
    "plt.ylabel(\"Birthrate\")\n",
    "plt.title(\"1924\")\n",
    "plt.text(25, 9, r'Marker size = population', fontsize=8)\n",
    "plt.text(25, 8, r'Marker color = per capita income', fontsize=8)\n",
    "\n",
    "plt.xlim(0,50)\n",
    "plt.ylim(0,10)\n",
    "\n",
    "plt.grid(color='grey', linestyle='-', linewidth=0.25, alpha=0.5)\n",
    "\n",
    "plt.scatter(x_axis, y_axis, c=final_merge_1924_df['Income'],  \n",
    "            alpha=0.5, s = final_merge_1924_df['Population']/scale_variable)\n",
    "\n",
    "plt.savefig(\"1924.png\", dpi=150)\n",
    "\n",
    "plt.show()"
   ]
  },
  {
   "cell_type": "code",
   "execution_count": null,
   "metadata": {},
   "outputs": [],
   "source": [
    "first_merge_1954_df = pd.merge(co2_1954_df, birthrate_1954_df, on='country', how='inner')\n",
    "first_merge_1954_df = first_merge_1954_df.dropna()\n",
    "first_merge_1954_df = first_merge_1954_df.rename(columns={\"country\": \"Country\", \"1954_x\": \"CO2 Emissions\", \"1954_y\": \"Birthrate\"})\n",
    "\n",
    "second_merge_1954_df = pd.merge(population_1954_df, income_1954_df, on='country', how='inner')\n",
    "second_merge_1954_df = second_merge_1954_df.dropna()\n",
    "second_merge_1954_df = second_merge_1954_df.rename(columns={\"country\": \"Country\", \"1954_x\": \"Population\", \"1954_y\": \"Income\"})\n",
    "\n",
    "final_merge_1954_df = pd.merge(first_merge_1954_df, second_merge_1954_df, on='Country', how='inner')\n",
    "\n",
    "final_merge_1954_df.head()\n",
    "len(final_merge_1954_df)"
   ]
  },
  {
   "cell_type": "code",
   "execution_count": null,
   "metadata": {},
   "outputs": [],
   "source": [
    "final_merge_1954_df['Population Color'] = final_merge_1954_df['Population']/max_pop\n",
    "final_merge_1954_df.head()"
   ]
  },
  {
   "cell_type": "code",
   "execution_count": null,
   "metadata": {},
   "outputs": [],
   "source": [
    "x_axis = final_merge_1954_df[\"CO2 Emissions\"]\n",
    "y_axis = final_merge_1954_df[\"Birthrate\"]\n",
    "\n",
    "plt.xlabel(\"CO2 Emissions\")\n",
    "plt.ylabel(\"Birthrate\")\n",
    "plt.title(\"1954\")\n",
    "plt.text(25, 9, r'Marker size = population', fontsize=8)\n",
    "plt.text(25, 8, r'Marker color = per capita income', fontsize=8)\n",
    "\n",
    "plt.xlim(0,50)\n",
    "plt.ylim(0,10)\n",
    "\n",
    "plt.grid(color='grey', linestyle='-', linewidth=0.25, alpha=0.5)\n",
    "\n",
    "plt.scatter(x_axis, y_axis, c=final_merge_1954_df['Income'],  \n",
    "            alpha=0.5, s = final_merge_1954_df['Population']/scale_variable)\n",
    "\n",
    "plt.savefig(\"1954.png\", dpi=150)\n",
    "\n",
    "plt.show()"
   ]
  },
  {
   "cell_type": "code",
   "execution_count": null,
   "metadata": {},
   "outputs": [],
   "source": [
    "first_merge_1984_df = pd.merge(co2_1984_df, birthrate_1984_df, on='country', how='inner')\n",
    "first_merge_1984_df = first_merge_1984_df.dropna()\n",
    "first_merge_1984_df = first_merge_1984_df.rename(columns={\"country\": \"Country\", \"1984_x\": \"CO2 Emissions\", \"1984_y\": \"Birthrate\"})\n",
    "\n",
    "second_merge_1984_df = pd.merge(population_1984_df, income_1984_df, on='country', how='inner')\n",
    "second_merge_1984_df = second_merge_1984_df.dropna()\n",
    "second_merge_1984_df = second_merge_1984_df.rename(columns={\"country\": \"Country\", \"1984_x\": \"Population\", \"1984_y\": \"Income\"})\n",
    "\n",
    "final_merge_1984_df = pd.merge(first_merge_1984_df, second_merge_1984_df, on='Country', how='inner')\n",
    "\n",
    "final_merge_1984_df.head()\n",
    "len(final_merge_1984_df)"
   ]
  },
  {
   "cell_type": "code",
   "execution_count": null,
   "metadata": {},
   "outputs": [],
   "source": [
    "final_merge_1984_df['Population Color'] = final_merge_1984_df['Population']/max_pop\n",
    "final_merge_1984_df.head()"
   ]
  },
  {
   "cell_type": "code",
   "execution_count": null,
   "metadata": {
    "scrolled": true
   },
   "outputs": [],
   "source": [
    "x_axis = final_merge_1984_df[\"CO2 Emissions\"]\n",
    "y_axis = final_merge_1984_df[\"Birthrate\"]\n",
    "\n",
    "plt.xlabel(\"CO2 Emissions\")\n",
    "plt.ylabel(\"Birthrate\")\n",
    "plt.title(\"1984\")\n",
    "# plt.text(25, 9, r'Marker size = population', fontsize=8)\n",
    "# plt.text(25, 8, r'Marker color = per capita income', fontsize=8)\n",
    "\n",
    "\n",
    "plt.xlim(0,50)\n",
    "plt.ylim(0,10)\n",
    "\n",
    "plt.grid(color='grey', linestyle='-', linewidth=0.25, alpha=0.5)\n",
    "\n",
    "for area in [25000000/scale_variable, 150000000/scale_variable, 500000000/scale_variable]:\n",
    "    plt.scatter([], [], c='k', alpha=0.3, s=area,\n",
    "                label = str(area) + ' hundred thousand people')\n",
    "plt.legend(scatterpoints=1, frameon=False, labelspacing=.5, title='Population size')\n",
    "\n",
    "plt.scatter(x_axis, y_axis, c=final_merge_1984_df['Income'],  \n",
    "            alpha=0.5, s = final_merge_1984_df['Population']/scale_variable)\n",
    "\n",
    "plt.savefig(\"1984.png\", dpi=150)\n",
    "\n",
    "plt.show()"
   ]
  },
  {
   "cell_type": "code",
   "execution_count": null,
   "metadata": {},
   "outputs": [],
   "source": [
    "first_merge_2014_df = pd.merge(co2_2014_df, birthrate_2014_df, on='country', how='inner')\n",
    "first_merge_2014_df = first_merge_2014_df.dropna()\n",
    "first_merge_2014_df = first_merge_2014_df.rename(columns={\"country\": \"Country\", \"2014_x\": \"CO2 Emissions\", \"2014_y\": \"Birthrate\"})\n",
    "\n",
    "second_merge_2014_df = pd.merge(population_2014_df, income_2014_df, on='country', how='inner')\n",
    "second_merge_2014_df = second_merge_2014_df.dropna()\n",
    "second_merge_2014_df = second_merge_2014_df.rename(columns={\"country\": \"Country\", \"2014_x\": \"Population\", \"2014_y\": \"Income\"})\n",
    "\n",
    "final_merge_2014_df = pd.merge(first_merge_2014_df, second_merge_2014_df, on='Country', how='inner')\n",
    "\n",
    "final_merge_2014_df.head()\n",
    "len(final_merge_2014_df)"
   ]
  },
  {
   "cell_type": "code",
   "execution_count": null,
   "metadata": {},
   "outputs": [],
   "source": [
    "# Create a column of log values \n",
    "\n",
    "#df['A_perc'] = df['A']/df['sum']\n",
    "final_merge_2014_df['Log Population'] = np.log(final_merge_2014_df['Population'])\n",
    "final_merge_1984_df['Log Population'] = np.log10(final_merge_1984_df['Population'])\n",
    "final_merge_1954_df['Log Population'] = np.log10(final_merge_1954_df['Population'])\n",
    "final_merge_1924_df['Log Population'] = np.log10(final_merge_1924_df['Population'])\n",
    "final_merge_1894_df['Log Population'] = np.log10(final_merge_1894_df['Population'])\n",
    "final_merge_1864_df['Log Population'] = np.log10(final_merge_1864_df['Population'])\n",
    "final_merge_1834_df['Log Population'] = np.log10(final_merge_1834_df['Population'])\n",
    "final_merge_1804_df['Log Population'] = np.log10(final_merge_1804_df['Population'])\n",
    "\n",
    "\n",
    "final_merge_2014_df.head()"
   ]
  },
  {
   "cell_type": "code",
   "execution_count": null,
   "metadata": {},
   "outputs": [],
   "source": [
    "#final_merge_2014_df = final_merge_2014_df.astype({\"Population\": float, \"Income\": float})\n",
    "\n",
    "#final_merge_2014_df.dtypes"
   ]
  },
  {
   "cell_type": "code",
   "execution_count": null,
   "metadata": {},
   "outputs": [],
   "source": []
  },
  {
   "cell_type": "code",
   "execution_count": null,
   "metadata": {},
   "outputs": [],
   "source": [
    "# make a list of data points by year, and then graph those, because 'might as well'\n",
    "\n",
    "sample_list = [len(final_merge_1804_df), len(final_merge_1834_df), \n",
    "               len(final_merge_1864_df), len(final_merge_1894_df), \n",
    "               len(final_merge_1924_df), len(final_merge_1954_df),\n",
    "              len(final_merge_1984_df), len(final_merge_2014_df)]\n",
    "\n",
    "sample_list"
   ]
  },
  {
   "cell_type": "code",
   "execution_count": null,
   "metadata": {},
   "outputs": [],
   "source": [
    "# Create a column chart of sample_list\n",
    "\n",
    "bar_labels = [\"1804\", \"1834\", \"1864\", \"1894\", \"1924\", \"1954\", \"1984\", \"2014\"]\n",
    "\n",
    "plt.ylabel(\"n datapoints\")\n",
    "plt.title(\"Number of data points in sample\")\n",
    "\n",
    "plt.bar(bar_labels, height=sample_list)"
   ]
  },
  {
   "cell_type": "code",
   "execution_count": null,
   "metadata": {},
   "outputs": [],
   "source": [
    "# Create a dataframe identifying the max and min values for our four datasets in 2014\n",
    "\n",
    "max_pop_2014 = population_df['2014'].max()\n",
    "min_pop_2014 = population_df['2014'].min()\n",
    "\n",
    "print(f\"The max population is {max_pop_2014}.\") #, for {max_pop_loc}.\")\n",
    "print(f\"The min population is {min_pop_2014}.\") #, for {min_pop_loc}.\")\n",
    "\n",
    "# Find the country associated with the max population\n",
    "(population_df.loc[population_df['2014'] == 1390000000])\n",
    "(population_df.loc[population_df['2014'] == 800])\n",
    "\n",
    "print(\"The max pop country is China, the minimum is Holy See\")"
   ]
  },
  {
   "cell_type": "code",
   "execution_count": null,
   "metadata": {},
   "outputs": [],
   "source": [
    "# Create a dataframe identifying the max and min values for our four datasets in 2014\n",
    "\n",
    "max_br_2014 = birthrate_df['2014'].max()\n",
    "min_br_2014 = birthrate_df['2014'].min()\n",
    "\n",
    "print(f\"The max birthrate is {max_br_2014}.\") #, for {max_pop_loc}.\")\n",
    "print(f\"The min birthrate is {min_br_2014}.\") #, for {min_pop_loc}.\")\n",
    "\n",
    "# Find the country associated with the max population\n",
    "#(birthrate_df.loc[birthrate_df['2014'] == 7.34])\n",
    "# (birthrate_df.loc[birthrate_df['2014'] == 1.25])\n",
    "\n",
    "print(\"The max br country is Niger, the minimum is Singapore\")"
   ]
  },
  {
   "cell_type": "code",
   "execution_count": null,
   "metadata": {},
   "outputs": [],
   "source": [
    "# Create a dataframe identifying the max and min values for our four datasets in 2014\n",
    "\n",
    "max_co2_2014 = co2_df['2014'].max()\n",
    "min_co2_2014 = co2_df['2014'].min()\n",
    "\n",
    "print(f\"The max CO2 is {max_co2_2014}.\") #, for {max_pop_loc}.\")\n",
    "print(f\"The min CO2 is {min_co2_2014}.\") #, for {min_pop_loc}.\")\n",
    "\n",
    "# Find the country associated with the max population\n",
    "#(co2_df.loc[co2_df['2014'] == 45.4])\n",
    "#(co2_df.loc[co2_df['2014'] == .0445])\n",
    "\n",
    "print(\"The max CO2 country is Qatar, the minimum is Burundi\")"
   ]
  },
  {
   "cell_type": "code",
   "execution_count": null,
   "metadata": {},
   "outputs": [],
   "source": [
    "# Create a dataframe identifying the max and min values for our four datasets in 2014\n",
    "\n",
    "max_income_2014 = income_df['2014'].max()\n",
    "min_income_2014 = income_df['2014'].min()\n",
    "\n",
    "print(f\"The max income is {max_income_2014}.\") #, for {max_pop_loc}.\")\n",
    "print(f\"The min income is {min_income_2014}.\") #, for {min_pop_loc}.\")\n",
    "\n",
    "# Find the country associated with the max population\n",
    "#(income_df.loc[income_df['2014'] == 121000])\n",
    "#(income_df.loc[income_df['2014'] == 602])\n",
    "\n",
    "print(\"The max income country is Qatar, the minimum is Central African Republic\")"
   ]
  },
  {
   "cell_type": "code",
   "execution_count": null,
   "metadata": {},
   "outputs": [],
   "source": [
    "# TO DO's\n",
    "# - figure out how to standardize my log columns so we can compare over time\n",
    "# - figure out how to add a legend for population size bubbles\n",
    "# - figure out the units of our datasets, and update charts with them\n",
    "\n",
    "# see here for example: https://jakevdp.github.io/PythonDataScienceHandbook/04.06-customizing-legends.html"
   ]
  },
  {
   "cell_type": "code",
   "execution_count": null,
   "metadata": {},
   "outputs": [],
   "source": [
    "# Create a column of log values \n",
    "\n",
    "#df['A_perc'] = df['A']/df['sum']\n",
    "final_merge_2014_df['Log Income'] = np.log10(final_merge_2014_df['Income'])\n",
    "final_merge_1984_df['Log Income'] = np.log10(final_merge_1984_df['Income'])\n",
    "final_merge_1954_df['Log Income'] = np.log10(final_merge_1954_df['Income'])\n",
    "final_merge_1924_df['Log Income'] = np.log10(final_merge_1924_df['Income'])\n",
    "final_merge_1894_df['Log Income'] = np.log10(final_merge_1894_df['Income'])\n",
    "final_merge_1864_df['Log Income'] = np.log10(final_merge_1864_df['Income'])\n",
    "final_merge_1834_df['Log Income'] = np.log10(final_merge_1834_df['Income'])\n",
    "final_merge_1804_df['Log Income'] = np.log10(final_merge_1804_df['Income'])\n",
    "\n",
    "\n",
    "final_merge_2014_df.head()"
   ]
  },
  {
   "cell_type": "code",
   "execution_count": null,
   "metadata": {},
   "outputs": [],
   "source": [
    "x_axis = final_merge_2014_df[\"CO2 Emissions\"]\n",
    "y_axis = final_merge_2014_df[\"Birthrate\"]\n",
    "\n",
    "plt.xlabel(\"CO2 Emissions\")\n",
    "plt.ylabel(\"Birthrate\")\n",
    "plt.title(\"2014\")\n",
    "plt.text(25, 9, r'Marker size = population', fontsize=8)\n",
    "plt.text(25, 8, r'Marker color = per capita income', fontsize=8)\n",
    "\n",
    "plt.xlim(0,50)\n",
    "plt.ylim(0,10)\n",
    "\n",
    "plt.grid(color='grey', linestyle='-', linewidth=0.25, alpha=0.5)\n",
    "\n",
    "plt.scatter(x_axis, y_axis, c=final_merge_2014_df['Log Income'],  \n",
    "            alpha=0.5, s = final_merge_2014_df['Log Population']) #/scale_variable)\n",
    "\n",
    "plt.colorbar(orientation='vertical', label=\"Income\")\n",
    "\n",
    "plt.savefig(\"2014.png\", dpi=150)\n",
    "\n",
    "plt.show()"
   ]
  },
  {
   "cell_type": "code",
   "execution_count": null,
   "metadata": {},
   "outputs": [],
   "source": [
    "# Testing how income impacts CO2\n",
    "x_axis = final_merge_2014_df[\"Log Income\"]\n",
    "y_axis = final_merge_2014_df[\"CO2 Emissions\"]\n",
    "\n",
    "plt.xlabel(\"Income (log10)\")\n",
    "plt.ylabel(\"CO2 Emissions\")\n",
    "plt.title(\"2014 Income v CO2\")\n",
    "#plt.text(25, 9, r'Marker size = population', fontsize=8)\n",
    "#plt.text(25, 8, r'Marker color = per capita income', fontsize=8)\n",
    "\n",
    "plt.xlim(2, 6)\n",
    "plt.ylim(0,50)\n",
    "\n",
    "plt.grid(color='grey', linestyle='-', linewidth=0.25, alpha=0.5)\n",
    "\n",
    "plt.scatter(x_axis, y_axis, c=final_merge_2014_df['Birthrate']*-1,  \n",
    "            alpha=0.5, s = final_merge_2014_df['Population']/scale_variable)\n",
    "\n",
    "#cax = divider.append_axes('right', size='5%', pad=0.05)\n",
    "#im = ax.imshow(data, cmap='bone')\n",
    "\n",
    "plt.colorbar(orientation='vertical', label=\"Birthrate\")\n",
    "\n",
    "plt.savefig(\"2014 Income.png\", dpi=150)\n",
    "\n",
    "plt.show()"
   ]
  },
  {
   "cell_type": "code",
   "execution_count": null,
   "metadata": {},
   "outputs": [],
   "source": [
    "# Testing how income impacts CO2\n",
    "x_axis = final_merge_1984_df[\"Log Income\"]\n",
    "y_axis = final_merge_1984_df[\"CO2 Emissions\"]\n",
    "\n",
    "plt.xlabel(\"Income (log10)\")\n",
    "plt.ylabel(\"CO2 Emissions\")\n",
    "plt.title(\"1984 Income v CO2\")\n",
    "#plt.text(25, 9, r'Marker size = population', fontsize=8)\n",
    "#plt.text(25, 8, r'Marker color = per capita income', fontsize=8)\n",
    "\n",
    "plt.xlim(2, 6)\n",
    "plt.ylim(0,50)\n",
    "\n",
    "plt.grid(color='grey', linestyle='-', linewidth=0.25, alpha=0.5)\n",
    "\n",
    "plt.scatter(x_axis, y_axis, c=final_merge_1984_df['Birthrate']*-1,  \n",
    "            alpha=0.5, s = final_merge_1984_df['Population']/scale_variable)\n",
    "\n",
    "plt.colorbar(orientation='vertical', label=\"Birthrate\")\n",
    "\n",
    "plt.savefig(\"1984 Income.png\", dpi=150)\n",
    "\n",
    "plt.show()"
   ]
  },
  {
   "cell_type": "code",
   "execution_count": null,
   "metadata": {},
   "outputs": [],
   "source": [
    "# Testing how income impacts CO2\n",
    "x_axis = final_merge_1954_df[\"Log Income\"]\n",
    "y_axis = final_merge_1954_df[\"CO2 Emissions\"]\n",
    "\n",
    "plt.xlabel(\"Income (log10)\")\n",
    "plt.ylabel(\"CO2 Emissions\")\n",
    "plt.title(\"1954 Income v CO2\")\n",
    "#plt.text(25, 9, r'Marker size = population', fontsize=8)\n",
    "#plt.text(25, 8, r'Marker color = per capita income', fontsize=8)\n",
    "\n",
    "plt.xlim(2, 6)\n",
    "plt.ylim(0,50)\n",
    "\n",
    "plt.grid(color='grey', linestyle='-', linewidth=0.25, alpha=0.5)\n",
    "\n",
    "plt.scatter(x_axis, y_axis, c=final_merge_1954_df['Birthrate']*-1,  \n",
    "            alpha=0.5) #, s = final_merge_1954_df['Population']/scale_variable)\n",
    "\n",
    "plt.colorbar(orientation='vertical', label=\"Birthrate\")\n",
    "\n",
    "plt.savefig(\"1954 Income.png\", dpi=150)\n",
    "\n",
    "plt.show()"
   ]
  },
  {
   "cell_type": "code",
   "execution_count": null,
   "metadata": {},
   "outputs": [],
   "source": [
    "# Testing how income impacts CO2\n",
    "x_axis = final_merge_1924_df[\"Log Income\"]\n",
    "y_axis = final_merge_1924_df[\"CO2 Emissions\"]\n",
    "\n",
    "plt.xlabel(\"Income (log10)\")\n",
    "plt.ylabel(\"CO2 Emissions\")\n",
    "plt.title(\"1924 Income v CO2\")\n",
    "#plt.text(25, 9, r'Marker size = population', fontsize=8)\n",
    "#plt.text(25, 8, r'Marker color = per capita income', fontsize=8)\n",
    "\n",
    "plt.xlim(2, 6)\n",
    "plt.ylim(0,50)\n",
    "\n",
    "plt.grid(color='grey', linestyle='-', linewidth=0.25, alpha=0.5)\n",
    "\n",
    "plt.scatter(x_axis, y_axis, c=final_merge_1924_df['Birthrate']*-1,  \n",
    "            alpha=0.5) #, s = final_merge_1924_df['Population']/scale_variable)\n",
    "\n",
    "plt.colorbar(orientation='vertical', label=\"Birthrate\")\n",
    "\n",
    "plt.savefig(\"1924 Income.png\", dpi=150)\n",
    "\n",
    "plt.show()"
   ]
  },
  {
   "cell_type": "code",
   "execution_count": null,
   "metadata": {},
   "outputs": [],
   "source": [
    "# Testing how income impacts CO2\n",
    "x_axis = final_merge_1894_df[\"Log Income\"]\n",
    "y_axis = final_merge_1894_df[\"CO2 Emissions\"]\n",
    "\n",
    "plt.xlabel(\"Income (log10)\")\n",
    "plt.ylabel(\"CO2 Emissions\")\n",
    "plt.title(\"1894 Income v CO2\")\n",
    "#plt.text(25, 9, r'Marker size = population', fontsize=8)\n",
    "#plt.text(25, 8, r'Marker color = per capita income', fontsize=8)\n",
    "\n",
    "plt.xlim(2, 6)\n",
    "plt.ylim(0,50)\n",
    "\n",
    "plt.grid(color='grey', linestyle='-', linewidth=0.25, alpha=0.5)\n",
    "\n",
    "plt.scatter(x_axis, y_axis, c=final_merge_1894_df['Birthrate']*-1,  \n",
    "            alpha=0.5, s = final_merge_1894_df['Population']/scale_variable)\n",
    "\n",
    "plt.colorbar(orientation='vertical', label=\"Birthrate\")\n",
    "\n",
    "plt.savefig(\"1894 Income.png\", dpi=150)\n",
    "\n",
    "plt.show()"
   ]
  },
  {
   "cell_type": "code",
   "execution_count": null,
   "metadata": {},
   "outputs": [],
   "source": [
    "# Testing how income impacts CO2\n",
    "x_axis = final_merge_1864_df[\"Log Income\"]\n",
    "y_axis = final_merge_1864_df[\"CO2 Emissions\"]\n",
    "\n",
    "plt.xlabel(\"Income (log10)\")\n",
    "plt.ylabel(\"CO2 Emissions\")\n",
    "plt.title(\"1864 Income v CO2\")\n",
    "#plt.text(25, 9, r'Marker size = population', fontsize=8)\n",
    "#plt.text(25, 8, r'Marker color = per capita income', fontsize=8)\n",
    "\n",
    "plt.xlim(2, 6)\n",
    "plt.ylim(0,50)\n",
    "\n",
    "plt.grid(color='grey', linestyle='-', linewidth=0.25, alpha=0.5)\n",
    "\n",
    "plt.scatter(x_axis, y_axis, c=final_merge_1864_df['Birthrate']*100,  \n",
    "            alpha=0.5) #, s = final_merge_1864_df['Population']/scale_variable)\n",
    "\n",
    "plt.savefig(\"1864 Income.png\", dpi=150)\n",
    "\n",
    "plt.show()"
   ]
  },
  {
   "cell_type": "code",
   "execution_count": null,
   "metadata": {},
   "outputs": [],
   "source": [
    "# Testing how income impacts CO2\n",
    "x_axis = final_merge_1834_df[\"Log Income\"]\n",
    "y_axis = final_merge_1834_df[\"CO2 Emissions\"]\n",
    "\n",
    "plt.xlabel(\"Income (log10)\")\n",
    "plt.ylabel(\"CO2 Emissions\")\n",
    "plt.title(\"1834 Income v CO2\")\n",
    "#plt.text(25, 9, r'Marker size = population', fontsize=8)\n",
    "#plt.text(25, 8, r'Marker color = per capita income', fontsize=8)\n",
    "\n",
    "plt.xlim(2, 6)\n",
    "plt.ylim(0,50)\n",
    "\n",
    "plt.grid(color='grey', linestyle='-', linewidth=0.25, alpha=0.5)\n",
    "\n",
    "plt.scatter(x_axis, y_axis, c=final_merge_1834_df['Birthrate']*-1,  \n",
    "            alpha=0.5, s = final_merge_1834_df['Population']/scale_variable)\n",
    "\n",
    "plt.colorbar(orientation='vertical', label=\"Birthrate\")\n",
    "\n",
    "plt.savefig(\"1834 Income.png\", dpi=150)\n",
    "\n",
    "plt.show()"
   ]
  },
  {
   "cell_type": "code",
   "execution_count": null,
   "metadata": {},
   "outputs": [],
   "source": [
    "# Testing how income impacts CO2\n",
    "x_axis = final_merge_1804_df[\"Log Income\"]\n",
    "y_axis = final_merge_1804_df[\"CO2 Emissions\"]\n",
    "\n",
    "plt.xlabel(\"Income (log10)\")\n",
    "plt.ylabel(\"CO2 Emissions\")\n",
    "plt.title(\"1804 Income v CO2\")\n",
    "#plt.text(25, 9, r'Marker size = population', fontsize=8)\n",
    "#plt.text(25, 8, r'Marker color = per capita income', fontsize=8)\n",
    "\n",
    "plt.xlim(2, 6)\n",
    "plt.ylim(0,50)\n",
    "\n",
    "plt.grid(color='grey', linestyle='-', linewidth=0.25, alpha=0.5)\n",
    "\n",
    "plt.scatter(x_axis, y_axis, c=final_merge_1804_df['Birthrate']*-1,  \n",
    "            alpha=0.5, s = final_merge_1804_df['Population']/scale_variable)\n",
    "\n",
    "plt.colorbar(orientation='vertical', label=\"Birthrate\")\n",
    "\n",
    "plt.savefig(\"1804 Income.png\", dpi=150)\n",
    "\n",
    "plt.show()"
   ]
  },
  {
   "cell_type": "code",
   "execution_count": null,
   "metadata": {},
   "outputs": [],
   "source": [
    "# Figure out how to track a single country over time\n",
    "# Swap columns and rows\n",
    "co2_country_df = co2_df.T\n",
    "\n",
    "# Set column names as the country names\n",
    "co2_country_df.columns = co2_country_df.iloc[0]\n",
    "\n",
    "# Remove the country row\n",
    "co2_japan_df = co2_country_df.drop('country')\n",
    "\n",
    "# Verify results\n",
    "co2_country_df.head()"
   ]
  },
  {
   "cell_type": "code",
   "execution_count": null,
   "metadata": {},
   "outputs": [],
   "source": []
  },
  {
   "cell_type": "code",
   "execution_count": null,
   "metadata": {},
   "outputs": [],
   "source": [
    "# Get the CO2 values for a country\n",
    "\n",
    "co2_japan_df = co2_country_df.loc[:, ['Japan']]\n",
    "\n",
    "#co2_japan_df = co2_japan_df.dropna()\n",
    "co2_japan_df = co2_japan_df.reset_index(drop=False)\n"
   ]
  },
  {
   "cell_type": "code",
   "execution_count": null,
   "metadata": {},
   "outputs": [],
   "source": [
    "co2_japan_df = co2_japan_df.rename(columns = {\"country\": \"Index\", \"index\": \"Country\"})\n",
    "co2_japan_df"
   ]
  },
  {
   "cell_type": "code",
   "execution_count": null,
   "metadata": {},
   "outputs": [],
   "source": [
    "# Figure out how to track a single country over time\n",
    "# Swap columns and rows\n",
    "income_country_df = income_df.T\n",
    "\n",
    "# Set column names as the country names\n",
    "income_country_df.columns = income_country_df.iloc[0]\n",
    "\n",
    "# Verify results\n",
    "income_country_df.head()"
   ]
  },
  {
   "cell_type": "code",
   "execution_count": null,
   "metadata": {},
   "outputs": [],
   "source": [
    "# Figure out how to track a single country over time\n",
    "# Swap columns and rows\n",
    "birthrate_country_df = birthrate_df.T\n",
    "\n",
    "# Set column names as the country names\n",
    "birthrate_country_df.columns = birthrate_country_df.iloc[0]\n",
    "\n",
    "birthrate_country_df = birthrate_country_df.drop('country')\n",
    "\n",
    "# Verify results\n",
    "birthrate_country_df.head()\n"
   ]
  },
  {
   "cell_type": "code",
   "execution_count": null,
   "metadata": {},
   "outputs": [],
   "source": [
    "# Figure out how to track a single country over time\n",
    "# Swap columns and rows\n",
    "population_country_df = population_df.T\n",
    "\n",
    "# Set column names as the country names\n",
    "population_country_df.columns = population_country_df.iloc[0]\n",
    "\n",
    "population_country_df = population_country_df.drop('country')\n",
    "\n",
    "# Verify results\n",
    "population_country_df.head()"
   ]
  },
  {
   "cell_type": "code",
   "execution_count": null,
   "metadata": {},
   "outputs": [],
   "source": [
    "# Remove the country row\n",
    "income_country_df.drop('country')"
   ]
  },
  {
   "cell_type": "code",
   "execution_count": null,
   "metadata": {},
   "outputs": [],
   "source": [
    "# Get the CO2 values for a country\n",
    "\n",
    "income_japan_df = income_country_df.loc[:, ['Japan']]\n",
    "\n",
    "#co2_japan_df = co2_japan_df.dropna()\n",
    "income_japan_df = income_japan_df.reset_index(drop=False)\n",
    "income_japan_df.head()"
   ]
  },
  {
   "cell_type": "code",
   "execution_count": null,
   "metadata": {},
   "outputs": [],
   "source": [
    "income_japan_df = income_japan_df.rename(columns = {\"country\": \"Index\", \"index\": \"Country\"})\n",
    "income_japan_df"
   ]
  },
  {
   "cell_type": "code",
   "execution_count": null,
   "metadata": {},
   "outputs": [],
   "source": [
    "japan_df = pd.merge(income_japan_df, co2_japan_df, on='Country', how='inner')\n",
    "japan_df = japan_df.rename(columns = {\"country\": \"Index\", \"Country\": \"Year\", \"Japan_x\": \"Income\", \"Japan_y\": \"CO2 Emissions\"})\n",
    "japan_df = japan_df.dropna()\n",
    "japan_df = japan_df.drop(0)\n",
    "japan_df"
   ]
  },
  {
   "cell_type": "code",
   "execution_count": null,
   "metadata": {},
   "outputs": [],
   "source": [
    "# Get the birthrate values for a country\n",
    "birthrate_japan_df = birthrate_country_df.loc[:, ['Japan']]\n",
    "\n",
    "# Remove the country row\n",
    "# birthrate_japan_df = birthrate_japan_df.drop('country')\n",
    "\n",
    "# Reset the index\n",
    "birthrate_japan_df = birthrate_japan_df.reset_index(drop=False)\n",
    "\n",
    "# Rename columns\n",
    "birthrate_japan_df = birthrate_japan_df.rename(columns = {\"index\": \"Year\", \"Japan\": \"Birthrate\"})\n",
    "\n",
    "# Verify results\n",
    "birthrate_japan_df.head()"
   ]
  },
  {
   "cell_type": "code",
   "execution_count": null,
   "metadata": {},
   "outputs": [],
   "source": [
    "# Get the population values for a country\n",
    "population_japan_df = population_country_df.loc[:, ['Japan']]\n",
    "\n",
    "# Remove the country row\n",
    "# birthrate_japan_df = birthrate_japan_df.drop('country')\n",
    "\n",
    "# Reset the index\n",
    "population_japan_df = population_japan_df.reset_index(drop=False)\n",
    "\n",
    "# Rename columns\n",
    "population_japan_df = population_japan_df.rename(columns = {\"index\": \"Year\", \"Japan\": \"Population\"})\n",
    "\n",
    "# Verify results\n",
    "population_japan_df.head()"
   ]
  },
  {
   "cell_type": "code",
   "execution_count": null,
   "metadata": {},
   "outputs": [],
   "source": [
    "japan2_df = pd.merge(birthrate_japan_df, population_japan_df, on='Year', how='inner')\n",
    "japan2_df = japan2_df.rename(columns = {\"country\": \"Index\", \"Country\": \"Year\", \"United States_x\": \"Income\", \"United States_y\": \"CO2 Emissions\"})\n",
    "japan2_df = japan2_df.dropna()\n",
    "# japan_df = japan_df.drop(0)\n",
    "japan2_df"
   ]
  },
  {
   "cell_type": "code",
   "execution_count": null,
   "metadata": {},
   "outputs": [],
   "source": [
    "japan_final_df = pd.merge(japan_df, japan2_df, on='Year', how='inner')\n",
    "# usa_final_df = usa_final_df.rename(columns = {\"country\": \"Index\", \"Country\": \"Year\", \"United States_x\": \"Income\", \"United States_y\": \"CO2 Emissions\"})\n",
    "japan_final_df = japan_final_df.dropna()\n",
    "# usa_df = usa_df.drop(0)\n",
    "japan_final_df"
   ]
  },
  {
   "cell_type": "code",
   "execution_count": null,
   "metadata": {},
   "outputs": [],
   "source": [
    "# Change the data types to a non-string\n",
    "japan_final_df = japan_final_df.astype({\"Population\": float, \"Income\": float})\n",
    "\n",
    "japan_final_df.dtypes"
   ]
  },
  {
   "cell_type": "code",
   "execution_count": null,
   "metadata": {},
   "outputs": [],
   "source": [
    "# Testing how income impacts CO2\n",
    "x_axis = japan_df[\"Income\"]\n",
    "y_axis = japan_df[\"CO2 Emissions\"]\n",
    "\n",
    "plt.xlabel(\"Income\")\n",
    "plt.ylabel(\"CO2 Emissions\")\n",
    "plt.title(\"Japan Income v CO2\")\n",
    "#plt.text(25, 9, r'Marker size = population', fontsize=8)\n",
    "#plt.text(25, 8, r'Marker color = per capita income', fontsize=8)\n",
    "\n",
    "#plt.xlim(2, 6)\n",
    "plt.ylim(0,50)\n",
    "\n",
    "plt.grid(color='grey', linestyle='-', linewidth=0.25, alpha=0.5)\n",
    "    \n",
    "plt.scatter(x_axis, y_axis, alpha = .5, c=japan_final_df['Birthrate']*-1,\n",
    "            s = japan_final_df['Population']/scale_variable)\n",
    "\n",
    "plt.colorbar(orientation='vertical', label=\"Birthrate\")\n",
    "\n",
    "plt.savefig(\"Japan.png\", dpi=150)\n",
    "\n",
    "plt.show()"
   ]
  },
  {
   "cell_type": "code",
   "execution_count": null,
   "metadata": {},
   "outputs": [],
   "source": [
    "# Get the CO2 values for a country\n",
    "co2_usa_df = co2_country_df.loc[:, ['United States']]\n",
    "\n",
    "# Remove the country row\n",
    "co2_usa_df = co2_usa_df.drop('country')\n",
    "\n",
    "# Reset the index\n",
    "co2_usa_df = co2_usa_df.reset_index(drop=False)\n",
    "\n",
    "# Rename columns\n",
    "co2_usa_df = co2_usa_df.rename(columns = {\"index\": \"Year\", \"United States\": \"CO2 Emissions\"})\n",
    "\n",
    "# Verify results\n",
    "co2_usa_df.head()"
   ]
  },
  {
   "cell_type": "code",
   "execution_count": null,
   "metadata": {},
   "outputs": [],
   "source": [
    "# Get the CO2 values for a country\n",
    "income_usa_df = income_country_df.loc[:, ['United States']]\n",
    "\n",
    "# Remove the country row\n",
    "income_usa_df = income_usa_df.drop('country')\n",
    "\n",
    "# Reset the index\n",
    "income_usa_df = income_usa_df.reset_index(drop=False)\n",
    "\n",
    "# Rename columns\n",
    "income_usa_df = income_usa_df.rename(columns = {\"index\": \"Year\", \"United States\": \"Income\"})\n",
    "\n",
    "# Verify results\n",
    "income_usa_df.head()"
   ]
  },
  {
   "cell_type": "code",
   "execution_count": null,
   "metadata": {},
   "outputs": [],
   "source": [
    "# Get the birthrate values for a country\n",
    "birthrate_usa_df = birthrate_country_df.loc[:, ['United States']]\n",
    "\n",
    "# Remove the country row\n",
    "# birthrate_usa_df = birthrate_usa_df.drop('country')\n",
    "\n",
    "# Reset the index\n",
    "birthrate_usa_df = birthrate_usa_df.reset_index(drop=False)\n",
    "\n",
    "# Rename columns\n",
    "birthrate_usa_df = birthrate_usa_df.rename(columns = {\"index\": \"Year\", \"United States\": \"Birthrate\"})\n",
    "\n",
    "# Verify results\n",
    "birthrate_usa_df.head()"
   ]
  },
  {
   "cell_type": "code",
   "execution_count": null,
   "metadata": {},
   "outputs": [],
   "source": [
    "# Get the population values for a country\n",
    "population_usa_df = population_country_df.loc[:, ['United States']]\n",
    "\n",
    "# Remove the country row\n",
    "# birthrate_usa_df = birthrate_usa_df.drop('country')\n",
    "\n",
    "# Reset the index\n",
    "population_usa_df = population_usa_df.reset_index(drop=False)\n",
    "\n",
    "# Rename columns\n",
    "population_usa_df = population_usa_df.rename(columns = {\"index\": \"Year\", \"United States\": \"Population\"})\n",
    "\n",
    "# Verify results\n",
    "population_usa_df.head()"
   ]
  },
  {
   "cell_type": "code",
   "execution_count": null,
   "metadata": {},
   "outputs": [],
   "source": [
    "usa_df = pd.merge(income_usa_df, co2_usa_df, on='Year', how='inner')\n",
    "usa_df = usa_df.rename(columns = {\"country\": \"Index\", \"Country\": \"Year\", \"United States_x\": \"Income\", \"United States_y\": \"CO2 Emissions\"})\n",
    "usa_df = usa_df.dropna()\n",
    "# usa_df = usa_df.drop(0)\n",
    "usa_df"
   ]
  },
  {
   "cell_type": "code",
   "execution_count": null,
   "metadata": {},
   "outputs": [],
   "source": [
    "usa2_df = pd.merge(birthrate_usa_df, population_usa_df, on='Year', how='inner')\n",
    "usa2_df = usa2_df.rename(columns = {\"country\": \"Index\", \"Country\": \"Year\", \"United States_x\": \"Income\", \"United States_y\": \"CO2 Emissions\"})\n",
    "usa2_df = usa2_df.dropna()\n",
    "# usa_df = usa_df.drop(0)\n",
    "usa2_df"
   ]
  },
  {
   "cell_type": "code",
   "execution_count": null,
   "metadata": {},
   "outputs": [],
   "source": [
    "usa_final_df = pd.merge(usa_df, usa2_df, on='Year', how='inner')\n",
    "# usa_final_df = usa_final_df.rename(columns = {\"country\": \"Index\", \"Country\": \"Year\", \"United States_x\": \"Income\", \"United States_y\": \"CO2 Emissions\"})\n",
    "usa_final_df = usa_final_df.dropna()\n",
    "# usa_df = usa_df.drop(0)\n",
    "usa_final_df"
   ]
  },
  {
   "cell_type": "code",
   "execution_count": null,
   "metadata": {},
   "outputs": [],
   "source": [
    "# Change the data types to a non-string\n",
    "usa_final_df = usa_final_df.astype({\"Population\": float, \"Income\": float})\n",
    "\n",
    "usa_final_df.dtypes"
   ]
  },
  {
   "cell_type": "code",
   "execution_count": null,
   "metadata": {},
   "outputs": [],
   "source": [
    "# Testing how income impacts CO2\n",
    "x_axis = usa_df[\"Income\"]\n",
    "y_axis = usa_df[\"CO2 Emissions\"]\n",
    "\n",
    "plt.xlabel(\"Income\")\n",
    "plt.ylabel(\"CO2 Emissions\")\n",
    "plt.title(\"USA Income v CO2\")\n",
    "#plt.text(25, 9, r'Marker size = population', fontsize=8)\n",
    "#plt.text(25, 8, r'Marker color = per capita income', fontsize=8)\n",
    "\n",
    "#plt.xlim(2, 6)\n",
    "plt.ylim(0,50)\n",
    "\n",
    "plt.grid(color='grey', linestyle='-', linewidth=0.25, alpha=0.5)\n",
    "\n",
    "plt.scatter(x_axis, y_axis, alpha = .5, c=usa_final_df['Birthrate']*-1,\n",
    "            s = usa_final_df['Population']/scale_variable)\n",
    "\n",
    "plt.colorbar(orientation='vertical', label=\"Birthrate\")\n",
    "\n",
    "plt.savefig(\"USA.png\", dpi=150)\n",
    "\n",
    "plt.show()"
   ]
  },
  {
   "cell_type": "code",
   "execution_count": null,
   "metadata": {},
   "outputs": [],
   "source": [
    "# Get the values for a country\n",
    "co2_china_df = co2_country_df.loc[:, ['China']]\n",
    "income_china_df = income_country_df.loc[:, ['China']]\n",
    "birthrate_china_df = birthrate_country_df.loc[:, ['China']]\n",
    "population_china_df = population_country_df.loc[:, ['China']]\n",
    "\n",
    "# Remove the country row\n",
    "#co2_usa_df = co2_usa_df.drop('country')\n",
    "#income_usa_df = income_usa_df.drop('country')\n",
    "\n",
    "# Reset the index\n",
    "co2_china_df = co2_china_df.reset_index(drop=False)\n",
    "income_china_df = income_china_df.reset_index(drop=False)\n",
    "birthrate_china_df = birthrate_china_df.reset_index(drop=False)\n",
    "population_china_df = population_china_df.reset_index(drop=False)\n",
    "\n",
    "# Rename columns\n",
    "co2_china_df = co2_china_df.rename(columns = {\"index\": \"Year\", \"China\": \"CO2 Emissions\"})\n",
    "income_china_df = income_china_df.rename(columns = {\"index\": \"Year\", \"China\": \"Income\"})\n",
    "birthrate_china_df = birthrate_china_df.rename(columns = {\"index\": \"Year\", \"China\": \"Birthrate\"})\n",
    "population_china_df = population_china_df.rename(columns = {\"index\": \"Year\", \"China\": \"Population\"})\n",
    "\n",
    "# Verify results\n",
    "co2_china_df.head()\n",
    "income_china_df.head()\n",
    "birthrate_china_df.head()\n",
    "population_china_df.head()"
   ]
  },
  {
   "cell_type": "code",
   "execution_count": null,
   "metadata": {},
   "outputs": [],
   "source": [
    "# Complete the merges\n",
    "china_df = pd.merge(income_china_df, co2_china_df, on='Year', how='inner')\n",
    "china_df = china_df.rename(columns = {\"country\": \"Index\", \"Country\": \"Year\", \"United States_x\": \"Income\", \"United States_y\": \"CO2 Emissions\"})\n",
    "china_df = china_df.dropna()\n",
    "# usa_df = usa_df.drop(0)\n",
    "china_df\n",
    "\n",
    "china2_df = pd.merge(birthrate_china_df, population_china_df, on='Year', how='inner')\n",
    "china2_df = china2_df.rename(columns = {\"country\": \"Index\", \"Country\": \"Year\", \"United States_x\": \"Income\", \"United States_y\": \"CO2 Emissions\"})\n",
    "china2_df = china2_df.dropna()\n",
    "# usa_df = usa_df.drop(0)\n",
    "china2_df\n",
    "\n",
    "china_final_df = pd.merge(china_df, china2_df, on='Year', how='inner')\n",
    "# usa_final_df = usa_final_df.rename(columns = {\"country\": \"Index\", \"Country\": \"Year\", \"United States_x\": \"Income\", \"United States_y\": \"CO2 Emissions\"})\n",
    "china_final_df = china_final_df.dropna()\n",
    "# usa_df = usa_df.drop(0)\n",
    "china_final_df"
   ]
  },
  {
   "cell_type": "code",
   "execution_count": null,
   "metadata": {},
   "outputs": [],
   "source": [
    "# Reset the datatypes\n",
    "# Change the data types to a non-string\n",
    "china_final_df = china_final_df.astype({\"Population\": float, \"Income\": float, \"Birthrate\": float, \"CO2 Emissions\": float})\n",
    "\n",
    "china_final_df.dtypes"
   ]
  },
  {
   "cell_type": "code",
   "execution_count": null,
   "metadata": {},
   "outputs": [],
   "source": [
    "# Run the chart\n",
    "# Testing how income impacts CO2\n",
    "x_axis = china_final_df[\"CO2 Emissions\"]\n",
    "y_axis = china_final_df[\"Population\"]\n",
    "\n",
    "plt.xlabel(\"CO2 Emissions\")\n",
    "plt.ylabel(\"Population\")\n",
    "plt.title(\"China CO2 v Population\")\n",
    "#plt.text(25, 9, r'Marker size = population', fontsize=8)\n",
    "#plt.text(25, 8, r'Marker color = per capita income', fontsize=8)\n",
    "\n",
    "#plt.xlim(0, 50)\n",
    "#plt.ylim(0,50)\n",
    "\n",
    "plt.grid(color='grey', linestyle='-', linewidth=0.25, alpha=0.5)\n",
    "\n",
    "plt.scatter(x_axis, y_axis, alpha = .5, c = china_final_df['Birthrate']*-1,\n",
    "            s = china_final_df['Income']/50)\n",
    "\n",
    "plt.colorbar(orientation='vertical', label=\"Birthrate\")\n",
    "\n",
    "plt.savefig(\"China.png\", dpi=150)\n",
    "\n",
    "plt.show()"
   ]
  },
  {
   "cell_type": "code",
   "execution_count": null,
   "metadata": {},
   "outputs": [],
   "source": []
  },
  {
   "cell_type": "code",
   "execution_count": null,
   "metadata": {},
   "outputs": [],
   "source": []
  },
  {
   "cell_type": "code",
   "execution_count": null,
   "metadata": {},
   "outputs": [],
   "source": [
    "# Bernt's code ends here"
   ]
  },
  {
   "cell_type": "code",
   "execution_count": null,
   "metadata": {},
   "outputs": [],
   "source": [
    "# Kaan's code starts here"
   ]
  },
  {
   "cell_type": "code",
   "execution_count": null,
   "metadata": {},
   "outputs": [],
   "source": [
    "# Kaan's code ends here"
   ]
  },
  {
   "cell_type": "code",
   "execution_count": null,
   "metadata": {},
   "outputs": [],
   "source": [
    "# Molly's code starts here"
   ]
  },
  {
   "cell_type": "code",
   "execution_count": null,
   "metadata": {},
   "outputs": [],
   "source": [
    "# Molly's code stops here"
   ]
  },
  {
   "cell_type": "code",
   "execution_count": null,
   "metadata": {},
   "outputs": [],
   "source": [
    "# Vallie's code starts here"
   ]
  },
  {
   "cell_type": "code",
   "execution_count": null,
   "metadata": {},
   "outputs": [],
   "source": [
    "# Vallie's code stops here"
   ]
  },
  {
   "cell_type": "code",
   "execution_count": null,
   "metadata": {},
   "outputs": [],
   "source": []
  },
  {
   "cell_type": "code",
   "execution_count": null,
   "metadata": {},
   "outputs": [],
   "source": []
  }
 ],
 "metadata": {
  "kernelspec": {
   "display_name": "Python 3",
   "language": "python",
   "name": "python3"
  },
  "language_info": {
   "codemirror_mode": {
    "name": "ipython",
    "version": 3
   },
   "file_extension": ".py",
   "mimetype": "text/x-python",
   "name": "python",
   "nbconvert_exporter": "python",
   "pygments_lexer": "ipython3",
   "version": "3.6.9"
  }
 },
 "nbformat": 4,
 "nbformat_minor": 4
}
