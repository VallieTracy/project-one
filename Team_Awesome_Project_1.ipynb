{
 "cells": [
  {
   "cell_type": "markdown",
   "metadata": {},
   "source": [
    "analysis after last linear regression...\n",
    "\n",
    "Based off of linear regression alone, there doesn't appear to be a statistically significant correlation between co2 and birthrate, over any of the years Kaan and I looked at. Could it be of significance that 4 of the 5 years I tested had an r-value that fell within a .058 window of each other? 1974 was the farthest away from the rest, with an r-value of -.28, classified as a weak correlation (the rest fell under a 'moderate' correlation)."
   ]
  },
  {
   "cell_type": "markdown",
   "metadata": {},
   "source": [
    "after anova & t-tests on 1974\n",
    "\n",
    "**ANALYSIS:**  Looking at 1974, we fail to reject the null hypothesis that all three co2 level groups have the same mean birthrate.  But when comparing the groups to one another, we found that there could be statistically significant data in the low v high comparison."
   ]
  },
  {
   "cell_type": "markdown",
   "metadata": {},
   "source": [
    "after anova & t-tests on 1984\n",
    "\n",
    "**ANALYSIS:**  The 1984 anova test has a statistically significant p-value of 0.0002, meaning we reject the null hypothesis.  When comparing the three co2 groups against one another, low level versus mid level is the only comparison where we also rejected the null hypothesis.  Not being well-versed in statistics, could it be worthwhile to further explore why the anova test rejected the null hypothesis but the t-test only rejected the null hypothesis on 1 out of the 3 comparisons?"
   ]
  },
  {
   "cell_type": "markdown",
   "metadata": {},
   "source": [
    "after anova and t-tests on 1994\n",
    "\n",
    "**ANALYSIS:**  Similar to 1984, we reject the null hypothesis that the three co2 groups have the same birthrate means.  This is a statistically significant result.  And running the independent t-test, we found one p-value under .05, looking at the low versus mid co2 groups.     \n",
    "\n",
    "*important to note:*  We pulled out a singleton high-level co2 value from the 1994 data.  Is it worth exploring further, maybe breaking the data into smaller subsets, or running different statistical tests?"
   ]
  },
  {
   "cell_type": "markdown",
   "metadata": {},
   "source": [
    "after anova & t-tests 2004\n",
    "\n",
    "**ANALYSIS:**  In line with 1984 and 1994, the anova produced a rejection of the null hypothesis.  And then testing the groups against one another, we also reject the null hypothesis as it pertains to the low v mid co2 group and low v high co2 group.\n",
    "\n",
    "*important to note:*  Similar to 1994, we pulled out a singleton high-level co2 datapoint."
   ]
  },
  {
   "cell_type": "markdown",
   "metadata": {},
   "source": [
    "after anova & t-tests 2014\n",
    "\n",
    "**ANALYSIS:**  The anova test performed on the 2014 data set resulted in a failure to reject the null hypothesis.  While this isn't statistically significant, we did find statistical significance when performing independent t-tests on both low v mid co2 groups and low v high co2 groups."
   ]
  },
  {
   "cell_type": "code",
   "execution_count": null,
   "metadata": {},
   "outputs": [],
   "source": []
  },
  {
   "cell_type": "code",
   "execution_count": null,
   "metadata": {},
   "outputs": [],
   "source": [
    "import matplotlib.pyplot as plt\n",
    "import pandas as pd\n",
    "import numpy as np\n",
    "import requests\n",
    "import time\n",
    "import os\n",
    "from scipy.stats import linregress\n",
    "from scipy import stats\n",
    "import scipy.stats as stats\n",
    "import warnings\n",
    "warnings.filterwarnings('ignore')\n",
    "%matplotlib inline"
   ]
  },
  {
   "cell_type": "code",
   "execution_count": null,
   "metadata": {},
   "outputs": [],
   "source": [
    "# Bernt's code starts here"
   ]
  },
  {
   "cell_type": "code",
   "execution_count": null,
   "metadata": {},
   "outputs": [],
   "source": [
    "# Importing necessary dataframes\n",
    "\n",
    "birthrate_csv = \"../project-one/Resources/children_per_woman_total_fertility.csv\"\n",
    "birthrate_df = pd.read_csv(birthrate_csv)\n",
    "birthrate_df.head()"
   ]
  },
  {
   "cell_type": "code",
   "execution_count": null,
   "metadata": {},
   "outputs": [],
   "source": [
    "co2_csv = \"../project-one/Resources/co2_emissions_tonnes_per_person.csv\"\n",
    "co2_df = pd.read_csv(co2_csv)\n",
    "co2_df.head()"
   ]
  },
  {
   "cell_type": "code",
   "execution_count": null,
   "metadata": {},
   "outputs": [],
   "source": [
    "income_csv = \"../project-one/Resources/income_per_person_gdppercapita_ppp_inflation_adjusted.csv\"\n",
    "income_df = pd.read_csv(income_csv)\n",
    "income_df.head()\n",
    "# units are in dollars, I believe"
   ]
  },
  {
   "cell_type": "code",
   "execution_count": null,
   "metadata": {},
   "outputs": [],
   "source": [
    "population_csv = \"../project-one/Resources/population_total.csv\"\n",
    "population_df = pd.read_csv(population_csv)\n",
    "population_df.head()"
   ]
  },
  {
   "cell_type": "code",
   "execution_count": null,
   "metadata": {},
   "outputs": [],
   "source": [
    "# For reference only:\n",
    "# these are the years we are interested in:  [1804, 1834, 1864, 1894, 1824, 1954, 1984, and 2014]"
   ]
  },
  {
   "cell_type": "code",
   "execution_count": null,
   "metadata": {},
   "outputs": [],
   "source": [
    "# Step 2: Merge the data...BUT FIRST!! To prep for an inner join (where the only data merged is\n",
    "# whatever matches in our reference columns), we can dropna() first, and then merge\n",
    "\n",
    "# Removing \"not a number's\"\n",
    "\n",
    "#birthrate_df = birthrate_df.dropna()\n",
    "#co2_df = co2_df.dropna()"
   ]
  },
  {
   "cell_type": "code",
   "execution_count": null,
   "metadata": {},
   "outputs": [],
   "source": [
    "# Step 3: Clean the data (dropna, isolate the specific year columns we're interested in)"
   ]
  },
  {
   "cell_type": "code",
   "execution_count": null,
   "metadata": {},
   "outputs": [],
   "source": [
    "# Step 4: Plot our data with CO2 emissions on the x-axis, and birthrate on the y-axis\n",
    "# BONUS: try formatting dot size by population or income level"
   ]
  },
  {
   "cell_type": "code",
   "execution_count": null,
   "metadata": {},
   "outputs": [],
   "source": []
  },
  {
   "cell_type": "code",
   "execution_count": null,
   "metadata": {},
   "outputs": [],
   "source": []
  },
  {
   "cell_type": "code",
   "execution_count": null,
   "metadata": {},
   "outputs": [],
   "source": []
  },
  {
   "cell_type": "code",
   "execution_count": null,
   "metadata": {},
   "outputs": [],
   "source": [
    "# Bernt's code ends here"
   ]
  },
  {
   "cell_type": "code",
   "execution_count": null,
   "metadata": {},
   "outputs": [],
   "source": [
    "# Kaan's code starts here"
   ]
  },
  {
   "cell_type": "code",
   "execution_count": null,
   "metadata": {},
   "outputs": [],
   "source": [
    "# Kaan's code ends here"
   ]
  },
  {
   "cell_type": "code",
   "execution_count": null,
   "metadata": {},
   "outputs": [],
   "source": [
    "# Molly's code starts here"
   ]
  },
  {
   "cell_type": "code",
   "execution_count": null,
   "metadata": {},
   "outputs": [],
   "source": [
    "# Molly's code stops here"
   ]
  },
  {
   "cell_type": "code",
   "execution_count": null,
   "metadata": {},
   "outputs": [],
   "source": [
    "# Vallie's code starts here\n",
    "\n",
    "#print out the birthrate df\n",
    "birthrate_df"
   ]
  },
  {
   "cell_type": "code",
   "execution_count": null,
   "metadata": {},
   "outputs": [],
   "source": []
  },
  {
   "cell_type": "code",
   "execution_count": null,
   "metadata": {
    "scrolled": true
   },
   "outputs": [],
   "source": [
    "#print out the co2 dataframe\n",
    "co2_df"
   ]
  },
  {
   "cell_type": "code",
   "execution_count": null,
   "metadata": {},
   "outputs": [],
   "source": [
    "#merge birthrate and co2 dataframes on country\n",
    "co2_br_merge = pd.merge(co2_df, birthrate_df, on=\"country\")\n",
    "co2_br_merge"
   ]
  },
  {
   "cell_type": "code",
   "execution_count": null,
   "metadata": {},
   "outputs": [],
   "source": [
    "#rename columns\n",
    "co2_br_rename = co2_br_merge.rename(columns={\"country\": \"Country\",\n",
    "                                             \"1974_x\": \"1974 CO2 Emissions\",\n",
    "                                             \"1984_x\": \"1984 CO2 Emissions\",\n",
    "                                             \"1994_x\": \"1994 CO2 Emissions\",\n",
    "                                             \"2004_x\": \"2004 CO2 Emissions\",\n",
    "                                             \"2014_x\": \"2014 CO2 Emissions\",\n",
    "                                             \"1974_y\": \"Birthrate_1974\",\n",
    "                                             \"1984_y\": \"Birthrate_1984\",\n",
    "                                             \"1994_y\": \"Birthrate_1994\",\n",
    "                                             \"2004_y\": \"Birthrate_2004\",\n",
    "                                             \"2014_y\": \"Birthrate_2014\"})\n",
    "co2_br_rename"
   ]
  },
  {
   "cell_type": "code",
   "execution_count": null,
   "metadata": {},
   "outputs": [],
   "source": [
    "#make df with only the columns we want to keep\n",
    "co2_br_df = co2_br_rename[[\"Country\", \"1974 CO2 Emissions\", \"1984 CO2 Emissions\", \"1994 CO2 Emissions\", \"2004 CO2 Emissions\", \"2014 CO2 Emissions\",\n",
    "                           \"Birthrate_1974\", \"Birthrate_1984\", \"Birthrate_1994\", \"Birthrate_2004\", \"Birthrate_2014\"]]\n",
    "co2_br_df"
   ]
  },
  {
   "cell_type": "code",
   "execution_count": null,
   "metadata": {},
   "outputs": [],
   "source": [
    "#create 1974 dataframe, co2 descending order\n",
    "df_1974 = co2_br_df[[\"Country\", \"1974 CO2 Emissions\", \"Birthrate_1974\"]].sort_values(\"1974 CO2 Emissions\", ascending=False).reset_index()\n",
    "df_1974 = df_1974[[\"Country\", \"1974 CO2 Emissions\", \"Birthrate_1974\"]]\n",
    "df_1974"
   ]
  },
  {
   "cell_type": "code",
   "execution_count": null,
   "metadata": {},
   "outputs": [],
   "source": [
    "#drop rows with nan values\n",
    "df_1974 = df_1974.dropna()\n",
    "df_1974"
   ]
  },
  {
   "cell_type": "code",
   "execution_count": null,
   "metadata": {},
   "outputs": [],
   "source": [
    "#run linear regression on co2 v birthrate (year 1974)\n",
    "\n",
    "#first create scatter plot\n",
    "x_values = df_1974[\"1974 CO2 Emissions\"]\n",
    "y_values = df_1974[\"Birthrate_1974\"]\n",
    "plt.scatter(x_values, y_values, edgecolors=\"black\")\n",
    "plt.xlabel(\"CO2 Emissions (tons/person)\")\n",
    "plt.ylabel(\"Birthrate (child/woman)\")\n",
    "plt.title(\"CO2 Emissions v Birthrate (1974)\")"
   ]
  },
  {
   "cell_type": "code",
   "execution_count": null,
   "metadata": {},
   "outputs": [],
   "source": [
    "#perform a linear regression on co2 v birthrate (year 1974)\n",
    "(slope, intercept, rvalue, pvalue, stderr) = stats.linregress(x_values, y_values)\n",
    "\n",
    "#get regression values\n",
    "regress_values = x_values * slope + intercept\n",
    "print(regress_values)"
   ]
  },
  {
   "cell_type": "code",
   "execution_count": null,
   "metadata": {},
   "outputs": [],
   "source": [
    "#create line equation string\n",
    "line_eq = \"y = \" + str(round(slope,2)) + \"x +\" + str(round(intercept,2))\n",
    "print(line_eq)"
   ]
  },
  {
   "cell_type": "code",
   "execution_count": null,
   "metadata": {},
   "outputs": [],
   "source": [
    "#create plot\n",
    "plt.scatter(x_values,y_values,edgecolors=\"black\")\n",
    "plt.plot(x_values,regress_values,\"r-\")\n",
    "\n",
    "#label plot and annotate the line equation\n",
    "plt.xlabel('CO2 Emissions')\n",
    "plt.ylabel('Birthrate')\n",
    "plt.annotate(line_eq,(20,5),fontsize=15,color=\"red\")\n",
    "plt.title(\"CO2 Emissions v Birthrate (1974)\")\n",
    "\n",
    "# Print r square value\n",
    "print(f\"The r-squared is: {rvalue}\")\n",
    "\n",
    "#save plot to images folder\n",
    "plt.savefig(os.path.join(\"Images\",\"1974_co2_v_birthrate.png\"))\n",
    "\n",
    "#show plot\n",
    "plt.show()"
   ]
  },
  {
   "cell_type": "code",
   "execution_count": null,
   "metadata": {},
   "outputs": [],
   "source": [
    "#create 1984 dataframe, co2 descending order\n",
    "df_1984 = co2_br_df[[\"Country\", \"1984 CO2 Emissions\", \"Birthrate_1984\"]].sort_values(\"1984 CO2 Emissions\", ascending=False).reset_index()\n",
    "df_1984 = df_1984[[\"Country\", \"1984 CO2 Emissions\", \"Birthrate_1984\"]]\n",
    "df_1984"
   ]
  },
  {
   "cell_type": "code",
   "execution_count": null,
   "metadata": {},
   "outputs": [],
   "source": [
    "#drop rows with nan values\n",
    "df_1984 = df_1984.dropna()\n",
    "df_1984"
   ]
  },
  {
   "cell_type": "code",
   "execution_count": null,
   "metadata": {},
   "outputs": [],
   "source": [
    "#run linear regression on co2 v birthrate (year 1984)\n",
    "\n",
    "#first create scatter plot\n",
    "x_values = df_1984[\"1984 CO2 Emissions\"]\n",
    "y_values = df_1984[\"Birthrate_1984\"]\n",
    "plt.scatter(x_values, y_values, edgecolors=\"black\")\n",
    "plt.xlabel(\"CO2 Emissions (tons/person)\")\n",
    "plt.ylabel(\"Birthrate (child/woman)\")\n",
    "plt.title(\"CO2 Emissions v Birthrate (1984)\")"
   ]
  },
  {
   "cell_type": "code",
   "execution_count": null,
   "metadata": {},
   "outputs": [],
   "source": [
    "#perform a linear regression on co2 v birthrate (year 1984)\n",
    "(slope, intercept, rvalue, pvalue, stderr) = stats.linregress(x_values, y_values)\n",
    "\n",
    "#get regression values\n",
    "regress_values = x_values * slope + intercept\n",
    "print(regress_values)"
   ]
  },
  {
   "cell_type": "code",
   "execution_count": null,
   "metadata": {},
   "outputs": [],
   "source": [
    "#create line equation string\n",
    "line_eq = \"y = \" + str(round(slope,2)) + \"x +\" + str(round(intercept,2))\n",
    "print(line_eq)"
   ]
  },
  {
   "cell_type": "code",
   "execution_count": null,
   "metadata": {},
   "outputs": [],
   "source": [
    "#create plot\n",
    "plt.scatter(x_values,y_values,edgecolors=\"black\")\n",
    "plt.plot(x_values,regress_values,\"r-\")\n",
    "\n",
    "#label plot and annotate the line equation\n",
    "plt.xlabel('CO2 Emissions')\n",
    "plt.ylabel('Birthrate')\n",
    "plt.annotate(line_eq,(20,5),fontsize=15,color=\"red\")\n",
    "plt.title(\"CO2 Emissions v Birthrate (1984)\")\n",
    "\n",
    "# Print r square value\n",
    "print(f\"The r-squared is: {rvalue}\")\n",
    "\n",
    "#save plot to images folder\n",
    "plt.savefig(os.path.join(\"Images\",\"1984_co2_v_birthrate.png\"))\n",
    "\n",
    "#show plot\n",
    "plt.show()"
   ]
  },
  {
   "cell_type": "code",
   "execution_count": null,
   "metadata": {},
   "outputs": [],
   "source": [
    "#create 1994 dataframe, co2 descending order\n",
    "df_1994 = co2_br_df[[\"Country\", \"1994 CO2 Emissions\", \"Birthrate_1994\"]].sort_values(\"1994 CO2 Emissions\", ascending=False).reset_index()\n",
    "df_1994 = df_1994[[\"Country\", \"1994 CO2 Emissions\", \"Birthrate_1994\"]]\n",
    "df_1994"
   ]
  },
  {
   "cell_type": "code",
   "execution_count": null,
   "metadata": {},
   "outputs": [],
   "source": [
    "#drop rows with nan values\n",
    "df_1994 = df_1994.dropna()\n",
    "df_1994"
   ]
  },
  {
   "cell_type": "code",
   "execution_count": null,
   "metadata": {},
   "outputs": [],
   "source": [
    "#run linear regression on co2 v birthrate (year 1994)\n",
    "\n",
    "#first create scatter plot\n",
    "x_values = df_1994[\"1994 CO2 Emissions\"]\n",
    "y_values = df_1994[\"Birthrate_1994\"]\n",
    "plt.scatter(x_values, y_values, edgecolors=\"black\")\n",
    "plt.xlabel(\"CO2 Emissions (tons/person)\")\n",
    "plt.ylabel(\"Birthrate (child/woman)\")\n",
    "plt.title(\"CO2 Emissions v Birthrate (1994)\")"
   ]
  },
  {
   "cell_type": "code",
   "execution_count": null,
   "metadata": {},
   "outputs": [],
   "source": [
    "#perform a linear regression on co2 v birthrate (year 1994)\n",
    "(slope, intercept, rvalue, pvalue, stderr) = stats.linregress(x_values, y_values)\n",
    "\n",
    "#get regression values\n",
    "regress_values = x_values * slope + intercept\n",
    "print(regress_values)"
   ]
  },
  {
   "cell_type": "code",
   "execution_count": null,
   "metadata": {},
   "outputs": [],
   "source": [
    "#create line equation string\n",
    "line_eq = \"y = \" + str(round(slope,2)) + \"x +\" + str(round(intercept,2))\n",
    "print(line_eq)"
   ]
  },
  {
   "cell_type": "code",
   "execution_count": null,
   "metadata": {},
   "outputs": [],
   "source": [
    "#create plot\n",
    "plt.scatter(x_values,y_values,edgecolors=\"black\")\n",
    "plt.plot(x_values,regress_values,\"r-\")\n",
    "\n",
    "#label plot and annotate the line equation\n",
    "plt.xlabel(\"CO2 Emissions\")\n",
    "plt.ylabel(\"Birthrate\")\n",
    "plt.annotate(line_eq,(20,5),fontsize=15,color=\"red\")\n",
    "plt.title(\"CO2 Emissions v Birthrate (1994)\")\n",
    "\n",
    "# Print r square value\n",
    "print(f\"The r-squared is: {rvalue}\")\n",
    "\n",
    "#save plot to images folder\n",
    "plt.savefig(os.path.join(\"Images\",\"1994_co2_v_birthrate.png\"))\n",
    "\n",
    "#show plot\n",
    "plt.show()"
   ]
  },
  {
   "cell_type": "code",
   "execution_count": null,
   "metadata": {},
   "outputs": [],
   "source": [
    "#create 2004 dataframe, co2 descending order\n",
    "df_2004 = co2_br_df[[\"Country\", \"2004 CO2 Emissions\", \"Birthrate_2004\"]].sort_values(\"2004 CO2 Emissions\", ascending=False).reset_index()\n",
    "df_2004 = df_2004[[\"Country\", \"2004 CO2 Emissions\", \"Birthrate_2004\"]]\n",
    "df_2004"
   ]
  },
  {
   "cell_type": "code",
   "execution_count": null,
   "metadata": {},
   "outputs": [],
   "source": [
    "#drop rows with nan values\n",
    "df_2004 = df_2004.dropna()\n",
    "df_2004"
   ]
  },
  {
   "cell_type": "code",
   "execution_count": null,
   "metadata": {},
   "outputs": [],
   "source": [
    "#run linear regression on co2 v birthrate (year 2004)\n",
    "\n",
    "#first create scatter plot\n",
    "x_values = df_2004[\"2004 CO2 Emissions\"]\n",
    "y_values = df_2004[\"Birthrate_2004\"]\n",
    "plt.scatter(x_values, y_values, edgecolors=\"black\")\n",
    "plt.xlabel(\"CO2 Emissions (tons/person)\")\n",
    "plt.ylabel(\"Birthrate (child/woman)\")\n",
    "plt.title(\"CO2 Emissions v Birthrate (2004)\")"
   ]
  },
  {
   "cell_type": "code",
   "execution_count": null,
   "metadata": {},
   "outputs": [],
   "source": [
    "#perform a linear regression on co2 v birthrate (year 2004)\n",
    "(slope, intercept, rvalue, pvalue, stderr) = stats.linregress(x_values, y_values)\n",
    "\n",
    "#get regression values\n",
    "regress_values = x_values * slope + intercept\n",
    "print(regress_values)"
   ]
  },
  {
   "cell_type": "code",
   "execution_count": null,
   "metadata": {},
   "outputs": [],
   "source": [
    "#create line equation string\n",
    "line_eq = \"y = \" + str(round(slope,2)) + \"x +\" + str(round(intercept,2))\n",
    "print(line_eq)"
   ]
  },
  {
   "cell_type": "code",
   "execution_count": null,
   "metadata": {},
   "outputs": [],
   "source": [
    "#create plot\n",
    "plt.scatter(x_values,y_values,edgecolors=\"black\")\n",
    "plt.plot(x_values,regress_values,\"r-\")\n",
    "\n",
    "#label plot and annotate the line equation\n",
    "plt.xlabel('CO2 Emissions')\n",
    "plt.ylabel('Birthrate')\n",
    "plt.annotate(line_eq,(20,5),fontsize=15,color=\"red\")\n",
    "plt.title(\"CO2 Emissions v Birthrate (2004)\")\n",
    "\n",
    "# Print r square value\n",
    "print(f\"The r-squared is: {rvalue}\")\n",
    "\n",
    "#save plot to images folder\n",
    "plt.savefig(os.path.join(\"Images\",\"2004_co2_v_birthrate.png\"))\n",
    "\n",
    "#show plot\n",
    "plt.show()"
   ]
  },
  {
   "cell_type": "code",
   "execution_count": null,
   "metadata": {},
   "outputs": [],
   "source": [
    "#create 2014 dataframe, co2 descending order\n",
    "df_2014 = co2_br_df[[\"Country\", \"2014 CO2 Emissions\", \"Birthrate_2014\"]].sort_values(\"2014 CO2 Emissions\", ascending=False).reset_index()\n",
    "df_2014 = df_2014[[\"Country\", \"2014 CO2 Emissions\", \"Birthrate_2014\"]]\n",
    "df_2014"
   ]
  },
  {
   "cell_type": "code",
   "execution_count": null,
   "metadata": {},
   "outputs": [],
   "source": [
    "#drop rows with nan values\n",
    "df_2014 = df_2014.dropna()\n",
    "df_2014"
   ]
  },
  {
   "cell_type": "code",
   "execution_count": null,
   "metadata": {},
   "outputs": [],
   "source": [
    "#run linear regression on co2 v birthrate (year 2014)\n",
    "\n",
    "#first create scatter plot\n",
    "x_values = df_2014[\"2014 CO2 Emissions\"]\n",
    "y_values = df_2014[\"Birthrate_2014\"]\n",
    "plt.scatter(x_values, y_values, edgecolors=\"black\")\n",
    "plt.xlabel(\"CO2 Emissions (tons/person)\")\n",
    "plt.ylabel(\"Birthrate (child/woman)\")\n",
    "plt.title(\"CO2 Emissions v Birthrate (2014)\")"
   ]
  },
  {
   "cell_type": "code",
   "execution_count": null,
   "metadata": {},
   "outputs": [],
   "source": [
    "#perform a linear regression on co2 v birthrate (year 2014)\n",
    "(slope, intercept, rvalue, pvalue, stderr) = stats.linregress(x_values, y_values)\n",
    "\n",
    "#get regression values\n",
    "regress_values = x_values * slope + intercept\n",
    "print(regress_values)"
   ]
  },
  {
   "cell_type": "code",
   "execution_count": null,
   "metadata": {},
   "outputs": [],
   "source": [
    "#create line equation string\n",
    "line_eq = \"y = \" + str(round(slope,2)) + \"x +\" + str(round(intercept,2))\n",
    "print(line_eq)"
   ]
  },
  {
   "cell_type": "code",
   "execution_count": null,
   "metadata": {},
   "outputs": [],
   "source": [
    "#create plot\n",
    "plt.scatter(x_values,y_values,edgecolors=\"black\")\n",
    "plt.plot(x_values,regress_values,\"r-\")\n",
    "\n",
    "#label plot and annotate the line equation\n",
    "plt.xlabel('CO2 Emissions')\n",
    "plt.ylabel('Birthrate')\n",
    "plt.annotate(line_eq,(20,5),fontsize=15,color=\"red\")\n",
    "plt.title(\"CO2 Emissions v Birthrate (2014)\")\n",
    "\n",
    "# Print r square value\n",
    "print(f\"The r-squared is: {rvalue}\")\n",
    "\n",
    "#save plot to images folder\n",
    "plt.savefig(os.path.join(\"Images\",\"2014_co2_v_birthrate.png\"))\n",
    "\n",
    "#show plot\n",
    "plt.show()"
   ]
  },
  {
   "cell_type": "code",
   "execution_count": null,
   "metadata": {},
   "outputs": [],
   "source": [
    "df_1974.describe()"
   ]
  },
  {
   "cell_type": "code",
   "execution_count": null,
   "metadata": {},
   "outputs": [],
   "source": [
    "#try binning on the 1974 df\n",
    "#group by co2 emissions <=22.73, (22.73, 45.46], > 45.46\n",
    "\n",
    "#create bins to place the carbon emissions\n",
    "bins = [0, 22.72, 45.46, 69]\n",
    "\n",
    "#create labels for the bins\n",
    "group_labels = [\"Low-Level CO2\", \"Mid-Level CO2\", \"High-Level CO2\"]"
   ]
  },
  {
   "cell_type": "code",
   "execution_count": null,
   "metadata": {},
   "outputs": [],
   "source": [
    " # Slice the data and place it into bins\n",
    "pd.cut(df_1974[\"1974 CO2 Emissions\"], bins, labels=group_labels).head()"
   ]
  },
  {
   "cell_type": "code",
   "execution_count": null,
   "metadata": {},
   "outputs": [],
   "source": [
    "#place the data series into a new column inside of the DataFrame\n",
    "df_1974[\"CO2 Group\"] = pd.cut(df_1974[\"1974 CO2 Emissions\"], bins, labels=group_labels)\n",
    "df_1974"
   ]
  },
  {
   "cell_type": "code",
   "execution_count": null,
   "metadata": {},
   "outputs": [],
   "source": [
    "#try running ANOVA on the above dataframe\n",
    "\n",
    "#create a boxplot to compare means\n",
    "df_1974.boxplot(\"Birthrate_1974\", by=\"CO2 Group\", figsize=(20, 10))"
   ]
  },
  {
   "cell_type": "code",
   "execution_count": null,
   "metadata": {},
   "outputs": [],
   "source": [
    "#extract individual groups\n",
    "group1 = df_1974[df_1974[\"CO2 Group\"] == \"Low-Level CO2\"][\"Birthrate_1974\"]\n",
    "group2 = df_1974[df_1974[\"CO2 Group\"] == \"Mid-Level CO2\"][\"Birthrate_1974\"]\n",
    "group3 = df_1974[df_1974[\"CO2 Group\"] == \"High-Level CO2\"][\"Birthrate_1974\"]"
   ]
  },
  {
   "cell_type": "code",
   "execution_count": null,
   "metadata": {},
   "outputs": [],
   "source": [
    "#perform the anova\n",
    "stats.f_oneway(group1, group2, group3)"
   ]
  },
  {
   "cell_type": "code",
   "execution_count": null,
   "metadata": {},
   "outputs": [],
   "source": [
    "#we fail to reject the null hypothesis (that the 'populations' have the same mean)"
   ]
  },
  {
   "cell_type": "code",
   "execution_count": null,
   "metadata": {},
   "outputs": [],
   "source": [
    "#independent t-test\n",
    "#null hypothesis is that two populations have identical means\n",
    "#calculate the 'population' mean for birthrate in lowest co2 group (year 1974)\n",
    "population1 = df_1974[df_1974[\"CO2 Group\"] == \"Low-Level CO2\"]\n",
    "population1.Birthrate_1974.mean()"
   ]
  },
  {
   "cell_type": "code",
   "execution_count": null,
   "metadata": {},
   "outputs": [],
   "source": [
    "# Calculate the 'population' mean for birthrate in mid co2 group (year 1974)\n",
    "population2 = df_1974[df_1974[\"CO2 Group\"] == \"Mid-Level CO2\"]\n",
    "population2.Birthrate_1974.mean()"
   ]
  },
  {
   "cell_type": "code",
   "execution_count": null,
   "metadata": {},
   "outputs": [],
   "source": [
    "# Calculate the 'population' mean for birthrate in highest co2 group (year 1974)\n",
    "population3 = df_1974[df_1974[\"CO2 Group\"] == \"High-Level CO2\"]\n",
    "population3.Birthrate_1974.mean()"
   ]
  },
  {
   "cell_type": "code",
   "execution_count": null,
   "metadata": {},
   "outputs": [],
   "source": [
    "#calculate independent (two sample) t-test, low v mid (1974)\n",
    "#null hypothesis is that the low co2 and mid co2 populations have the same mean\n",
    "stats.ttest_ind(population1.Birthrate_1974, population2.Birthrate_1974, equal_var=False)"
   ]
  },
  {
   "cell_type": "code",
   "execution_count": null,
   "metadata": {},
   "outputs": [],
   "source": [
    "#we fail to reject the null hypothesis\n",
    "#~we can't prove that the means for low co2 and mid co2 (year 1974) are not equal"
   ]
  },
  {
   "cell_type": "code",
   "execution_count": null,
   "metadata": {},
   "outputs": [],
   "source": [
    "#calculate independent (two sample) t-test, low v high (1974)\n",
    "stats.ttest_ind(population1.Birthrate_1974, population3.Birthrate_1974, equal_var=False)"
   ]
  },
  {
   "cell_type": "code",
   "execution_count": null,
   "metadata": {},
   "outputs": [],
   "source": []
  },
  {
   "cell_type": "code",
   "execution_count": null,
   "metadata": {},
   "outputs": [],
   "source": [
    "#calculate independent (two sample) t-test, mid v high (1974)\n",
    "stats.ttest_ind(population2.Birthrate_1974, population3.Birthrate_1974, equal_var=False)"
   ]
  },
  {
   "cell_type": "code",
   "execution_count": null,
   "metadata": {},
   "outputs": [],
   "source": [
    "df_1984.describe()"
   ]
  },
  {
   "cell_type": "code",
   "execution_count": null,
   "metadata": {},
   "outputs": [],
   "source": [
    "#try binning on the 1984 df\n",
    "#group by co2 emissions <=12.06, (12.06, 24.08], > 24.08\n",
    "\n",
    "#create bins to place the carbon emissions\n",
    "bins = [0, 12.06, 24.08, 36.2]\n",
    "\n",
    "#create labels for the bins\n",
    "group_labels = [\"Low-Level CO2\", \"Mid-Level CO2\", \"High-Level CO2\"]"
   ]
  },
  {
   "cell_type": "code",
   "execution_count": null,
   "metadata": {},
   "outputs": [],
   "source": [
    " # Slice the data and place it into bins\n",
    "pd.cut(df_1984[\"1984 CO2 Emissions\"], bins, labels=group_labels).head()"
   ]
  },
  {
   "cell_type": "code",
   "execution_count": null,
   "metadata": {},
   "outputs": [],
   "source": [
    "#place the data series into a new column inside of the DataFrame\n",
    "df_1984[\"CO2 Group\"] = pd.cut(df_1984[\"1984 CO2 Emissions\"], bins, labels=group_labels)\n",
    "df_1984"
   ]
  },
  {
   "cell_type": "code",
   "execution_count": null,
   "metadata": {},
   "outputs": [],
   "source": [
    "#try running ANOVA on the above dataframe\n",
    "\n",
    "#create a boxplot to compare means\n",
    "df_1984.boxplot(\"Birthrate_1984\", by=\"CO2 Group\", figsize=(20, 10))"
   ]
  },
  {
   "cell_type": "code",
   "execution_count": null,
   "metadata": {},
   "outputs": [],
   "source": [
    "#extract individual groups\n",
    "group1 = df_1984[df_1984[\"CO2 Group\"] == \"Low-Level CO2\"][\"Birthrate_1984\"]\n",
    "group2 = df_1984[df_1984[\"CO2 Group\"] == \"Mid-Level CO2\"][\"Birthrate_1984\"]\n",
    "group3 = df_1984[df_1984[\"CO2 Group\"] == \"High-Level CO2\"][\"Birthrate_1984\"]"
   ]
  },
  {
   "cell_type": "code",
   "execution_count": null,
   "metadata": {},
   "outputs": [],
   "source": [
    "#perform the anova\n",
    "stats.f_oneway(group1, group2, group3)"
   ]
  },
  {
   "cell_type": "code",
   "execution_count": null,
   "metadata": {},
   "outputs": [],
   "source": [
    "#we reject the null hypothesis (that the 'populations' have the same mean)"
   ]
  },
  {
   "cell_type": "code",
   "execution_count": null,
   "metadata": {},
   "outputs": [],
   "source": [
    "#independent t-test\n",
    "#calculate the 'population' mean for birthrate in lowest co2 group (year 1984)\n",
    "population1 = df_1984[df_1984[\"CO2 Group\"] == \"Low-Level CO2\"]\n",
    "population1.Birthrate_1984.mean()"
   ]
  },
  {
   "cell_type": "code",
   "execution_count": null,
   "metadata": {},
   "outputs": [],
   "source": [
    "#calculate the 'population' mean for birthrate in mid co2 group (year 1984)\n",
    "population2 = df_1984[df_1984[\"CO2 Group\"] == \"Mid-Level CO2\"]\n",
    "population2.Birthrate_1984.mean()"
   ]
  },
  {
   "cell_type": "code",
   "execution_count": null,
   "metadata": {},
   "outputs": [],
   "source": [
    "#calculate the 'population' mean for birthrate in highest co2 group (year 1984)\n",
    "population3 = df_1984[df_1984[\"CO2 Group\"] == \"High-Level CO2\"]\n",
    "population3.Birthrate_1984.mean()"
   ]
  },
  {
   "cell_type": "code",
   "execution_count": null,
   "metadata": {},
   "outputs": [],
   "source": [
    "#calculate independent (two sample) t-test, low v mid (1984)\n",
    "stats.ttest_ind(population1.Birthrate_1984, population2.Birthrate_1984, equal_var=False)"
   ]
  },
  {
   "cell_type": "code",
   "execution_count": null,
   "metadata": {},
   "outputs": [],
   "source": [
    "#calculate independent (two sample) t-test, low v high (1984)\n",
    "stats.ttest_ind(population1.Birthrate_1984, population3.Birthrate_1984, equal_var=False)"
   ]
  },
  {
   "cell_type": "code",
   "execution_count": null,
   "metadata": {},
   "outputs": [],
   "source": [
    "#calculate independent (two sample) t-test, mid v high (1984)\n",
    "stats.ttest_ind(population2.Birthrate_1984, population3.Birthrate_1984, equal_var=False)"
   ]
  },
  {
   "cell_type": "code",
   "execution_count": null,
   "metadata": {},
   "outputs": [],
   "source": [
    "df_1994"
   ]
  },
  {
   "cell_type": "code",
   "execution_count": null,
   "metadata": {},
   "outputs": [],
   "source": [
    "df_1994.describe()"
   ]
  },
  {
   "cell_type": "code",
   "execution_count": null,
   "metadata": {},
   "outputs": [],
   "source": [
    "#try binning on the 1994 df\n",
    "#group by co2 emissions <=19.87, (19.87, 39.74], > 39.74\n",
    "\n",
    "#create bins to place the carbon emissions\n",
    "#bins = [0, 19.87, 39.74, 59.7]\n",
    "#change bins in order to pull out the singleton high level co2\n",
    "bins = [0, 10.47, 20.94, 31.5]\n",
    "\n",
    "#create labels for the bins\n",
    "group_labels = [\"Low-Level CO2\", \"Mid-Level CO2\", \"High-Level CO2\"]"
   ]
  },
  {
   "cell_type": "code",
   "execution_count": null,
   "metadata": {},
   "outputs": [],
   "source": [
    " # Slice the data and place it into bins\n",
    "pd.cut(df_1994[\"1994 CO2 Emissions\"], bins, labels=group_labels).head()"
   ]
  },
  {
   "cell_type": "code",
   "execution_count": null,
   "metadata": {},
   "outputs": [],
   "source": [
    "#place the data series into a new column inside of the DataFrame\n",
    "df_1994[\"CO2 Group\"] = pd.cut(df_1994[\"1994 CO2 Emissions\"], bins, labels=group_labels)\n",
    "df_1994"
   ]
  },
  {
   "cell_type": "code",
   "execution_count": null,
   "metadata": {},
   "outputs": [],
   "source": [
    "#try running ANOVA on the above dataframe\n",
    "\n",
    "#create a boxplot to compare means\n",
    "df_1994.boxplot(\"Birthrate_1994\", by=\"CO2 Group\", figsize=(20, 10))"
   ]
  },
  {
   "cell_type": "code",
   "execution_count": null,
   "metadata": {},
   "outputs": [],
   "source": [
    "#extract individual groups\n",
    "group1 = df_1994[df_1994[\"CO2 Group\"] == \"Low-Level CO2\"][\"Birthrate_1994\"]\n",
    "group2 = df_1994[df_1994[\"CO2 Group\"] == \"Mid-Level CO2\"][\"Birthrate_1994\"]\n",
    "group3 = df_1994[df_1994[\"CO2 Group\"] == \"High-Level CO2\"][\"Birthrate_1994\"]"
   ]
  },
  {
   "cell_type": "code",
   "execution_count": null,
   "metadata": {},
   "outputs": [],
   "source": [
    "#perform the anova\n",
    "stats.f_oneway(group1, group2, group3)"
   ]
  },
  {
   "cell_type": "code",
   "execution_count": null,
   "metadata": {},
   "outputs": [],
   "source": [
    "#we fail to reject the null hypothesis (that the 'populations' have the same mean)"
   ]
  },
  {
   "cell_type": "code",
   "execution_count": null,
   "metadata": {},
   "outputs": [],
   "source": [
    "#independent t-test\n",
    "#calculate the 'population' mean for birthrate in lowest co2 group (year 1994)\n",
    "population1 = df_1994[df_1994[\"CO2 Group\"] == \"Low-Level CO2\"]\n",
    "population1.Birthrate_1994.mean()"
   ]
  },
  {
   "cell_type": "code",
   "execution_count": null,
   "metadata": {},
   "outputs": [],
   "source": [
    "#calculate the 'population' mean for birthrate in mid co2 group (year 1994)\n",
    "population2 = df_1994[df_1994[\"CO2 Group\"] == \"Mid-Level CO2\"]\n",
    "population2.Birthrate_1994.mean()"
   ]
  },
  {
   "cell_type": "code",
   "execution_count": null,
   "metadata": {},
   "outputs": [],
   "source": [
    "#calculate the 'population' mean for birthrate in highest co2 group (year 1994)\n",
    "population3 = df_1994[df_1994[\"CO2 Group\"] == \"High-Level CO2\"]\n",
    "population3.Birthrate_1994.mean()"
   ]
  },
  {
   "cell_type": "code",
   "execution_count": null,
   "metadata": {},
   "outputs": [],
   "source": [
    "#calculate independent (two sample) t-test, low v mid (1994)\n",
    "stats.ttest_ind(population1.Birthrate_1994, population2.Birthrate_1994, equal_var=False)"
   ]
  },
  {
   "cell_type": "code",
   "execution_count": null,
   "metadata": {},
   "outputs": [],
   "source": [
    "#WHAT'S WRONG\n",
    "#calculate independent (two sample) t-test, low v high (1994)\n",
    "stats.ttest_ind(population1.Birthrate_1994, population3.Birthrate_1994, equal_var=False)"
   ]
  },
  {
   "cell_type": "code",
   "execution_count": null,
   "metadata": {},
   "outputs": [],
   "source": [
    "#WHAT'S WRONG\n",
    "#calculate independent (two sample) t-test, mid v high (1994)\n",
    "stats.ttest_ind(population2.Birthrate_1994, population3.Birthrate_1994, equal_var=False)"
   ]
  },
  {
   "cell_type": "code",
   "execution_count": null,
   "metadata": {},
   "outputs": [],
   "source": [
    "df_2004"
   ]
  },
  {
   "cell_type": "code",
   "execution_count": null,
   "metadata": {},
   "outputs": [],
   "source": [
    "df_2004.describe()"
   ]
  },
  {
   "cell_type": "code",
   "execution_count": null,
   "metadata": {},
   "outputs": [],
   "source": [
    "#try binning on the 2004 df\n",
    "#group by co2 emissions <=18.87, (18.87, 37.74], > 37.74\n",
    "\n",
    "#create bins to place the carbon emissions\n",
    "#bins = [0, 18.87, 37.74, 56.7]\n",
    "#change bins in order to pull out singleton high level co2\n",
    "bins = [0, 9.43, 18.87, 28.9]\n",
    "\n",
    "#create labels for the bins\n",
    "group_labels = [\"Low-Level CO2\", \"Mid-Level CO2\", \"High-Level CO2\"]"
   ]
  },
  {
   "cell_type": "code",
   "execution_count": null,
   "metadata": {},
   "outputs": [],
   "source": [
    " # Slice the data and place it into bins\n",
    "pd.cut(df_2004[\"2004 CO2 Emissions\"], bins, labels=group_labels).head()"
   ]
  },
  {
   "cell_type": "code",
   "execution_count": null,
   "metadata": {},
   "outputs": [],
   "source": [
    "#place the data series into a new column inside of the DataFrame\n",
    "df_2004[\"CO2 Group\"] = pd.cut(df_2004[\"2004 CO2 Emissions\"], bins, labels=group_labels)\n",
    "df_2004"
   ]
  },
  {
   "cell_type": "code",
   "execution_count": null,
   "metadata": {},
   "outputs": [],
   "source": [
    "#try running ANOVA on the above dataframe\n",
    "\n",
    "#create a boxplot to compare means\n",
    "df_2004.boxplot(\"Birthrate_2004\", by=\"CO2 Group\", figsize=(20, 10))"
   ]
  },
  {
   "cell_type": "code",
   "execution_count": null,
   "metadata": {},
   "outputs": [],
   "source": [
    "#extract individual groups\n",
    "group1 = df_2004[df_2004[\"CO2 Group\"] == \"Low-Level CO2\"][\"Birthrate_2004\"]\n",
    "group2 = df_2004[df_2004[\"CO2 Group\"] == \"Mid-Level CO2\"][\"Birthrate_2004\"]\n",
    "group3 = df_2004[df_2004[\"CO2 Group\"] == \"High-Level CO2\"][\"Birthrate_2004\"]"
   ]
  },
  {
   "cell_type": "code",
   "execution_count": null,
   "metadata": {},
   "outputs": [],
   "source": [
    "#perform the anova\n",
    "stats.f_oneway(group1, group2, group3)"
   ]
  },
  {
   "cell_type": "code",
   "execution_count": null,
   "metadata": {},
   "outputs": [],
   "source": [
    "#we fail to reject the null hypothesis (that the 'populations' have the same mean)"
   ]
  },
  {
   "cell_type": "code",
   "execution_count": null,
   "metadata": {},
   "outputs": [],
   "source": [
    "#independent t-test\n",
    "#calculate the 'population' mean for birthrate in lowest co2 group (year 2004)\n",
    "population1 = df_2004[df_2004[\"CO2 Group\"] == \"Low-Level CO2\"]\n",
    "population1.Birthrate_2004.mean()"
   ]
  },
  {
   "cell_type": "code",
   "execution_count": null,
   "metadata": {},
   "outputs": [],
   "source": [
    "#calculate the 'population' mean for birthrate in mid co2 group (year 2004)\n",
    "population2 = df_2004[df_2004[\"CO2 Group\"] == \"Mid-Level CO2\"]\n",
    "population2.Birthrate_2004.mean()"
   ]
  },
  {
   "cell_type": "code",
   "execution_count": null,
   "metadata": {},
   "outputs": [],
   "source": [
    "#calculate the 'population' mean for birthrate in highest co2 group (year 2004)\n",
    "population3 = df_2004[df_2004[\"CO2 Group\"] == \"High-Level CO2\"]\n",
    "population3.Birthrate_2004.mean()"
   ]
  },
  {
   "cell_type": "code",
   "execution_count": null,
   "metadata": {},
   "outputs": [],
   "source": [
    "#calculate independent (two sample) t-test, low v mid (2004)\n",
    "stats.ttest_ind(population1.Birthrate_2004, population2.Birthrate_2004, equal_var=False)"
   ]
  },
  {
   "cell_type": "code",
   "execution_count": null,
   "metadata": {},
   "outputs": [],
   "source": [
    "#WRONG\n",
    "#calculate independent (two sample) t-test, low v high (2004)\n",
    "stats.ttest_ind(population1.Birthrate_2004, population3.Birthrate_2004, equal_var=False)"
   ]
  },
  {
   "cell_type": "code",
   "execution_count": null,
   "metadata": {},
   "outputs": [],
   "source": [
    "#WRONG\n",
    "#calculate independent (two sample) t-test, mid v high (2004)\n",
    "stats.ttest_ind(population2.Birthrate_2004, population3.Birthrate_2004, equal_var=False)"
   ]
  },
  {
   "cell_type": "code",
   "execution_count": null,
   "metadata": {},
   "outputs": [],
   "source": [
    "df_2014.describe()"
   ]
  },
  {
   "cell_type": "code",
   "execution_count": null,
   "metadata": {},
   "outputs": [],
   "source": [
    "#try binning on the 2014 df\n",
    "#group by co2 emissions <=15.13, (15.13, 30.26], > 30.26\n",
    "\n",
    "#create bins to place the carbon emissions\n",
    "bins = [0, 15.13, 30.26, 45.5]\n",
    "\n",
    "#create labels for the bins\n",
    "group_labels = [\"Low-Level CO2\", \"Mid-Level CO2\", \"High-Level CO2\"]"
   ]
  },
  {
   "cell_type": "code",
   "execution_count": null,
   "metadata": {},
   "outputs": [],
   "source": [
    " # Slice the data and place it into bins\n",
    "pd.cut(df_2014[\"2014 CO2 Emissions\"], bins, labels=group_labels).head()"
   ]
  },
  {
   "cell_type": "code",
   "execution_count": null,
   "metadata": {},
   "outputs": [],
   "source": [
    "#place the data series into a new column inside of the DataFrame\n",
    "df_2014[\"CO2 Group\"] = pd.cut(df_2014[\"2014 CO2 Emissions\"], bins, labels=group_labels)\n",
    "df_2014"
   ]
  },
  {
   "cell_type": "code",
   "execution_count": null,
   "metadata": {},
   "outputs": [],
   "source": [
    "#try running ANOVA on the above dataframe\n",
    "\n",
    "#create a boxplot to compare means\n",
    "df_2014.boxplot(\"Birthrate_2014\", by=\"CO2 Group\", figsize=(20, 10))"
   ]
  },
  {
   "cell_type": "code",
   "execution_count": null,
   "metadata": {},
   "outputs": [],
   "source": [
    "#extract individual groups\n",
    "group1 = df_2014[df_2014[\"CO2 Group\"] == \"Low-Level CO2\"][\"Birthrate_2014\"]\n",
    "group2 = df_2014[df_2014[\"CO2 Group\"] == \"Mid-Level CO2\"][\"Birthrate_2014\"]\n",
    "group3 = df_2014[df_2014[\"CO2 Group\"] == \"High-Level CO2\"][\"Birthrate_2014\"]"
   ]
  },
  {
   "cell_type": "code",
   "execution_count": null,
   "metadata": {},
   "outputs": [],
   "source": [
    "#perform the anova\n",
    "stats.f_oneway(group1, group2, group3)"
   ]
  },
  {
   "cell_type": "code",
   "execution_count": null,
   "metadata": {},
   "outputs": [],
   "source": [
    "#we fail to reject the null hypothesis (that the 'populations' have the same mean)"
   ]
  },
  {
   "cell_type": "code",
   "execution_count": null,
   "metadata": {},
   "outputs": [],
   "source": [
    "#independent t-test\n",
    "#calculate the 'population' mean for birthrate in lowest co2 group (year 2014)\n",
    "population1 = df_2014[df_2014[\"CO2 Group\"] == \"Low-Level CO2\"]\n",
    "population1.Birthrate_2014.mean()"
   ]
  },
  {
   "cell_type": "code",
   "execution_count": null,
   "metadata": {},
   "outputs": [],
   "source": [
    "#calculate the 'population' mean for birthrate in mid co2 group (year 2014)\n",
    "population2 = df_2014[df_2014[\"CO2 Group\"] == \"Mid-Level CO2\"]\n",
    "population2.Birthrate_2014.mean()"
   ]
  },
  {
   "cell_type": "code",
   "execution_count": null,
   "metadata": {},
   "outputs": [],
   "source": [
    "#calculate the 'population' mean for birthrate in mid co2 group (year 2014)\n",
    "population3 = df_2014[df_2014[\"CO2 Group\"] == \"High-Level CO2\"]\n",
    "population3.Birthrate_2014.mean()"
   ]
  },
  {
   "cell_type": "code",
   "execution_count": null,
   "metadata": {},
   "outputs": [],
   "source": [
    "#calculate independent (two sample) t-test, low v mid (2014)\n",
    "stats.ttest_ind(population1.Birthrate_2014, population2.Birthrate_2014, equal_var=False)"
   ]
  },
  {
   "cell_type": "code",
   "execution_count": null,
   "metadata": {},
   "outputs": [],
   "source": [
    "#calculate independent (two sample) t-test, low v high (2014)\n",
    "stats.ttest_ind(population1.Birthrate_2014, population3.Birthrate_2014, equal_var=False)"
   ]
  },
  {
   "cell_type": "code",
   "execution_count": null,
   "metadata": {},
   "outputs": [],
   "source": [
    "#calculate independent (two sample) t-test, mid v high (2014)\n",
    "stats.ttest_ind(population2.Birthrate_2014, population3.Birthrate_2014, equal_var=False)"
   ]
  },
  {
   "cell_type": "code",
   "execution_count": null,
   "metadata": {},
   "outputs": [],
   "source": [
    "# Vallie's code stops here\n"
   ]
  },
  {
   "cell_type": "markdown",
   "metadata": {},
   "source": [
    "# Presentation Guidelines   \n",
    "\n",
    "**TITLE SLIDE**      \n",
    "1.)  Include the name of the Project and Group Members\n",
    "\n",
    "**MOTIVATION & SUMMARY SLIDE:**     \n",
    "1.) Define the core message or hypothesis of your project--At least for Kaan and I, our null hypothesis is that co2 has no impact on birthrate.  Do we say that our hypothesis is that co2 does impact birthrate (but the null hypothesis is our way of trying to prove it??)     \n",
    "     \n",
    "2.) Describe the questions you asked, and why you asked them--Can you statistically show a direct correlation between co2 emissions and birthrate?  What does it matter if we can't prove it with the numbers.      \n",
    "     \n",
    "3.)  Describe whether you were able to answer these questions to your satisfaction, and briefly summarize your findings--Looking directly at co2 emissions and birthrate, we did discover some potentiall statistically significant data.  When performing the anova test, we rejected our null hypothesis for 7 out of our 10 years.  And we further found statistically significant p-values when looking at smaller groups within the anova test.  \n",
    "\n",
    "We obviously only scratched the surface, so I would say no, we didn't answer our questions to our satisfaction.\n",
    "\n",
    "**QUESTIONS & DATA:**     \n",
    "1.)  Elaborate on the questions you asked, describing what kinds of data you needed to answer them, and where you found it--\n",
    "\n",
    "**DATA CLEANUP & EXPLORATION:**     \n",
    "1.)  Describe the exploration and cleanup process\n",
    "\n",
    "2.)  Discuss insights you had while exploring the data that you didn't anticipate\n",
    "\n",
    "3.)  Discuss any problems that arose after exploring the data, and how you resolved them\n",
    "\n",
    "4.)  Present and discuss interesting figures developed during exploration, ideally with the help of Jupyter Notebook\n",
    "\n",
    "**DATA ANALYSIS:**     \n",
    "1.)  Discuss the steps you took to analyze the data and answer each question you asked in your proposal     \n",
    "\n",
    "2.)  Present and discuss interesting figures developed during analysis, ideally with the help of Jupyter Notebook\n",
    "\n",
    "**DISCUSSION:**      \n",
    "1.)  Discuss your findings. Did you find what you expected to find? If not, why not?        \n",
    "\n",
    "2.)  What inferences or general conclusions can you draw from your analysis?\n",
    "\n",
    "**POST MORTEM**       \n",
    "1.)  Discuss any difficulties that arose, and how you dealt with them     \n",
    "\n",
    "2.)  Discuss any additional questions that came up, but which you didn't have time to answer: What would you research next, if you had two more weeks?\n",
    "\n",
    "**QUESTIONS**     \n",
    "Open-floor Q&A with the audience\n",
    "\n"
   ]
  },
  {
   "cell_type": "code",
   "execution_count": null,
   "metadata": {},
   "outputs": [],
   "source": []
  }
 ],
 "metadata": {
  "kernelspec": {
   "display_name": "Python 3",
   "language": "python",
   "name": "python3"
  },
  "language_info": {
   "codemirror_mode": {
    "name": "ipython",
    "version": 3
   },
   "file_extension": ".py",
   "mimetype": "text/x-python",
   "name": "python",
   "nbconvert_exporter": "python",
   "pygments_lexer": "ipython3",
   "version": "3.7.4"
  }
 },
 "nbformat": 4,
 "nbformat_minor": 4
}
