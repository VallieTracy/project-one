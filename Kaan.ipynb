{
 "cells": [
  {
   "cell_type": "code",
   "execution_count": 1,
   "metadata": {},
   "outputs": [],
   "source": [
    "import matplotlib.pyplot as plt\n",
    "import pandas as pd\n",
    "import numpy as np\n",
    "import requests\n",
    "import time\n",
    "import os\n",
    "from scipy.stats import linregress\n",
    "from scipy import stats\n",
    "import scipy.stats as stats\n",
    "import warnings\n",
    "warnings.filterwarnings('ignore')\n",
    "%matplotlib inline"
   ]
  },
  {
   "cell_type": "code",
   "execution_count": 2,
   "metadata": {},
   "outputs": [],
   "source": [
    "birthrate_csv = \"../project-one/Resources/children_per_woman_total_fertility.csv\"\n",
    "birthrate_df = pd.read_csv(birthrate_csv)\n",
    "\n",
    "co2_csv = \"../project-one/Resources/co2_emissions_tonnes_per_person.csv\"\n",
    "co2_df = pd.read_csv(co2_csv)"
   ]
  },
  {
   "cell_type": "code",
   "execution_count": 3,
   "metadata": {
    "scrolled": true
   },
   "outputs": [
    {
     "data": {
      "text/html": [
       "<div>\n",
       "<style scoped>\n",
       "    .dataframe tbody tr th:only-of-type {\n",
       "        vertical-align: middle;\n",
       "    }\n",
       "\n",
       "    .dataframe tbody tr th {\n",
       "        vertical-align: top;\n",
       "    }\n",
       "\n",
       "    .dataframe thead th {\n",
       "        text-align: right;\n",
       "    }\n",
       "</style>\n",
       "<table border=\"1\" class=\"dataframe\">\n",
       "  <thead>\n",
       "    <tr style=\"text-align: right;\">\n",
       "      <th></th>\n",
       "      <th>country</th>\n",
       "      <th>1800</th>\n",
       "      <th>1801</th>\n",
       "      <th>1802</th>\n",
       "      <th>1803</th>\n",
       "      <th>1804</th>\n",
       "      <th>1805</th>\n",
       "      <th>1806</th>\n",
       "      <th>1807</th>\n",
       "      <th>1808</th>\n",
       "      <th>...</th>\n",
       "      <th>2005</th>\n",
       "      <th>2006</th>\n",
       "      <th>2007</th>\n",
       "      <th>2008</th>\n",
       "      <th>2009</th>\n",
       "      <th>2010</th>\n",
       "      <th>2011</th>\n",
       "      <th>2012</th>\n",
       "      <th>2013</th>\n",
       "      <th>2014</th>\n",
       "    </tr>\n",
       "  </thead>\n",
       "  <tbody>\n",
       "    <tr>\n",
       "      <th>0</th>\n",
       "      <td>Afghanistan</td>\n",
       "      <td>NaN</td>\n",
       "      <td>NaN</td>\n",
       "      <td>NaN</td>\n",
       "      <td>NaN</td>\n",
       "      <td>NaN</td>\n",
       "      <td>NaN</td>\n",
       "      <td>NaN</td>\n",
       "      <td>NaN</td>\n",
       "      <td>NaN</td>\n",
       "      <td>...</td>\n",
       "      <td>0.0529</td>\n",
       "      <td>0.0637</td>\n",
       "      <td>0.0854</td>\n",
       "      <td>0.154</td>\n",
       "      <td>0.242</td>\n",
       "      <td>0.294</td>\n",
       "      <td>0.412</td>\n",
       "      <td>0.35</td>\n",
       "      <td>0.316</td>\n",
       "      <td>0.299</td>\n",
       "    </tr>\n",
       "    <tr>\n",
       "      <th>1</th>\n",
       "      <td>Albania</td>\n",
       "      <td>NaN</td>\n",
       "      <td>NaN</td>\n",
       "      <td>NaN</td>\n",
       "      <td>NaN</td>\n",
       "      <td>NaN</td>\n",
       "      <td>NaN</td>\n",
       "      <td>NaN</td>\n",
       "      <td>NaN</td>\n",
       "      <td>NaN</td>\n",
       "      <td>...</td>\n",
       "      <td>1.3800</td>\n",
       "      <td>1.2800</td>\n",
       "      <td>1.3000</td>\n",
       "      <td>1.460</td>\n",
       "      <td>1.480</td>\n",
       "      <td>1.560</td>\n",
       "      <td>1.790</td>\n",
       "      <td>1.68</td>\n",
       "      <td>1.730</td>\n",
       "      <td>1.960</td>\n",
       "    </tr>\n",
       "    <tr>\n",
       "      <th>2</th>\n",
       "      <td>Algeria</td>\n",
       "      <td>NaN</td>\n",
       "      <td>NaN</td>\n",
       "      <td>NaN</td>\n",
       "      <td>NaN</td>\n",
       "      <td>NaN</td>\n",
       "      <td>NaN</td>\n",
       "      <td>NaN</td>\n",
       "      <td>NaN</td>\n",
       "      <td>NaN</td>\n",
       "      <td>...</td>\n",
       "      <td>3.2200</td>\n",
       "      <td>2.9900</td>\n",
       "      <td>3.1900</td>\n",
       "      <td>3.160</td>\n",
       "      <td>3.420</td>\n",
       "      <td>3.300</td>\n",
       "      <td>3.290</td>\n",
       "      <td>3.46</td>\n",
       "      <td>3.510</td>\n",
       "      <td>3.720</td>\n",
       "    </tr>\n",
       "    <tr>\n",
       "      <th>3</th>\n",
       "      <td>Andorra</td>\n",
       "      <td>NaN</td>\n",
       "      <td>NaN</td>\n",
       "      <td>NaN</td>\n",
       "      <td>NaN</td>\n",
       "      <td>NaN</td>\n",
       "      <td>NaN</td>\n",
       "      <td>NaN</td>\n",
       "      <td>NaN</td>\n",
       "      <td>NaN</td>\n",
       "      <td>...</td>\n",
       "      <td>7.3000</td>\n",
       "      <td>6.7500</td>\n",
       "      <td>6.5200</td>\n",
       "      <td>6.430</td>\n",
       "      <td>6.120</td>\n",
       "      <td>6.120</td>\n",
       "      <td>5.870</td>\n",
       "      <td>5.92</td>\n",
       "      <td>5.900</td>\n",
       "      <td>5.830</td>\n",
       "    </tr>\n",
       "    <tr>\n",
       "      <th>4</th>\n",
       "      <td>Angola</td>\n",
       "      <td>NaN</td>\n",
       "      <td>NaN</td>\n",
       "      <td>NaN</td>\n",
       "      <td>NaN</td>\n",
       "      <td>NaN</td>\n",
       "      <td>NaN</td>\n",
       "      <td>NaN</td>\n",
       "      <td>NaN</td>\n",
       "      <td>NaN</td>\n",
       "      <td>...</td>\n",
       "      <td>0.9800</td>\n",
       "      <td>1.1000</td>\n",
       "      <td>1.2000</td>\n",
       "      <td>1.180</td>\n",
       "      <td>1.230</td>\n",
       "      <td>1.240</td>\n",
       "      <td>1.250</td>\n",
       "      <td>1.33</td>\n",
       "      <td>1.250</td>\n",
       "      <td>1.290</td>\n",
       "    </tr>\n",
       "  </tbody>\n",
       "</table>\n",
       "<p>5 rows × 216 columns</p>\n",
       "</div>"
      ],
      "text/plain": [
       "       country  1800  1801  1802  1803  1804  1805  1806  1807  1808  ...  \\\n",
       "0  Afghanistan   NaN   NaN   NaN   NaN   NaN   NaN   NaN   NaN   NaN  ...   \n",
       "1      Albania   NaN   NaN   NaN   NaN   NaN   NaN   NaN   NaN   NaN  ...   \n",
       "2      Algeria   NaN   NaN   NaN   NaN   NaN   NaN   NaN   NaN   NaN  ...   \n",
       "3      Andorra   NaN   NaN   NaN   NaN   NaN   NaN   NaN   NaN   NaN  ...   \n",
       "4       Angola   NaN   NaN   NaN   NaN   NaN   NaN   NaN   NaN   NaN  ...   \n",
       "\n",
       "     2005    2006    2007   2008   2009   2010   2011  2012   2013   2014  \n",
       "0  0.0529  0.0637  0.0854  0.154  0.242  0.294  0.412  0.35  0.316  0.299  \n",
       "1  1.3800  1.2800  1.3000  1.460  1.480  1.560  1.790  1.68  1.730  1.960  \n",
       "2  3.2200  2.9900  3.1900  3.160  3.420  3.300  3.290  3.46  3.510  3.720  \n",
       "3  7.3000  6.7500  6.5200  6.430  6.120  6.120  5.870  5.92  5.900  5.830  \n",
       "4  0.9800  1.1000  1.2000  1.180  1.230  1.240  1.250  1.33  1.250  1.290  \n",
       "\n",
       "[5 rows x 216 columns]"
      ]
     },
     "execution_count": 3,
     "metadata": {},
     "output_type": "execute_result"
    }
   ],
   "source": [
    "co2_df.head()"
   ]
  },
  {
   "cell_type": "code",
   "execution_count": 4,
   "metadata": {},
   "outputs": [
    {
     "data": {
      "text/html": [
       "<div>\n",
       "<style scoped>\n",
       "    .dataframe tbody tr th:only-of-type {\n",
       "        vertical-align: middle;\n",
       "    }\n",
       "\n",
       "    .dataframe tbody tr th {\n",
       "        vertical-align: top;\n",
       "    }\n",
       "\n",
       "    .dataframe thead th {\n",
       "        text-align: right;\n",
       "    }\n",
       "</style>\n",
       "<table border=\"1\" class=\"dataframe\">\n",
       "  <thead>\n",
       "    <tr style=\"text-align: right;\">\n",
       "      <th></th>\n",
       "      <th>country</th>\n",
       "      <th>1800_x</th>\n",
       "      <th>1801_x</th>\n",
       "      <th>1802_x</th>\n",
       "      <th>1803_x</th>\n",
       "      <th>1804_x</th>\n",
       "      <th>1805_x</th>\n",
       "      <th>1806_x</th>\n",
       "      <th>1807_x</th>\n",
       "      <th>1808_x</th>\n",
       "      <th>...</th>\n",
       "      <th>2009_y</th>\n",
       "      <th>2010_y</th>\n",
       "      <th>2011_y</th>\n",
       "      <th>2012_y</th>\n",
       "      <th>2013_y</th>\n",
       "      <th>2014_y</th>\n",
       "      <th>2015</th>\n",
       "      <th>2016</th>\n",
       "      <th>2017</th>\n",
       "      <th>2018</th>\n",
       "    </tr>\n",
       "  </thead>\n",
       "  <tbody>\n",
       "    <tr>\n",
       "      <th>0</th>\n",
       "      <td>Afghanistan</td>\n",
       "      <td>NaN</td>\n",
       "      <td>NaN</td>\n",
       "      <td>NaN</td>\n",
       "      <td>NaN</td>\n",
       "      <td>NaN</td>\n",
       "      <td>NaN</td>\n",
       "      <td>NaN</td>\n",
       "      <td>NaN</td>\n",
       "      <td>NaN</td>\n",
       "      <td>...</td>\n",
       "      <td>6.04</td>\n",
       "      <td>5.82</td>\n",
       "      <td>5.60</td>\n",
       "      <td>5.38</td>\n",
       "      <td>5.17</td>\n",
       "      <td>4.98</td>\n",
       "      <td>4.80</td>\n",
       "      <td>4.64</td>\n",
       "      <td>4.48</td>\n",
       "      <td>4.33</td>\n",
       "    </tr>\n",
       "    <tr>\n",
       "      <th>1</th>\n",
       "      <td>Albania</td>\n",
       "      <td>NaN</td>\n",
       "      <td>NaN</td>\n",
       "      <td>NaN</td>\n",
       "      <td>NaN</td>\n",
       "      <td>NaN</td>\n",
       "      <td>NaN</td>\n",
       "      <td>NaN</td>\n",
       "      <td>NaN</td>\n",
       "      <td>NaN</td>\n",
       "      <td>...</td>\n",
       "      <td>1.65</td>\n",
       "      <td>1.65</td>\n",
       "      <td>1.67</td>\n",
       "      <td>1.69</td>\n",
       "      <td>1.70</td>\n",
       "      <td>1.71</td>\n",
       "      <td>1.71</td>\n",
       "      <td>1.71</td>\n",
       "      <td>1.71</td>\n",
       "      <td>1.71</td>\n",
       "    </tr>\n",
       "    <tr>\n",
       "      <th>2</th>\n",
       "      <td>Algeria</td>\n",
       "      <td>NaN</td>\n",
       "      <td>NaN</td>\n",
       "      <td>NaN</td>\n",
       "      <td>NaN</td>\n",
       "      <td>NaN</td>\n",
       "      <td>NaN</td>\n",
       "      <td>NaN</td>\n",
       "      <td>NaN</td>\n",
       "      <td>NaN</td>\n",
       "      <td>...</td>\n",
       "      <td>2.83</td>\n",
       "      <td>2.89</td>\n",
       "      <td>2.93</td>\n",
       "      <td>2.94</td>\n",
       "      <td>2.92</td>\n",
       "      <td>2.89</td>\n",
       "      <td>2.84</td>\n",
       "      <td>2.78</td>\n",
       "      <td>2.71</td>\n",
       "      <td>2.64</td>\n",
       "    </tr>\n",
       "    <tr>\n",
       "      <th>3</th>\n",
       "      <td>Angola</td>\n",
       "      <td>NaN</td>\n",
       "      <td>NaN</td>\n",
       "      <td>NaN</td>\n",
       "      <td>NaN</td>\n",
       "      <td>NaN</td>\n",
       "      <td>NaN</td>\n",
       "      <td>NaN</td>\n",
       "      <td>NaN</td>\n",
       "      <td>NaN</td>\n",
       "      <td>...</td>\n",
       "      <td>6.24</td>\n",
       "      <td>6.16</td>\n",
       "      <td>6.08</td>\n",
       "      <td>6.00</td>\n",
       "      <td>5.92</td>\n",
       "      <td>5.84</td>\n",
       "      <td>5.77</td>\n",
       "      <td>5.69</td>\n",
       "      <td>5.62</td>\n",
       "      <td>5.55</td>\n",
       "    </tr>\n",
       "    <tr>\n",
       "      <th>4</th>\n",
       "      <td>Antigua and Barbuda</td>\n",
       "      <td>NaN</td>\n",
       "      <td>NaN</td>\n",
       "      <td>NaN</td>\n",
       "      <td>NaN</td>\n",
       "      <td>NaN</td>\n",
       "      <td>NaN</td>\n",
       "      <td>NaN</td>\n",
       "      <td>NaN</td>\n",
       "      <td>NaN</td>\n",
       "      <td>...</td>\n",
       "      <td>2.15</td>\n",
       "      <td>2.13</td>\n",
       "      <td>2.12</td>\n",
       "      <td>2.10</td>\n",
       "      <td>2.09</td>\n",
       "      <td>2.08</td>\n",
       "      <td>2.06</td>\n",
       "      <td>2.05</td>\n",
       "      <td>2.04</td>\n",
       "      <td>2.03</td>\n",
       "    </tr>\n",
       "  </tbody>\n",
       "</table>\n",
       "<p>5 rows × 435 columns</p>\n",
       "</div>"
      ],
      "text/plain": [
       "               country  1800_x  1801_x  1802_x  1803_x  1804_x  1805_x  \\\n",
       "0          Afghanistan     NaN     NaN     NaN     NaN     NaN     NaN   \n",
       "1              Albania     NaN     NaN     NaN     NaN     NaN     NaN   \n",
       "2              Algeria     NaN     NaN     NaN     NaN     NaN     NaN   \n",
       "3               Angola     NaN     NaN     NaN     NaN     NaN     NaN   \n",
       "4  Antigua and Barbuda     NaN     NaN     NaN     NaN     NaN     NaN   \n",
       "\n",
       "   1806_x  1807_x  1808_x  ...  2009_y  2010_y  2011_y  2012_y  2013_y  \\\n",
       "0     NaN     NaN     NaN  ...    6.04    5.82    5.60    5.38    5.17   \n",
       "1     NaN     NaN     NaN  ...    1.65    1.65    1.67    1.69    1.70   \n",
       "2     NaN     NaN     NaN  ...    2.83    2.89    2.93    2.94    2.92   \n",
       "3     NaN     NaN     NaN  ...    6.24    6.16    6.08    6.00    5.92   \n",
       "4     NaN     NaN     NaN  ...    2.15    2.13    2.12    2.10    2.09   \n",
       "\n",
       "   2014_y  2015  2016  2017  2018  \n",
       "0    4.98  4.80  4.64  4.48  4.33  \n",
       "1    1.71  1.71  1.71  1.71  1.71  \n",
       "2    2.89  2.84  2.78  2.71  2.64  \n",
       "3    5.84  5.77  5.69  5.62  5.55  \n",
       "4    2.08  2.06  2.05  2.04  2.03  \n",
       "\n",
       "[5 rows x 435 columns]"
      ]
     },
     "execution_count": 4,
     "metadata": {},
     "output_type": "execute_result"
    }
   ],
   "source": [
    "co2_br_merge = pd.merge(co2_df, birthrate_df, on=\"country\")\n",
    "co2_br_merge.head()"
   ]
  },
  {
   "cell_type": "code",
   "execution_count": 5,
   "metadata": {},
   "outputs": [
    {
     "data": {
      "text/html": [
       "<div>\n",
       "<style scoped>\n",
       "    .dataframe tbody tr th:only-of-type {\n",
       "        vertical-align: middle;\n",
       "    }\n",
       "\n",
       "    .dataframe tbody tr th {\n",
       "        vertical-align: top;\n",
       "    }\n",
       "\n",
       "    .dataframe thead th {\n",
       "        text-align: right;\n",
       "    }\n",
       "</style>\n",
       "<table border=\"1\" class=\"dataframe\">\n",
       "  <thead>\n",
       "    <tr style=\"text-align: right;\">\n",
       "      <th></th>\n",
       "      <th>Country</th>\n",
       "      <th>1800_x</th>\n",
       "      <th>1801_x</th>\n",
       "      <th>1802_x</th>\n",
       "      <th>1803_x</th>\n",
       "      <th>1804_x</th>\n",
       "      <th>1805_x</th>\n",
       "      <th>1806_x</th>\n",
       "      <th>1807_x</th>\n",
       "      <th>1808_x</th>\n",
       "      <th>...</th>\n",
       "      <th>2009_y</th>\n",
       "      <th>2010_y</th>\n",
       "      <th>2011_y</th>\n",
       "      <th>2012_y</th>\n",
       "      <th>2013_y</th>\n",
       "      <th>2014_y</th>\n",
       "      <th>2015</th>\n",
       "      <th>2016</th>\n",
       "      <th>2017</th>\n",
       "      <th>2018</th>\n",
       "    </tr>\n",
       "  </thead>\n",
       "  <tbody>\n",
       "    <tr>\n",
       "      <th>0</th>\n",
       "      <td>Afghanistan</td>\n",
       "      <td>NaN</td>\n",
       "      <td>NaN</td>\n",
       "      <td>NaN</td>\n",
       "      <td>NaN</td>\n",
       "      <td>NaN</td>\n",
       "      <td>NaN</td>\n",
       "      <td>NaN</td>\n",
       "      <td>NaN</td>\n",
       "      <td>NaN</td>\n",
       "      <td>...</td>\n",
       "      <td>6.04</td>\n",
       "      <td>5.82</td>\n",
       "      <td>5.60</td>\n",
       "      <td>5.38</td>\n",
       "      <td>5.17</td>\n",
       "      <td>4.98</td>\n",
       "      <td>4.80</td>\n",
       "      <td>4.64</td>\n",
       "      <td>4.48</td>\n",
       "      <td>4.33</td>\n",
       "    </tr>\n",
       "    <tr>\n",
       "      <th>1</th>\n",
       "      <td>Albania</td>\n",
       "      <td>NaN</td>\n",
       "      <td>NaN</td>\n",
       "      <td>NaN</td>\n",
       "      <td>NaN</td>\n",
       "      <td>NaN</td>\n",
       "      <td>NaN</td>\n",
       "      <td>NaN</td>\n",
       "      <td>NaN</td>\n",
       "      <td>NaN</td>\n",
       "      <td>...</td>\n",
       "      <td>1.65</td>\n",
       "      <td>1.65</td>\n",
       "      <td>1.67</td>\n",
       "      <td>1.69</td>\n",
       "      <td>1.70</td>\n",
       "      <td>1.71</td>\n",
       "      <td>1.71</td>\n",
       "      <td>1.71</td>\n",
       "      <td>1.71</td>\n",
       "      <td>1.71</td>\n",
       "    </tr>\n",
       "    <tr>\n",
       "      <th>2</th>\n",
       "      <td>Algeria</td>\n",
       "      <td>NaN</td>\n",
       "      <td>NaN</td>\n",
       "      <td>NaN</td>\n",
       "      <td>NaN</td>\n",
       "      <td>NaN</td>\n",
       "      <td>NaN</td>\n",
       "      <td>NaN</td>\n",
       "      <td>NaN</td>\n",
       "      <td>NaN</td>\n",
       "      <td>...</td>\n",
       "      <td>2.83</td>\n",
       "      <td>2.89</td>\n",
       "      <td>2.93</td>\n",
       "      <td>2.94</td>\n",
       "      <td>2.92</td>\n",
       "      <td>2.89</td>\n",
       "      <td>2.84</td>\n",
       "      <td>2.78</td>\n",
       "      <td>2.71</td>\n",
       "      <td>2.64</td>\n",
       "    </tr>\n",
       "    <tr>\n",
       "      <th>3</th>\n",
       "      <td>Angola</td>\n",
       "      <td>NaN</td>\n",
       "      <td>NaN</td>\n",
       "      <td>NaN</td>\n",
       "      <td>NaN</td>\n",
       "      <td>NaN</td>\n",
       "      <td>NaN</td>\n",
       "      <td>NaN</td>\n",
       "      <td>NaN</td>\n",
       "      <td>NaN</td>\n",
       "      <td>...</td>\n",
       "      <td>6.24</td>\n",
       "      <td>6.16</td>\n",
       "      <td>6.08</td>\n",
       "      <td>6.00</td>\n",
       "      <td>5.92</td>\n",
       "      <td>5.84</td>\n",
       "      <td>5.77</td>\n",
       "      <td>5.69</td>\n",
       "      <td>5.62</td>\n",
       "      <td>5.55</td>\n",
       "    </tr>\n",
       "    <tr>\n",
       "      <th>4</th>\n",
       "      <td>Antigua and Barbuda</td>\n",
       "      <td>NaN</td>\n",
       "      <td>NaN</td>\n",
       "      <td>NaN</td>\n",
       "      <td>NaN</td>\n",
       "      <td>NaN</td>\n",
       "      <td>NaN</td>\n",
       "      <td>NaN</td>\n",
       "      <td>NaN</td>\n",
       "      <td>NaN</td>\n",
       "      <td>...</td>\n",
       "      <td>2.15</td>\n",
       "      <td>2.13</td>\n",
       "      <td>2.12</td>\n",
       "      <td>2.10</td>\n",
       "      <td>2.09</td>\n",
       "      <td>2.08</td>\n",
       "      <td>2.06</td>\n",
       "      <td>2.05</td>\n",
       "      <td>2.04</td>\n",
       "      <td>2.03</td>\n",
       "    </tr>\n",
       "  </tbody>\n",
       "</table>\n",
       "<p>5 rows × 435 columns</p>\n",
       "</div>"
      ],
      "text/plain": [
       "               Country  1800_x  1801_x  1802_x  1803_x  1804_x  1805_x  \\\n",
       "0          Afghanistan     NaN     NaN     NaN     NaN     NaN     NaN   \n",
       "1              Albania     NaN     NaN     NaN     NaN     NaN     NaN   \n",
       "2              Algeria     NaN     NaN     NaN     NaN     NaN     NaN   \n",
       "3               Angola     NaN     NaN     NaN     NaN     NaN     NaN   \n",
       "4  Antigua and Barbuda     NaN     NaN     NaN     NaN     NaN     NaN   \n",
       "\n",
       "   1806_x  1807_x  1808_x  ...  2009_y  2010_y  2011_y  2012_y  2013_y  \\\n",
       "0     NaN     NaN     NaN  ...    6.04    5.82    5.60    5.38    5.17   \n",
       "1     NaN     NaN     NaN  ...    1.65    1.65    1.67    1.69    1.70   \n",
       "2     NaN     NaN     NaN  ...    2.83    2.89    2.93    2.94    2.92   \n",
       "3     NaN     NaN     NaN  ...    6.24    6.16    6.08    6.00    5.92   \n",
       "4     NaN     NaN     NaN  ...    2.15    2.13    2.12    2.10    2.09   \n",
       "\n",
       "   2014_y  2015  2016  2017  2018  \n",
       "0    4.98  4.80  4.64  4.48  4.33  \n",
       "1    1.71  1.71  1.71  1.71  1.71  \n",
       "2    2.89  2.84  2.78  2.71  2.64  \n",
       "3    5.84  5.77  5.69  5.62  5.55  \n",
       "4    2.08  2.06  2.05  2.04  2.03  \n",
       "\n",
       "[5 rows x 435 columns]"
      ]
     },
     "execution_count": 5,
     "metadata": {},
     "output_type": "execute_result"
    }
   ],
   "source": [
    "co2_br_rename = co2_br_merge.rename(columns={\"country\": \"Country\",\n",
    "                                             \"1924_x\": \"1924 CO2 Emissions\",\n",
    "                                             \"1934_x\": \"1934 CO2 Emissions\",\n",
    "                                             \"1944_x\": \"1944 CO2 Emissions\",\n",
    "                                             \"1954_x\": \"1954 CO2 Emissions\",\n",
    "                                             \"1964_x\": \"1964 CO2 Emissions\",\n",
    "                                             \"1924_y\": \"Birthrate_1924\",\n",
    "                                             \"1934_y\": \"Birthrate_1934\",\n",
    "                                             \"1944_y\": \"Birthrate_1944\",\n",
    "                                             \"1954_y\": \"Birthrate_1954\",\n",
    "                                             \"1964_y\": \"Birthrate_1964\"})\n",
    "\n",
    "co2_br_rename.head()"
   ]
  },
  {
   "cell_type": "code",
   "execution_count": 6,
   "metadata": {},
   "outputs": [
    {
     "data": {
      "text/html": [
       "<div>\n",
       "<style scoped>\n",
       "    .dataframe tbody tr th:only-of-type {\n",
       "        vertical-align: middle;\n",
       "    }\n",
       "\n",
       "    .dataframe tbody tr th {\n",
       "        vertical-align: top;\n",
       "    }\n",
       "\n",
       "    .dataframe thead th {\n",
       "        text-align: right;\n",
       "    }\n",
       "</style>\n",
       "<table border=\"1\" class=\"dataframe\">\n",
       "  <thead>\n",
       "    <tr style=\"text-align: right;\">\n",
       "      <th></th>\n",
       "      <th>Country</th>\n",
       "      <th>1924 CO2 Emissions</th>\n",
       "      <th>1934 CO2 Emissions</th>\n",
       "      <th>1944 CO2 Emissions</th>\n",
       "      <th>1954 CO2 Emissions</th>\n",
       "      <th>1964 CO2 Emissions</th>\n",
       "      <th>Birthrate_1924</th>\n",
       "      <th>Birthrate_1934</th>\n",
       "      <th>Birthrate_1944</th>\n",
       "      <th>Birthrate_1954</th>\n",
       "      <th>Birthrate_1964</th>\n",
       "    </tr>\n",
       "  </thead>\n",
       "  <tbody>\n",
       "    <tr>\n",
       "      <th>0</th>\n",
       "      <td>Afghanistan</td>\n",
       "      <td>NaN</td>\n",
       "      <td>NaN</td>\n",
       "      <td>NaN</td>\n",
       "      <td>0.0131</td>\n",
       "      <td>0.0863</td>\n",
       "      <td>7.00</td>\n",
       "      <td>7.24</td>\n",
       "      <td>7.46</td>\n",
       "      <td>7.53</td>\n",
       "      <td>7.45</td>\n",
       "    </tr>\n",
       "    <tr>\n",
       "      <th>1</th>\n",
       "      <td>Albania</td>\n",
       "      <td>NaN</td>\n",
       "      <td>0.00707</td>\n",
       "      <td>0.1320</td>\n",
       "      <td>0.3630</td>\n",
       "      <td>1.0900</td>\n",
       "      <td>4.60</td>\n",
       "      <td>3.78</td>\n",
       "      <td>4.79</td>\n",
       "      <td>6.37</td>\n",
       "      <td>5.96</td>\n",
       "    </tr>\n",
       "    <tr>\n",
       "      <th>2</th>\n",
       "      <td>Algeria</td>\n",
       "      <td>0.0046</td>\n",
       "      <td>0.01930</td>\n",
       "      <td>0.0608</td>\n",
       "      <td>0.4330</td>\n",
       "      <td>0.4600</td>\n",
       "      <td>6.99</td>\n",
       "      <td>7.22</td>\n",
       "      <td>7.41</td>\n",
       "      <td>7.41</td>\n",
       "      <td>7.67</td>\n",
       "    </tr>\n",
       "    <tr>\n",
       "      <th>3</th>\n",
       "      <td>Angola</td>\n",
       "      <td>NaN</td>\n",
       "      <td>NaN</td>\n",
       "      <td>NaN</td>\n",
       "      <td>0.0696</td>\n",
       "      <td>0.2010</td>\n",
       "      <td>7.02</td>\n",
       "      <td>6.99</td>\n",
       "      <td>7.04</td>\n",
       "      <td>7.20</td>\n",
       "      <td>7.61</td>\n",
       "    </tr>\n",
       "    <tr>\n",
       "      <th>4</th>\n",
       "      <td>Antigua and Barbuda</td>\n",
       "      <td>NaN</td>\n",
       "      <td>NaN</td>\n",
       "      <td>NaN</td>\n",
       "      <td>NaN</td>\n",
       "      <td>1.5400</td>\n",
       "      <td>4.54</td>\n",
       "      <td>4.51</td>\n",
       "      <td>4.47</td>\n",
       "      <td>4.53</td>\n",
       "      <td>4.25</td>\n",
       "    </tr>\n",
       "  </tbody>\n",
       "</table>\n",
       "</div>"
      ],
      "text/plain": [
       "               Country  1924 CO2 Emissions  1934 CO2 Emissions  \\\n",
       "0          Afghanistan                 NaN                 NaN   \n",
       "1              Albania                 NaN             0.00707   \n",
       "2              Algeria              0.0046             0.01930   \n",
       "3               Angola                 NaN                 NaN   \n",
       "4  Antigua and Barbuda                 NaN                 NaN   \n",
       "\n",
       "   1944 CO2 Emissions  1954 CO2 Emissions  1964 CO2 Emissions  Birthrate_1924  \\\n",
       "0                 NaN              0.0131              0.0863            7.00   \n",
       "1              0.1320              0.3630              1.0900            4.60   \n",
       "2              0.0608              0.4330              0.4600            6.99   \n",
       "3                 NaN              0.0696              0.2010            7.02   \n",
       "4                 NaN                 NaN              1.5400            4.54   \n",
       "\n",
       "   Birthrate_1934  Birthrate_1944  Birthrate_1954  Birthrate_1964  \n",
       "0            7.24            7.46            7.53            7.45  \n",
       "1            3.78            4.79            6.37            5.96  \n",
       "2            7.22            7.41            7.41            7.67  \n",
       "3            6.99            7.04            7.20            7.61  \n",
       "4            4.51            4.47            4.53            4.25  "
      ]
     },
     "execution_count": 6,
     "metadata": {},
     "output_type": "execute_result"
    }
   ],
   "source": [
    "co2_br_df = co2_br_rename[[\"Country\", \"1924 CO2 Emissions\", \"1934 CO2 Emissions\", \"1944 CO2 Emissions\", \"1954 CO2 Emissions\", \"1964 CO2 Emissions\",\n",
    "                           \"Birthrate_1924\", \"Birthrate_1934\", \"Birthrate_1944\", \"Birthrate_1954\", \"Birthrate_1964\"]]\n",
    "co2_br_df.head()"
   ]
  },
  {
   "cell_type": "code",
   "execution_count": 7,
   "metadata": {},
   "outputs": [
    {
     "data": {
      "text/html": [
       "<div>\n",
       "<style scoped>\n",
       "    .dataframe tbody tr th:only-of-type {\n",
       "        vertical-align: middle;\n",
       "    }\n",
       "\n",
       "    .dataframe tbody tr th {\n",
       "        vertical-align: top;\n",
       "    }\n",
       "\n",
       "    .dataframe thead th {\n",
       "        text-align: right;\n",
       "    }\n",
       "</style>\n",
       "<table border=\"1\" class=\"dataframe\">\n",
       "  <thead>\n",
       "    <tr style=\"text-align: right;\">\n",
       "      <th></th>\n",
       "      <th>Country</th>\n",
       "      <th>1924 CO2 Emissions</th>\n",
       "      <th>Birthrate_1924</th>\n",
       "    </tr>\n",
       "  </thead>\n",
       "  <tbody>\n",
       "    <tr>\n",
       "      <th>0</th>\n",
       "      <td>United States</td>\n",
       "      <td>14.6000</td>\n",
       "      <td>3.12</td>\n",
       "    </tr>\n",
       "    <tr>\n",
       "      <th>1</th>\n",
       "      <td>United Kingdom</td>\n",
       "      <td>10.6000</td>\n",
       "      <td>2.28</td>\n",
       "    </tr>\n",
       "    <tr>\n",
       "      <th>2</th>\n",
       "      <td>Belgium</td>\n",
       "      <td>9.9000</td>\n",
       "      <td>2.57</td>\n",
       "    </tr>\n",
       "    <tr>\n",
       "      <th>3</th>\n",
       "      <td>Canada</td>\n",
       "      <td>8.2700</td>\n",
       "      <td>3.22</td>\n",
       "    </tr>\n",
       "    <tr>\n",
       "      <th>4</th>\n",
       "      <td>Germany</td>\n",
       "      <td>7.0400</td>\n",
       "      <td>2.42</td>\n",
       "    </tr>\n",
       "    <tr>\n",
       "      <th>...</th>\n",
       "      <td>...</td>\n",
       "      <td>...</td>\n",
       "      <td>...</td>\n",
       "    </tr>\n",
       "    <tr>\n",
       "      <th>57</th>\n",
       "      <td>Colombia</td>\n",
       "      <td>0.0279</td>\n",
       "      <td>6.44</td>\n",
       "    </tr>\n",
       "    <tr>\n",
       "      <th>58</th>\n",
       "      <td>Ecuador</td>\n",
       "      <td>0.0228</td>\n",
       "      <td>7.05</td>\n",
       "    </tr>\n",
       "    <tr>\n",
       "      <th>59</th>\n",
       "      <td>Congo, Dem. Rep.</td>\n",
       "      <td>0.0212</td>\n",
       "      <td>5.99</td>\n",
       "    </tr>\n",
       "    <tr>\n",
       "      <th>60</th>\n",
       "      <td>Philippines</td>\n",
       "      <td>0.0083</td>\n",
       "      <td>5.99</td>\n",
       "    </tr>\n",
       "    <tr>\n",
       "      <th>61</th>\n",
       "      <td>Algeria</td>\n",
       "      <td>0.0046</td>\n",
       "      <td>6.99</td>\n",
       "    </tr>\n",
       "  </tbody>\n",
       "</table>\n",
       "<p>62 rows × 3 columns</p>\n",
       "</div>"
      ],
      "text/plain": [
       "             Country  1924 CO2 Emissions  Birthrate_1924\n",
       "0      United States             14.6000            3.12\n",
       "1     United Kingdom             10.6000            2.28\n",
       "2            Belgium              9.9000            2.57\n",
       "3             Canada              8.2700            3.22\n",
       "4            Germany              7.0400            2.42\n",
       "..               ...                 ...             ...\n",
       "57          Colombia              0.0279            6.44\n",
       "58           Ecuador              0.0228            7.05\n",
       "59  Congo, Dem. Rep.              0.0212            5.99\n",
       "60       Philippines              0.0083            5.99\n",
       "61           Algeria              0.0046            6.99\n",
       "\n",
       "[62 rows x 3 columns]"
      ]
     },
     "execution_count": 7,
     "metadata": {},
     "output_type": "execute_result"
    }
   ],
   "source": [
    "df_1924 = co2_br_df[[\"Country\", \"1924 CO2 Emissions\", \"Birthrate_1924\"]].sort_values(\"1924 CO2 Emissions\", ascending=False).reset_index()\n",
    "df_1924 = df_1924[[\"Country\", \"1924 CO2 Emissions\", \"Birthrate_1924\"]].dropna()\n",
    "df_1924"
   ]
  },
  {
   "cell_type": "code",
   "execution_count": 8,
   "metadata": {},
   "outputs": [
    {
     "data": {
      "text/plain": [
       "Text(0, 0.5, 'Birthrate (children per women)')"
      ]
     },
     "execution_count": 8,
     "metadata": {},
     "output_type": "execute_result"
    },
    {
     "data": {
      "image/png": "[encoded data removed]",
      "text/plain": [
       "<Figure size 432x288 with 1 Axes>"
      ]
     },
     "metadata": {
      "needs_background": "light"
     },
     "output_type": "display_data"
    }
   ],
   "source": [
    "x_values = df_1924[\"1924 CO2 Emissions\"]\n",
    "y_values = df_1924[\"Birthrate_1924\"]\n",
    "plt.scatter(x_values, y_values, edgecolors=\"black\")\n",
    "plt.title(\"1924\")\n",
    "plt.xlabel(\"CO2 Emissions (tonnes per person)\")\n",
    "plt.ylabel(\"Birthrate (children per women)\")"
   ]
  },
  {
   "cell_type": "code",
   "execution_count": 9,
   "metadata": {},
   "outputs": [
    {
     "data": {
      "text/plain": [
       "0     0.746852\n",
       "1     2.040284\n",
       "2     2.266634\n",
       "3     2.793707\n",
       "4     3.191437\n",
       "        ...   \n",
       "57    5.458855\n",
       "58    5.460504\n",
       "59    5.461021\n",
       "60    5.465192\n",
       "61    5.466389\n",
       "Name: 1924 CO2 Emissions, Length: 62, dtype: float64"
      ]
     },
     "execution_count": 9,
     "metadata": {},
     "output_type": "execute_result"
    }
   ],
   "source": [
    "(slope, intercept, rvalue, pvalue, stderr) = stats.linregress(x_values, y_values)\n",
    "\n",
    "regress_values = x_values * slope + intercept\n",
    "regress_values"
   ]
  },
  {
   "cell_type": "code",
   "execution_count": 10,
   "metadata": {},
   "outputs": [
    {
     "name": "stdout",
     "output_type": "stream",
     "text": [
      "y = -0.32x + 5.47\n"
     ]
    }
   ],
   "source": [
    "line_eq = \"y = \" + str(round(slope,2)) + \"x + \" + str(round(intercept,2))\n",
    "print(line_eq)"
   ]
  },
  {
   "cell_type": "code",
   "execution_count": 11,
   "metadata": {
    "scrolled": true
   },
   "outputs": [
    {
     "name": "stdout",
     "output_type": "stream",
     "text": [
      "The r value is : -0.5880236924207715\n",
      "The r squared value is : 0.34577186284815803\n"
     ]
    },
    {
     "data": {
      "image/png": "[encoded data removed]",
      "text/plain": [
       "<Figure size 432x288 with 1 Axes>"
      ]
     },
     "metadata": {
      "needs_background": "light"
     },
     "output_type": "display_data"
    }
   ],
   "source": [
    "plt.scatter(x_values,y_values,edgecolors=\"black\")\n",
    "plt.plot(x_values,regress_values,\"r-\")\n",
    "\n",
    "plt.title('1924')\n",
    "plt.xlabel('CO2 Emissions')\n",
    "plt.ylabel('Birthrate')\n",
    "plt.annotate(line_eq,(10,5),fontsize=10,color=\"red\")\n",
    "\n",
    "print(f\"The r value is : {rvalue}\")\n",
    "rsquared = rvalue * rvalue\n",
    "print(f\"The r squared value is : {rsquared}\")\n",
    "\n",
    "#plt.savefig(\"Images\",\"1924_co2_v_birthrate.png\")\n",
    "\n",
    "plt.show()"
   ]
  },
  {
   "cell_type": "code",
   "execution_count": 12,
   "metadata": {},
   "outputs": [
    {
     "data": {
      "text/html": [
       "<div>\n",
       "<style scoped>\n",
       "    .dataframe tbody tr th:only-of-type {\n",
       "        vertical-align: middle;\n",
       "    }\n",
       "\n",
       "    .dataframe tbody tr th {\n",
       "        vertical-align: top;\n",
       "    }\n",
       "\n",
       "    .dataframe thead th {\n",
       "        text-align: right;\n",
       "    }\n",
       "</style>\n",
       "<table border=\"1\" class=\"dataframe\">\n",
       "  <thead>\n",
       "    <tr style=\"text-align: right;\">\n",
       "      <th></th>\n",
       "      <th>Country</th>\n",
       "      <th>1934 CO2 Emissions</th>\n",
       "      <th>Birthrate_1934</th>\n",
       "    </tr>\n",
       "  </thead>\n",
       "  <tbody>\n",
       "    <tr>\n",
       "      <th>0</th>\n",
       "      <td>United States</td>\n",
       "      <td>11.10000</td>\n",
       "      <td>2.07</td>\n",
       "    </tr>\n",
       "    <tr>\n",
       "      <th>1</th>\n",
       "      <td>Trinidad and Tobago</td>\n",
       "      <td>10.90000</td>\n",
       "      <td>4.23</td>\n",
       "    </tr>\n",
       "    <tr>\n",
       "      <th>2</th>\n",
       "      <td>Belgium</td>\n",
       "      <td>9.08000</td>\n",
       "      <td>2.04</td>\n",
       "    </tr>\n",
       "    <tr>\n",
       "      <th>3</th>\n",
       "      <td>United Kingdom</td>\n",
       "      <td>9.06000</td>\n",
       "      <td>1.76</td>\n",
       "    </tr>\n",
       "    <tr>\n",
       "      <th>4</th>\n",
       "      <td>Canada</td>\n",
       "      <td>7.28000</td>\n",
       "      <td>2.80</td>\n",
       "    </tr>\n",
       "    <tr>\n",
       "      <th>...</th>\n",
       "      <td>...</td>\n",
       "      <td>...</td>\n",
       "      <td>...</td>\n",
       "    </tr>\n",
       "    <tr>\n",
       "      <th>74</th>\n",
       "      <td>Tunisia</td>\n",
       "      <td>0.00670</td>\n",
       "      <td>6.30</td>\n",
       "    </tr>\n",
       "    <tr>\n",
       "      <th>75</th>\n",
       "      <td>Syria</td>\n",
       "      <td>0.00408</td>\n",
       "      <td>6.97</td>\n",
       "    </tr>\n",
       "    <tr>\n",
       "      <th>76</th>\n",
       "      <td>Madagascar</td>\n",
       "      <td>0.00201</td>\n",
       "      <td>7.04</td>\n",
       "    </tr>\n",
       "    <tr>\n",
       "      <th>77</th>\n",
       "      <td>Thailand</td>\n",
       "      <td>0.00183</td>\n",
       "      <td>6.27</td>\n",
       "    </tr>\n",
       "    <tr>\n",
       "      <th>78</th>\n",
       "      <td>Congo, Dem. Rep.</td>\n",
       "      <td>0.00168</td>\n",
       "      <td>5.99</td>\n",
       "    </tr>\n",
       "  </tbody>\n",
       "</table>\n",
       "<p>79 rows × 3 columns</p>\n",
       "</div>"
      ],
      "text/plain": [
       "                Country  1934 CO2 Emissions  Birthrate_1934\n",
       "0         United States            11.10000            2.07\n",
       "1   Trinidad and Tobago            10.90000            4.23\n",
       "2               Belgium             9.08000            2.04\n",
       "3        United Kingdom             9.06000            1.76\n",
       "4                Canada             7.28000            2.80\n",
       "..                  ...                 ...             ...\n",
       "74              Tunisia             0.00670            6.30\n",
       "75                Syria             0.00408            6.97\n",
       "76           Madagascar             0.00201            7.04\n",
       "77             Thailand             0.00183            6.27\n",
       "78     Congo, Dem. Rep.             0.00168            5.99\n",
       "\n",
       "[79 rows x 3 columns]"
      ]
     },
     "execution_count": 12,
     "metadata": {},
     "output_type": "execute_result"
    }
   ],
   "source": [
    "df_1934 = co2_br_df[[\"Country\", \"1934 CO2 Emissions\", \"Birthrate_1934\"]].sort_values(\"1934 CO2 Emissions\", ascending=False).reset_index()\n",
    "df_1934 = df_1934[[\"Country\", \"1934 CO2 Emissions\", \"Birthrate_1934\"]].dropna()\n",
    "df_1934"
   ]
  },
  {
   "cell_type": "code",
   "execution_count": 13,
   "metadata": {},
   "outputs": [
    {
     "data": {
      "text/plain": [
       "Text(0, 0.5, 'Birthrate (children per women)')"
      ]
     },
     "execution_count": 13,
     "metadata": {},
     "output_type": "execute_result"
    },
    {
     "data": {
      "image/png": "[encoded data removed]",
      "text/plain": [
       "<Figure size 432x288 with 1 Axes>"
      ]
     },
     "metadata": {
      "needs_background": "light"
     },
     "output_type": "display_data"
    }
   ],
   "source": [
    "x_values = df_1934[\"1934 CO2 Emissions\"]\n",
    "y_values = df_1934[\"Birthrate_1934\"]\n",
    "plt.scatter(x_values, y_values, edgecolors=\"black\")\n",
    "plt.title(\"1934\")\n",
    "plt.xlabel(\"CO2 Emissions (tonnes per person)\")\n",
    "plt.ylabel(\"Birthrate (children per women)\")"
   ]
  },
  {
   "cell_type": "code",
   "execution_count": 14,
   "metadata": {},
   "outputs": [
    {
     "data": {
      "text/plain": [
       "0     1.050295\n",
       "1     1.125874\n",
       "2     1.813648\n",
       "3     1.821206\n",
       "4     2.493864\n",
       "        ...   \n",
       "74    5.242428\n",
       "75    5.243418\n",
       "76    5.244201\n",
       "77    5.244269\n",
       "78    5.244325\n",
       "Name: 1934 CO2 Emissions, Length: 79, dtype: float64"
      ]
     },
     "execution_count": 14,
     "metadata": {},
     "output_type": "execute_result"
    }
   ],
   "source": [
    "(slope, intercept, rvalue, pvalue, stderr) = stats.linregress(x_values, y_values)\n",
    "\n",
    "regress_values = x_values * slope + intercept\n",
    "regress_values"
   ]
  },
  {
   "cell_type": "code",
   "execution_count": 15,
   "metadata": {},
   "outputs": [
    {
     "name": "stdout",
     "output_type": "stream",
     "text": [
      "y = -0.38x + 5.24\n"
     ]
    }
   ],
   "source": [
    "line_eq = \"y = \" + str(round(slope,2)) + \"x + \" + str(round(intercept,2))\n",
    "print(line_eq)"
   ]
  },
  {
   "cell_type": "code",
   "execution_count": 17,
   "metadata": {},
   "outputs": [
    {
     "name": "stdout",
     "output_type": "stream",
     "text": [
      "The r value is : -0.507299889518464\n",
      "The r squared value is : 0.2573531779054458\n"
     ]
    },
    {
     "data": {
      "image/png": "[encoded data removed]",
      "text/plain": [
       "<Figure size 432x288 with 1 Axes>"
      ]
     },
     "metadata": {
      "needs_background": "light"
     },
     "output_type": "display_data"
    }
   ],
   "source": [
    "plt.scatter(x_values,y_values,edgecolors=\"black\")\n",
    "plt.plot(x_values,regress_values,\"r-\")\n",
    "\n",
    "plt.title('1934')\n",
    "plt.xlabel('CO2 Emissions')\n",
    "plt.ylabel('Birthrate')\n",
    "plt.annotate(line_eq,(5,5),fontsize=10,color=\"red\")\n",
    "\n",
    "print(f\"The r value is : {rvalue}\")\n",
    "rsquared = rvalue * rvalue\n",
    "print(f\"The r squared value is : {rsquared}\")\n",
    "\n",
    "#plt.savefig(\"Images\",\"1934_co2_v_birthrate.png\")\n",
    "\n",
    "plt.show()"
   ]
  },
  {
   "cell_type": "code",
   "execution_count": 18,
   "metadata": {},
   "outputs": [
    {
     "data": {
      "text/html": [
       "<div>\n",
       "<style scoped>\n",
       "    .dataframe tbody tr th:only-of-type {\n",
       "        vertical-align: middle;\n",
       "    }\n",
       "\n",
       "    .dataframe tbody tr th {\n",
       "        vertical-align: top;\n",
       "    }\n",
       "\n",
       "    .dataframe thead th {\n",
       "        text-align: right;\n",
       "    }\n",
       "</style>\n",
       "<table border=\"1\" class=\"dataframe\">\n",
       "  <thead>\n",
       "    <tr style=\"text-align: right;\">\n",
       "      <th></th>\n",
       "      <th>Country</th>\n",
       "      <th>1944 CO2 Emissions</th>\n",
       "      <th>Birthrate_1944</th>\n",
       "    </tr>\n",
       "  </thead>\n",
       "  <tbody>\n",
       "    <tr>\n",
       "      <th>0</th>\n",
       "      <td>Brunei</td>\n",
       "      <td>64.80000</td>\n",
       "      <td>7.41</td>\n",
       "    </tr>\n",
       "    <tr>\n",
       "      <th>1</th>\n",
       "      <td>Bahrain</td>\n",
       "      <td>25.80000</td>\n",
       "      <td>7.02</td>\n",
       "    </tr>\n",
       "    <tr>\n",
       "      <th>2</th>\n",
       "      <td>Trinidad and Tobago</td>\n",
       "      <td>19.70000</td>\n",
       "      <td>5.16</td>\n",
       "    </tr>\n",
       "    <tr>\n",
       "      <th>3</th>\n",
       "      <td>United States</td>\n",
       "      <td>17.30000</td>\n",
       "      <td>2.44</td>\n",
       "    </tr>\n",
       "    <tr>\n",
       "      <th>4</th>\n",
       "      <td>Canada</td>\n",
       "      <td>11.50000</td>\n",
       "      <td>3.00</td>\n",
       "    </tr>\n",
       "    <tr>\n",
       "      <th>...</th>\n",
       "      <td>...</td>\n",
       "      <td>...</td>\n",
       "      <td>...</td>\n",
       "    </tr>\n",
       "    <tr>\n",
       "      <th>76</th>\n",
       "      <td>Mozambique</td>\n",
       "      <td>0.00943</td>\n",
       "      <td>6.69</td>\n",
       "    </tr>\n",
       "    <tr>\n",
       "      <th>77</th>\n",
       "      <td>Syria</td>\n",
       "      <td>0.00588</td>\n",
       "      <td>7.10</td>\n",
       "    </tr>\n",
       "    <tr>\n",
       "      <th>78</th>\n",
       "      <td>Guatemala</td>\n",
       "      <td>0.00431</td>\n",
       "      <td>6.48</td>\n",
       "    </tr>\n",
       "    <tr>\n",
       "      <th>79</th>\n",
       "      <td>Nicaragua</td>\n",
       "      <td>0.00342</td>\n",
       "      <td>6.60</td>\n",
       "    </tr>\n",
       "    <tr>\n",
       "      <th>80</th>\n",
       "      <td>Thailand</td>\n",
       "      <td>0.00085</td>\n",
       "      <td>6.18</td>\n",
       "    </tr>\n",
       "  </tbody>\n",
       "</table>\n",
       "<p>81 rows × 3 columns</p>\n",
       "</div>"
      ],
      "text/plain": [
       "                Country  1944 CO2 Emissions  Birthrate_1944\n",
       "0                Brunei            64.80000            7.41\n",
       "1               Bahrain            25.80000            7.02\n",
       "2   Trinidad and Tobago            19.70000            5.16\n",
       "3         United States            17.30000            2.44\n",
       "4                Canada            11.50000            3.00\n",
       "..                  ...                 ...             ...\n",
       "76           Mozambique             0.00943            6.69\n",
       "77                Syria             0.00588            7.10\n",
       "78            Guatemala             0.00431            6.48\n",
       "79            Nicaragua             0.00342            6.60\n",
       "80             Thailand             0.00085            6.18\n",
       "\n",
       "[81 rows x 3 columns]"
      ]
     },
     "execution_count": 18,
     "metadata": {},
     "output_type": "execute_result"
    }
   ],
   "source": [
    "df_1944 = co2_br_df[[\"Country\", \"1944 CO2 Emissions\", \"Birthrate_1944\"]].sort_values(\"1944 CO2 Emissions\", ascending=False).reset_index()\n",
    "df_1944 = df_1944[[\"Country\", \"1944 CO2 Emissions\", \"Birthrate_1944\"]].dropna()\n",
    "df_1944"
   ]
  },
  {
   "cell_type": "code",
   "execution_count": 19,
   "metadata": {},
   "outputs": [
    {
     "data": {
      "text/plain": [
       "Text(0, 0.5, 'Birthrate (children per women)')"
      ]
     },
     "execution_count": 19,
     "metadata": {},
     "output_type": "execute_result"
    },
    {
     "data": {
      "image/png": "[encoded data removed]",
      "text/plain": [
       "<Figure size 432x288 with 1 Axes>"
      ]
     },
     "metadata": {
      "needs_background": "light"
     },
     "output_type": "display_data"
    }
   ],
   "source": [
    "x_values = df_1944[\"1944 CO2 Emissions\"]\n",
    "y_values = df_1944[\"Birthrate_1944\"]\n",
    "plt.scatter(x_values, y_values, edgecolors=\"black\")\n",
    "plt.title(\"1944\")\n",
    "plt.xlabel(\"CO2 Emissions (tonnes per person)\")\n",
    "plt.ylabel(\"Birthrate (children per women)\")"
   ]
  },
  {
   "cell_type": "code",
   "execution_count": 20,
   "metadata": {},
   "outputs": [
    {
     "data": {
      "text/plain": [
       "0     5.663199\n",
       "1     4.963855\n",
       "2     4.854471\n",
       "3     4.811434\n",
       "4     4.707429\n",
       "        ...   \n",
       "76    4.501382\n",
       "77    4.501318\n",
       "78    4.501290\n",
       "79    4.501274\n",
       "80    4.501228\n",
       "Name: 1944 CO2 Emissions, Length: 81, dtype: float64"
      ]
     },
     "execution_count": 20,
     "metadata": {},
     "output_type": "execute_result"
    }
   ],
   "source": [
    "(slope, intercept, rvalue, pvalue, stderr) = stats.linregress(x_values, y_values)\n",
    "\n",
    "regress_values = x_values * slope + intercept\n",
    "regress_values"
   ]
  },
  {
   "cell_type": "code",
   "execution_count": 21,
   "metadata": {},
   "outputs": [
    {
     "name": "stdout",
     "output_type": "stream",
     "text": [
      "y = 0.02x + 4.5\n"
     ]
    }
   ],
   "source": [
    "line_eq = \"y = \" + str(round(slope,2)) + \"x + \" + str(round(intercept,2))\n",
    "print(line_eq)"
   ]
  },
  {
   "cell_type": "code",
   "execution_count": 22,
   "metadata": {},
   "outputs": [
    {
     "name": "stdout",
     "output_type": "stream",
     "text": [
      "The r value is : 0.08115457631344145\n",
      "The r squared value is : 0.006586065256614191\n"
     ]
    },
    {
     "data": {
      "image/png": "[encoded data removed]",
      "text/plain": [
       "<Figure size 432x288 with 1 Axes>"
      ]
     },
     "metadata": {
      "needs_background": "light"
     },
     "output_type": "display_data"
    }
   ],
   "source": [
    "plt.scatter(x_values,y_values,edgecolors=\"black\")\n",
    "plt.plot(x_values,regress_values,\"r-\")\n",
    "\n",
    "plt.title('1944')\n",
    "plt.xlabel('CO2 Emissions')\n",
    "plt.ylabel('Birthrate')\n",
    "plt.annotate(line_eq,(30,4),fontsize=10,color=\"red\")\n",
    "\n",
    "print(f\"The r value is : {rvalue}\")\n",
    "rsquared = rvalue * rvalue\n",
    "print(f\"The r squared value is : {rsquared}\")\n",
    "\n",
    "#plt.savefig(\"Images\",\"1944_co2_v_birthrate.png\")\n",
    "\n",
    "plt.show()"
   ]
  },
  {
   "cell_type": "code",
   "execution_count": 23,
   "metadata": {},
   "outputs": [
    {
     "data": {
      "text/html": [
       "<div>\n",
       "<style scoped>\n",
       "    .dataframe tbody tr th:only-of-type {\n",
       "        vertical-align: middle;\n",
       "    }\n",
       "\n",
       "    .dataframe tbody tr th {\n",
       "        vertical-align: top;\n",
       "    }\n",
       "\n",
       "    .dataframe thead th {\n",
       "        text-align: right;\n",
       "    }\n",
       "</style>\n",
       "<table border=\"1\" class=\"dataframe\">\n",
       "  <thead>\n",
       "    <tr style=\"text-align: right;\">\n",
       "      <th></th>\n",
       "      <th>Country</th>\n",
       "      <th>1954 CO2 Emissions</th>\n",
       "      <th>Birthrate_1954</th>\n",
       "    </tr>\n",
       "  </thead>\n",
       "  <tbody>\n",
       "    <tr>\n",
       "      <th>0</th>\n",
       "      <td>Luxembourg</td>\n",
       "      <td>29.00000</td>\n",
       "      <td>2.06</td>\n",
       "    </tr>\n",
       "    <tr>\n",
       "      <th>1</th>\n",
       "      <td>Qatar</td>\n",
       "      <td>17.90000</td>\n",
       "      <td>6.97</td>\n",
       "    </tr>\n",
       "    <tr>\n",
       "      <th>2</th>\n",
       "      <td>United States</td>\n",
       "      <td>14.70000</td>\n",
       "      <td>3.49</td>\n",
       "    </tr>\n",
       "    <tr>\n",
       "      <th>3</th>\n",
       "      <td>United Kingdom</td>\n",
       "      <td>10.90000</td>\n",
       "      <td>2.26</td>\n",
       "    </tr>\n",
       "    <tr>\n",
       "      <th>4</th>\n",
       "      <td>Canada</td>\n",
       "      <td>10.70000</td>\n",
       "      <td>3.78</td>\n",
       "    </tr>\n",
       "    <tr>\n",
       "      <th>...</th>\n",
       "      <td>...</td>\n",
       "      <td>...</td>\n",
       "      <td>...</td>\n",
       "    </tr>\n",
       "    <tr>\n",
       "      <th>132</th>\n",
       "      <td>Ethiopia</td>\n",
       "      <td>0.01390</td>\n",
       "      <td>7.05</td>\n",
       "    </tr>\n",
       "    <tr>\n",
       "      <th>133</th>\n",
       "      <td>Afghanistan</td>\n",
       "      <td>0.01310</td>\n",
       "      <td>7.53</td>\n",
       "    </tr>\n",
       "    <tr>\n",
       "      <th>134</th>\n",
       "      <td>Guinea-Bissau</td>\n",
       "      <td>0.01290</td>\n",
       "      <td>6.05</td>\n",
       "    </tr>\n",
       "    <tr>\n",
       "      <th>135</th>\n",
       "      <td>Swaziland</td>\n",
       "      <td>0.01220</td>\n",
       "      <td>6.69</td>\n",
       "    </tr>\n",
       "    <tr>\n",
       "      <th>136</th>\n",
       "      <td>Nepal</td>\n",
       "      <td>0.00441</td>\n",
       "      <td>5.97</td>\n",
       "    </tr>\n",
       "  </tbody>\n",
       "</table>\n",
       "<p>137 rows × 3 columns</p>\n",
       "</div>"
      ],
      "text/plain": [
       "            Country  1954 CO2 Emissions  Birthrate_1954\n",
       "0        Luxembourg            29.00000            2.06\n",
       "1             Qatar            17.90000            6.97\n",
       "2     United States            14.70000            3.49\n",
       "3    United Kingdom            10.90000            2.26\n",
       "4            Canada            10.70000            3.78\n",
       "..              ...                 ...             ...\n",
       "132        Ethiopia             0.01390            7.05\n",
       "133     Afghanistan             0.01310            7.53\n",
       "134   Guinea-Bissau             0.01290            6.05\n",
       "135       Swaziland             0.01220            6.69\n",
       "136           Nepal             0.00441            5.97\n",
       "\n",
       "[137 rows x 3 columns]"
      ]
     },
     "execution_count": 23,
     "metadata": {},
     "output_type": "execute_result"
    }
   ],
   "source": [
    "df_1954 = co2_br_df[[\"Country\", \"1954 CO2 Emissions\", \"Birthrate_1954\"]].sort_values(\"1954 CO2 Emissions\", ascending=False).reset_index()\n",
    "df_1954 = df_1954[[\"Country\", \"1954 CO2 Emissions\", \"Birthrate_1954\"]].dropna()\n",
    "df_1954"
   ]
  },
  {
   "cell_type": "code",
   "execution_count": 24,
   "metadata": {},
   "outputs": [
    {
     "data": {
      "text/plain": [
       "Text(0, 0.5, 'Birthrate (children per women)')"
      ]
     },
     "execution_count": 24,
     "metadata": {},
     "output_type": "execute_result"
    },
    {
     "data": {
      "image/png": "[encoded data removed]",
      "text/plain": [
       "<Figure size 432x288 with 1 Axes>"
      ]
     },
     "metadata": {
      "needs_background": "light"
     },
     "output_type": "display_data"
    }
   ],
   "source": [
    "x_values = df_1954[\"1954 CO2 Emissions\"]\n",
    "y_values = df_1954[\"Birthrate_1954\"]\n",
    "plt.scatter(x_values, y_values, edgecolors=\"black\")\n",
    "plt.title(\"1954\")\n",
    "plt.xlabel(\"CO2 Emissions (tonnes per person)\")\n",
    "plt.ylabel(\"Birthrate (children per women)\")"
   ]
  },
  {
   "cell_type": "code",
   "execution_count": 25,
   "metadata": {},
   "outputs": [
    {
     "data": {
      "text/plain": [
       "0      0.155293\n",
       "1      2.307784\n",
       "2      2.928321\n",
       "3      3.665210\n",
       "4      3.703993\n",
       "         ...   \n",
       "132    5.776221\n",
       "133    5.776376\n",
       "134    5.776415\n",
       "135    5.776550\n",
       "136    5.778061\n",
       "Name: 1954 CO2 Emissions, Length: 137, dtype: float64"
      ]
     },
     "execution_count": 25,
     "metadata": {},
     "output_type": "execute_result"
    }
   ],
   "source": [
    "(slope, intercept, rvalue, pvalue, stderr) = stats.linregress(x_values, y_values)\n",
    "\n",
    "regress_values = x_values * slope + intercept\n",
    "regress_values"
   ]
  },
  {
   "cell_type": "code",
   "execution_count": 26,
   "metadata": {},
   "outputs": [
    {
     "name": "stdout",
     "output_type": "stream",
     "text": [
      "y = -0.19x + 5.78\n"
     ]
    }
   ],
   "source": [
    "line_eq = \"y = \" + str(round(slope,2)) + \"x + \" + str(round(intercept,2))\n",
    "print(line_eq)"
   ]
  },
  {
   "cell_type": "code",
   "execution_count": 27,
   "metadata": {},
   "outputs": [
    {
     "name": "stdout",
     "output_type": "stream",
     "text": [
      "The r value is : -0.43450674496565883\n",
      "The r squared value is : 0.18879611142065209\n"
     ]
    },
    {
     "data": {
      "image/png": "[encoded data removed]",
      "text/plain": [
       "<Figure size 432x288 with 1 Axes>"
      ]
     },
     "metadata": {
      "needs_background": "light"
     },
     "output_type": "display_data"
    }
   ],
   "source": [
    "plt.scatter(x_values,y_values,edgecolors=\"black\")\n",
    "plt.plot(x_values,regress_values,\"r-\")\n",
    "\n",
    "plt.title('1954')\n",
    "plt.xlabel('CO2 Emissions')\n",
    "plt.ylabel('Birthrate')\n",
    "plt.annotate(line_eq,(20,5),fontsize=10,color=\"red\")\n",
    "\n",
    "print(f\"The r value is : {rvalue}\")\n",
    "rsquared = rvalue * rvalue\n",
    "print(f\"The r squared value is : {rsquared}\")\n",
    "\n",
    "#plt.savefig(\"Images\",\"1954_co2_v_birthrate.png\")\n",
    "\n",
    "plt.show()"
   ]
  },
  {
   "cell_type": "code",
   "execution_count": 28,
   "metadata": {},
   "outputs": [
    {
     "data": {
      "text/html": [
       "<div>\n",
       "<style scoped>\n",
       "    .dataframe tbody tr th:only-of-type {\n",
       "        vertical-align: middle;\n",
       "    }\n",
       "\n",
       "    .dataframe tbody tr th {\n",
       "        vertical-align: top;\n",
       "    }\n",
       "\n",
       "    .dataframe thead th {\n",
       "        text-align: right;\n",
       "    }\n",
       "</style>\n",
       "<table border=\"1\" class=\"dataframe\">\n",
       "  <thead>\n",
       "    <tr style=\"text-align: right;\">\n",
       "      <th></th>\n",
       "      <th>Country</th>\n",
       "      <th>1964 CO2 Emissions</th>\n",
       "      <th>Birthrate_1964</th>\n",
       "    </tr>\n",
       "  </thead>\n",
       "  <tbody>\n",
       "    <tr>\n",
       "      <th>0</th>\n",
       "      <td>Qatar</td>\n",
       "      <td>92.9000</td>\n",
       "      <td>6.99</td>\n",
       "    </tr>\n",
       "    <tr>\n",
       "      <th>1</th>\n",
       "      <td>Kuwait</td>\n",
       "      <td>59.6000</td>\n",
       "      <td>7.38</td>\n",
       "    </tr>\n",
       "    <tr>\n",
       "      <th>2</th>\n",
       "      <td>Luxembourg</td>\n",
       "      <td>37.6000</td>\n",
       "      <td>2.37</td>\n",
       "    </tr>\n",
       "    <tr>\n",
       "      <th>3</th>\n",
       "      <td>United States</td>\n",
       "      <td>16.5000</td>\n",
       "      <td>3.22</td>\n",
       "    </tr>\n",
       "    <tr>\n",
       "      <th>4</th>\n",
       "      <td>Germany</td>\n",
       "      <td>12.8000</td>\n",
       "      <td>2.50</td>\n",
       "    </tr>\n",
       "    <tr>\n",
       "      <th>...</th>\n",
       "      <td>...</td>\n",
       "      <td>...</td>\n",
       "      <td>...</td>\n",
       "    </tr>\n",
       "    <tr>\n",
       "      <th>160</th>\n",
       "      <td>Oman</td>\n",
       "      <td>0.0181</td>\n",
       "      <td>7.26</td>\n",
       "    </tr>\n",
       "    <tr>\n",
       "      <th>161</th>\n",
       "      <td>Ethiopia</td>\n",
       "      <td>0.0167</td>\n",
       "      <td>6.87</td>\n",
       "    </tr>\n",
       "    <tr>\n",
       "      <th>162</th>\n",
       "      <td>Burundi</td>\n",
       "      <td>0.0158</td>\n",
       "      <td>7.14</td>\n",
       "    </tr>\n",
       "    <tr>\n",
       "      <th>163</th>\n",
       "      <td>Nepal</td>\n",
       "      <td>0.0140</td>\n",
       "      <td>5.97</td>\n",
       "    </tr>\n",
       "    <tr>\n",
       "      <th>164</th>\n",
       "      <td>Rwanda</td>\n",
       "      <td>0.0116</td>\n",
       "      <td>8.20</td>\n",
       "    </tr>\n",
       "  </tbody>\n",
       "</table>\n",
       "<p>165 rows × 3 columns</p>\n",
       "</div>"
      ],
      "text/plain": [
       "           Country  1964 CO2 Emissions  Birthrate_1964\n",
       "0            Qatar             92.9000            6.99\n",
       "1           Kuwait             59.6000            7.38\n",
       "2       Luxembourg             37.6000            2.37\n",
       "3    United States             16.5000            3.22\n",
       "4          Germany             12.8000            2.50\n",
       "..             ...                 ...             ...\n",
       "160           Oman              0.0181            7.26\n",
       "161       Ethiopia              0.0167            6.87\n",
       "162        Burundi              0.0158            7.14\n",
       "163          Nepal              0.0140            5.97\n",
       "164         Rwanda              0.0116            8.20\n",
       "\n",
       "[165 rows x 3 columns]"
      ]
     },
     "execution_count": 28,
     "metadata": {},
     "output_type": "execute_result"
    }
   ],
   "source": [
    "df_1964 = co2_br_df[[\"Country\", \"1964 CO2 Emissions\", \"Birthrate_1964\"]].sort_values(\"1964 CO2 Emissions\", ascending=False).reset_index()\n",
    "df_1964 = df_1964[[\"Country\", \"1964 CO2 Emissions\", \"Birthrate_1964\"]].dropna()\n",
    "df_1964"
   ]
  },
  {
   "cell_type": "code",
   "execution_count": 40,
   "metadata": {},
   "outputs": [
    {
     "data": {
      "text/plain": [
       "Text(0, 0.5, 'Birthrate (children per women)')"
      ]
     },
     "execution_count": 40,
     "metadata": {},
     "output_type": "execute_result"
    },
    {
     "data": {
      "image/png": "[encoded data removed]",
      "text/plain": [
       "<Figure size 432x288 with 1 Axes>"
      ]
     },
     "metadata": {
      "needs_background": "light"
     },
     "output_type": "display_data"
    }
   ],
   "source": [
    "x_values = df_1964[\"1964 CO2 Emissions\"]\n",
    "y_values = df_1964[\"Birthrate_1964\"]\n",
    "plt.scatter(x_values, y_values, edgecolors=\"black\")\n",
    "plt.title(\"1964\")\n",
    "plt.xlabel(\"CO2 Emissions (tonnes per person)\")\n",
    "plt.ylabel(\"Birthrate (children per women)\")"
   ]
  },
  {
   "cell_type": "code",
   "execution_count": 30,
   "metadata": {},
   "outputs": [
    {
     "data": {
      "text/plain": [
       "0      2.407077\n",
       "1      3.577845\n",
       "2      4.351326\n",
       "3      5.093164\n",
       "4      5.223250\n",
       "         ...   \n",
       "160    5.672638\n",
       "161    5.672688\n",
       "162    5.672719\n",
       "163    5.672782\n",
       "164    5.672867\n",
       "Name: 1964 CO2 Emissions, Length: 165, dtype: float64"
      ]
     },
     "execution_count": 30,
     "metadata": {},
     "output_type": "execute_result"
    }
   ],
   "source": [
    "(slope, intercept, rvalue, pvalue, stderr) = stats.linregress(x_values, y_values)\n",
    "\n",
    "regress_values = x_values * slope + intercept\n",
    "regress_values"
   ]
  },
  {
   "cell_type": "code",
   "execution_count": 31,
   "metadata": {},
   "outputs": [
    {
     "name": "stdout",
     "output_type": "stream",
     "text": [
      "y = -0.04x + 5.67\n"
     ]
    }
   ],
   "source": [
    "line_eq = \"y = \" + str(round(slope,2)) + \"x + \" + str(round(intercept,2))\n",
    "print(line_eq)"
   ]
  },
  {
   "cell_type": "code",
   "execution_count": 32,
   "metadata": {},
   "outputs": [
    {
     "name": "stdout",
     "output_type": "stream",
     "text": [
      "The r value is : -0.185239973747555\n",
      "The r squared value is : 0.034313847873994864\n"
     ]
    },
    {
     "data": {
      "image/png": "[encoded data removed]",
      "text/plain": [
       "<Figure size 432x288 with 1 Axes>"
      ]
     },
     "metadata": {
      "needs_background": "light"
     },
     "output_type": "display_data"
    }
   ],
   "source": [
    "plt.scatter(x_values,y_values,edgecolors=\"black\")\n",
    "plt.plot(x_values,regress_values,\"r-\")\n",
    "\n",
    "plt.title('1964')\n",
    "plt.xlabel('CO2 Emissions')\n",
    "plt.ylabel('Birthrate')\n",
    "plt.annotate(line_eq,(30,5),fontsize=10,color=\"red\")\n",
    "\n",
    "print(f\"The r value is : {rvalue}\")\n",
    "rsquared = rvalue * rvalue\n",
    "print(f\"The r squared value is : {rsquared}\")\n",
    "\n",
    "#plt.savefig(\"Images\",\"1964_co2_v_birthrate.png\")\n",
    "\n",
    "plt.show()"
   ]
  },
  {
   "cell_type": "code",
   "execution_count": null,
   "metadata": {},
   "outputs": [],
   "source": [
    "#ran regression on each 10 year period between 1924-1964, although not strong, CO2 emission and birthrate seem to have a negative correlation based on the rvalue. Looking at rsquared, it's not statistically significant to predict birthrate based on CO2 emission."
   ]
  },
  {
   "cell_type": "code",
   "execution_count": 33,
   "metadata": {},
   "outputs": [
    {
     "data": {
      "text/html": [
       "<div>\n",
       "<style scoped>\n",
       "    .dataframe tbody tr th:only-of-type {\n",
       "        vertical-align: middle;\n",
       "    }\n",
       "\n",
       "    .dataframe tbody tr th {\n",
       "        vertical-align: top;\n",
       "    }\n",
       "\n",
       "    .dataframe thead th {\n",
       "        text-align: right;\n",
       "    }\n",
       "</style>\n",
       "<table border=\"1\" class=\"dataframe\">\n",
       "  <thead>\n",
       "    <tr style=\"text-align: right;\">\n",
       "      <th></th>\n",
       "      <th>1924 CO2 Emissions</th>\n",
       "      <th>Birthrate_1924</th>\n",
       "    </tr>\n",
       "  </thead>\n",
       "  <tbody>\n",
       "    <tr>\n",
       "      <th>count</th>\n",
       "      <td>62.000000</td>\n",
       "      <td>62.000000</td>\n",
       "    </tr>\n",
       "    <tr>\n",
       "      <th>mean</th>\n",
       "      <td>1.975158</td>\n",
       "      <td>4.829194</td>\n",
       "    </tr>\n",
       "    <tr>\n",
       "      <th>std</th>\n",
       "      <td>2.925108</td>\n",
       "      <td>1.608535</td>\n",
       "    </tr>\n",
       "    <tr>\n",
       "      <th>min</th>\n",
       "      <td>0.004600</td>\n",
       "      <td>2.280000</td>\n",
       "    </tr>\n",
       "    <tr>\n",
       "      <th>25%</th>\n",
       "      <td>0.173250</td>\n",
       "      <td>3.190000</td>\n",
       "    </tr>\n",
       "    <tr>\n",
       "      <th>50%</th>\n",
       "      <td>0.705500</td>\n",
       "      <td>5.090000</td>\n",
       "    </tr>\n",
       "    <tr>\n",
       "      <th>75%</th>\n",
       "      <td>2.920000</td>\n",
       "      <td>6.057500</td>\n",
       "    </tr>\n",
       "    <tr>\n",
       "      <th>max</th>\n",
       "      <td>14.600000</td>\n",
       "      <td>7.810000</td>\n",
       "    </tr>\n",
       "  </tbody>\n",
       "</table>\n",
       "</div>"
      ],
      "text/plain": [
       "       1924 CO2 Emissions  Birthrate_1924\n",
       "count           62.000000       62.000000\n",
       "mean             1.975158        4.829194\n",
       "std              2.925108        1.608535\n",
       "min              0.004600        2.280000\n",
       "25%              0.173250        3.190000\n",
       "50%              0.705500        5.090000\n",
       "75%              2.920000        6.057500\n",
       "max             14.600000        7.810000"
      ]
     },
     "execution_count": 33,
     "metadata": {},
     "output_type": "execute_result"
    }
   ],
   "source": [
    "df_1924.describe()"
   ]
  },
  {
   "cell_type": "code",
   "execution_count": 34,
   "metadata": {},
   "outputs": [],
   "source": [
    "bins = [0, 5, 10, 15]\n",
    "group_labels = [\"Low-Level CO2\", \"Mid-Level CO2\", \"High-Level CO2\"]"
   ]
  },
  {
   "cell_type": "code",
   "execution_count": 35,
   "metadata": {},
   "outputs": [
    {
     "data": {
      "text/plain": [
       "0     High-Level CO2\n",
       "1     High-Level CO2\n",
       "2      Mid-Level CO2\n",
       "3      Mid-Level CO2\n",
       "4      Mid-Level CO2\n",
       "           ...      \n",
       "57     Low-Level CO2\n",
       "58     Low-Level CO2\n",
       "59     Low-Level CO2\n",
       "60     Low-Level CO2\n",
       "61     Low-Level CO2\n",
       "Name: 1924 CO2 Emissions, Length: 62, dtype: category\n",
       "Categories (3, object): [Low-Level CO2 < Mid-Level CO2 < High-Level CO2]"
      ]
     },
     "execution_count": 35,
     "metadata": {},
     "output_type": "execute_result"
    }
   ],
   "source": [
    "pd.cut(df_1924[\"1924 CO2 Emissions\"], bins, labels=group_labels)"
   ]
  },
  {
   "cell_type": "code",
   "execution_count": 36,
   "metadata": {},
   "outputs": [
    {
     "data": {
      "text/html": [
       "<div>\n",
       "<style scoped>\n",
       "    .dataframe tbody tr th:only-of-type {\n",
       "        vertical-align: middle;\n",
       "    }\n",
       "\n",
       "    .dataframe tbody tr th {\n",
       "        vertical-align: top;\n",
       "    }\n",
       "\n",
       "    .dataframe thead th {\n",
       "        text-align: right;\n",
       "    }\n",
       "</style>\n",
       "<table border=\"1\" class=\"dataframe\">\n",
       "  <thead>\n",
       "    <tr style=\"text-align: right;\">\n",
       "      <th></th>\n",
       "      <th>Country</th>\n",
       "      <th>1924 CO2 Emissions</th>\n",
       "      <th>Birthrate_1924</th>\n",
       "      <th>CO2 Group</th>\n",
       "    </tr>\n",
       "  </thead>\n",
       "  <tbody>\n",
       "    <tr>\n",
       "      <th>0</th>\n",
       "      <td>United States</td>\n",
       "      <td>14.6000</td>\n",
       "      <td>3.12</td>\n",
       "      <td>High-Level CO2</td>\n",
       "    </tr>\n",
       "    <tr>\n",
       "      <th>1</th>\n",
       "      <td>United Kingdom</td>\n",
       "      <td>10.6000</td>\n",
       "      <td>2.28</td>\n",
       "      <td>High-Level CO2</td>\n",
       "    </tr>\n",
       "    <tr>\n",
       "      <th>2</th>\n",
       "      <td>Belgium</td>\n",
       "      <td>9.9000</td>\n",
       "      <td>2.57</td>\n",
       "      <td>Mid-Level CO2</td>\n",
       "    </tr>\n",
       "    <tr>\n",
       "      <th>3</th>\n",
       "      <td>Canada</td>\n",
       "      <td>8.2700</td>\n",
       "      <td>3.22</td>\n",
       "      <td>Mid-Level CO2</td>\n",
       "    </tr>\n",
       "    <tr>\n",
       "      <th>4</th>\n",
       "      <td>Germany</td>\n",
       "      <td>7.0400</td>\n",
       "      <td>2.42</td>\n",
       "      <td>Mid-Level CO2</td>\n",
       "    </tr>\n",
       "    <tr>\n",
       "      <th>...</th>\n",
       "      <td>...</td>\n",
       "      <td>...</td>\n",
       "      <td>...</td>\n",
       "      <td>...</td>\n",
       "    </tr>\n",
       "    <tr>\n",
       "      <th>57</th>\n",
       "      <td>Colombia</td>\n",
       "      <td>0.0279</td>\n",
       "      <td>6.44</td>\n",
       "      <td>Low-Level CO2</td>\n",
       "    </tr>\n",
       "    <tr>\n",
       "      <th>58</th>\n",
       "      <td>Ecuador</td>\n",
       "      <td>0.0228</td>\n",
       "      <td>7.05</td>\n",
       "      <td>Low-Level CO2</td>\n",
       "    </tr>\n",
       "    <tr>\n",
       "      <th>59</th>\n",
       "      <td>Congo, Dem. Rep.</td>\n",
       "      <td>0.0212</td>\n",
       "      <td>5.99</td>\n",
       "      <td>Low-Level CO2</td>\n",
       "    </tr>\n",
       "    <tr>\n",
       "      <th>60</th>\n",
       "      <td>Philippines</td>\n",
       "      <td>0.0083</td>\n",
       "      <td>5.99</td>\n",
       "      <td>Low-Level CO2</td>\n",
       "    </tr>\n",
       "    <tr>\n",
       "      <th>61</th>\n",
       "      <td>Algeria</td>\n",
       "      <td>0.0046</td>\n",
       "      <td>6.99</td>\n",
       "      <td>Low-Level CO2</td>\n",
       "    </tr>\n",
       "  </tbody>\n",
       "</table>\n",
       "<p>62 rows × 4 columns</p>\n",
       "</div>"
      ],
      "text/plain": [
       "             Country  1924 CO2 Emissions  Birthrate_1924       CO2 Group\n",
       "0      United States             14.6000            3.12  High-Level CO2\n",
       "1     United Kingdom             10.6000            2.28  High-Level CO2\n",
       "2            Belgium              9.9000            2.57   Mid-Level CO2\n",
       "3             Canada              8.2700            3.22   Mid-Level CO2\n",
       "4            Germany              7.0400            2.42   Mid-Level CO2\n",
       "..               ...                 ...             ...             ...\n",
       "57          Colombia              0.0279            6.44   Low-Level CO2\n",
       "58           Ecuador              0.0228            7.05   Low-Level CO2\n",
       "59  Congo, Dem. Rep.              0.0212            5.99   Low-Level CO2\n",
       "60       Philippines              0.0083            5.99   Low-Level CO2\n",
       "61           Algeria              0.0046            6.99   Low-Level CO2\n",
       "\n",
       "[62 rows x 4 columns]"
      ]
     },
     "execution_count": 36,
     "metadata": {},
     "output_type": "execute_result"
    }
   ],
   "source": [
    "df_1924[\"CO2 Group\"] = pd.cut(df_1924[\"1924 CO2 Emissions\"], bins, labels=group_labels)\n",
    "df_1924 "
   ]
  },
  {
   "cell_type": "code",
   "execution_count": 37,
   "metadata": {},
   "outputs": [
    {
     "data": {
      "text/plain": [
       "<matplotlib.axes._subplots.AxesSubplot at 0x24c89b83c18>"
      ]
     },
     "execution_count": 37,
     "metadata": {},
     "output_type": "execute_result"
    },
    {
     "data": {
      "image/png": "[encoded data removed]",
      "text/plain": [
       "<Figure size 1440x720 with 1 Axes>"
      ]
     },
     "metadata": {
      "needs_background": "light"
     },
     "output_type": "display_data"
    }
   ],
   "source": [
    "df_1924.boxplot(\"Birthrate_1924\", by=\"CO2 Group\", figsize=(20, 10))"
   ]
  },
  {
   "cell_type": "code",
   "execution_count": 41,
   "metadata": {},
   "outputs": [],
   "source": [
    "group1 = df_1924[df_1924[\"CO2 Group\"] == \"Low-Level CO2\"][\"Birthrate_1924\"]\n",
    "group2 = df_1924[df_1924[\"CO2 Group\"] == \"Mid-Level CO2\"][\"Birthrate_1924\"]\n",
    "group3 = df_1924[df_1924[\"CO2 Group\"] == \"High-Level CO2\"][\"Birthrate_1924\"]"
   ]
  },
  {
   "cell_type": "code",
   "execution_count": 42,
   "metadata": {},
   "outputs": [
    {
     "data": {
      "text/plain": [
       "F_onewayResult(statistic=7.272371479240909, pvalue=0.0015026613905387187)"
      ]
     },
     "execution_count": 42,
     "metadata": {},
     "output_type": "execute_result"
    }
   ],
   "source": [
    "#perform the anova\n",
    "#reject null hypothesis \n",
    "stats.f_oneway(group1, group2, group3)"
   ]
  },
  {
   "cell_type": "code",
   "execution_count": 43,
   "metadata": {},
   "outputs": [
    {
     "data": {
      "text/plain": [
       "5.061428571428573"
      ]
     },
     "execution_count": 43,
     "metadata": {},
     "output_type": "execute_result"
    }
   ],
   "source": [
    "#independent t-test\n",
    "#calculate the 'population' mean for birthrate in lowest co2 group (year 1924)\n",
    "population1 = df_1924[df_1924[\"CO2 Group\"] == \"Low-Level CO2\"]\n",
    "population1.Birthrate_1924.mean()"
   ]
  },
  {
   "cell_type": "code",
   "execution_count": 44,
   "metadata": {},
   "outputs": [
    {
     "data": {
      "text/plain": [
       "2.6425"
      ]
     },
     "execution_count": 44,
     "metadata": {},
     "output_type": "execute_result"
    }
   ],
   "source": [
    "# Calculate the 'population' mean for birthrate in mid co2 group (year 1924)\n",
    "population2 = df_1924[df_1924[\"CO2 Group\"] == \"Mid-Level CO2\"]\n",
    "population2.Birthrate_1924.mean()"
   ]
  },
  {
   "cell_type": "code",
   "execution_count": 45,
   "metadata": {},
   "outputs": [
    {
     "data": {
      "text/plain": [
       "2.7"
      ]
     },
     "execution_count": 45,
     "metadata": {},
     "output_type": "execute_result"
    }
   ],
   "source": [
    "# Calculate the 'population' mean for birthrate in highest co2 group (year 1924)\n",
    "population3 = df_1924[df_1924[\"CO2 Group\"] == \"High-Level CO2\"]\n",
    "population3.Birthrate_1924.mean()"
   ]
  },
  {
   "cell_type": "code",
   "execution_count": 46,
   "metadata": {},
   "outputs": [
    {
     "data": {
      "text/plain": [
       "Ttest_indResult(statistic=8.560282812339935, pvalue=2.025233355306293e-06)"
      ]
     },
     "execution_count": 46,
     "metadata": {},
     "output_type": "execute_result"
    }
   ],
   "source": [
    "#calculate independent (two sample) t-test, low v mid (1924)\n",
    "#reject null hypothesis\n",
    "stats.ttest_ind(population1.Birthrate_1924, population2.Birthrate_1924, equal_var=False)"
   ]
  },
  {
   "cell_type": "code",
   "execution_count": 47,
   "metadata": {},
   "outputs": [
    {
     "data": {
      "text/plain": [
       "Ttest_indResult(statistic=5.066430595598681, pvalue=0.06298762835880907)"
      ]
     },
     "execution_count": 47,
     "metadata": {},
     "output_type": "execute_result"
    }
   ],
   "source": [
    "#calculate independent (two sample) t-test, low v high (1924)\n",
    "#fail to reject null hypothesis\n",
    "stats.ttest_ind(population1.Birthrate_1924, population3.Birthrate_1924, equal_var=False)"
   ]
  },
  {
   "cell_type": "code",
   "execution_count": 48,
   "metadata": {},
   "outputs": [
    {
     "data": {
      "text/plain": [
       "Ttest_indResult(statistic=-0.12389069652687118, pvalue=0.9162017924300669)"
      ]
     },
     "execution_count": 48,
     "metadata": {},
     "output_type": "execute_result"
    }
   ],
   "source": [
    "#calculate independent (two sample) t-test, mid v high (1924)\n",
    "#fail to reject null hypothesis\n",
    "stats.ttest_ind(population2.Birthrate_1924, population3.Birthrate_1924, equal_var=False)"
   ]
  },
  {
   "cell_type": "code",
   "execution_count": 49,
   "metadata": {},
   "outputs": [
    {
     "data": {
      "text/html": [
       "<div>\n",
       "<style scoped>\n",
       "    .dataframe tbody tr th:only-of-type {\n",
       "        vertical-align: middle;\n",
       "    }\n",
       "\n",
       "    .dataframe tbody tr th {\n",
       "        vertical-align: top;\n",
       "    }\n",
       "\n",
       "    .dataframe thead th {\n",
       "        text-align: right;\n",
       "    }\n",
       "</style>\n",
       "<table border=\"1\" class=\"dataframe\">\n",
       "  <thead>\n",
       "    <tr style=\"text-align: right;\">\n",
       "      <th></th>\n",
       "      <th>1934 CO2 Emissions</th>\n",
       "      <th>Birthrate_1934</th>\n",
       "    </tr>\n",
       "  </thead>\n",
       "  <tbody>\n",
       "    <tr>\n",
       "      <th>count</th>\n",
       "      <td>79.000000</td>\n",
       "      <td>79.000000</td>\n",
       "    </tr>\n",
       "    <tr>\n",
       "      <th>mean</th>\n",
       "      <td>1.770683</td>\n",
       "      <td>4.575823</td>\n",
       "    </tr>\n",
       "    <tr>\n",
       "      <th>std</th>\n",
       "      <td>2.451523</td>\n",
       "      <td>1.826188</td>\n",
       "    </tr>\n",
       "    <tr>\n",
       "      <th>min</th>\n",
       "      <td>0.001680</td>\n",
       "      <td>1.680000</td>\n",
       "    </tr>\n",
       "    <tr>\n",
       "      <th>25%</th>\n",
       "      <td>0.114000</td>\n",
       "      <td>2.830000</td>\n",
       "    </tr>\n",
       "    <tr>\n",
       "      <th>50%</th>\n",
       "      <td>0.944000</td>\n",
       "      <td>4.390000</td>\n",
       "    </tr>\n",
       "    <tr>\n",
       "      <th>75%</th>\n",
       "      <td>2.230000</td>\n",
       "      <td>6.235000</td>\n",
       "    </tr>\n",
       "    <tr>\n",
       "      <th>max</th>\n",
       "      <td>11.100000</td>\n",
       "      <td>7.480000</td>\n",
       "    </tr>\n",
       "  </tbody>\n",
       "</table>\n",
       "</div>"
      ],
      "text/plain": [
       "       1934 CO2 Emissions  Birthrate_1934\n",
       "count           79.000000       79.000000\n",
       "mean             1.770683        4.575823\n",
       "std              2.451523        1.826188\n",
       "min              0.001680        1.680000\n",
       "25%              0.114000        2.830000\n",
       "50%              0.944000        4.390000\n",
       "75%              2.230000        6.235000\n",
       "max             11.100000        7.480000"
      ]
     },
     "execution_count": 49,
     "metadata": {},
     "output_type": "execute_result"
    }
   ],
   "source": [
    "df_1934.describe()"
   ]
  },
  {
   "cell_type": "code",
   "execution_count": 50,
   "metadata": {},
   "outputs": [],
   "source": [
    "bins = [0, 4, 8, 12]\n",
    "group_labels = [\"Low-Level CO2\", \"Mid-Level CO2\", \"High-Level CO2\"]"
   ]
  },
  {
   "cell_type": "code",
   "execution_count": 51,
   "metadata": {},
   "outputs": [
    {
     "data": {
      "text/plain": [
       "0     High-Level CO2\n",
       "1     High-Level CO2\n",
       "2     High-Level CO2\n",
       "3     High-Level CO2\n",
       "4      Mid-Level CO2\n",
       "           ...      \n",
       "74     Low-Level CO2\n",
       "75     Low-Level CO2\n",
       "76     Low-Level CO2\n",
       "77     Low-Level CO2\n",
       "78     Low-Level CO2\n",
       "Name: 1934 CO2 Emissions, Length: 79, dtype: category\n",
       "Categories (3, object): [Low-Level CO2 < Mid-Level CO2 < High-Level CO2]"
      ]
     },
     "execution_count": 51,
     "metadata": {},
     "output_type": "execute_result"
    }
   ],
   "source": [
    "pd.cut(df_1934[\"1934 CO2 Emissions\"], bins, labels=group_labels)"
   ]
  },
  {
   "cell_type": "code",
   "execution_count": 52,
   "metadata": {},
   "outputs": [
    {
     "data": {
      "text/html": [
       "<div>\n",
       "<style scoped>\n",
       "    .dataframe tbody tr th:only-of-type {\n",
       "        vertical-align: middle;\n",
       "    }\n",
       "\n",
       "    .dataframe tbody tr th {\n",
       "        vertical-align: top;\n",
       "    }\n",
       "\n",
       "    .dataframe thead th {\n",
       "        text-align: right;\n",
       "    }\n",
       "</style>\n",
       "<table border=\"1\" class=\"dataframe\">\n",
       "  <thead>\n",
       "    <tr style=\"text-align: right;\">\n",
       "      <th></th>\n",
       "      <th>Country</th>\n",
       "      <th>1934 CO2 Emissions</th>\n",
       "      <th>Birthrate_1934</th>\n",
       "      <th>CO2 Group</th>\n",
       "    </tr>\n",
       "  </thead>\n",
       "  <tbody>\n",
       "    <tr>\n",
       "      <th>0</th>\n",
       "      <td>United States</td>\n",
       "      <td>11.10000</td>\n",
       "      <td>2.07</td>\n",
       "      <td>High-Level CO2</td>\n",
       "    </tr>\n",
       "    <tr>\n",
       "      <th>1</th>\n",
       "      <td>Trinidad and Tobago</td>\n",
       "      <td>10.90000</td>\n",
       "      <td>4.23</td>\n",
       "      <td>High-Level CO2</td>\n",
       "    </tr>\n",
       "    <tr>\n",
       "      <th>2</th>\n",
       "      <td>Belgium</td>\n",
       "      <td>9.08000</td>\n",
       "      <td>2.04</td>\n",
       "      <td>High-Level CO2</td>\n",
       "    </tr>\n",
       "    <tr>\n",
       "      <th>3</th>\n",
       "      <td>United Kingdom</td>\n",
       "      <td>9.06000</td>\n",
       "      <td>1.76</td>\n",
       "      <td>High-Level CO2</td>\n",
       "    </tr>\n",
       "    <tr>\n",
       "      <th>4</th>\n",
       "      <td>Canada</td>\n",
       "      <td>7.28000</td>\n",
       "      <td>2.80</td>\n",
       "      <td>Mid-Level CO2</td>\n",
       "    </tr>\n",
       "    <tr>\n",
       "      <th>...</th>\n",
       "      <td>...</td>\n",
       "      <td>...</td>\n",
       "      <td>...</td>\n",
       "      <td>...</td>\n",
       "    </tr>\n",
       "    <tr>\n",
       "      <th>74</th>\n",
       "      <td>Tunisia</td>\n",
       "      <td>0.00670</td>\n",
       "      <td>6.30</td>\n",
       "      <td>Low-Level CO2</td>\n",
       "    </tr>\n",
       "    <tr>\n",
       "      <th>75</th>\n",
       "      <td>Syria</td>\n",
       "      <td>0.00408</td>\n",
       "      <td>6.97</td>\n",
       "      <td>Low-Level CO2</td>\n",
       "    </tr>\n",
       "    <tr>\n",
       "      <th>76</th>\n",
       "      <td>Madagascar</td>\n",
       "      <td>0.00201</td>\n",
       "      <td>7.04</td>\n",
       "      <td>Low-Level CO2</td>\n",
       "    </tr>\n",
       "    <tr>\n",
       "      <th>77</th>\n",
       "      <td>Thailand</td>\n",
       "      <td>0.00183</td>\n",
       "      <td>6.27</td>\n",
       "      <td>Low-Level CO2</td>\n",
       "    </tr>\n",
       "    <tr>\n",
       "      <th>78</th>\n",
       "      <td>Congo, Dem. Rep.</td>\n",
       "      <td>0.00168</td>\n",
       "      <td>5.99</td>\n",
       "      <td>Low-Level CO2</td>\n",
       "    </tr>\n",
       "  </tbody>\n",
       "</table>\n",
       "<p>79 rows × 4 columns</p>\n",
       "</div>"
      ],
      "text/plain": [
       "                Country  1934 CO2 Emissions  Birthrate_1934       CO2 Group\n",
       "0         United States            11.10000            2.07  High-Level CO2\n",
       "1   Trinidad and Tobago            10.90000            4.23  High-Level CO2\n",
       "2               Belgium             9.08000            2.04  High-Level CO2\n",
       "3        United Kingdom             9.06000            1.76  High-Level CO2\n",
       "4                Canada             7.28000            2.80   Mid-Level CO2\n",
       "..                  ...                 ...             ...             ...\n",
       "74              Tunisia             0.00670            6.30   Low-Level CO2\n",
       "75                Syria             0.00408            6.97   Low-Level CO2\n",
       "76           Madagascar             0.00201            7.04   Low-Level CO2\n",
       "77             Thailand             0.00183            6.27   Low-Level CO2\n",
       "78     Congo, Dem. Rep.             0.00168            5.99   Low-Level CO2\n",
       "\n",
       "[79 rows x 4 columns]"
      ]
     },
     "execution_count": 52,
     "metadata": {},
     "output_type": "execute_result"
    }
   ],
   "source": [
    "df_1934[\"CO2 Group\"] = pd.cut(df_1934[\"1934 CO2 Emissions\"], bins, labels=group_labels)\n",
    "df_1934 "
   ]
  },
  {
   "cell_type": "code",
   "execution_count": 53,
   "metadata": {},
   "outputs": [
    {
     "data": {
      "text/plain": [
       "<matplotlib.axes._subplots.AxesSubplot at 0x24c89c60748>"
      ]
     },
     "execution_count": 53,
     "metadata": {},
     "output_type": "execute_result"
    },
    {
     "data": {
      "image/png": "[encoded data removed]",
      "text/plain": [
       "<Figure size 1440x720 with 1 Axes>"
      ]
     },
     "metadata": {
      "needs_background": "light"
     },
     "output_type": "display_data"
    }
   ],
   "source": [
    "df_1934.boxplot(\"Birthrate_1934\", by=\"CO2 Group\", figsize=(20, 10))"
   ]
  },
  {
   "cell_type": "code",
   "execution_count": 54,
   "metadata": {},
   "outputs": [],
   "source": [
    "group1 = df_1934[df_1934[\"CO2 Group\"] == \"Low-Level CO2\"][\"Birthrate_1934\"]\n",
    "group2 = df_1934[df_1934[\"CO2 Group\"] == \"Mid-Level CO2\"][\"Birthrate_1934\"]\n",
    "group3 = df_1934[df_1934[\"CO2 Group\"] == \"High-Level CO2\"][\"Birthrate_1934\"]"
   ]
  },
  {
   "cell_type": "code",
   "execution_count": 55,
   "metadata": {},
   "outputs": [
    {
     "data": {
      "text/plain": [
       "F_onewayResult(statistic=6.960565650887615, pvalue=0.0016755968893190074)"
      ]
     },
     "execution_count": 55,
     "metadata": {},
     "output_type": "execute_result"
    }
   ],
   "source": [
    "#perform the anova\n",
    "#reject null hypothesis\n",
    "stats.f_oneway(group1, group2, group3)"
   ]
  },
  {
   "cell_type": "code",
   "execution_count": 56,
   "metadata": {},
   "outputs": [
    {
     "data": {
      "text/plain": [
       "4.815352112676057"
      ]
     },
     "execution_count": 56,
     "metadata": {},
     "output_type": "execute_result"
    }
   ],
   "source": [
    "#independent t-test\n",
    "#calculate the 'population' mean for birthrate in lowest co2 group (year 1934)\n",
    "population1 = df_1934[df_1934[\"CO2 Group\"] == \"Low-Level CO2\"]\n",
    "population1.Birthrate_1934.mean()"
   ]
  },
  {
   "cell_type": "code",
   "execution_count": 57,
   "metadata": {},
   "outputs": [
    {
     "data": {
      "text/plain": [
       "2.375"
      ]
     },
     "execution_count": 57,
     "metadata": {},
     "output_type": "execute_result"
    }
   ],
   "source": [
    "# Calculate the 'population' mean for birthrate in mid co2 group (year 1934)\n",
    "population2 = df_1934[df_1934[\"CO2 Group\"] == \"Mid-Level CO2\"]\n",
    "population2.Birthrate_1934.mean()"
   ]
  },
  {
   "cell_type": "code",
   "execution_count": 58,
   "metadata": {},
   "outputs": [
    {
     "data": {
      "text/plain": [
       "2.525"
      ]
     },
     "execution_count": 58,
     "metadata": {},
     "output_type": "execute_result"
    }
   ],
   "source": [
    "# Calculate the 'population' mean for birthrate in highest co2 group (year 1934)\n",
    "population3 = df_1934[df_1934[\"CO2 Group\"] == \"High-Level CO2\"]\n",
    "population3.Birthrate_1934.mean()"
   ]
  },
  {
   "cell_type": "code",
   "execution_count": 59,
   "metadata": {},
   "outputs": [
    {
     "data": {
      "text/plain": [
       "Ttest_indResult(statistic=8.374305098695734, pvalue=2.4024927269520057e-06)"
      ]
     },
     "execution_count": 59,
     "metadata": {},
     "output_type": "execute_result"
    }
   ],
   "source": [
    "#calculate independent (two sample) t-test, low v mid (1934)\n",
    "#reject null hypothesis\n",
    "stats.ttest_ind(population1.Birthrate_1934, population2.Birthrate_1934, equal_var=False)"
   ]
  },
  {
   "cell_type": "code",
   "execution_count": 60,
   "metadata": {},
   "outputs": [
    {
     "data": {
      "text/plain": [
       "Ttest_indResult(statistic=3.7591258361148783, pvalue=0.02127256626021085)"
      ]
     },
     "execution_count": 60,
     "metadata": {},
     "output_type": "execute_result"
    }
   ],
   "source": [
    "#calculate independent (two sample) t-test, low v high (1934)\n",
    "#reject null hypothesis\n",
    "stats.ttest_ind(population1.Birthrate_1934, population3.Birthrate_1934, equal_var=False)"
   ]
  },
  {
   "cell_type": "code",
   "execution_count": 61,
   "metadata": {},
   "outputs": [
    {
     "data": {
      "text/plain": [
       "Ttest_indResult(statistic=-0.24678196820164183, pvalue=0.8179959571080806)"
      ]
     },
     "execution_count": 61,
     "metadata": {},
     "output_type": "execute_result"
    }
   ],
   "source": []
  },
  {
   "cell_type": "code",
   "execution_count": 62,
   "metadata": {},
   "outputs": [
    {
     "data": {
      "text/html": [
       "<div>\n",
       "<style scoped>\n",
       "    .dataframe tbody tr th:only-of-type {\n",
       "        vertical-align: middle;\n",
       "    }\n",
       "\n",
       "    .dataframe tbody tr th {\n",
       "        vertical-align: top;\n",
       "    }\n",
       "\n",
       "    .dataframe thead th {\n",
       "        text-align: right;\n",
       "    }\n",
       "</style>\n",
       "<table border=\"1\" class=\"dataframe\">\n",
       "  <thead>\n",
       "    <tr style=\"text-align: right;\">\n",
       "      <th></th>\n",
       "      <th>1944 CO2 Emissions</th>\n",
       "      <th>Birthrate_1944</th>\n",
       "    </tr>\n",
       "  </thead>\n",
       "  <tbody>\n",
       "    <tr>\n",
       "      <th>count</th>\n",
       "      <td>81.000000</td>\n",
       "      <td>81.000000</td>\n",
       "    </tr>\n",
       "    <tr>\n",
       "      <th>mean</th>\n",
       "      <td>3.195757</td>\n",
       "      <td>4.558519</td>\n",
       "    </tr>\n",
       "    <tr>\n",
       "      <th>std</th>\n",
       "      <td>8.196922</td>\n",
       "      <td>1.811189</td>\n",
       "    </tr>\n",
       "    <tr>\n",
       "      <th>min</th>\n",
       "      <td>0.000850</td>\n",
       "      <td>1.720000</td>\n",
       "    </tr>\n",
       "    <tr>\n",
       "      <th>25%</th>\n",
       "      <td>0.130000</td>\n",
       "      <td>2.930000</td>\n",
       "    </tr>\n",
       "    <tr>\n",
       "      <th>50%</th>\n",
       "      <td>0.953000</td>\n",
       "      <td>4.790000</td>\n",
       "    </tr>\n",
       "    <tr>\n",
       "      <th>75%</th>\n",
       "      <td>2.540000</td>\n",
       "      <td>6.160000</td>\n",
       "    </tr>\n",
       "    <tr>\n",
       "      <th>max</th>\n",
       "      <td>64.800000</td>\n",
       "      <td>7.880000</td>\n",
       "    </tr>\n",
       "  </tbody>\n",
       "</table>\n",
       "</div>"
      ],
      "text/plain": [
       "       1944 CO2 Emissions  Birthrate_1944\n",
       "count           81.000000       81.000000\n",
       "mean             3.195757        4.558519\n",
       "std              8.196922        1.811189\n",
       "min              0.000850        1.720000\n",
       "25%              0.130000        2.930000\n",
       "50%              0.953000        4.790000\n",
       "75%              2.540000        6.160000\n",
       "max             64.800000        7.880000"
      ]
     },
     "execution_count": 62,
     "metadata": {},
     "output_type": "execute_result"
    }
   ],
   "source": [
    "df_1944.describe()"
   ]
  },
  {
   "cell_type": "code",
   "execution_count": 63,
   "metadata": {},
   "outputs": [],
   "source": [
    "bins = [0, 8.7, 17.3, 26]\n",
    "group_labels = [\"Low-Level CO2\", \"Mid-Level CO2\", \"High-Level CO2\"]"
   ]
  },
  {
   "cell_type": "code",
   "execution_count": 64,
   "metadata": {},
   "outputs": [
    {
     "data": {
      "text/plain": [
       "0                NaN\n",
       "1     High-Level CO2\n",
       "2     High-Level CO2\n",
       "3      Mid-Level CO2\n",
       "4      Mid-Level CO2\n",
       "           ...      \n",
       "76     Low-Level CO2\n",
       "77     Low-Level CO2\n",
       "78     Low-Level CO2\n",
       "79     Low-Level CO2\n",
       "80     Low-Level CO2\n",
       "Name: 1944 CO2 Emissions, Length: 81, dtype: category\n",
       "Categories (3, object): [Low-Level CO2 < Mid-Level CO2 < High-Level CO2]"
      ]
     },
     "execution_count": 64,
     "metadata": {},
     "output_type": "execute_result"
    }
   ],
   "source": [
    "pd.cut(df_1944[\"1944 CO2 Emissions\"], bins, labels=group_labels)"
   ]
  },
  {
   "cell_type": "code",
   "execution_count": 65,
   "metadata": {},
   "outputs": [
    {
     "data": {
      "text/html": [
       "<div>\n",
       "<style scoped>\n",
       "    .dataframe tbody tr th:only-of-type {\n",
       "        vertical-align: middle;\n",
       "    }\n",
       "\n",
       "    .dataframe tbody tr th {\n",
       "        vertical-align: top;\n",
       "    }\n",
       "\n",
       "    .dataframe thead th {\n",
       "        text-align: right;\n",
       "    }\n",
       "</style>\n",
       "<table border=\"1\" class=\"dataframe\">\n",
       "  <thead>\n",
       "    <tr style=\"text-align: right;\">\n",
       "      <th></th>\n",
       "      <th>Country</th>\n",
       "      <th>1944 CO2 Emissions</th>\n",
       "      <th>Birthrate_1944</th>\n",
       "      <th>CO2 Group</th>\n",
       "    </tr>\n",
       "  </thead>\n",
       "  <tbody>\n",
       "    <tr>\n",
       "      <th>0</th>\n",
       "      <td>Brunei</td>\n",
       "      <td>64.80000</td>\n",
       "      <td>7.41</td>\n",
       "      <td>NaN</td>\n",
       "    </tr>\n",
       "    <tr>\n",
       "      <th>1</th>\n",
       "      <td>Bahrain</td>\n",
       "      <td>25.80000</td>\n",
       "      <td>7.02</td>\n",
       "      <td>High-Level CO2</td>\n",
       "    </tr>\n",
       "    <tr>\n",
       "      <th>2</th>\n",
       "      <td>Trinidad and Tobago</td>\n",
       "      <td>19.70000</td>\n",
       "      <td>5.16</td>\n",
       "      <td>High-Level CO2</td>\n",
       "    </tr>\n",
       "    <tr>\n",
       "      <th>3</th>\n",
       "      <td>United States</td>\n",
       "      <td>17.30000</td>\n",
       "      <td>2.44</td>\n",
       "      <td>Mid-Level CO2</td>\n",
       "    </tr>\n",
       "    <tr>\n",
       "      <th>4</th>\n",
       "      <td>Canada</td>\n",
       "      <td>11.50000</td>\n",
       "      <td>3.00</td>\n",
       "      <td>Mid-Level CO2</td>\n",
       "    </tr>\n",
       "    <tr>\n",
       "      <th>...</th>\n",
       "      <td>...</td>\n",
       "      <td>...</td>\n",
       "      <td>...</td>\n",
       "      <td>...</td>\n",
       "    </tr>\n",
       "    <tr>\n",
       "      <th>76</th>\n",
       "      <td>Mozambique</td>\n",
       "      <td>0.00943</td>\n",
       "      <td>6.69</td>\n",
       "      <td>Low-Level CO2</td>\n",
       "    </tr>\n",
       "    <tr>\n",
       "      <th>77</th>\n",
       "      <td>Syria</td>\n",
       "      <td>0.00588</td>\n",
       "      <td>7.10</td>\n",
       "      <td>Low-Level CO2</td>\n",
       "    </tr>\n",
       "    <tr>\n",
       "      <th>78</th>\n",
       "      <td>Guatemala</td>\n",
       "      <td>0.00431</td>\n",
       "      <td>6.48</td>\n",
       "      <td>Low-Level CO2</td>\n",
       "    </tr>\n",
       "    <tr>\n",
       "      <th>79</th>\n",
       "      <td>Nicaragua</td>\n",
       "      <td>0.00342</td>\n",
       "      <td>6.60</td>\n",
       "      <td>Low-Level CO2</td>\n",
       "    </tr>\n",
       "    <tr>\n",
       "      <th>80</th>\n",
       "      <td>Thailand</td>\n",
       "      <td>0.00085</td>\n",
       "      <td>6.18</td>\n",
       "      <td>Low-Level CO2</td>\n",
       "    </tr>\n",
       "  </tbody>\n",
       "</table>\n",
       "<p>81 rows × 4 columns</p>\n",
       "</div>"
      ],
      "text/plain": [
       "                Country  1944 CO2 Emissions  Birthrate_1944       CO2 Group\n",
       "0                Brunei            64.80000            7.41             NaN\n",
       "1               Bahrain            25.80000            7.02  High-Level CO2\n",
       "2   Trinidad and Tobago            19.70000            5.16  High-Level CO2\n",
       "3         United States            17.30000            2.44   Mid-Level CO2\n",
       "4                Canada            11.50000            3.00   Mid-Level CO2\n",
       "..                  ...                 ...             ...             ...\n",
       "76           Mozambique             0.00943            6.69   Low-Level CO2\n",
       "77                Syria             0.00588            7.10   Low-Level CO2\n",
       "78            Guatemala             0.00431            6.48   Low-Level CO2\n",
       "79            Nicaragua             0.00342            6.60   Low-Level CO2\n",
       "80             Thailand             0.00085            6.18   Low-Level CO2\n",
       "\n",
       "[81 rows x 4 columns]"
      ]
     },
     "execution_count": 65,
     "metadata": {},
     "output_type": "execute_result"
    }
   ],
   "source": [
    "df_1944[\"CO2 Group\"] = pd.cut(df_1944[\"1944 CO2 Emissions\"], bins, labels=group_labels)\n",
    "df_1944 "
   ]
  },
  {
   "cell_type": "code",
   "execution_count": 66,
   "metadata": {},
   "outputs": [
    {
     "data": {
      "text/plain": [
       "<matplotlib.axes._subplots.AxesSubplot at 0x24c89cefb38>"
      ]
     },
     "execution_count": 66,
     "metadata": {},
     "output_type": "execute_result"
    },
    {
     "data": {
      "image/png": "[encoded data removed]",
      "text/plain": [
       "<Figure size 1440x720 with 1 Axes>"
      ]
     },
     "metadata": {
      "needs_background": "light"
     },
     "output_type": "display_data"
    }
   ],
   "source": [
    "df_1944.boxplot(\"Birthrate_1944\", by=\"CO2 Group\", figsize=(20, 10))"
   ]
  },
  {
   "cell_type": "code",
   "execution_count": 67,
   "metadata": {},
   "outputs": [],
   "source": [
    "group1 = df_1944[df_1944[\"CO2 Group\"] == \"Low-Level CO2\"][\"Birthrate_1944\"]\n",
    "group2 = df_1944[df_1944[\"CO2 Group\"] == \"Mid-Level CO2\"][\"Birthrate_1944\"]\n",
    "group3 = df_1944[df_1944[\"CO2 Group\"] == \"High-Level CO2\"][\"Birthrate_1944\"]"
   ]
  },
  {
   "cell_type": "code",
   "execution_count": 68,
   "metadata": {},
   "outputs": [
    {
     "data": {
      "text/plain": [
       "F_onewayResult(statistic=2.677961229734384, pvalue=0.07510031034686536)"
      ]
     },
     "execution_count": 68,
     "metadata": {},
     "output_type": "execute_result"
    }
   ],
   "source": [
    "#perform the anova\n",
    "#fail to reject null hypothesis\n",
    "stats.f_oneway(group1, group2, group3)"
   ]
  },
  {
   "cell_type": "code",
   "execution_count": 69,
   "metadata": {},
   "outputs": [
    {
     "data": {
      "text/plain": [
       "4.559466666666667"
      ]
     },
     "execution_count": 69,
     "metadata": {},
     "output_type": "execute_result"
    }
   ],
   "source": [
    "#independent t-test\n",
    "#calculate the 'population' mean for birthrate in lowest co2 group (year 1944)\n",
    "population1 = df_1944[df_1944[\"CO2 Group\"] == \"Low-Level CO2\"]\n",
    "population1.Birthrate_1944.mean()"
   ]
  },
  {
   "cell_type": "code",
   "execution_count": 70,
   "metadata": {},
   "outputs": [
    {
     "data": {
      "text/plain": [
       "2.563333333333333"
      ]
     },
     "execution_count": 70,
     "metadata": {},
     "output_type": "execute_result"
    }
   ],
   "source": [
    "# Calculate the 'population' mean for birthrate in mid co2 group (year 1944)\n",
    "population2 = df_1944[df_1944[\"CO2 Group\"] == \"Mid-Level CO2\"]\n",
    "population2.Birthrate_1944.mean()"
   ]
  },
  {
   "cell_type": "code",
   "execution_count": 71,
   "metadata": {},
   "outputs": [
    {
     "data": {
      "text/plain": [
       "6.09"
      ]
     },
     "execution_count": 71,
     "metadata": {},
     "output_type": "execute_result"
    }
   ],
   "source": [
    "# Calculate the 'population' mean for birthrate in highest co2 group (year 1944)\n",
    "population3 = df_1944[df_1944[\"CO2 Group\"] == \"High-Level CO2\"]\n",
    "population3.Birthrate_1944.mean()"
   ]
  },
  {
   "cell_type": "code",
   "execution_count": 72,
   "metadata": {},
   "outputs": [
    {
     "data": {
      "text/plain": [
       "Ttest_indResult(statistic=6.540853676846495, pvalue=0.00040466884409067925)"
      ]
     },
     "execution_count": 72,
     "metadata": {},
     "output_type": "execute_result"
    }
   ],
   "source": [
    "#calculate independent (two sample) t-test, low v mid (1944)\n",
    "#reject null hypothesis\n",
    "stats.ttest_ind(population1.Birthrate_1944, population2.Birthrate_1944, equal_var=False)"
   ]
  },
  {
   "cell_type": "code",
   "execution_count": 73,
   "metadata": {},
   "outputs": [
    {
     "data": {
      "text/plain": [
       "Ttest_indResult(statistic=-1.6067702443919696, pvalue=0.33753581433843377)"
      ]
     },
     "execution_count": 73,
     "metadata": {},
     "output_type": "execute_result"
    }
   ],
   "source": [
    "#calculate independent (two sample) t-test, low v high (1944)\n",
    "#fail to reject null hypothesis\n",
    "stats.ttest_ind(population1.Birthrate_1944, population3.Birthrate_1944, equal_var=False)"
   ]
  },
  {
   "cell_type": "code",
   "execution_count": 74,
   "metadata": {},
   "outputs": [
    {
     "data": {
      "text/plain": [
       "Ttest_indResult(statistic=-3.6856729168338163, pvalue=0.14755119108233572)"
      ]
     },
     "execution_count": 74,
     "metadata": {},
     "output_type": "execute_result"
    }
   ],
   "source": [
    "#calculate independent (two sample) t-test, mid v high (1944)\n",
    "#fail to reject null hypothesis\n",
    "stats.ttest_ind(population2.Birthrate_1944, population3.Birthrate_1944, equal_var=False)"
   ]
  },
  {
   "cell_type": "code",
   "execution_count": 75,
   "metadata": {},
   "outputs": [
    {
     "data": {
      "text/html": [
       "<div>\n",
       "<style scoped>\n",
       "    .dataframe tbody tr th:only-of-type {\n",
       "        vertical-align: middle;\n",
       "    }\n",
       "\n",
       "    .dataframe tbody tr th {\n",
       "        vertical-align: top;\n",
       "    }\n",
       "\n",
       "    .dataframe thead th {\n",
       "        text-align: right;\n",
       "    }\n",
       "</style>\n",
       "<table border=\"1\" class=\"dataframe\">\n",
       "  <thead>\n",
       "    <tr style=\"text-align: right;\">\n",
       "      <th></th>\n",
       "      <th>1954 CO2 Emissions</th>\n",
       "      <th>Birthrate_1954</th>\n",
       "    </tr>\n",
       "  </thead>\n",
       "  <tbody>\n",
       "    <tr>\n",
       "      <th>count</th>\n",
       "      <td>137.000000</td>\n",
       "      <td>137.000000</td>\n",
       "    </tr>\n",
       "    <tr>\n",
       "      <th>mean</th>\n",
       "      <td>2.243838</td>\n",
       "      <td>5.343796</td>\n",
       "    </tr>\n",
       "    <tr>\n",
       "      <th>std</th>\n",
       "      <td>3.895850</td>\n",
       "      <td>1.738697</td>\n",
       "    </tr>\n",
       "    <tr>\n",
       "      <th>min</th>\n",
       "      <td>0.004410</td>\n",
       "      <td>2.060000</td>\n",
       "    </tr>\n",
       "    <tr>\n",
       "      <th>25%</th>\n",
       "      <td>0.174000</td>\n",
       "      <td>3.610000</td>\n",
       "    </tr>\n",
       "    <tr>\n",
       "      <th>50%</th>\n",
       "      <td>0.510000</td>\n",
       "      <td>5.970000</td>\n",
       "    </tr>\n",
       "    <tr>\n",
       "      <th>75%</th>\n",
       "      <td>2.650000</td>\n",
       "      <td>6.730000</td>\n",
       "    </tr>\n",
       "    <tr>\n",
       "      <th>max</th>\n",
       "      <td>29.000000</td>\n",
       "      <td>7.660000</td>\n",
       "    </tr>\n",
       "  </tbody>\n",
       "</table>\n",
       "</div>"
      ],
      "text/plain": [
       "       1954 CO2 Emissions  Birthrate_1954\n",
       "count          137.000000      137.000000\n",
       "mean             2.243838        5.343796\n",
       "std              3.895850        1.738697\n",
       "min              0.004410        2.060000\n",
       "25%              0.174000        3.610000\n",
       "50%              0.510000        5.970000\n",
       "75%              2.650000        6.730000\n",
       "max             29.000000        7.660000"
      ]
     },
     "execution_count": 75,
     "metadata": {},
     "output_type": "execute_result"
    }
   ],
   "source": [
    "df_1954.describe()"
   ]
  },
  {
   "cell_type": "code",
   "execution_count": 76,
   "metadata": {},
   "outputs": [],
   "source": [
    "bins = [0, 6, 12, 18]\n",
    "group_labels = [\"Low-Level CO2\", \"Mid-Level CO2\", \"High-Level CO2\"]"
   ]
  },
  {
   "cell_type": "code",
   "execution_count": 77,
   "metadata": {},
   "outputs": [
    {
     "data": {
      "text/plain": [
       "0                 NaN\n",
       "1      High-Level CO2\n",
       "2      High-Level CO2\n",
       "3       Mid-Level CO2\n",
       "4       Mid-Level CO2\n",
       "            ...      \n",
       "132     Low-Level CO2\n",
       "133     Low-Level CO2\n",
       "134     Low-Level CO2\n",
       "135     Low-Level CO2\n",
       "136     Low-Level CO2\n",
       "Name: 1954 CO2 Emissions, Length: 137, dtype: category\n",
       "Categories (3, object): [Low-Level CO2 < Mid-Level CO2 < High-Level CO2]"
      ]
     },
     "execution_count": 77,
     "metadata": {},
     "output_type": "execute_result"
    }
   ],
   "source": [
    "pd.cut(df_1954[\"1954 CO2 Emissions\"], bins, labels=group_labels)"
   ]
  },
  {
   "cell_type": "code",
   "execution_count": 78,
   "metadata": {},
   "outputs": [
    {
     "data": {
      "text/html": [
       "<div>\n",
       "<style scoped>\n",
       "    .dataframe tbody tr th:only-of-type {\n",
       "        vertical-align: middle;\n",
       "    }\n",
       "\n",
       "    .dataframe tbody tr th {\n",
       "        vertical-align: top;\n",
       "    }\n",
       "\n",
       "    .dataframe thead th {\n",
       "        text-align: right;\n",
       "    }\n",
       "</style>\n",
       "<table border=\"1\" class=\"dataframe\">\n",
       "  <thead>\n",
       "    <tr style=\"text-align: right;\">\n",
       "      <th></th>\n",
       "      <th>Country</th>\n",
       "      <th>1954 CO2 Emissions</th>\n",
       "      <th>Birthrate_1954</th>\n",
       "      <th>CO2 Group</th>\n",
       "    </tr>\n",
       "  </thead>\n",
       "  <tbody>\n",
       "    <tr>\n",
       "      <th>0</th>\n",
       "      <td>Luxembourg</td>\n",
       "      <td>29.00000</td>\n",
       "      <td>2.06</td>\n",
       "      <td>NaN</td>\n",
       "    </tr>\n",
       "    <tr>\n",
       "      <th>1</th>\n",
       "      <td>Qatar</td>\n",
       "      <td>17.90000</td>\n",
       "      <td>6.97</td>\n",
       "      <td>High-Level CO2</td>\n",
       "    </tr>\n",
       "    <tr>\n",
       "      <th>2</th>\n",
       "      <td>United States</td>\n",
       "      <td>14.70000</td>\n",
       "      <td>3.49</td>\n",
       "      <td>High-Level CO2</td>\n",
       "    </tr>\n",
       "    <tr>\n",
       "      <th>3</th>\n",
       "      <td>United Kingdom</td>\n",
       "      <td>10.90000</td>\n",
       "      <td>2.26</td>\n",
       "      <td>Mid-Level CO2</td>\n",
       "    </tr>\n",
       "    <tr>\n",
       "      <th>4</th>\n",
       "      <td>Canada</td>\n",
       "      <td>10.70000</td>\n",
       "      <td>3.78</td>\n",
       "      <td>Mid-Level CO2</td>\n",
       "    </tr>\n",
       "    <tr>\n",
       "      <th>...</th>\n",
       "      <td>...</td>\n",
       "      <td>...</td>\n",
       "      <td>...</td>\n",
       "      <td>...</td>\n",
       "    </tr>\n",
       "    <tr>\n",
       "      <th>132</th>\n",
       "      <td>Ethiopia</td>\n",
       "      <td>0.01390</td>\n",
       "      <td>7.05</td>\n",
       "      <td>Low-Level CO2</td>\n",
       "    </tr>\n",
       "    <tr>\n",
       "      <th>133</th>\n",
       "      <td>Afghanistan</td>\n",
       "      <td>0.01310</td>\n",
       "      <td>7.53</td>\n",
       "      <td>Low-Level CO2</td>\n",
       "    </tr>\n",
       "    <tr>\n",
       "      <th>134</th>\n",
       "      <td>Guinea-Bissau</td>\n",
       "      <td>0.01290</td>\n",
       "      <td>6.05</td>\n",
       "      <td>Low-Level CO2</td>\n",
       "    </tr>\n",
       "    <tr>\n",
       "      <th>135</th>\n",
       "      <td>Swaziland</td>\n",
       "      <td>0.01220</td>\n",
       "      <td>6.69</td>\n",
       "      <td>Low-Level CO2</td>\n",
       "    </tr>\n",
       "    <tr>\n",
       "      <th>136</th>\n",
       "      <td>Nepal</td>\n",
       "      <td>0.00441</td>\n",
       "      <td>5.97</td>\n",
       "      <td>Low-Level CO2</td>\n",
       "    </tr>\n",
       "  </tbody>\n",
       "</table>\n",
       "<p>137 rows × 4 columns</p>\n",
       "</div>"
      ],
      "text/plain": [
       "            Country  1954 CO2 Emissions  Birthrate_1954       CO2 Group\n",
       "0        Luxembourg            29.00000            2.06             NaN\n",
       "1             Qatar            17.90000            6.97  High-Level CO2\n",
       "2     United States            14.70000            3.49  High-Level CO2\n",
       "3    United Kingdom            10.90000            2.26   Mid-Level CO2\n",
       "4            Canada            10.70000            3.78   Mid-Level CO2\n",
       "..              ...                 ...             ...             ...\n",
       "132        Ethiopia             0.01390            7.05   Low-Level CO2\n",
       "133     Afghanistan             0.01310            7.53   Low-Level CO2\n",
       "134   Guinea-Bissau             0.01290            6.05   Low-Level CO2\n",
       "135       Swaziland             0.01220            6.69   Low-Level CO2\n",
       "136           Nepal             0.00441            5.97   Low-Level CO2\n",
       "\n",
       "[137 rows x 4 columns]"
      ]
     },
     "execution_count": 78,
     "metadata": {},
     "output_type": "execute_result"
    }
   ],
   "source": [
    "df_1954[\"CO2 Group\"] = pd.cut(df_1954[\"1954 CO2 Emissions\"], bins, labels=group_labels)\n",
    "df_1954 "
   ]
  },
  {
   "cell_type": "code",
   "execution_count": 79,
   "metadata": {},
   "outputs": [
    {
     "data": {
      "text/plain": [
       "<matplotlib.axes._subplots.AxesSubplot at 0x24c8a3b0860>"
      ]
     },
     "execution_count": 79,
     "metadata": {},
     "output_type": "execute_result"
    },
    {
     "data": {
      "image/png": "[encoded data removed]",
      "text/plain": [
       "<Figure size 1440x720 with 1 Axes>"
      ]
     },
     "metadata": {
      "needs_background": "light"
     },
     "output_type": "display_data"
    }
   ],
   "source": [
    "df_1954.boxplot(\"Birthrate_1954\", by=\"CO2 Group\", figsize=(20, 10))"
   ]
  },
  {
   "cell_type": "code",
   "execution_count": 80,
   "metadata": {},
   "outputs": [],
   "source": [
    "group1 = df_1954[df_1954[\"CO2 Group\"] == \"Low-Level CO2\"][\"Birthrate_1954\"]\n",
    "group2 = df_1954[df_1954[\"CO2 Group\"] == \"Mid-Level CO2\"][\"Birthrate_1954\"]\n",
    "group3 = df_1954[df_1954[\"CO2 Group\"] == \"High-Level CO2\"][\"Birthrate_1954\"]"
   ]
  },
  {
   "cell_type": "code",
   "execution_count": 81,
   "metadata": {},
   "outputs": [
    {
     "data": {
      "text/plain": [
       "F_onewayResult(statistic=3.08549437196602, pvalue=0.048994206618631214)"
      ]
     },
     "execution_count": 81,
     "metadata": {},
     "output_type": "execute_result"
    }
   ],
   "source": [
    "#perform the anova\n",
    "#reject null hypothesis\n",
    "stats.f_oneway(group1, group2, group3)"
   ]
  },
  {
   "cell_type": "code",
   "execution_count": 82,
   "metadata": {},
   "outputs": [
    {
     "data": {
      "text/plain": [
       "5.484016393442624"
      ]
     },
     "execution_count": 82,
     "metadata": {},
     "output_type": "execute_result"
    }
   ],
   "source": [
    "#independent t-test\n",
    "#calculate the 'population' mean for birthrate in lowest co2 group (year 1954)\n",
    "population1 = df_1954[df_1954[\"CO2 Group\"] == \"Low-Level CO2\"]\n",
    "population1.Birthrate_1954.mean()"
   ]
  },
  {
   "cell_type": "code",
   "execution_count": 83,
   "metadata": {},
   "outputs": [
    {
     "data": {
      "text/plain": [
       "4.210833333333334"
      ]
     },
     "execution_count": 83,
     "metadata": {},
     "output_type": "execute_result"
    }
   ],
   "source": [
    "# Calculate the 'population' mean for birthrate in mid co2 group (year 1954)\n",
    "population2 = df_1954[df_1954[\"CO2 Group\"] == \"Mid-Level CO2\"]\n",
    "population2.Birthrate_1954.mean()"
   ]
  },
  {
   "cell_type": "code",
   "execution_count": 84,
   "metadata": {},
   "outputs": [
    {
     "data": {
      "text/plain": [
       "5.23"
      ]
     },
     "execution_count": 84,
     "metadata": {},
     "output_type": "execute_result"
    }
   ],
   "source": [
    "# Calculate the 'population' mean for birthrate in highest co2 group (year 1954)\n",
    "population3 = df_1954[df_1954[\"CO2 Group\"] == \"High-Level CO2\"]\n",
    "population3.Birthrate_1954.mean()"
   ]
  },
  {
   "cell_type": "code",
   "execution_count": 85,
   "metadata": {},
   "outputs": [
    {
     "data": {
      "text/plain": [
       "Ttest_indResult(statistic=2.250989142846485, pvalue=0.042702660498572124)"
      ]
     },
     "execution_count": 85,
     "metadata": {},
     "output_type": "execute_result"
    }
   ],
   "source": [
    "#calculate independent (two sample) t-test, low v mid (1954)\n",
    "#reject null hypothesis\n",
    "stats.ttest_ind(population1.Birthrate_1954, population2.Birthrate_1954, equal_var=False)"
   ]
  },
  {
   "cell_type": "code",
   "execution_count": 86,
   "metadata": {},
   "outputs": [
    {
     "data": {
      "text/plain": [
       "Ttest_indResult(statistic=0.1454387222418014, pvalue=0.9077847212079208)"
      ]
     },
     "execution_count": 86,
     "metadata": {},
     "output_type": "execute_result"
    }
   ],
   "source": [
    "#calculate independent (two sample) t-test, low v high (1954)\n",
    "#fail to reject null hypothesis\n",
    "stats.ttest_ind(population1.Birthrate_1954, population3.Birthrate_1954, equal_var=False)"
   ]
  },
  {
   "cell_type": "code",
   "execution_count": 87,
   "metadata": {},
   "outputs": [
    {
     "data": {
      "text/plain": [
       "Ttest_indResult(statistic=-0.5589474923578889, pvalue=0.6621860132303483)"
      ]
     },
     "execution_count": 87,
     "metadata": {},
     "output_type": "execute_result"
    }
   ],
   "source": [
    "#calculate independent (two sample) t-test, mid v high (1954)\n",
    "#fail to reject null hypothesis\n",
    "stats.ttest_ind(population2.Birthrate_1954, population3.Birthrate_1954, equal_var=False)"
   ]
  },
  {
   "cell_type": "code",
   "execution_count": 88,
   "metadata": {},
   "outputs": [
    {
     "data": {
      "text/html": [
       "<div>\n",
       "<style scoped>\n",
       "    .dataframe tbody tr th:only-of-type {\n",
       "        vertical-align: middle;\n",
       "    }\n",
       "\n",
       "    .dataframe tbody tr th {\n",
       "        vertical-align: top;\n",
       "    }\n",
       "\n",
       "    .dataframe thead th {\n",
       "        text-align: right;\n",
       "    }\n",
       "</style>\n",
       "<table border=\"1\" class=\"dataframe\">\n",
       "  <thead>\n",
       "    <tr style=\"text-align: right;\">\n",
       "      <th></th>\n",
       "      <th>1964 CO2 Emissions</th>\n",
       "      <th>Birthrate_1964</th>\n",
       "    </tr>\n",
       "  </thead>\n",
       "  <tbody>\n",
       "    <tr>\n",
       "      <th>count</th>\n",
       "      <td>165.000000</td>\n",
       "      <td>165.000000</td>\n",
       "    </tr>\n",
       "    <tr>\n",
       "      <th>mean</th>\n",
       "      <td>3.432159</td>\n",
       "      <td>5.552606</td>\n",
       "    </tr>\n",
       "    <tr>\n",
       "      <th>std</th>\n",
       "      <td>9.350475</td>\n",
       "      <td>1.774703</td>\n",
       "    </tr>\n",
       "    <tr>\n",
       "      <th>min</th>\n",
       "      <td>0.011600</td>\n",
       "      <td>1.830000</td>\n",
       "    </tr>\n",
       "    <tr>\n",
       "      <th>25%</th>\n",
       "      <td>0.184000</td>\n",
       "      <td>4.090000</td>\n",
       "    </tr>\n",
       "    <tr>\n",
       "      <th>50%</th>\n",
       "      <td>0.787000</td>\n",
       "      <td>6.150000</td>\n",
       "    </tr>\n",
       "    <tr>\n",
       "      <th>75%</th>\n",
       "      <td>3.490000</td>\n",
       "      <td>6.870000</td>\n",
       "    </tr>\n",
       "    <tr>\n",
       "      <th>max</th>\n",
       "      <td>92.900000</td>\n",
       "      <td>8.200000</td>\n",
       "    </tr>\n",
       "  </tbody>\n",
       "</table>\n",
       "</div>"
      ],
      "text/plain": [
       "       1964 CO2 Emissions  Birthrate_1964\n",
       "count          165.000000      165.000000\n",
       "mean             3.432159        5.552606\n",
       "std              9.350475        1.774703\n",
       "min              0.011600        1.830000\n",
       "25%              0.184000        4.090000\n",
       "50%              0.787000        6.150000\n",
       "75%              3.490000        6.870000\n",
       "max             92.900000        8.200000"
      ]
     },
     "execution_count": 88,
     "metadata": {},
     "output_type": "execute_result"
    }
   ],
   "source": [
    "df_1964.describe()"
   ]
  },
  {
   "cell_type": "code",
   "execution_count": 89,
   "metadata": {},
   "outputs": [],
   "source": [
    "bins = [0, 10.3, 31, 93]\n",
    "group_labels = [\"Low-Level CO2\", \"Mid-Level CO2\", \"High-Level CO2\"]"
   ]
  },
  {
   "cell_type": "code",
   "execution_count": 90,
   "metadata": {},
   "outputs": [
    {
     "data": {
      "text/plain": [
       "0      High-Level CO2\n",
       "1      High-Level CO2\n",
       "2      High-Level CO2\n",
       "3       Mid-Level CO2\n",
       "4       Mid-Level CO2\n",
       "            ...      \n",
       "160     Low-Level CO2\n",
       "161     Low-Level CO2\n",
       "162     Low-Level CO2\n",
       "163     Low-Level CO2\n",
       "164     Low-Level CO2\n",
       "Name: 1964 CO2 Emissions, Length: 165, dtype: category\n",
       "Categories (3, object): [Low-Level CO2 < Mid-Level CO2 < High-Level CO2]"
      ]
     },
     "execution_count": 90,
     "metadata": {},
     "output_type": "execute_result"
    }
   ],
   "source": [
    "pd.cut(df_1964[\"1964 CO2 Emissions\"], bins, labels=group_labels)"
   ]
  },
  {
   "cell_type": "code",
   "execution_count": 91,
   "metadata": {},
   "outputs": [
    {
     "data": {
      "text/html": [
       "<div>\n",
       "<style scoped>\n",
       "    .dataframe tbody tr th:only-of-type {\n",
       "        vertical-align: middle;\n",
       "    }\n",
       "\n",
       "    .dataframe tbody tr th {\n",
       "        vertical-align: top;\n",
       "    }\n",
       "\n",
       "    .dataframe thead th {\n",
       "        text-align: right;\n",
       "    }\n",
       "</style>\n",
       "<table border=\"1\" class=\"dataframe\">\n",
       "  <thead>\n",
       "    <tr style=\"text-align: right;\">\n",
       "      <th></th>\n",
       "      <th>Country</th>\n",
       "      <th>1964 CO2 Emissions</th>\n",
       "      <th>Birthrate_1964</th>\n",
       "      <th>CO2 Group</th>\n",
       "    </tr>\n",
       "  </thead>\n",
       "  <tbody>\n",
       "    <tr>\n",
       "      <th>0</th>\n",
       "      <td>Qatar</td>\n",
       "      <td>92.9000</td>\n",
       "      <td>6.99</td>\n",
       "      <td>High-Level CO2</td>\n",
       "    </tr>\n",
       "    <tr>\n",
       "      <th>1</th>\n",
       "      <td>Kuwait</td>\n",
       "      <td>59.6000</td>\n",
       "      <td>7.38</td>\n",
       "      <td>High-Level CO2</td>\n",
       "    </tr>\n",
       "    <tr>\n",
       "      <th>2</th>\n",
       "      <td>Luxembourg</td>\n",
       "      <td>37.6000</td>\n",
       "      <td>2.37</td>\n",
       "      <td>High-Level CO2</td>\n",
       "    </tr>\n",
       "    <tr>\n",
       "      <th>3</th>\n",
       "      <td>United States</td>\n",
       "      <td>16.5000</td>\n",
       "      <td>3.22</td>\n",
       "      <td>Mid-Level CO2</td>\n",
       "    </tr>\n",
       "    <tr>\n",
       "      <th>4</th>\n",
       "      <td>Germany</td>\n",
       "      <td>12.8000</td>\n",
       "      <td>2.50</td>\n",
       "      <td>Mid-Level CO2</td>\n",
       "    </tr>\n",
       "    <tr>\n",
       "      <th>...</th>\n",
       "      <td>...</td>\n",
       "      <td>...</td>\n",
       "      <td>...</td>\n",
       "      <td>...</td>\n",
       "    </tr>\n",
       "    <tr>\n",
       "      <th>160</th>\n",
       "      <td>Oman</td>\n",
       "      <td>0.0181</td>\n",
       "      <td>7.26</td>\n",
       "      <td>Low-Level CO2</td>\n",
       "    </tr>\n",
       "    <tr>\n",
       "      <th>161</th>\n",
       "      <td>Ethiopia</td>\n",
       "      <td>0.0167</td>\n",
       "      <td>6.87</td>\n",
       "      <td>Low-Level CO2</td>\n",
       "    </tr>\n",
       "    <tr>\n",
       "      <th>162</th>\n",
       "      <td>Burundi</td>\n",
       "      <td>0.0158</td>\n",
       "      <td>7.14</td>\n",
       "      <td>Low-Level CO2</td>\n",
       "    </tr>\n",
       "    <tr>\n",
       "      <th>163</th>\n",
       "      <td>Nepal</td>\n",
       "      <td>0.0140</td>\n",
       "      <td>5.97</td>\n",
       "      <td>Low-Level CO2</td>\n",
       "    </tr>\n",
       "    <tr>\n",
       "      <th>164</th>\n",
       "      <td>Rwanda</td>\n",
       "      <td>0.0116</td>\n",
       "      <td>8.20</td>\n",
       "      <td>Low-Level CO2</td>\n",
       "    </tr>\n",
       "  </tbody>\n",
       "</table>\n",
       "<p>165 rows × 4 columns</p>\n",
       "</div>"
      ],
      "text/plain": [
       "           Country  1964 CO2 Emissions  Birthrate_1964       CO2 Group\n",
       "0            Qatar             92.9000            6.99  High-Level CO2\n",
       "1           Kuwait             59.6000            7.38  High-Level CO2\n",
       "2       Luxembourg             37.6000            2.37  High-Level CO2\n",
       "3    United States             16.5000            3.22   Mid-Level CO2\n",
       "4          Germany             12.8000            2.50   Mid-Level CO2\n",
       "..             ...                 ...             ...             ...\n",
       "160           Oman              0.0181            7.26   Low-Level CO2\n",
       "161       Ethiopia              0.0167            6.87   Low-Level CO2\n",
       "162        Burundi              0.0158            7.14   Low-Level CO2\n",
       "163          Nepal              0.0140            5.97   Low-Level CO2\n",
       "164         Rwanda              0.0116            8.20   Low-Level CO2\n",
       "\n",
       "[165 rows x 4 columns]"
      ]
     },
     "execution_count": 91,
     "metadata": {},
     "output_type": "execute_result"
    }
   ],
   "source": [
    "df_1964[\"CO2 Group\"] = pd.cut(df_1964[\"1964 CO2 Emissions\"], bins, labels=group_labels)\n",
    "df_1964"
   ]
  },
  {
   "cell_type": "code",
   "execution_count": 92,
   "metadata": {},
   "outputs": [
    {
     "data": {
      "text/plain": [
       "<matplotlib.axes._subplots.AxesSubplot at 0x24c8a46e588>"
      ]
     },
     "execution_count": 92,
     "metadata": {},
     "output_type": "execute_result"
    },
    {
     "data": {
      "image/png": "[encoded data removed]",
      "text/plain": [
       "<Figure size 1440x720 with 1 Axes>"
      ]
     },
     "metadata": {
      "needs_background": "light"
     },
     "output_type": "display_data"
    }
   ],
   "source": [
    "df_1964.boxplot(\"Birthrate_1964\", by=\"CO2 Group\", figsize=(20, 10))"
   ]
  },
  {
   "cell_type": "code",
   "execution_count": 93,
   "metadata": {},
   "outputs": [],
   "source": [
    "group1 = df_1964[df_1964[\"CO2 Group\"] == \"Low-Level CO2\"][\"Birthrate_1964\"]\n",
    "group2 = df_1964[df_1964[\"CO2 Group\"] == \"Mid-Level CO2\"][\"Birthrate_1964\"]\n",
    "group3 = df_1964[df_1964[\"CO2 Group\"] == \"High-Level CO2\"][\"Birthrate_1964\"]"
   ]
  },
  {
   "cell_type": "code",
   "execution_count": 94,
   "metadata": {},
   "outputs": [
    {
     "data": {
      "text/plain": [
       "F_onewayResult(statistic=8.45765608097125, pvalue=0.0003208247219774552)"
      ]
     },
     "execution_count": 94,
     "metadata": {},
     "output_type": "execute_result"
    }
   ],
   "source": [
    "#perform the anova\n",
    "#reject null hypothesis\n",
    "stats.f_oneway(group1, group2, group3)"
   ]
  },
  {
   "cell_type": "code",
   "execution_count": 95,
   "metadata": {},
   "outputs": [
    {
     "data": {
      "text/plain": [
       "5.668774193548386"
      ]
     },
     "execution_count": 95,
     "metadata": {},
     "output_type": "execute_result"
    }
   ],
   "source": [
    "#independent t-test\n",
    "#calculate the 'population' mean for birthrate in lowest co2 group (year 1964)\n",
    "population1 = df_1964[df_1964[\"CO2 Group\"] == \"Low-Level CO2\"]\n",
    "population1.Birthrate_1964.mean()"
   ]
  },
  {
   "cell_type": "code",
   "execution_count": 96,
   "metadata": {},
   "outputs": [
    {
     "data": {
      "text/plain": [
       "2.968571428571429"
      ]
     },
     "execution_count": 96,
     "metadata": {},
     "output_type": "execute_result"
    }
   ],
   "source": [
    "# Calculate the 'population' mean for birthrate in mid co2 group (year 1964)\n",
    "population2 = df_1964[df_1964[\"CO2 Group\"] == \"Mid-Level CO2\"]\n",
    "population2.Birthrate_1964.mean()"
   ]
  },
  {
   "cell_type": "code",
   "execution_count": 97,
   "metadata": {},
   "outputs": [
    {
     "data": {
      "text/plain": [
       "5.580000000000001"
      ]
     },
     "execution_count": 97,
     "metadata": {},
     "output_type": "execute_result"
    }
   ],
   "source": [
    "# Calculate the 'population' mean for birthrate in highest co2 group (year 1964)\n",
    "population3 = df_1964[df_1964[\"CO2 Group\"] == \"High-Level CO2\"]\n",
    "population3.Birthrate_1964.mean()"
   ]
  },
  {
   "cell_type": "code",
   "execution_count": 98,
   "metadata": {},
   "outputs": [
    {
     "data": {
      "text/plain": [
       "Ttest_indResult(statistic=9.15124273716388, pvalue=4.302611917338284e-06)"
      ]
     },
     "execution_count": 98,
     "metadata": {},
     "output_type": "execute_result"
    }
   ],
   "source": [
    "#calculate independent (two sample) t-test, low v mid (1964)\n",
    "#reject null hypothesis\n",
    "stats.ttest_ind(population1.Birthrate_1964, population2.Birthrate_1964, equal_var=False)"
   ]
  },
  {
   "cell_type": "code",
   "execution_count": 99,
   "metadata": {},
   "outputs": [
    {
     "data": {
      "text/plain": [
       "Ttest_indResult(statistic=0.054975943338372156, pvalue=0.9610916812990395)"
      ]
     },
     "execution_count": 99,
     "metadata": {},
     "output_type": "execute_result"
    }
   ],
   "source": [
    "#calculate independent (two sample) t-test, low v high (1964)\n",
    "#fail to reject null hypothesis\n",
    "stats.ttest_ind(population1.Birthrate_1964, population3.Birthrate_1964, equal_var=False)"
   ]
  },
  {
   "cell_type": "code",
   "execution_count": 100,
   "metadata": {},
   "outputs": [
    {
     "data": {
      "text/plain": [
       "Ttest_indResult(statistic=-1.6020913172260318, pvalue=0.24409029087701173)"
      ]
     },
     "execution_count": 100,
     "metadata": {},
     "output_type": "execute_result"
    }
   ],
   "source": [
    "#calculate independent (two sample) t-test, mid v high (1964)\n",
    "#fail to reject null hypothesis\n",
    "stats.ttest_ind(population2.Birthrate_1964, population3.Birthrate_1964, equal_var=False)"
   ]
  },
  {
   "cell_type": "code",
   "execution_count": null,
   "metadata": {},
   "outputs": [],
   "source": [
    "#anova test yields reject null hypothesis for almost all years. \n",
    "#when we run independent t-test, it's reject null hypothesis for low vs mid CO2 levels, but it's fail to reject null hypothesis for low vs high & mid vs high C02 groups. "
   ]
  }
 ],
 "metadata": {
  "kernelspec": {
   "display_name": "Python 3",
   "language": "python",
   "name": "python3"
  },
  "language_info": {
   "codemirror_mode": {
    "name": "ipython",
    "version": 3
   },
   "file_extension": ".py",
   "mimetype": "text/x-python",
   "name": "python",
   "nbconvert_exporter": "python",
   "pygments_lexer": "ipython3",
   "version": "3.6.10"
  }
 },
 "nbformat": 4,
 "nbformat_minor": 2
}
