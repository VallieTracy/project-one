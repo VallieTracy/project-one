{
 "cells": [
  {
   "cell_type": "markdown",
   "metadata": {},
   "source": [
    "# 1974:\n",
    "**ANOVA**     \n",
    "We fail to reject the null hypothesis that the three groups (low, mid, and high level co2) have the same mean.     \n",
    "(pvalue=0.11840330378773414)     \n",
    "\n",
    "**INDEPENDENT T-TEST**     \n",
    "We fail to reject the null hypothesis that the low co2 and mid co2 populations have the same mean.     \n",
    "(pvalue=0.19116443352329557)     \n",
    "     \n",
    "We reject the null hypothesis that the low co2 and high co2 populations have the same mean.     \n",
    "(pvalue=0.04972510869748724)     \n",
    "\n",
    "We fail to reject the null hypothesis that the mid co2 and high co2 populations have the same mean.     \n",
    "(pvalue=0.11417299856100048)"
   ]
  },
  {
   "cell_type": "markdown",
   "metadata": {},
   "source": [
    "# 1984:\n",
    "**ANOVA**     \n",
    "We reject the null hypothesis that the three groups (low, mid, and high level co2) have the same mean.      \n",
    "(pvalue=0.0052469295784811605)      \n",
    "\n",
    "**INDEPENDENT T-TEST**     \n",
    "We reject the null hypothesis that the low co2 and mid co2 populations have the same mean.     \n",
    "(pvalue=0.001322492667227697)     \n",
    "     \n",
    "We fail to reject the null hypothesis that the low co2 and high co2 populations have the same mean.     \n",
    "(pvalue=0.6231034774169064)     \n",
    "\n",
    "We fail to reject the null hypothesis that the mid co2 and high co2 populations have the same mean.     \n",
    "(pvalue=0.4649917518020482)"
   ]
  },
  {
   "cell_type": "markdown",
   "metadata": {},
   "source": [
    "# 1994:\n",
    "**ANOVA**     \n",
    "We fail to reject the null hypothesis that the three groups (low, mid, and high level co2) have the same mean.      \n",
    "(pvalue=0.5918038356578468)     \n",
    "\n",
    "**INDEPENDENT T-TEST**     \n",
    "We fail to reject the null hypothesis that the low co2 and mid co2 populations have the same mean.     \n",
    "(pvalue=0.10140804933520058)     \n",
    "     \n",
    "************We reject the null hypothesis that the low co2 and high co2 populations have the same mean.     \n",
    "(pvalue=NAN)     \n",
    "\n",
    "************We fail to reject the null hypothesis that the mid co2 and high co2 populations have the same mean.     \n",
    "(pvalue=NAN)"
   ]
  },
  {
   "cell_type": "markdown",
   "metadata": {},
   "source": [
    "# 2004:\n",
    "**ANOVA**     \n",
    "We fail to reject the null hypothesis that the three groups (low, mid, and high level co2) have the same mean.      \n",
    "(pvalue=0.3072931037564791)     \n",
    "\n",
    "**INDEPENDENT T-TEST**     \n",
    "We reject the null hypothesis that the low co2 and mid co2 populations have the same mean.     \n",
    "(pvalue=0.00011790404348985693)     \n",
    "     \n",
    "***************We reject the null hypothesis that the low co2 and high co2 populations have the same mean.     \n",
    "(pvalue=NAN)     \n",
    "\n",
    "***************We fail to reject the null hypothesis that the mid co2 and high co2 populations have the same mean.     \n",
    "(pvalue=NAN)"
   ]
  },
  {
   "cell_type": "markdown",
   "metadata": {},
   "source": [
    "# 2014:\n",
    "**ANOVA**     \n",
    "We fail to reject the null hypothesis that the three groups (low, mid, and high level co2) have the same mean.      \n",
    "(pvalue=0.11840330378773414)     \n",
    "\n",
    "**INDEPENDENT T-TEST**     \n",
    "We reject the null hypothesis that the low co2 and mid co2 populations have the same mean.     \n",
    "(pvalue=5.780655003320307e-05)     \n",
    "     \n",
    "We reject the null hypothesis that the low co2 and high co2 populations have the same mean.     \n",
    "(pvalue=0.04972510869748724)     \n",
    "\n",
    "We fail to reject the null hypothesis that the mid co2 and high co2 populations have the same mean.     \n",
    "(pvalue=0.11417299856100048)"
   ]
  },
  {
   "cell_type": "code",
   "execution_count": null,
   "metadata": {},
   "outputs": [],
   "source": []
  }
 ],
 "metadata": {
  "kernelspec": {
   "display_name": "Python 3",
   "language": "python",
   "name": "python3"
  },
  "language_info": {
   "codemirror_mode": {
    "name": "ipython",
    "version": 3
   },
   "file_extension": ".py",
   "mimetype": "text/x-python",
   "name": "python",
   "nbconvert_exporter": "python",
   "pygments_lexer": "ipython3",
   "version": "3.7.4"
  }
 },
 "nbformat": 4,
 "nbformat_minor": 2
}
