{
 "cells": [
  {
   "cell_type": "markdown",
   "metadata": {},
   "source": [
    "Our initial null hypothesis is that CO2 has no impact on birthrate.      \n",
    "**1974 ANOVA:** We fail to reject the null hypothesis.     \n",
    "**1984 ANOVA:** We reject the null hypothesis.  **Statistical significance.**          \n",
    "**1994 ANOVA:** Again, we reject the null hypothesis.  **Statistical significance.**          \n",
    "**2004 ANOVA:** We reject the null hypothesis.  **Statistical significance.**           \n",
    "**2014 ANOVA:** We fail to reject the null hypothesis."
   ]
  },
  {
   "cell_type": "markdown",
   "metadata": {},
   "source": [
    "**1974 independent t-test**      \n",
    "1.) low v mid co2 group: pvalue=0.19116443352329557               \n",
    "2.) low v high co2 group: pvalue=0.04972510869748724  **statistically significant**       \n",
    "3.) mid v high co2 group: pvalue=0.11417299856100048    \n",
    "**1984 independent t-test**      \n",
    "1.) low v mid co2 group: pvalue=0.001322492667227697  **statistically significant**             \n",
    "2.) low v high co2 group: pvalue=0.6231034774169064   \n",
    "3.) mid v high co2 group: pvalue=0.4649917518020482     \n",
    "**1994 independent t-test**      \n",
    "1.) low v mid co2 group: pvalue=2.0456190226109258e-07  **statistically significant**                    \n",
    "2.) low v high co2 group: pvalue=0.06731869902518281         \n",
    "3.) mid v high co2 group: pvalue=0.16835126798273775          \n",
    "**2004 independent t-test**      \n",
    "1.) low v mid co2 group: pvalue=8.766856976516902e-09  **statistically significant**                    \n",
    "2.) low v high co2 group: pvalue=2.9850813435716226e-05  **statistically significant**          \n",
    "3.) mid v high co2 group: pvalue=0.25313922444906123    \n",
    "**2014 independent t-test**      \n",
    "1.) low v mid co2 group: pvalue=5.780655003320307e-05  **statistically significant**               \n",
    "2.) low v high co2 group: pvalue=0.0001383794422842055  **statistically significant**    \n",
    "3.) mid v high co2 group: pvalue=0.25224938444185263"
   ]
  },
  {
   "cell_type": "markdown",
   "metadata": {},
   "source": [
    "# 1974:\n",
    "**ANOVA**     \n",
    "We fail to reject the null hypothesis that the three groups (low, mid, and high level co2) have the same mean.     \n",
    "(pvalue=0.11840330378773414)     \n",
    "\n",
    "**INDEPENDENT T-TEST**     \n",
    "We fail to reject the null hypothesis that the low co2 and mid co2 populations have the same mean.     \n",
    "(pvalue=0.19116443352329557)     \n",
    "     \n",
    "We reject the null hypothesis that the low co2 and high co2 populations have the same mean.     \n",
    "(pvalue=0.04972510869748724)     \n",
    "\n",
    "We fail to reject the null hypothesis that the mid co2 and high co2 populations have the same mean.     \n",
    "(pvalue=0.11417299856100048)"
   ]
  },
  {
   "cell_type": "markdown",
   "metadata": {},
   "source": [
    "# 1984:\n",
    "**ANOVA**     \n",
    "We reject the null hypothesis that the three groups (low, mid, and high level co2) have the same mean.      \n",
    "(pvalue=0.0052469295784811605)      \n",
    "\n",
    "**INDEPENDENT T-TEST**     \n",
    "We reject the null hypothesis that the low co2 and mid co2 populations have the same mean.     \n",
    "(pvalue=0.001322492667227697)     \n",
    "     \n",
    "We fail to reject the null hypothesis that the low co2 and high co2 populations have the same mean.     \n",
    "(pvalue=0.6231034774169064)     \n",
    "\n",
    "We fail to reject the null hypothesis that the mid co2 and high co2 populations have the same mean.     \n",
    "(pvalue=0.4649917518020482)"
   ]
  },
  {
   "cell_type": "markdown",
   "metadata": {},
   "source": [
    "# 1994:\n",
    "**ANOVA**     \n",
    "We reject the null hypothesis that the three groups (low, mid, and high level co2) have the same mean.      \n",
    "(pvalue=0.0001972143158635787)     \n",
    "\n",
    "**INDEPENDENT T-TEST**     \n",
    "We reject the null hypothesis that the low co2 and mid co2 populations have the same mean.     \n",
    "(pvalue=2.0456190226109258e-07)     \n",
    "     \n",
    "We fail to reject the null hypothesis that the low co2 and high co2 populations have the same mean.     \n",
    "(pvalue=0.06731869902518281)     \n",
    "\n",
    "We fail to reject the null hypothesis that the mid co2 and high co2 populations have the same mean.     \n",
    "(pvalue=0.16835126798273775)"
   ]
  },
  {
   "cell_type": "markdown",
   "metadata": {},
   "source": [
    "# 2004:\n",
    "**ANOVA**     \n",
    "We reject the null hypothesis that the three groups (low, mid, and high level co2) have the same mean.      \n",
    "(pvalue=0.0008060396295975093)     \n",
    "\n",
    "**INDEPENDENT T-TEST**     \n",
    "We reject the null hypothesis that the low co2 and mid co2 populations have the same mean.     \n",
    "(pvalue=8.766856976516902e-09)     \n",
    "     \n",
    "We reject the null hypothesis that the low co2 and high co2 populations have the same mean.     \n",
    "(pvalue=2.9850813435716226e-05)     \n",
    "\n",
    "We fail to reject the null hypothesis that the mid co2 and high co2 populations have the same mean.     \n",
    "(pvalue=0.25313922444906123)"
   ]
  },
  {
   "cell_type": "markdown",
   "metadata": {},
   "source": [
    "# 2014:\n",
    "**ANOVA**     \n",
    "We fail to reject the null hypothesis that the three groups (low, mid, and high level co2) have the same mean.      \n",
    "(pvalue=0.11840330378773414)     \n",
    "\n",
    "**INDEPENDENT T-TEST**     \n",
    "We reject the null hypothesis that the low co2 and mid co2 populations have the same mean.     \n",
    "(pvalue=5.780655003320307e-05)     \n",
    "     \n",
    "We reject the null hypothesis that the low co2 and high co2 populations have the same mean.     \n",
    "(pvalue=0.0001383794422842055)     \n",
    "\n",
    "We fail to reject the null hypothesis that the mid co2 and high co2 populations have the same mean.     \n",
    "(pvalue=0.25224938444185263)"
   ]
  },
  {
   "cell_type": "code",
   "execution_count": null,
   "metadata": {},
   "outputs": [],
   "source": []
  }
 ],
 "metadata": {
  "kernelspec": {
   "display_name": "Python 3",
   "language": "python",
   "name": "python3"
  },
  "language_info": {
   "codemirror_mode": {
    "name": "ipython",
    "version": 3
   },
   "file_extension": ".py",
   "mimetype": "text/x-python",
   "name": "python",
   "nbconvert_exporter": "python",
   "pygments_lexer": "ipython3",
   "version": "3.7.4"
  }
 },
 "nbformat": 4,
 "nbformat_minor": 2
}
