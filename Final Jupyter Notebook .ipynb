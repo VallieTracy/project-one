{
 "cells": [
  {
   "cell_type": "code",
   "execution_count": 2,
   "metadata": {},
   "outputs": [],
   "source": [
    "import warnings\n",
    "warnings.filterwarnings('ignore')"
   ]
  },
  {
   "cell_type": "code",
   "execution_count": 3,
   "metadata": {},
   "outputs": [],
   "source": [
    "#import dependencies\n",
    "import matplotlib.pyplot as plt\n",
    "import pandas as pd\n",
    "import numpy as np\n",
    "import requests\n",
    "import time\n",
    "import os\n",
    "from scipy.stats import linregress\n",
    "from scipy import stats\n",
    "import scipy.stats as stats\n",
    "%matplotlib inline"
   ]
  },
  {
   "cell_type": "code",
   "execution_count": 3,
   "metadata": {},
   "outputs": [],
   "source": [
    "#Bernt's code starts here"
   ]
  },
  {
   "cell_type": "code",
   "execution_count": 4,
   "metadata": {},
   "outputs": [
    {
     "data": {
      "text/html": [
       "<div>\n",
       "<style scoped>\n",
       "    .dataframe tbody tr th:only-of-type {\n",
       "        vertical-align: middle;\n",
       "    }\n",
       "\n",
       "    .dataframe tbody tr th {\n",
       "        vertical-align: top;\n",
       "    }\n",
       "\n",
       "    .dataframe thead th {\n",
       "        text-align: right;\n",
       "    }\n",
       "</style>\n",
       "<table border=\"1\" class=\"dataframe\">\n",
       "  <thead>\n",
       "    <tr style=\"text-align: right;\">\n",
       "      <th></th>\n",
       "      <th>country</th>\n",
       "      <th>1800</th>\n",
       "      <th>1801</th>\n",
       "      <th>1802</th>\n",
       "      <th>1803</th>\n",
       "      <th>1804</th>\n",
       "      <th>1805</th>\n",
       "      <th>1806</th>\n",
       "      <th>1807</th>\n",
       "      <th>1808</th>\n",
       "      <th>...</th>\n",
       "      <th>2009</th>\n",
       "      <th>2010</th>\n",
       "      <th>2011</th>\n",
       "      <th>2012</th>\n",
       "      <th>2013</th>\n",
       "      <th>2014</th>\n",
       "      <th>2015</th>\n",
       "      <th>2016</th>\n",
       "      <th>2017</th>\n",
       "      <th>2018</th>\n",
       "    </tr>\n",
       "  </thead>\n",
       "  <tbody>\n",
       "    <tr>\n",
       "      <td>0</td>\n",
       "      <td>Afghanistan</td>\n",
       "      <td>7.00</td>\n",
       "      <td>7.00</td>\n",
       "      <td>7.00</td>\n",
       "      <td>7.00</td>\n",
       "      <td>7.00</td>\n",
       "      <td>7.00</td>\n",
       "      <td>7.00</td>\n",
       "      <td>7.00</td>\n",
       "      <td>7.00</td>\n",
       "      <td>...</td>\n",
       "      <td>6.04</td>\n",
       "      <td>5.82</td>\n",
       "      <td>5.60</td>\n",
       "      <td>5.38</td>\n",
       "      <td>5.17</td>\n",
       "      <td>4.98</td>\n",
       "      <td>4.80</td>\n",
       "      <td>4.64</td>\n",
       "      <td>4.48</td>\n",
       "      <td>4.33</td>\n",
       "    </tr>\n",
       "    <tr>\n",
       "      <td>1</td>\n",
       "      <td>Albania</td>\n",
       "      <td>4.60</td>\n",
       "      <td>4.60</td>\n",
       "      <td>4.60</td>\n",
       "      <td>4.60</td>\n",
       "      <td>4.60</td>\n",
       "      <td>4.60</td>\n",
       "      <td>4.60</td>\n",
       "      <td>4.60</td>\n",
       "      <td>4.60</td>\n",
       "      <td>...</td>\n",
       "      <td>1.65</td>\n",
       "      <td>1.65</td>\n",
       "      <td>1.67</td>\n",
       "      <td>1.69</td>\n",
       "      <td>1.70</td>\n",
       "      <td>1.71</td>\n",
       "      <td>1.71</td>\n",
       "      <td>1.71</td>\n",
       "      <td>1.71</td>\n",
       "      <td>1.71</td>\n",
       "    </tr>\n",
       "    <tr>\n",
       "      <td>2</td>\n",
       "      <td>Algeria</td>\n",
       "      <td>6.99</td>\n",
       "      <td>6.99</td>\n",
       "      <td>6.99</td>\n",
       "      <td>6.99</td>\n",
       "      <td>6.99</td>\n",
       "      <td>6.99</td>\n",
       "      <td>6.99</td>\n",
       "      <td>6.99</td>\n",
       "      <td>6.99</td>\n",
       "      <td>...</td>\n",
       "      <td>2.83</td>\n",
       "      <td>2.89</td>\n",
       "      <td>2.93</td>\n",
       "      <td>2.94</td>\n",
       "      <td>2.92</td>\n",
       "      <td>2.89</td>\n",
       "      <td>2.84</td>\n",
       "      <td>2.78</td>\n",
       "      <td>2.71</td>\n",
       "      <td>2.64</td>\n",
       "    </tr>\n",
       "    <tr>\n",
       "      <td>3</td>\n",
       "      <td>Angola</td>\n",
       "      <td>6.93</td>\n",
       "      <td>6.93</td>\n",
       "      <td>6.93</td>\n",
       "      <td>6.93</td>\n",
       "      <td>6.93</td>\n",
       "      <td>6.93</td>\n",
       "      <td>6.93</td>\n",
       "      <td>6.94</td>\n",
       "      <td>6.94</td>\n",
       "      <td>...</td>\n",
       "      <td>6.24</td>\n",
       "      <td>6.16</td>\n",
       "      <td>6.08</td>\n",
       "      <td>6.00</td>\n",
       "      <td>5.92</td>\n",
       "      <td>5.84</td>\n",
       "      <td>5.77</td>\n",
       "      <td>5.69</td>\n",
       "      <td>5.62</td>\n",
       "      <td>5.55</td>\n",
       "    </tr>\n",
       "    <tr>\n",
       "      <td>4</td>\n",
       "      <td>Antigua and Barbuda</td>\n",
       "      <td>5.00</td>\n",
       "      <td>5.00</td>\n",
       "      <td>4.99</td>\n",
       "      <td>4.99</td>\n",
       "      <td>4.99</td>\n",
       "      <td>4.98</td>\n",
       "      <td>4.98</td>\n",
       "      <td>4.97</td>\n",
       "      <td>4.97</td>\n",
       "      <td>...</td>\n",
       "      <td>2.15</td>\n",
       "      <td>2.13</td>\n",
       "      <td>2.12</td>\n",
       "      <td>2.10</td>\n",
       "      <td>2.09</td>\n",
       "      <td>2.08</td>\n",
       "      <td>2.06</td>\n",
       "      <td>2.05</td>\n",
       "      <td>2.04</td>\n",
       "      <td>2.03</td>\n",
       "    </tr>\n",
       "  </tbody>\n",
       "</table>\n",
       "<p>5 rows × 220 columns</p>\n",
       "</div>"
      ],
      "text/plain": [
       "               country  1800  1801  1802  1803  1804  1805  1806  1807  1808  \\\n",
       "0          Afghanistan  7.00  7.00  7.00  7.00  7.00  7.00  7.00  7.00  7.00   \n",
       "1              Albania  4.60  4.60  4.60  4.60  4.60  4.60  4.60  4.60  4.60   \n",
       "2              Algeria  6.99  6.99  6.99  6.99  6.99  6.99  6.99  6.99  6.99   \n",
       "3               Angola  6.93  6.93  6.93  6.93  6.93  6.93  6.93  6.94  6.94   \n",
       "4  Antigua and Barbuda  5.00  5.00  4.99  4.99  4.99  4.98  4.98  4.97  4.97   \n",
       "\n",
       "   ...  2009  2010  2011  2012  2013  2014  2015  2016  2017  2018  \n",
       "0  ...  6.04  5.82  5.60  5.38  5.17  4.98  4.80  4.64  4.48  4.33  \n",
       "1  ...  1.65  1.65  1.67  1.69  1.70  1.71  1.71  1.71  1.71  1.71  \n",
       "2  ...  2.83  2.89  2.93  2.94  2.92  2.89  2.84  2.78  2.71  2.64  \n",
       "3  ...  6.24  6.16  6.08  6.00  5.92  5.84  5.77  5.69  5.62  5.55  \n",
       "4  ...  2.15  2.13  2.12  2.10  2.09  2.08  2.06  2.05  2.04  2.03  \n",
       "\n",
       "[5 rows x 220 columns]"
      ]
     },
     "execution_count": 4,
     "metadata": {},
     "output_type": "execute_result"
    }
   ],
   "source": [
    "# Importing necessary dataframes\n",
    "\n",
    "birthrate_csv = \"../project-one/Resources/children_per_woman_total_fertility.csv\"\n",
    "birthrate_df = pd.read_csv(birthrate_csv)\n",
    "birthrate_df.head()"
   ]
  },
  {
   "cell_type": "code",
   "execution_count": 5,
   "metadata": {},
   "outputs": [
    {
     "data": {
      "text/html": [
       "<div>\n",
       "<style scoped>\n",
       "    .dataframe tbody tr th:only-of-type {\n",
       "        vertical-align: middle;\n",
       "    }\n",
       "\n",
       "    .dataframe tbody tr th {\n",
       "        vertical-align: top;\n",
       "    }\n",
       "\n",
       "    .dataframe thead th {\n",
       "        text-align: right;\n",
       "    }\n",
       "</style>\n",
       "<table border=\"1\" class=\"dataframe\">\n",
       "  <thead>\n",
       "    <tr style=\"text-align: right;\">\n",
       "      <th></th>\n",
       "      <th>country</th>\n",
       "      <th>1800</th>\n",
       "      <th>1801</th>\n",
       "      <th>1802</th>\n",
       "      <th>1803</th>\n",
       "      <th>1804</th>\n",
       "      <th>1805</th>\n",
       "      <th>1806</th>\n",
       "      <th>1807</th>\n",
       "      <th>1808</th>\n",
       "      <th>...</th>\n",
       "      <th>2005</th>\n",
       "      <th>2006</th>\n",
       "      <th>2007</th>\n",
       "      <th>2008</th>\n",
       "      <th>2009</th>\n",
       "      <th>2010</th>\n",
       "      <th>2011</th>\n",
       "      <th>2012</th>\n",
       "      <th>2013</th>\n",
       "      <th>2014</th>\n",
       "    </tr>\n",
       "  </thead>\n",
       "  <tbody>\n",
       "    <tr>\n",
       "      <td>0</td>\n",
       "      <td>Afghanistan</td>\n",
       "      <td>NaN</td>\n",
       "      <td>NaN</td>\n",
       "      <td>NaN</td>\n",
       "      <td>NaN</td>\n",
       "      <td>NaN</td>\n",
       "      <td>NaN</td>\n",
       "      <td>NaN</td>\n",
       "      <td>NaN</td>\n",
       "      <td>NaN</td>\n",
       "      <td>...</td>\n",
       "      <td>0.0529</td>\n",
       "      <td>0.0637</td>\n",
       "      <td>0.0854</td>\n",
       "      <td>0.154</td>\n",
       "      <td>0.242</td>\n",
       "      <td>0.294</td>\n",
       "      <td>0.412</td>\n",
       "      <td>0.35</td>\n",
       "      <td>0.316</td>\n",
       "      <td>0.299</td>\n",
       "    </tr>\n",
       "    <tr>\n",
       "      <td>1</td>\n",
       "      <td>Albania</td>\n",
       "      <td>NaN</td>\n",
       "      <td>NaN</td>\n",
       "      <td>NaN</td>\n",
       "      <td>NaN</td>\n",
       "      <td>NaN</td>\n",
       "      <td>NaN</td>\n",
       "      <td>NaN</td>\n",
       "      <td>NaN</td>\n",
       "      <td>NaN</td>\n",
       "      <td>...</td>\n",
       "      <td>1.3800</td>\n",
       "      <td>1.2800</td>\n",
       "      <td>1.3000</td>\n",
       "      <td>1.460</td>\n",
       "      <td>1.480</td>\n",
       "      <td>1.560</td>\n",
       "      <td>1.790</td>\n",
       "      <td>1.68</td>\n",
       "      <td>1.730</td>\n",
       "      <td>1.960</td>\n",
       "    </tr>\n",
       "    <tr>\n",
       "      <td>2</td>\n",
       "      <td>Algeria</td>\n",
       "      <td>NaN</td>\n",
       "      <td>NaN</td>\n",
       "      <td>NaN</td>\n",
       "      <td>NaN</td>\n",
       "      <td>NaN</td>\n",
       "      <td>NaN</td>\n",
       "      <td>NaN</td>\n",
       "      <td>NaN</td>\n",
       "      <td>NaN</td>\n",
       "      <td>...</td>\n",
       "      <td>3.2200</td>\n",
       "      <td>2.9900</td>\n",
       "      <td>3.1900</td>\n",
       "      <td>3.160</td>\n",
       "      <td>3.420</td>\n",
       "      <td>3.300</td>\n",
       "      <td>3.290</td>\n",
       "      <td>3.46</td>\n",
       "      <td>3.510</td>\n",
       "      <td>3.720</td>\n",
       "    </tr>\n",
       "    <tr>\n",
       "      <td>3</td>\n",
       "      <td>Andorra</td>\n",
       "      <td>NaN</td>\n",
       "      <td>NaN</td>\n",
       "      <td>NaN</td>\n",
       "      <td>NaN</td>\n",
       "      <td>NaN</td>\n",
       "      <td>NaN</td>\n",
       "      <td>NaN</td>\n",
       "      <td>NaN</td>\n",
       "      <td>NaN</td>\n",
       "      <td>...</td>\n",
       "      <td>7.3000</td>\n",
       "      <td>6.7500</td>\n",
       "      <td>6.5200</td>\n",
       "      <td>6.430</td>\n",
       "      <td>6.120</td>\n",
       "      <td>6.120</td>\n",
       "      <td>5.870</td>\n",
       "      <td>5.92</td>\n",
       "      <td>5.900</td>\n",
       "      <td>5.830</td>\n",
       "    </tr>\n",
       "    <tr>\n",
       "      <td>4</td>\n",
       "      <td>Angola</td>\n",
       "      <td>NaN</td>\n",
       "      <td>NaN</td>\n",
       "      <td>NaN</td>\n",
       "      <td>NaN</td>\n",
       "      <td>NaN</td>\n",
       "      <td>NaN</td>\n",
       "      <td>NaN</td>\n",
       "      <td>NaN</td>\n",
       "      <td>NaN</td>\n",
       "      <td>...</td>\n",
       "      <td>0.9800</td>\n",
       "      <td>1.1000</td>\n",
       "      <td>1.2000</td>\n",
       "      <td>1.180</td>\n",
       "      <td>1.230</td>\n",
       "      <td>1.240</td>\n",
       "      <td>1.250</td>\n",
       "      <td>1.33</td>\n",
       "      <td>1.250</td>\n",
       "      <td>1.290</td>\n",
       "    </tr>\n",
       "  </tbody>\n",
       "</table>\n",
       "<p>5 rows × 216 columns</p>\n",
       "</div>"
      ],
      "text/plain": [
       "       country  1800  1801  1802  1803  1804  1805  1806  1807  1808  ...  \\\n",
       "0  Afghanistan   NaN   NaN   NaN   NaN   NaN   NaN   NaN   NaN   NaN  ...   \n",
       "1      Albania   NaN   NaN   NaN   NaN   NaN   NaN   NaN   NaN   NaN  ...   \n",
       "2      Algeria   NaN   NaN   NaN   NaN   NaN   NaN   NaN   NaN   NaN  ...   \n",
       "3      Andorra   NaN   NaN   NaN   NaN   NaN   NaN   NaN   NaN   NaN  ...   \n",
       "4       Angola   NaN   NaN   NaN   NaN   NaN   NaN   NaN   NaN   NaN  ...   \n",
       "\n",
       "     2005    2006    2007   2008   2009   2010   2011  2012   2013   2014  \n",
       "0  0.0529  0.0637  0.0854  0.154  0.242  0.294  0.412  0.35  0.316  0.299  \n",
       "1  1.3800  1.2800  1.3000  1.460  1.480  1.560  1.790  1.68  1.730  1.960  \n",
       "2  3.2200  2.9900  3.1900  3.160  3.420  3.300  3.290  3.46  3.510  3.720  \n",
       "3  7.3000  6.7500  6.5200  6.430  6.120  6.120  5.870  5.92  5.900  5.830  \n",
       "4  0.9800  1.1000  1.2000  1.180  1.230  1.240  1.250  1.33  1.250  1.290  \n",
       "\n",
       "[5 rows x 216 columns]"
      ]
     },
     "execution_count": 5,
     "metadata": {},
     "output_type": "execute_result"
    }
   ],
   "source": [
    "co2_csv = \"../project-one/Resources/co2_emissions_tonnes_per_person.csv\"\n",
    "co2_df = pd.read_csv(co2_csv)\n",
    "co2_df.head()"
   ]
  },
  {
   "cell_type": "code",
   "execution_count": 6,
   "metadata": {},
   "outputs": [
    {
     "data": {
      "text/html": [
       "<div>\n",
       "<style scoped>\n",
       "    .dataframe tbody tr th:only-of-type {\n",
       "        vertical-align: middle;\n",
       "    }\n",
       "\n",
       "    .dataframe tbody tr th {\n",
       "        vertical-align: top;\n",
       "    }\n",
       "\n",
       "    .dataframe thead th {\n",
       "        text-align: right;\n",
       "    }\n",
       "</style>\n",
       "<table border=\"1\" class=\"dataframe\">\n",
       "  <thead>\n",
       "    <tr style=\"text-align: right;\">\n",
       "      <th></th>\n",
       "      <th>country</th>\n",
       "      <th>1800</th>\n",
       "      <th>1801</th>\n",
       "      <th>1802</th>\n",
       "      <th>1803</th>\n",
       "      <th>1804</th>\n",
       "      <th>1805</th>\n",
       "      <th>1806</th>\n",
       "      <th>1807</th>\n",
       "      <th>1808</th>\n",
       "      <th>...</th>\n",
       "      <th>2031</th>\n",
       "      <th>2032</th>\n",
       "      <th>2033</th>\n",
       "      <th>2034</th>\n",
       "      <th>2035</th>\n",
       "      <th>2036</th>\n",
       "      <th>2037</th>\n",
       "      <th>2038</th>\n",
       "      <th>2039</th>\n",
       "      <th>2040</th>\n",
       "    </tr>\n",
       "  </thead>\n",
       "  <tbody>\n",
       "    <tr>\n",
       "      <td>0</td>\n",
       "      <td>Afghanistan</td>\n",
       "      <td>603</td>\n",
       "      <td>603</td>\n",
       "      <td>603</td>\n",
       "      <td>603</td>\n",
       "      <td>603</td>\n",
       "      <td>603</td>\n",
       "      <td>603</td>\n",
       "      <td>603</td>\n",
       "      <td>603</td>\n",
       "      <td>...</td>\n",
       "      <td>2420</td>\n",
       "      <td>2470</td>\n",
       "      <td>2520</td>\n",
       "      <td>2580</td>\n",
       "      <td>2640</td>\n",
       "      <td>2700</td>\n",
       "      <td>2760</td>\n",
       "      <td>2820</td>\n",
       "      <td>2880</td>\n",
       "      <td>2940</td>\n",
       "    </tr>\n",
       "    <tr>\n",
       "      <td>1</td>\n",
       "      <td>Albania</td>\n",
       "      <td>667</td>\n",
       "      <td>667</td>\n",
       "      <td>667</td>\n",
       "      <td>667</td>\n",
       "      <td>667</td>\n",
       "      <td>668</td>\n",
       "      <td>668</td>\n",
       "      <td>668</td>\n",
       "      <td>668</td>\n",
       "      <td>...</td>\n",
       "      <td>18500</td>\n",
       "      <td>18900</td>\n",
       "      <td>19300</td>\n",
       "      <td>19700</td>\n",
       "      <td>20200</td>\n",
       "      <td>20600</td>\n",
       "      <td>21100</td>\n",
       "      <td>21500</td>\n",
       "      <td>22000</td>\n",
       "      <td>22500</td>\n",
       "    </tr>\n",
       "    <tr>\n",
       "      <td>2</td>\n",
       "      <td>Algeria</td>\n",
       "      <td>715</td>\n",
       "      <td>716</td>\n",
       "      <td>717</td>\n",
       "      <td>718</td>\n",
       "      <td>719</td>\n",
       "      <td>720</td>\n",
       "      <td>721</td>\n",
       "      <td>722</td>\n",
       "      <td>723</td>\n",
       "      <td>...</td>\n",
       "      <td>15600</td>\n",
       "      <td>15900</td>\n",
       "      <td>16300</td>\n",
       "      <td>16700</td>\n",
       "      <td>17000</td>\n",
       "      <td>17400</td>\n",
       "      <td>17800</td>\n",
       "      <td>18200</td>\n",
       "      <td>18600</td>\n",
       "      <td>19000</td>\n",
       "    </tr>\n",
       "    <tr>\n",
       "      <td>3</td>\n",
       "      <td>Andorra</td>\n",
       "      <td>1200</td>\n",
       "      <td>1200</td>\n",
       "      <td>1200</td>\n",
       "      <td>1200</td>\n",
       "      <td>1210</td>\n",
       "      <td>1210</td>\n",
       "      <td>1210</td>\n",
       "      <td>1210</td>\n",
       "      <td>1220</td>\n",
       "      <td>...</td>\n",
       "      <td>73200</td>\n",
       "      <td>74800</td>\n",
       "      <td>76400</td>\n",
       "      <td>78100</td>\n",
       "      <td>79900</td>\n",
       "      <td>81600</td>\n",
       "      <td>83400</td>\n",
       "      <td>85300</td>\n",
       "      <td>87200</td>\n",
       "      <td>89100</td>\n",
       "    </tr>\n",
       "    <tr>\n",
       "      <td>4</td>\n",
       "      <td>Angola</td>\n",
       "      <td>618</td>\n",
       "      <td>620</td>\n",
       "      <td>623</td>\n",
       "      <td>626</td>\n",
       "      <td>628</td>\n",
       "      <td>631</td>\n",
       "      <td>634</td>\n",
       "      <td>637</td>\n",
       "      <td>640</td>\n",
       "      <td>...</td>\n",
       "      <td>6270</td>\n",
       "      <td>6410</td>\n",
       "      <td>6550</td>\n",
       "      <td>6700</td>\n",
       "      <td>6850</td>\n",
       "      <td>7000</td>\n",
       "      <td>7150</td>\n",
       "      <td>7310</td>\n",
       "      <td>7470</td>\n",
       "      <td>7640</td>\n",
       "    </tr>\n",
       "  </tbody>\n",
       "</table>\n",
       "<p>5 rows × 242 columns</p>\n",
       "</div>"
      ],
      "text/plain": [
       "       country  1800  1801  1802  1803  1804  1805  1806  1807  1808  ...  \\\n",
       "0  Afghanistan   603   603   603   603   603   603   603   603   603  ...   \n",
       "1      Albania   667   667   667   667   667   668   668   668   668  ...   \n",
       "2      Algeria   715   716   717   718   719   720   721   722   723  ...   \n",
       "3      Andorra  1200  1200  1200  1200  1210  1210  1210  1210  1220  ...   \n",
       "4       Angola   618   620   623   626   628   631   634   637   640  ...   \n",
       "\n",
       "    2031   2032   2033   2034   2035   2036   2037   2038   2039   2040  \n",
       "0   2420   2470   2520   2580   2640   2700   2760   2820   2880   2940  \n",
       "1  18500  18900  19300  19700  20200  20600  21100  21500  22000  22500  \n",
       "2  15600  15900  16300  16700  17000  17400  17800  18200  18600  19000  \n",
       "3  73200  74800  76400  78100  79900  81600  83400  85300  87200  89100  \n",
       "4   6270   6410   6550   6700   6850   7000   7150   7310   7470   7640  \n",
       "\n",
       "[5 rows x 242 columns]"
      ]
     },
     "execution_count": 6,
     "metadata": {},
     "output_type": "execute_result"
    }
   ],
   "source": [
    "income_csv = \"../project-one/Resources/income_per_person_gdppercapita_ppp_inflation_adjusted.csv\"\n",
    "income_df = pd.read_csv(income_csv)\n",
    "income_df.head()"
   ]
  },
  {
   "cell_type": "code",
   "execution_count": 7,
   "metadata": {},
   "outputs": [
    {
     "data": {
      "text/html": [
       "<div>\n",
       "<style scoped>\n",
       "    .dataframe tbody tr th:only-of-type {\n",
       "        vertical-align: middle;\n",
       "    }\n",
       "\n",
       "    .dataframe tbody tr th {\n",
       "        vertical-align: top;\n",
       "    }\n",
       "\n",
       "    .dataframe thead th {\n",
       "        text-align: right;\n",
       "    }\n",
       "</style>\n",
       "<table border=\"1\" class=\"dataframe\">\n",
       "  <thead>\n",
       "    <tr style=\"text-align: right;\">\n",
       "      <th></th>\n",
       "      <th>country</th>\n",
       "      <th>1800</th>\n",
       "      <th>1801</th>\n",
       "      <th>1802</th>\n",
       "      <th>1803</th>\n",
       "      <th>1804</th>\n",
       "      <th>1805</th>\n",
       "      <th>1806</th>\n",
       "      <th>1807</th>\n",
       "      <th>1808</th>\n",
       "      <th>...</th>\n",
       "      <th>2091</th>\n",
       "      <th>2092</th>\n",
       "      <th>2093</th>\n",
       "      <th>2094</th>\n",
       "      <th>2095</th>\n",
       "      <th>2096</th>\n",
       "      <th>2097</th>\n",
       "      <th>2098</th>\n",
       "      <th>2099</th>\n",
       "      <th>2100</th>\n",
       "    </tr>\n",
       "  </thead>\n",
       "  <tbody>\n",
       "    <tr>\n",
       "      <td>0</td>\n",
       "      <td>Afghanistan</td>\n",
       "      <td>3280000</td>\n",
       "      <td>3280000</td>\n",
       "      <td>3280000</td>\n",
       "      <td>3280000</td>\n",
       "      <td>3280000</td>\n",
       "      <td>3280000</td>\n",
       "      <td>3280000</td>\n",
       "      <td>3280000</td>\n",
       "      <td>3280000</td>\n",
       "      <td>...</td>\n",
       "      <td>71900000</td>\n",
       "      <td>71800000</td>\n",
       "      <td>71600000</td>\n",
       "      <td>71500000</td>\n",
       "      <td>71300000</td>\n",
       "      <td>71200000</td>\n",
       "      <td>71000000</td>\n",
       "      <td>70800000</td>\n",
       "      <td>70600000</td>\n",
       "      <td>70400000</td>\n",
       "    </tr>\n",
       "    <tr>\n",
       "      <td>1</td>\n",
       "      <td>Albania</td>\n",
       "      <td>410000</td>\n",
       "      <td>412000</td>\n",
       "      <td>413000</td>\n",
       "      <td>414000</td>\n",
       "      <td>416000</td>\n",
       "      <td>417000</td>\n",
       "      <td>418000</td>\n",
       "      <td>420000</td>\n",
       "      <td>421000</td>\n",
       "      <td>...</td>\n",
       "      <td>1820000</td>\n",
       "      <td>1800000</td>\n",
       "      <td>1780000</td>\n",
       "      <td>1760000</td>\n",
       "      <td>1740000</td>\n",
       "      <td>1720000</td>\n",
       "      <td>1710000</td>\n",
       "      <td>1690000</td>\n",
       "      <td>1670000</td>\n",
       "      <td>1660000</td>\n",
       "    </tr>\n",
       "    <tr>\n",
       "      <td>2</td>\n",
       "      <td>Algeria</td>\n",
       "      <td>2500000</td>\n",
       "      <td>2510000</td>\n",
       "      <td>2520000</td>\n",
       "      <td>2530000</td>\n",
       "      <td>2540000</td>\n",
       "      <td>2550000</td>\n",
       "      <td>2560000</td>\n",
       "      <td>2570000</td>\n",
       "      <td>2580000</td>\n",
       "      <td>...</td>\n",
       "      <td>62800000</td>\n",
       "      <td>62800000</td>\n",
       "      <td>62800000</td>\n",
       "      <td>62800000</td>\n",
       "      <td>62800000</td>\n",
       "      <td>62800000</td>\n",
       "      <td>62700000</td>\n",
       "      <td>62700000</td>\n",
       "      <td>62600000</td>\n",
       "      <td>62600000</td>\n",
       "    </tr>\n",
       "    <tr>\n",
       "      <td>3</td>\n",
       "      <td>Andorra</td>\n",
       "      <td>2650</td>\n",
       "      <td>2650</td>\n",
       "      <td>2650</td>\n",
       "      <td>2650</td>\n",
       "      <td>2650</td>\n",
       "      <td>2650</td>\n",
       "      <td>2650</td>\n",
       "      <td>2650</td>\n",
       "      <td>2650</td>\n",
       "      <td>...</td>\n",
       "      <td>64300</td>\n",
       "      <td>64200</td>\n",
       "      <td>64100</td>\n",
       "      <td>63900</td>\n",
       "      <td>63800</td>\n",
       "      <td>63700</td>\n",
       "      <td>63500</td>\n",
       "      <td>63400</td>\n",
       "      <td>63300</td>\n",
       "      <td>63100</td>\n",
       "    </tr>\n",
       "    <tr>\n",
       "      <td>4</td>\n",
       "      <td>Angola</td>\n",
       "      <td>1570000</td>\n",
       "      <td>1570000</td>\n",
       "      <td>1570000</td>\n",
       "      <td>1570000</td>\n",
       "      <td>1570000</td>\n",
       "      <td>1570000</td>\n",
       "      <td>1570000</td>\n",
       "      <td>1570000</td>\n",
       "      <td>1570000</td>\n",
       "      <td>...</td>\n",
       "      <td>156000000</td>\n",
       "      <td>158000000</td>\n",
       "      <td>160000000</td>\n",
       "      <td>162000000</td>\n",
       "      <td>164000000</td>\n",
       "      <td>166000000</td>\n",
       "      <td>167000000</td>\n",
       "      <td>169000000</td>\n",
       "      <td>171000000</td>\n",
       "      <td>173000000</td>\n",
       "    </tr>\n",
       "  </tbody>\n",
       "</table>\n",
       "<p>5 rows × 302 columns</p>\n",
       "</div>"
      ],
      "text/plain": [
       "       country     1800     1801     1802     1803     1804     1805     1806  \\\n",
       "0  Afghanistan  3280000  3280000  3280000  3280000  3280000  3280000  3280000   \n",
       "1      Albania   410000   412000   413000   414000   416000   417000   418000   \n",
       "2      Algeria  2500000  2510000  2520000  2530000  2540000  2550000  2560000   \n",
       "3      Andorra     2650     2650     2650     2650     2650     2650     2650   \n",
       "4       Angola  1570000  1570000  1570000  1570000  1570000  1570000  1570000   \n",
       "\n",
       "      1807     1808  ...       2091       2092       2093       2094  \\\n",
       "0  3280000  3280000  ...   71900000   71800000   71600000   71500000   \n",
       "1   420000   421000  ...    1820000    1800000    1780000    1760000   \n",
       "2  2570000  2580000  ...   62800000   62800000   62800000   62800000   \n",
       "3     2650     2650  ...      64300      64200      64100      63900   \n",
       "4  1570000  1570000  ...  156000000  158000000  160000000  162000000   \n",
       "\n",
       "        2095       2096       2097       2098       2099       2100  \n",
       "0   71300000   71200000   71000000   70800000   70600000   70400000  \n",
       "1    1740000    1720000    1710000    1690000    1670000    1660000  \n",
       "2   62800000   62800000   62700000   62700000   62600000   62600000  \n",
       "3      63800      63700      63500      63400      63300      63100  \n",
       "4  164000000  166000000  167000000  169000000  171000000  173000000  \n",
       "\n",
       "[5 rows x 302 columns]"
      ]
     },
     "execution_count": 7,
     "metadata": {},
     "output_type": "execute_result"
    }
   ],
   "source": [
    "population_csv = \"../project-one/Resources/population_total.csv\"\n",
    "population_df = pd.read_csv(population_csv)\n",
    "population_df.head()"
   ]
  },
  {
   "cell_type": "code",
   "execution_count": 8,
   "metadata": {},
   "outputs": [],
   "source": [
    "#Bernt's code ends here"
   ]
  },
  {
   "cell_type": "code",
   "execution_count": 9,
   "metadata": {},
   "outputs": [],
   "source": [
    "#Molly's code starts here"
   ]
  },
  {
   "cell_type": "code",
   "execution_count": 8,
   "metadata": {},
   "outputs": [
    {
     "data": {
      "text/html": [
       "<div>\n",
       "<style scoped>\n",
       "    .dataframe tbody tr th:only-of-type {\n",
       "        vertical-align: middle;\n",
       "    }\n",
       "\n",
       "    .dataframe tbody tr th {\n",
       "        vertical-align: top;\n",
       "    }\n",
       "\n",
       "    .dataframe thead th {\n",
       "        text-align: right;\n",
       "    }\n",
       "</style>\n",
       "<table border=\"1\" class=\"dataframe\">\n",
       "  <thead>\n",
       "    <tr style=\"text-align: right;\">\n",
       "      <th></th>\n",
       "      <th>country</th>\n",
       "      <th>year</th>\n",
       "      <th>income</th>\n",
       "    </tr>\n",
       "  </thead>\n",
       "  <tbody>\n",
       "    <tr>\n",
       "      <td>0</td>\n",
       "      <td>Afghanistan</td>\n",
       "      <td>1800</td>\n",
       "      <td>603</td>\n",
       "    </tr>\n",
       "    <tr>\n",
       "      <td>1</td>\n",
       "      <td>Albania</td>\n",
       "      <td>1800</td>\n",
       "      <td>667</td>\n",
       "    </tr>\n",
       "    <tr>\n",
       "      <td>2</td>\n",
       "      <td>Algeria</td>\n",
       "      <td>1800</td>\n",
       "      <td>715</td>\n",
       "    </tr>\n",
       "    <tr>\n",
       "      <td>3</td>\n",
       "      <td>Andorra</td>\n",
       "      <td>1800</td>\n",
       "      <td>1200</td>\n",
       "    </tr>\n",
       "    <tr>\n",
       "      <td>4</td>\n",
       "      <td>Angola</td>\n",
       "      <td>1800</td>\n",
       "      <td>618</td>\n",
       "    </tr>\n",
       "    <tr>\n",
       "      <td>...</td>\n",
       "      <td>...</td>\n",
       "      <td>...</td>\n",
       "      <td>...</td>\n",
       "    </tr>\n",
       "    <tr>\n",
       "      <td>46508</td>\n",
       "      <td>Venezuela</td>\n",
       "      <td>2040</td>\n",
       "      <td>17600</td>\n",
       "    </tr>\n",
       "    <tr>\n",
       "      <td>46509</td>\n",
       "      <td>Vietnam</td>\n",
       "      <td>2040</td>\n",
       "      <td>12300</td>\n",
       "    </tr>\n",
       "    <tr>\n",
       "      <td>46510</td>\n",
       "      <td>Yemen</td>\n",
       "      <td>2040</td>\n",
       "      <td>3960</td>\n",
       "    </tr>\n",
       "    <tr>\n",
       "      <td>46511</td>\n",
       "      <td>Zambia</td>\n",
       "      <td>2040</td>\n",
       "      <td>6590</td>\n",
       "    </tr>\n",
       "    <tr>\n",
       "      <td>46512</td>\n",
       "      <td>Zimbabwe</td>\n",
       "      <td>2040</td>\n",
       "      <td>3210</td>\n",
       "    </tr>\n",
       "  </tbody>\n",
       "</table>\n",
       "<p>46513 rows × 3 columns</p>\n",
       "</div>"
      ],
      "text/plain": [
       "           country  year  income\n",
       "0      Afghanistan  1800     603\n",
       "1          Albania  1800     667\n",
       "2          Algeria  1800     715\n",
       "3          Andorra  1800    1200\n",
       "4           Angola  1800     618\n",
       "...            ...   ...     ...\n",
       "46508    Venezuela  2040   17600\n",
       "46509      Vietnam  2040   12300\n",
       "46510        Yemen  2040    3960\n",
       "46511       Zambia  2040    6590\n",
       "46512     Zimbabwe  2040    3210\n",
       "\n",
       "[46513 rows x 3 columns]"
      ]
     },
     "execution_count": 8,
     "metadata": {},
     "output_type": "execute_result"
    }
   ],
   "source": [
    "# reshape the income dataframe to show every Country|Year with the income for that year (using group by looked nice but didn't cut it) \n",
    "df_meltInc =income_df.melt(id_vars=['country'], var_name='year', value_name='income')\n",
    "df_meltInc = df_meltInc.dropna()\n",
    "df_meltInc"
   ]
  },
  {
   "cell_type": "code",
   "execution_count": 9,
   "metadata": {},
   "outputs": [
    {
     "data": {
      "text/html": [
       "<div>\n",
       "<style scoped>\n",
       "    .dataframe tbody tr th:only-of-type {\n",
       "        vertical-align: middle;\n",
       "    }\n",
       "\n",
       "    .dataframe tbody tr th {\n",
       "        vertical-align: top;\n",
       "    }\n",
       "\n",
       "    .dataframe thead th {\n",
       "        text-align: right;\n",
       "    }\n",
       "</style>\n",
       "<table border=\"1\" class=\"dataframe\">\n",
       "  <thead>\n",
       "    <tr style=\"text-align: right;\">\n",
       "      <th></th>\n",
       "      <th>country</th>\n",
       "      <th>year</th>\n",
       "      <th>income</th>\n",
       "      <th>combined</th>\n",
       "    </tr>\n",
       "  </thead>\n",
       "  <tbody>\n",
       "    <tr>\n",
       "      <td>0</td>\n",
       "      <td>Afghanistan</td>\n",
       "      <td>1800</td>\n",
       "      <td>603</td>\n",
       "      <td>Afghanistan 1800</td>\n",
       "    </tr>\n",
       "    <tr>\n",
       "      <td>1</td>\n",
       "      <td>Albania</td>\n",
       "      <td>1800</td>\n",
       "      <td>667</td>\n",
       "      <td>Albania 1800</td>\n",
       "    </tr>\n",
       "    <tr>\n",
       "      <td>2</td>\n",
       "      <td>Algeria</td>\n",
       "      <td>1800</td>\n",
       "      <td>715</td>\n",
       "      <td>Algeria 1800</td>\n",
       "    </tr>\n",
       "    <tr>\n",
       "      <td>3</td>\n",
       "      <td>Andorra</td>\n",
       "      <td>1800</td>\n",
       "      <td>1200</td>\n",
       "      <td>Andorra 1800</td>\n",
       "    </tr>\n",
       "    <tr>\n",
       "      <td>4</td>\n",
       "      <td>Angola</td>\n",
       "      <td>1800</td>\n",
       "      <td>618</td>\n",
       "      <td>Angola 1800</td>\n",
       "    </tr>\n",
       "    <tr>\n",
       "      <td>...</td>\n",
       "      <td>...</td>\n",
       "      <td>...</td>\n",
       "      <td>...</td>\n",
       "      <td>...</td>\n",
       "    </tr>\n",
       "    <tr>\n",
       "      <td>46508</td>\n",
       "      <td>Venezuela</td>\n",
       "      <td>2040</td>\n",
       "      <td>17600</td>\n",
       "      <td>Venezuela 2040</td>\n",
       "    </tr>\n",
       "    <tr>\n",
       "      <td>46509</td>\n",
       "      <td>Vietnam</td>\n",
       "      <td>2040</td>\n",
       "      <td>12300</td>\n",
       "      <td>Vietnam 2040</td>\n",
       "    </tr>\n",
       "    <tr>\n",
       "      <td>46510</td>\n",
       "      <td>Yemen</td>\n",
       "      <td>2040</td>\n",
       "      <td>3960</td>\n",
       "      <td>Yemen 2040</td>\n",
       "    </tr>\n",
       "    <tr>\n",
       "      <td>46511</td>\n",
       "      <td>Zambia</td>\n",
       "      <td>2040</td>\n",
       "      <td>6590</td>\n",
       "      <td>Zambia 2040</td>\n",
       "    </tr>\n",
       "    <tr>\n",
       "      <td>46512</td>\n",
       "      <td>Zimbabwe</td>\n",
       "      <td>2040</td>\n",
       "      <td>3210</td>\n",
       "      <td>Zimbabwe 2040</td>\n",
       "    </tr>\n",
       "  </tbody>\n",
       "</table>\n",
       "<p>46513 rows × 4 columns</p>\n",
       "</div>"
      ],
      "text/plain": [
       "           country  year  income          combined\n",
       "0      Afghanistan  1800     603  Afghanistan 1800\n",
       "1          Albania  1800     667      Albania 1800\n",
       "2          Algeria  1800     715      Algeria 1800\n",
       "3          Andorra  1800    1200      Andorra 1800\n",
       "4           Angola  1800     618       Angola 1800\n",
       "...            ...   ...     ...               ...\n",
       "46508    Venezuela  2040   17600    Venezuela 2040\n",
       "46509      Vietnam  2040   12300      Vietnam 2040\n",
       "46510        Yemen  2040    3960        Yemen 2040\n",
       "46511       Zambia  2040    6590       Zambia 2040\n",
       "46512     Zimbabwe  2040    3210     Zimbabwe 2040\n",
       "\n",
       "[46513 rows x 4 columns]"
      ]
     },
     "execution_count": 9,
     "metadata": {},
     "output_type": "execute_result"
    }
   ],
   "source": [
    "# take the reshaped income values and create a new data element that combines country and year\n",
    "cols = ['country', 'year']\n",
    "df_meltInc['combined'] = df_meltInc[cols].apply(lambda row: ' '.join(row.values.astype(str)), axis=1)\n",
    "df_meltInc"
   ]
  },
  {
   "cell_type": "code",
   "execution_count": 11,
   "metadata": {},
   "outputs": [
    {
     "data": {
      "text/html": [
       "<div>\n",
       "<style scoped>\n",
       "    .dataframe tbody tr th:only-of-type {\n",
       "        vertical-align: middle;\n",
       "    }\n",
       "\n",
       "    .dataframe tbody tr th {\n",
       "        vertical-align: top;\n",
       "    }\n",
       "\n",
       "    .dataframe thead th {\n",
       "        text-align: right;\n",
       "    }\n",
       "</style>\n",
       "<table border=\"1\" class=\"dataframe\">\n",
       "  <thead>\n",
       "    <tr style=\"text-align: right;\">\n",
       "      <th></th>\n",
       "      <th>country</th>\n",
       "      <th>year</th>\n",
       "      <th>co2</th>\n",
       "    </tr>\n",
       "  </thead>\n",
       "  <tbody>\n",
       "    <tr>\n",
       "      <td>0</td>\n",
       "      <td>Afghanistan</td>\n",
       "      <td>1800</td>\n",
       "      <td>603</td>\n",
       "    </tr>\n",
       "    <tr>\n",
       "      <td>1</td>\n",
       "      <td>Albania</td>\n",
       "      <td>1800</td>\n",
       "      <td>667</td>\n",
       "    </tr>\n",
       "    <tr>\n",
       "      <td>2</td>\n",
       "      <td>Algeria</td>\n",
       "      <td>1800</td>\n",
       "      <td>715</td>\n",
       "    </tr>\n",
       "    <tr>\n",
       "      <td>3</td>\n",
       "      <td>Andorra</td>\n",
       "      <td>1800</td>\n",
       "      <td>1200</td>\n",
       "    </tr>\n",
       "    <tr>\n",
       "      <td>4</td>\n",
       "      <td>Angola</td>\n",
       "      <td>1800</td>\n",
       "      <td>618</td>\n",
       "    </tr>\n",
       "    <tr>\n",
       "      <td>...</td>\n",
       "      <td>...</td>\n",
       "      <td>...</td>\n",
       "      <td>...</td>\n",
       "    </tr>\n",
       "    <tr>\n",
       "      <td>46508</td>\n",
       "      <td>Venezuela</td>\n",
       "      <td>2040</td>\n",
       "      <td>17600</td>\n",
       "    </tr>\n",
       "    <tr>\n",
       "      <td>46509</td>\n",
       "      <td>Vietnam</td>\n",
       "      <td>2040</td>\n",
       "      <td>12300</td>\n",
       "    </tr>\n",
       "    <tr>\n",
       "      <td>46510</td>\n",
       "      <td>Yemen</td>\n",
       "      <td>2040</td>\n",
       "      <td>3960</td>\n",
       "    </tr>\n",
       "    <tr>\n",
       "      <td>46511</td>\n",
       "      <td>Zambia</td>\n",
       "      <td>2040</td>\n",
       "      <td>6590</td>\n",
       "    </tr>\n",
       "    <tr>\n",
       "      <td>46512</td>\n",
       "      <td>Zimbabwe</td>\n",
       "      <td>2040</td>\n",
       "      <td>3210</td>\n",
       "    </tr>\n",
       "  </tbody>\n",
       "</table>\n",
       "<p>46513 rows × 3 columns</p>\n",
       "</div>"
      ],
      "text/plain": [
       "           country  year    co2\n",
       "0      Afghanistan  1800    603\n",
       "1          Albania  1800    667\n",
       "2          Algeria  1800    715\n",
       "3          Andorra  1800   1200\n",
       "4           Angola  1800    618\n",
       "...            ...   ...    ...\n",
       "46508    Venezuela  2040  17600\n",
       "46509      Vietnam  2040  12300\n",
       "46510        Yemen  2040   3960\n",
       "46511       Zambia  2040   6590\n",
       "46512     Zimbabwe  2040   3210\n",
       "\n",
       "[46513 rows x 3 columns]"
      ]
     },
     "execution_count": 11,
     "metadata": {},
     "output_type": "execute_result"
    }
   ],
   "source": [
    "# reshape the income dataframe to show every Country|Year with the income for that year (using group by looked nice but didn't cut it) \n",
    "df_meltCO2 =income_df.melt(id_vars=['country'], var_name='year', value_name='co2')\n",
    "df_meltCO2 = df_meltCO2.dropna()\n",
    "df_meltCO2"
   ]
  },
  {
   "cell_type": "code",
   "execution_count": 12,
   "metadata": {},
   "outputs": [
    {
     "data": {
      "text/html": [
       "<div>\n",
       "<style scoped>\n",
       "    .dataframe tbody tr th:only-of-type {\n",
       "        vertical-align: middle;\n",
       "    }\n",
       "\n",
       "    .dataframe tbody tr th {\n",
       "        vertical-align: top;\n",
       "    }\n",
       "\n",
       "    .dataframe thead th {\n",
       "        text-align: right;\n",
       "    }\n",
       "</style>\n",
       "<table border=\"1\" class=\"dataframe\">\n",
       "  <thead>\n",
       "    <tr style=\"text-align: right;\">\n",
       "      <th></th>\n",
       "      <th>country</th>\n",
       "      <th>year</th>\n",
       "      <th>co2</th>\n",
       "      <th>combined</th>\n",
       "    </tr>\n",
       "  </thead>\n",
       "  <tbody>\n",
       "    <tr>\n",
       "      <td>0</td>\n",
       "      <td>Afghanistan</td>\n",
       "      <td>1800</td>\n",
       "      <td>603</td>\n",
       "      <td>Afghanistan 1800</td>\n",
       "    </tr>\n",
       "    <tr>\n",
       "      <td>1</td>\n",
       "      <td>Albania</td>\n",
       "      <td>1800</td>\n",
       "      <td>667</td>\n",
       "      <td>Albania 1800</td>\n",
       "    </tr>\n",
       "    <tr>\n",
       "      <td>2</td>\n",
       "      <td>Algeria</td>\n",
       "      <td>1800</td>\n",
       "      <td>715</td>\n",
       "      <td>Algeria 1800</td>\n",
       "    </tr>\n",
       "    <tr>\n",
       "      <td>3</td>\n",
       "      <td>Andorra</td>\n",
       "      <td>1800</td>\n",
       "      <td>1200</td>\n",
       "      <td>Andorra 1800</td>\n",
       "    </tr>\n",
       "    <tr>\n",
       "      <td>4</td>\n",
       "      <td>Angola</td>\n",
       "      <td>1800</td>\n",
       "      <td>618</td>\n",
       "      <td>Angola 1800</td>\n",
       "    </tr>\n",
       "    <tr>\n",
       "      <td>...</td>\n",
       "      <td>...</td>\n",
       "      <td>...</td>\n",
       "      <td>...</td>\n",
       "      <td>...</td>\n",
       "    </tr>\n",
       "    <tr>\n",
       "      <td>46508</td>\n",
       "      <td>Venezuela</td>\n",
       "      <td>2040</td>\n",
       "      <td>17600</td>\n",
       "      <td>Venezuela 2040</td>\n",
       "    </tr>\n",
       "    <tr>\n",
       "      <td>46509</td>\n",
       "      <td>Vietnam</td>\n",
       "      <td>2040</td>\n",
       "      <td>12300</td>\n",
       "      <td>Vietnam 2040</td>\n",
       "    </tr>\n",
       "    <tr>\n",
       "      <td>46510</td>\n",
       "      <td>Yemen</td>\n",
       "      <td>2040</td>\n",
       "      <td>3960</td>\n",
       "      <td>Yemen 2040</td>\n",
       "    </tr>\n",
       "    <tr>\n",
       "      <td>46511</td>\n",
       "      <td>Zambia</td>\n",
       "      <td>2040</td>\n",
       "      <td>6590</td>\n",
       "      <td>Zambia 2040</td>\n",
       "    </tr>\n",
       "    <tr>\n",
       "      <td>46512</td>\n",
       "      <td>Zimbabwe</td>\n",
       "      <td>2040</td>\n",
       "      <td>3210</td>\n",
       "      <td>Zimbabwe 2040</td>\n",
       "    </tr>\n",
       "  </tbody>\n",
       "</table>\n",
       "<p>46513 rows × 4 columns</p>\n",
       "</div>"
      ],
      "text/plain": [
       "           country  year    co2          combined\n",
       "0      Afghanistan  1800    603  Afghanistan 1800\n",
       "1          Albania  1800    667      Albania 1800\n",
       "2          Algeria  1800    715      Algeria 1800\n",
       "3          Andorra  1800   1200      Andorra 1800\n",
       "4           Angola  1800    618       Angola 1800\n",
       "...            ...   ...    ...               ...\n",
       "46508    Venezuela  2040  17600    Venezuela 2040\n",
       "46509      Vietnam  2040  12300      Vietnam 2040\n",
       "46510        Yemen  2040   3960        Yemen 2040\n",
       "46511       Zambia  2040   6590       Zambia 2040\n",
       "46512     Zimbabwe  2040   3210     Zimbabwe 2040\n",
       "\n",
       "[46513 rows x 4 columns]"
      ]
     },
     "execution_count": 12,
     "metadata": {},
     "output_type": "execute_result"
    }
   ],
   "source": [
    "# take the reshaped co2 values and create a new data element that combines country and year\n",
    "cols = ['country', 'year']\n",
    "df_meltCO2['combined'] = df_meltInc[cols].apply(lambda row: ' '.join(row.values.astype(str)), axis=1)\n",
    "df_meltCO2"
   ]
  },
  {
   "cell_type": "code",
   "execution_count": 13,
   "metadata": {},
   "outputs": [
    {
     "data": {
      "text/html": [
       "<div>\n",
       "<style scoped>\n",
       "    .dataframe tbody tr th:only-of-type {\n",
       "        vertical-align: middle;\n",
       "    }\n",
       "\n",
       "    .dataframe tbody tr th {\n",
       "        vertical-align: top;\n",
       "    }\n",
       "\n",
       "    .dataframe thead th {\n",
       "        text-align: right;\n",
       "    }\n",
       "</style>\n",
       "<table border=\"1\" class=\"dataframe\">\n",
       "  <thead>\n",
       "    <tr style=\"text-align: right;\">\n",
       "      <th></th>\n",
       "      <th>income</th>\n",
       "      <th>combined</th>\n",
       "      <th>co2</th>\n",
       "    </tr>\n",
       "  </thead>\n",
       "  <tbody>\n",
       "    <tr>\n",
       "      <td>0</td>\n",
       "      <td>603</td>\n",
       "      <td>Afghanistan 1800</td>\n",
       "      <td>603</td>\n",
       "    </tr>\n",
       "    <tr>\n",
       "      <td>1</td>\n",
       "      <td>667</td>\n",
       "      <td>Albania 1800</td>\n",
       "      <td>667</td>\n",
       "    </tr>\n",
       "    <tr>\n",
       "      <td>2</td>\n",
       "      <td>715</td>\n",
       "      <td>Algeria 1800</td>\n",
       "      <td>715</td>\n",
       "    </tr>\n",
       "    <tr>\n",
       "      <td>3</td>\n",
       "      <td>1200</td>\n",
       "      <td>Andorra 1800</td>\n",
       "      <td>1200</td>\n",
       "    </tr>\n",
       "    <tr>\n",
       "      <td>4</td>\n",
       "      <td>618</td>\n",
       "      <td>Angola 1800</td>\n",
       "      <td>618</td>\n",
       "    </tr>\n",
       "    <tr>\n",
       "      <td>...</td>\n",
       "      <td>...</td>\n",
       "      <td>...</td>\n",
       "      <td>...</td>\n",
       "    </tr>\n",
       "    <tr>\n",
       "      <td>46508</td>\n",
       "      <td>17600</td>\n",
       "      <td>Venezuela 2040</td>\n",
       "      <td>17600</td>\n",
       "    </tr>\n",
       "    <tr>\n",
       "      <td>46509</td>\n",
       "      <td>12300</td>\n",
       "      <td>Vietnam 2040</td>\n",
       "      <td>12300</td>\n",
       "    </tr>\n",
       "    <tr>\n",
       "      <td>46510</td>\n",
       "      <td>3960</td>\n",
       "      <td>Yemen 2040</td>\n",
       "      <td>3960</td>\n",
       "    </tr>\n",
       "    <tr>\n",
       "      <td>46511</td>\n",
       "      <td>6590</td>\n",
       "      <td>Zambia 2040</td>\n",
       "      <td>6590</td>\n",
       "    </tr>\n",
       "    <tr>\n",
       "      <td>46512</td>\n",
       "      <td>3210</td>\n",
       "      <td>Zimbabwe 2040</td>\n",
       "      <td>3210</td>\n",
       "    </tr>\n",
       "  </tbody>\n",
       "</table>\n",
       "<p>46513 rows × 3 columns</p>\n",
       "</div>"
      ],
      "text/plain": [
       "       income          combined    co2\n",
       "0         603  Afghanistan 1800    603\n",
       "1         667      Albania 1800    667\n",
       "2         715      Algeria 1800    715\n",
       "3        1200      Andorra 1800   1200\n",
       "4         618       Angola 1800    618\n",
       "...       ...               ...    ...\n",
       "46508   17600    Venezuela 2040  17600\n",
       "46509   12300      Vietnam 2040  12300\n",
       "46510    3960        Yemen 2040   3960\n",
       "46511    6590       Zambia 2040   6590\n",
       "46512    3210     Zimbabwe 2040   3210\n",
       "\n",
       "[46513 rows x 3 columns]"
      ]
     },
     "execution_count": 13,
     "metadata": {},
     "output_type": "execute_result"
    }
   ],
   "source": [
    "# merge the reshaped income and co2\n",
    "merge_inc_co2_df = pd.merge(df_meltInc,df_meltCO2, on=\"combined\", how=\"inner\")\n",
    "merge_inc_co2_df = merge_inc_co2_df.drop('country_x', axis=1)\n",
    "merge_inc_co2_df = merge_inc_co2_df.drop('year_x', axis=1)\n",
    "merge_inc_co2_df = merge_inc_co2_df.drop('country_y', axis=1)\n",
    "merge_inc_co2_df = merge_inc_co2_df.drop('year_y', axis=1)\n",
    "merge_inc_co2_df"
   ]
  },
  {
   "cell_type": "code",
   "execution_count": 14,
   "metadata": {},
   "outputs": [
    {
     "data": {
      "text/html": [
       "<div>\n",
       "<style scoped>\n",
       "    .dataframe tbody tr th:only-of-type {\n",
       "        vertical-align: middle;\n",
       "    }\n",
       "\n",
       "    .dataframe tbody tr th {\n",
       "        vertical-align: top;\n",
       "    }\n",
       "\n",
       "    .dataframe thead th {\n",
       "        text-align: right;\n",
       "    }\n",
       "</style>\n",
       "<table border=\"1\" class=\"dataframe\">\n",
       "  <thead>\n",
       "    <tr style=\"text-align: right;\">\n",
       "      <th></th>\n",
       "      <th>income</th>\n",
       "      <th>combined</th>\n",
       "      <th>co2</th>\n",
       "      <th>log income</th>\n",
       "    </tr>\n",
       "  </thead>\n",
       "  <tbody>\n",
       "    <tr>\n",
       "      <td>0</td>\n",
       "      <td>603</td>\n",
       "      <td>Afghanistan 1800</td>\n",
       "      <td>603</td>\n",
       "      <td>2.780317</td>\n",
       "    </tr>\n",
       "    <tr>\n",
       "      <td>1</td>\n",
       "      <td>667</td>\n",
       "      <td>Albania 1800</td>\n",
       "      <td>667</td>\n",
       "      <td>2.824126</td>\n",
       "    </tr>\n",
       "    <tr>\n",
       "      <td>2</td>\n",
       "      <td>715</td>\n",
       "      <td>Algeria 1800</td>\n",
       "      <td>715</td>\n",
       "      <td>2.854306</td>\n",
       "    </tr>\n",
       "    <tr>\n",
       "      <td>3</td>\n",
       "      <td>1200</td>\n",
       "      <td>Andorra 1800</td>\n",
       "      <td>1200</td>\n",
       "      <td>3.079181</td>\n",
       "    </tr>\n",
       "    <tr>\n",
       "      <td>4</td>\n",
       "      <td>618</td>\n",
       "      <td>Angola 1800</td>\n",
       "      <td>618</td>\n",
       "      <td>2.790988</td>\n",
       "    </tr>\n",
       "  </tbody>\n",
       "</table>\n",
       "</div>"
      ],
      "text/plain": [
       "   income          combined   co2  log income\n",
       "0     603  Afghanistan 1800   603    2.780317\n",
       "1     667      Albania 1800   667    2.824126\n",
       "2     715      Algeria 1800   715    2.854306\n",
       "3    1200      Andorra 1800  1200    3.079181\n",
       "4     618       Angola 1800   618    2.790988"
      ]
     },
     "execution_count": 14,
     "metadata": {},
     "output_type": "execute_result"
    }
   ],
   "source": [
    "# get the log of the income so the span of the plot isn't so wide\n",
    "merge_inc_co2_df['log income'] = np.log10(merge_inc_co2_df['income'])\n",
    "merge_inc_co2_df.head()"
   ]
  },
  {
   "cell_type": "code",
   "execution_count": 28,
   "metadata": {},
   "outputs": [
    {
     "data": {
      "image/png": "[encoded data removed]",
      "text/plain": [
       "<Figure size 432x288 with 1 Axes>"
      ]
     },
     "metadata": {
      "needs_background": "light"
     },
     "output_type": "display_data"
    }
   ],
   "source": [
    "# plot the log of the income and the co2 to see if there was correlation\n",
    "x_axis = merge_inc_co2_df[\"log income\"]\n",
    "y_axis = merge_inc_co2_df[\"co2\"]\n",
    "plt.xlabel(\"Log Income\")\n",
    "plt.ylabel(\"CO2 Emissions\")\n",
    "plt.title(\"Impact of Income on CO2 Emissions 1800 to 2014\")\n",
    "plt.grid(color='grey', linestyle='-', linewidth=0.25, alpha=0.5)\n",
    "plt.scatter(x_axis, y_axis, alpha=0.5, s=10)\n",
    "plt.savefig(\"ImpactIncomeOnCO2.png\", dpi=150)\n",
    "plt.show()"
   ]
  },
  {
   "cell_type": "code",
   "execution_count": 16,
   "metadata": {},
   "outputs": [
    {
     "name": "stdout",
     "output_type": "stream",
     "text": [
      "6392.946466579236\n",
      "1640.0\n",
      "0    1050\n",
      "dtype: int64\n"
     ]
    }
   ],
   "source": [
    "print(merge_inc_co2_df['income'].mean())\n",
    "print(merge_inc_co2_df['income'].median())\n",
    "print(merge_inc_co2_df['income'].mode())"
   ]
  },
  {
   "cell_type": "code",
   "execution_count": 17,
   "metadata": {},
   "outputs": [
    {
     "name": "stdout",
     "output_type": "stream",
     "text": [
      "6392.946466579236\n",
      "1640.0\n",
      "0    1050\n",
      "dtype: int64\n"
     ]
    }
   ],
   "source": [
    "print(merge_inc_co2_df['co2'].mean())\n",
    "print(merge_inc_co2_df['co2'].median())\n",
    "print(merge_inc_co2_df['co2'].mode())"
   ]
  },
  {
   "cell_type": "code",
   "execution_count": 21,
   "metadata": {},
   "outputs": [
    {
     "data": {
      "image/png": "[encoded data removed]",
      "text/plain": [
       "<Figure size 432x288 with 1 Axes>"
      ]
     },
     "metadata": {
      "needs_background": "light"
     },
     "output_type": "display_data"
    },
    {
     "name": "stdout",
     "output_type": "stream",
     "text": [
      "NormaltestResult(statistic=123.09486208735098, pvalue=1.8633323432791027e-27)\n"
     ]
    }
   ],
   "source": [
    "# Determine if the co2 emissions is normally distributed\n",
    "plt.hist(merge_inc_co2_df['co2'])\n",
    "plt.xlabel('co2')\n",
    "plt.ylabel('Counts')\n",
    "plt.show()\n",
    "print(stats.normaltest(merge_inc_co2_df[\"co2\"].sample(100)))"
   ]
  },
  {
   "cell_type": "code",
   "execution_count": 19,
   "metadata": {},
   "outputs": [
    {
     "data": {
      "text/html": [
       "<div>\n",
       "<style scoped>\n",
       "    .dataframe tbody tr th:only-of-type {\n",
       "        vertical-align: middle;\n",
       "    }\n",
       "\n",
       "    .dataframe tbody tr th {\n",
       "        vertical-align: top;\n",
       "    }\n",
       "\n",
       "    .dataframe thead th {\n",
       "        text-align: right;\n",
       "    }\n",
       "</style>\n",
       "<table border=\"1\" class=\"dataframe\">\n",
       "  <thead>\n",
       "    <tr style=\"text-align: right;\">\n",
       "      <th></th>\n",
       "      <th>country</th>\n",
       "      <th>year</th>\n",
       "      <th>population</th>\n",
       "    </tr>\n",
       "  </thead>\n",
       "  <tbody>\n",
       "    <tr>\n",
       "      <td>0</td>\n",
       "      <td>Afghanistan</td>\n",
       "      <td>1800</td>\n",
       "      <td>3280000</td>\n",
       "    </tr>\n",
       "    <tr>\n",
       "      <td>1</td>\n",
       "      <td>Albania</td>\n",
       "      <td>1800</td>\n",
       "      <td>410000</td>\n",
       "    </tr>\n",
       "    <tr>\n",
       "      <td>2</td>\n",
       "      <td>Algeria</td>\n",
       "      <td>1800</td>\n",
       "      <td>2500000</td>\n",
       "    </tr>\n",
       "    <tr>\n",
       "      <td>3</td>\n",
       "      <td>Andorra</td>\n",
       "      <td>1800</td>\n",
       "      <td>2650</td>\n",
       "    </tr>\n",
       "    <tr>\n",
       "      <td>4</td>\n",
       "      <td>Angola</td>\n",
       "      <td>1800</td>\n",
       "      <td>1570000</td>\n",
       "    </tr>\n",
       "    <tr>\n",
       "      <td>...</td>\n",
       "      <td>...</td>\n",
       "      <td>...</td>\n",
       "      <td>...</td>\n",
       "    </tr>\n",
       "    <tr>\n",
       "      <td>58690</td>\n",
       "      <td>Venezuela</td>\n",
       "      <td>2100</td>\n",
       "      <td>41600000</td>\n",
       "    </tr>\n",
       "    <tr>\n",
       "      <td>58691</td>\n",
       "      <td>Vietnam</td>\n",
       "      <td>2100</td>\n",
       "      <td>108000000</td>\n",
       "    </tr>\n",
       "    <tr>\n",
       "      <td>58692</td>\n",
       "      <td>Yemen</td>\n",
       "      <td>2100</td>\n",
       "      <td>53500000</td>\n",
       "    </tr>\n",
       "    <tr>\n",
       "      <td>58693</td>\n",
       "      <td>Zambia</td>\n",
       "      <td>2100</td>\n",
       "      <td>94400000</td>\n",
       "    </tr>\n",
       "    <tr>\n",
       "      <td>58694</td>\n",
       "      <td>Zimbabwe</td>\n",
       "      <td>2100</td>\n",
       "      <td>40700000</td>\n",
       "    </tr>\n",
       "  </tbody>\n",
       "</table>\n",
       "<p>58695 rows × 3 columns</p>\n",
       "</div>"
      ],
      "text/plain": [
       "           country  year  population\n",
       "0      Afghanistan  1800     3280000\n",
       "1          Albania  1800      410000\n",
       "2          Algeria  1800     2500000\n",
       "3          Andorra  1800        2650\n",
       "4           Angola  1800     1570000\n",
       "...            ...   ...         ...\n",
       "58690    Venezuela  2100    41600000\n",
       "58691      Vietnam  2100   108000000\n",
       "58692        Yemen  2100    53500000\n",
       "58693       Zambia  2100    94400000\n",
       "58694     Zimbabwe  2100    40700000\n",
       "\n",
       "[58695 rows x 3 columns]"
      ]
     },
     "execution_count": 19,
     "metadata": {},
     "output_type": "execute_result"
    }
   ],
   "source": [
    "# reshape the population dataframe to show every Country|Year with the population for that year (using group by looked nice but didn't cut it) \n",
    "df_meltPop = population_df.melt(id_vars=['country'], var_name='year', value_name='population')\n",
    "df_meltPop = df_meltPop.dropna()\n",
    "df_meltPop"
   ]
  },
  {
   "cell_type": "code",
   "execution_count": 22,
   "metadata": {},
   "outputs": [
    {
     "data": {
      "text/html": [
       "<div>\n",
       "<style scoped>\n",
       "    .dataframe tbody tr th:only-of-type {\n",
       "        vertical-align: middle;\n",
       "    }\n",
       "\n",
       "    .dataframe tbody tr th {\n",
       "        vertical-align: top;\n",
       "    }\n",
       "\n",
       "    .dataframe thead th {\n",
       "        text-align: right;\n",
       "    }\n",
       "</style>\n",
       "<table border=\"1\" class=\"dataframe\">\n",
       "  <thead>\n",
       "    <tr style=\"text-align: right;\">\n",
       "      <th></th>\n",
       "      <th>country</th>\n",
       "      <th>year</th>\n",
       "      <th>population</th>\n",
       "      <th>combined</th>\n",
       "    </tr>\n",
       "  </thead>\n",
       "  <tbody>\n",
       "    <tr>\n",
       "      <td>0</td>\n",
       "      <td>Afghanistan</td>\n",
       "      <td>1800</td>\n",
       "      <td>3280000</td>\n",
       "      <td>Afghanistan 1800</td>\n",
       "    </tr>\n",
       "    <tr>\n",
       "      <td>1</td>\n",
       "      <td>Albania</td>\n",
       "      <td>1800</td>\n",
       "      <td>410000</td>\n",
       "      <td>Albania 1800</td>\n",
       "    </tr>\n",
       "    <tr>\n",
       "      <td>2</td>\n",
       "      <td>Algeria</td>\n",
       "      <td>1800</td>\n",
       "      <td>2500000</td>\n",
       "      <td>Algeria 1800</td>\n",
       "    </tr>\n",
       "    <tr>\n",
       "      <td>3</td>\n",
       "      <td>Andorra</td>\n",
       "      <td>1800</td>\n",
       "      <td>2650</td>\n",
       "      <td>Andorra 1800</td>\n",
       "    </tr>\n",
       "    <tr>\n",
       "      <td>4</td>\n",
       "      <td>Angola</td>\n",
       "      <td>1800</td>\n",
       "      <td>1570000</td>\n",
       "      <td>Angola 1800</td>\n",
       "    </tr>\n",
       "    <tr>\n",
       "      <td>...</td>\n",
       "      <td>...</td>\n",
       "      <td>...</td>\n",
       "      <td>...</td>\n",
       "      <td>...</td>\n",
       "    </tr>\n",
       "    <tr>\n",
       "      <td>58690</td>\n",
       "      <td>Venezuela</td>\n",
       "      <td>2100</td>\n",
       "      <td>41600000</td>\n",
       "      <td>Venezuela 2100</td>\n",
       "    </tr>\n",
       "    <tr>\n",
       "      <td>58691</td>\n",
       "      <td>Vietnam</td>\n",
       "      <td>2100</td>\n",
       "      <td>108000000</td>\n",
       "      <td>Vietnam 2100</td>\n",
       "    </tr>\n",
       "    <tr>\n",
       "      <td>58692</td>\n",
       "      <td>Yemen</td>\n",
       "      <td>2100</td>\n",
       "      <td>53500000</td>\n",
       "      <td>Yemen 2100</td>\n",
       "    </tr>\n",
       "    <tr>\n",
       "      <td>58693</td>\n",
       "      <td>Zambia</td>\n",
       "      <td>2100</td>\n",
       "      <td>94400000</td>\n",
       "      <td>Zambia 2100</td>\n",
       "    </tr>\n",
       "    <tr>\n",
       "      <td>58694</td>\n",
       "      <td>Zimbabwe</td>\n",
       "      <td>2100</td>\n",
       "      <td>40700000</td>\n",
       "      <td>Zimbabwe 2100</td>\n",
       "    </tr>\n",
       "  </tbody>\n",
       "</table>\n",
       "<p>58695 rows × 4 columns</p>\n",
       "</div>"
      ],
      "text/plain": [
       "           country  year  population          combined\n",
       "0      Afghanistan  1800     3280000  Afghanistan 1800\n",
       "1          Albania  1800      410000      Albania 1800\n",
       "2          Algeria  1800     2500000      Algeria 1800\n",
       "3          Andorra  1800        2650      Andorra 1800\n",
       "4           Angola  1800     1570000       Angola 1800\n",
       "...            ...   ...         ...               ...\n",
       "58690    Venezuela  2100    41600000    Venezuela 2100\n",
       "58691      Vietnam  2100   108000000      Vietnam 2100\n",
       "58692        Yemen  2100    53500000        Yemen 2100\n",
       "58693       Zambia  2100    94400000       Zambia 2100\n",
       "58694     Zimbabwe  2100    40700000     Zimbabwe 2100\n",
       "\n",
       "[58695 rows x 4 columns]"
      ]
     },
     "execution_count": 22,
     "metadata": {},
     "output_type": "execute_result"
    }
   ],
   "source": [
    "# take the reshaped population values and create a new data element that combines country and year\n",
    "cols = ['country', 'year']\n",
    "df_meltPop['combined'] = df_meltPop[cols].apply(lambda row: ' '.join(row.values.astype(str)), axis=1)\n",
    "df_meltPop"
   ]
  },
  {
   "cell_type": "code",
   "execution_count": 23,
   "metadata": {},
   "outputs": [
    {
     "data": {
      "text/html": [
       "<div>\n",
       "<style scoped>\n",
       "    .dataframe tbody tr th:only-of-type {\n",
       "        vertical-align: middle;\n",
       "    }\n",
       "\n",
       "    .dataframe tbody tr th {\n",
       "        vertical-align: top;\n",
       "    }\n",
       "\n",
       "    .dataframe thead th {\n",
       "        text-align: right;\n",
       "    }\n",
       "</style>\n",
       "<table border=\"1\" class=\"dataframe\">\n",
       "  <thead>\n",
       "    <tr style=\"text-align: right;\">\n",
       "      <th></th>\n",
       "      <th>country</th>\n",
       "      <th>year</th>\n",
       "      <th>birth rate</th>\n",
       "    </tr>\n",
       "  </thead>\n",
       "  <tbody>\n",
       "    <tr>\n",
       "      <td>0</td>\n",
       "      <td>Afghanistan</td>\n",
       "      <td>1800</td>\n",
       "      <td>7.00</td>\n",
       "    </tr>\n",
       "    <tr>\n",
       "      <td>1</td>\n",
       "      <td>Albania</td>\n",
       "      <td>1800</td>\n",
       "      <td>4.60</td>\n",
       "    </tr>\n",
       "    <tr>\n",
       "      <td>2</td>\n",
       "      <td>Algeria</td>\n",
       "      <td>1800</td>\n",
       "      <td>6.99</td>\n",
       "    </tr>\n",
       "    <tr>\n",
       "      <td>3</td>\n",
       "      <td>Angola</td>\n",
       "      <td>1800</td>\n",
       "      <td>6.93</td>\n",
       "    </tr>\n",
       "    <tr>\n",
       "      <td>4</td>\n",
       "      <td>Antigua and Barbuda</td>\n",
       "      <td>1800</td>\n",
       "      <td>5.00</td>\n",
       "    </tr>\n",
       "    <tr>\n",
       "      <td>...</td>\n",
       "      <td>...</td>\n",
       "      <td>...</td>\n",
       "      <td>...</td>\n",
       "    </tr>\n",
       "    <tr>\n",
       "      <td>40291</td>\n",
       "      <td>Venezuela</td>\n",
       "      <td>2018</td>\n",
       "      <td>2.27</td>\n",
       "    </tr>\n",
       "    <tr>\n",
       "      <td>40292</td>\n",
       "      <td>Vietnam</td>\n",
       "      <td>2018</td>\n",
       "      <td>1.95</td>\n",
       "    </tr>\n",
       "    <tr>\n",
       "      <td>40293</td>\n",
       "      <td>Yemen</td>\n",
       "      <td>2018</td>\n",
       "      <td>3.79</td>\n",
       "    </tr>\n",
       "    <tr>\n",
       "      <td>40294</td>\n",
       "      <td>Zambia</td>\n",
       "      <td>2018</td>\n",
       "      <td>4.87</td>\n",
       "    </tr>\n",
       "    <tr>\n",
       "      <td>40295</td>\n",
       "      <td>Zimbabwe</td>\n",
       "      <td>2018</td>\n",
       "      <td>3.61</td>\n",
       "    </tr>\n",
       "  </tbody>\n",
       "</table>\n",
       "<p>40296 rows × 3 columns</p>\n",
       "</div>"
      ],
      "text/plain": [
       "                   country  year  birth rate\n",
       "0              Afghanistan  1800        7.00\n",
       "1                  Albania  1800        4.60\n",
       "2                  Algeria  1800        6.99\n",
       "3                   Angola  1800        6.93\n",
       "4      Antigua and Barbuda  1800        5.00\n",
       "...                    ...   ...         ...\n",
       "40291            Venezuela  2018        2.27\n",
       "40292              Vietnam  2018        1.95\n",
       "40293                Yemen  2018        3.79\n",
       "40294               Zambia  2018        4.87\n",
       "40295             Zimbabwe  2018        3.61\n",
       "\n",
       "[40296 rows x 3 columns]"
      ]
     },
     "execution_count": 23,
     "metadata": {},
     "output_type": "execute_result"
    }
   ],
   "source": [
    "# reshape the birthrate dataframe to show every Country|Year with the birthrate for that year (using group \n",
    "# by looked nice but didn't cut it) \n",
    "df_meltBirth = birthrate_df.melt(id_vars=['country'], var_name='year', value_name='birth rate')\n",
    "df_meltBirth = df_meltBirth.dropna()\n",
    "df_meltBirth"
   ]
  },
  {
   "cell_type": "code",
   "execution_count": 24,
   "metadata": {},
   "outputs": [
    {
     "data": {
      "text/html": [
       "<div>\n",
       "<style scoped>\n",
       "    .dataframe tbody tr th:only-of-type {\n",
       "        vertical-align: middle;\n",
       "    }\n",
       "\n",
       "    .dataframe tbody tr th {\n",
       "        vertical-align: top;\n",
       "    }\n",
       "\n",
       "    .dataframe thead th {\n",
       "        text-align: right;\n",
       "    }\n",
       "</style>\n",
       "<table border=\"1\" class=\"dataframe\">\n",
       "  <thead>\n",
       "    <tr style=\"text-align: right;\">\n",
       "      <th></th>\n",
       "      <th>country</th>\n",
       "      <th>year</th>\n",
       "      <th>birth rate</th>\n",
       "      <th>combined</th>\n",
       "    </tr>\n",
       "  </thead>\n",
       "  <tbody>\n",
       "    <tr>\n",
       "      <td>0</td>\n",
       "      <td>Afghanistan</td>\n",
       "      <td>1800</td>\n",
       "      <td>7.00</td>\n",
       "      <td>Afghanistan 1800</td>\n",
       "    </tr>\n",
       "    <tr>\n",
       "      <td>1</td>\n",
       "      <td>Albania</td>\n",
       "      <td>1800</td>\n",
       "      <td>4.60</td>\n",
       "      <td>Albania 1800</td>\n",
       "    </tr>\n",
       "    <tr>\n",
       "      <td>2</td>\n",
       "      <td>Algeria</td>\n",
       "      <td>1800</td>\n",
       "      <td>6.99</td>\n",
       "      <td>Algeria 1800</td>\n",
       "    </tr>\n",
       "    <tr>\n",
       "      <td>3</td>\n",
       "      <td>Angola</td>\n",
       "      <td>1800</td>\n",
       "      <td>6.93</td>\n",
       "      <td>Angola 1800</td>\n",
       "    </tr>\n",
       "    <tr>\n",
       "      <td>4</td>\n",
       "      <td>Antigua and Barbuda</td>\n",
       "      <td>1800</td>\n",
       "      <td>5.00</td>\n",
       "      <td>Antigua and Barbuda 1800</td>\n",
       "    </tr>\n",
       "    <tr>\n",
       "      <td>...</td>\n",
       "      <td>...</td>\n",
       "      <td>...</td>\n",
       "      <td>...</td>\n",
       "      <td>...</td>\n",
       "    </tr>\n",
       "    <tr>\n",
       "      <td>40291</td>\n",
       "      <td>Venezuela</td>\n",
       "      <td>2018</td>\n",
       "      <td>2.27</td>\n",
       "      <td>Venezuela 2018</td>\n",
       "    </tr>\n",
       "    <tr>\n",
       "      <td>40292</td>\n",
       "      <td>Vietnam</td>\n",
       "      <td>2018</td>\n",
       "      <td>1.95</td>\n",
       "      <td>Vietnam 2018</td>\n",
       "    </tr>\n",
       "    <tr>\n",
       "      <td>40293</td>\n",
       "      <td>Yemen</td>\n",
       "      <td>2018</td>\n",
       "      <td>3.79</td>\n",
       "      <td>Yemen 2018</td>\n",
       "    </tr>\n",
       "    <tr>\n",
       "      <td>40294</td>\n",
       "      <td>Zambia</td>\n",
       "      <td>2018</td>\n",
       "      <td>4.87</td>\n",
       "      <td>Zambia 2018</td>\n",
       "    </tr>\n",
       "    <tr>\n",
       "      <td>40295</td>\n",
       "      <td>Zimbabwe</td>\n",
       "      <td>2018</td>\n",
       "      <td>3.61</td>\n",
       "      <td>Zimbabwe 2018</td>\n",
       "    </tr>\n",
       "  </tbody>\n",
       "</table>\n",
       "<p>40296 rows × 4 columns</p>\n",
       "</div>"
      ],
      "text/plain": [
       "                   country  year  birth rate                  combined\n",
       "0              Afghanistan  1800        7.00          Afghanistan 1800\n",
       "1                  Albania  1800        4.60              Albania 1800\n",
       "2                  Algeria  1800        6.99              Algeria 1800\n",
       "3                   Angola  1800        6.93               Angola 1800\n",
       "4      Antigua and Barbuda  1800        5.00  Antigua and Barbuda 1800\n",
       "...                    ...   ...         ...                       ...\n",
       "40291            Venezuela  2018        2.27            Venezuela 2018\n",
       "40292              Vietnam  2018        1.95              Vietnam 2018\n",
       "40293                Yemen  2018        3.79                Yemen 2018\n",
       "40294               Zambia  2018        4.87               Zambia 2018\n",
       "40295             Zimbabwe  2018        3.61             Zimbabwe 2018\n",
       "\n",
       "[40296 rows x 4 columns]"
      ]
     },
     "execution_count": 24,
     "metadata": {},
     "output_type": "execute_result"
    }
   ],
   "source": [
    "# take the reshaped birth rate values and create a new data element that combines country and year\n",
    "cols = ['country', 'year']\n",
    "df_meltBirth['combined'] = df_meltBirth[cols].apply(lambda row: ' '.join(row.values.astype(str)), axis=1)\n",
    "df_meltBirth"
   ]
  },
  {
   "cell_type": "code",
   "execution_count": 25,
   "metadata": {},
   "outputs": [
    {
     "data": {
      "text/html": [
       "<div>\n",
       "<style scoped>\n",
       "    .dataframe tbody tr th:only-of-type {\n",
       "        vertical-align: middle;\n",
       "    }\n",
       "\n",
       "    .dataframe tbody tr th {\n",
       "        vertical-align: top;\n",
       "    }\n",
       "\n",
       "    .dataframe thead th {\n",
       "        text-align: right;\n",
       "    }\n",
       "</style>\n",
       "<table border=\"1\" class=\"dataframe\">\n",
       "  <thead>\n",
       "    <tr style=\"text-align: right;\">\n",
       "      <th></th>\n",
       "      <th>population</th>\n",
       "      <th>combined</th>\n",
       "      <th>birth rate</th>\n",
       "    </tr>\n",
       "  </thead>\n",
       "  <tbody>\n",
       "    <tr>\n",
       "      <td>0</td>\n",
       "      <td>3280000</td>\n",
       "      <td>Afghanistan 1800</td>\n",
       "      <td>7.00</td>\n",
       "    </tr>\n",
       "    <tr>\n",
       "      <td>1</td>\n",
       "      <td>410000</td>\n",
       "      <td>Albania 1800</td>\n",
       "      <td>4.60</td>\n",
       "    </tr>\n",
       "    <tr>\n",
       "      <td>2</td>\n",
       "      <td>2500000</td>\n",
       "      <td>Algeria 1800</td>\n",
       "      <td>6.99</td>\n",
       "    </tr>\n",
       "    <tr>\n",
       "      <td>3</td>\n",
       "      <td>1570000</td>\n",
       "      <td>Angola 1800</td>\n",
       "      <td>6.93</td>\n",
       "    </tr>\n",
       "    <tr>\n",
       "      <td>4</td>\n",
       "      <td>37000</td>\n",
       "      <td>Antigua and Barbuda 1800</td>\n",
       "      <td>5.00</td>\n",
       "    </tr>\n",
       "    <tr>\n",
       "      <td>...</td>\n",
       "      <td>...</td>\n",
       "      <td>...</td>\n",
       "      <td>...</td>\n",
       "    </tr>\n",
       "    <tr>\n",
       "      <td>40291</td>\n",
       "      <td>32400000</td>\n",
       "      <td>Venezuela 2018</td>\n",
       "      <td>2.27</td>\n",
       "    </tr>\n",
       "    <tr>\n",
       "      <td>40292</td>\n",
       "      <td>96500000</td>\n",
       "      <td>Vietnam 2018</td>\n",
       "      <td>1.95</td>\n",
       "    </tr>\n",
       "    <tr>\n",
       "      <td>40293</td>\n",
       "      <td>28900000</td>\n",
       "      <td>Yemen 2018</td>\n",
       "      <td>3.79</td>\n",
       "    </tr>\n",
       "    <tr>\n",
       "      <td>40294</td>\n",
       "      <td>17600000</td>\n",
       "      <td>Zambia 2018</td>\n",
       "      <td>4.87</td>\n",
       "    </tr>\n",
       "    <tr>\n",
       "      <td>40295</td>\n",
       "      <td>16900000</td>\n",
       "      <td>Zimbabwe 2018</td>\n",
       "      <td>3.61</td>\n",
       "    </tr>\n",
       "  </tbody>\n",
       "</table>\n",
       "<p>40296 rows × 3 columns</p>\n",
       "</div>"
      ],
      "text/plain": [
       "       population                  combined  birth rate\n",
       "0         3280000          Afghanistan 1800        7.00\n",
       "1          410000              Albania 1800        4.60\n",
       "2         2500000              Algeria 1800        6.99\n",
       "3         1570000               Angola 1800        6.93\n",
       "4           37000  Antigua and Barbuda 1800        5.00\n",
       "...           ...                       ...         ...\n",
       "40291    32400000            Venezuela 2018        2.27\n",
       "40292    96500000              Vietnam 2018        1.95\n",
       "40293    28900000                Yemen 2018        3.79\n",
       "40294    17600000               Zambia 2018        4.87\n",
       "40295    16900000             Zimbabwe 2018        3.61\n",
       "\n",
       "[40296 rows x 3 columns]"
      ]
     },
     "execution_count": 25,
     "metadata": {},
     "output_type": "execute_result"
    }
   ],
   "source": [
    "# merge the reshaped population and birth rate\n",
    "merge_pop_birth_df = pd.merge(df_meltPop,df_meltBirth, on=\"combined\", how=\"inner\")\n",
    "merge_pop_birth_df = merge_pop_birth_df.drop('country_x', axis=1)\n",
    "merge_pop_birth_df = merge_pop_birth_df.drop('year_x', axis=1)\n",
    "merge_pop_birth_df = merge_pop_birth_df.drop('country_y', axis=1)\n",
    "merge_pop_birth_df = merge_pop_birth_df.drop('year_y', axis=1)\n",
    "merge_pop_birth_df"
   ]
  },
  {
   "cell_type": "code",
   "execution_count": 26,
   "metadata": {},
   "outputs": [
    {
     "data": {
      "text/html": [
       "<div>\n",
       "<style scoped>\n",
       "    .dataframe tbody tr th:only-of-type {\n",
       "        vertical-align: middle;\n",
       "    }\n",
       "\n",
       "    .dataframe tbody tr th {\n",
       "        vertical-align: top;\n",
       "    }\n",
       "\n",
       "    .dataframe thead th {\n",
       "        text-align: right;\n",
       "    }\n",
       "</style>\n",
       "<table border=\"1\" class=\"dataframe\">\n",
       "  <thead>\n",
       "    <tr style=\"text-align: right;\">\n",
       "      <th></th>\n",
       "      <th>population</th>\n",
       "      <th>combined</th>\n",
       "      <th>birth rate</th>\n",
       "      <th>income</th>\n",
       "      <th>co2</th>\n",
       "      <th>log income</th>\n",
       "    </tr>\n",
       "  </thead>\n",
       "  <tbody>\n",
       "    <tr>\n",
       "      <td>0</td>\n",
       "      <td>3280000</td>\n",
       "      <td>Afghanistan 1800</td>\n",
       "      <td>7.00</td>\n",
       "      <td>603</td>\n",
       "      <td>603</td>\n",
       "      <td>2.780317</td>\n",
       "    </tr>\n",
       "    <tr>\n",
       "      <td>1</td>\n",
       "      <td>410000</td>\n",
       "      <td>Albania 1800</td>\n",
       "      <td>4.60</td>\n",
       "      <td>667</td>\n",
       "      <td>667</td>\n",
       "      <td>2.824126</td>\n",
       "    </tr>\n",
       "    <tr>\n",
       "      <td>2</td>\n",
       "      <td>2500000</td>\n",
       "      <td>Algeria 1800</td>\n",
       "      <td>6.99</td>\n",
       "      <td>715</td>\n",
       "      <td>715</td>\n",
       "      <td>2.854306</td>\n",
       "    </tr>\n",
       "    <tr>\n",
       "      <td>3</td>\n",
       "      <td>1570000</td>\n",
       "      <td>Angola 1800</td>\n",
       "      <td>6.93</td>\n",
       "      <td>618</td>\n",
       "      <td>618</td>\n",
       "      <td>2.790988</td>\n",
       "    </tr>\n",
       "    <tr>\n",
       "      <td>4</td>\n",
       "      <td>37000</td>\n",
       "      <td>Antigua and Barbuda 1800</td>\n",
       "      <td>5.00</td>\n",
       "      <td>757</td>\n",
       "      <td>757</td>\n",
       "      <td>2.879096</td>\n",
       "    </tr>\n",
       "    <tr>\n",
       "      <td>...</td>\n",
       "      <td>...</td>\n",
       "      <td>...</td>\n",
       "      <td>...</td>\n",
       "      <td>...</td>\n",
       "      <td>...</td>\n",
       "      <td>...</td>\n",
       "    </tr>\n",
       "    <tr>\n",
       "      <td>40291</td>\n",
       "      <td>32400000</td>\n",
       "      <td>Venezuela 2018</td>\n",
       "      <td>2.27</td>\n",
       "      <td>14200</td>\n",
       "      <td>14200</td>\n",
       "      <td>4.152288</td>\n",
       "    </tr>\n",
       "    <tr>\n",
       "      <td>40292</td>\n",
       "      <td>96500000</td>\n",
       "      <td>Vietnam 2018</td>\n",
       "      <td>1.95</td>\n",
       "      <td>6550</td>\n",
       "      <td>6550</td>\n",
       "      <td>3.816241</td>\n",
       "    </tr>\n",
       "    <tr>\n",
       "      <td>40293</td>\n",
       "      <td>28900000</td>\n",
       "      <td>Yemen 2018</td>\n",
       "      <td>3.79</td>\n",
       "      <td>2430</td>\n",
       "      <td>2430</td>\n",
       "      <td>3.385606</td>\n",
       "    </tr>\n",
       "    <tr>\n",
       "      <td>40294</td>\n",
       "      <td>17600000</td>\n",
       "      <td>Zambia 2018</td>\n",
       "      <td>4.87</td>\n",
       "      <td>3870</td>\n",
       "      <td>3870</td>\n",
       "      <td>3.587711</td>\n",
       "    </tr>\n",
       "    <tr>\n",
       "      <td>40295</td>\n",
       "      <td>16900000</td>\n",
       "      <td>Zimbabwe 2018</td>\n",
       "      <td>3.61</td>\n",
       "      <td>1950</td>\n",
       "      <td>1950</td>\n",
       "      <td>3.290035</td>\n",
       "    </tr>\n",
       "  </tbody>\n",
       "</table>\n",
       "<p>40296 rows × 6 columns</p>\n",
       "</div>"
      ],
      "text/plain": [
       "       population                  combined  birth rate  income    co2  \\\n",
       "0         3280000          Afghanistan 1800        7.00     603    603   \n",
       "1          410000              Albania 1800        4.60     667    667   \n",
       "2         2500000              Algeria 1800        6.99     715    715   \n",
       "3         1570000               Angola 1800        6.93     618    618   \n",
       "4           37000  Antigua and Barbuda 1800        5.00     757    757   \n",
       "...           ...                       ...         ...     ...    ...   \n",
       "40291    32400000            Venezuela 2018        2.27   14200  14200   \n",
       "40292    96500000              Vietnam 2018        1.95    6550   6550   \n",
       "40293    28900000                Yemen 2018        3.79    2430   2430   \n",
       "40294    17600000               Zambia 2018        4.87    3870   3870   \n",
       "40295    16900000             Zimbabwe 2018        3.61    1950   1950   \n",
       "\n",
       "       log income  \n",
       "0        2.780317  \n",
       "1        2.824126  \n",
       "2        2.854306  \n",
       "3        2.790988  \n",
       "4        2.879096  \n",
       "...           ...  \n",
       "40291    4.152288  \n",
       "40292    3.816241  \n",
       "40293    3.385606  \n",
       "40294    3.587711  \n",
       "40295    3.290035  \n",
       "\n",
       "[40296 rows x 6 columns]"
      ]
     },
     "execution_count": 26,
     "metadata": {},
     "output_type": "execute_result"
    }
   ],
   "source": [
    "# merge the income/co2 dataframe to the population/birth rate dataframe\n",
    "merge_all_df = pd.merge(merge_pop_birth_df,merge_inc_co2_df, on=\"combined\", how=\"inner\")\n",
    "merge_all_df"
   ]
  },
  {
   "cell_type": "code",
   "execution_count": 29,
   "metadata": {},
   "outputs": [
    {
     "data": {
      "image/png": "[encoded data removed]",
      "text/plain": [
       "<Figure size 432x288 with 1 Axes>"
      ]
     },
     "metadata": {
      "needs_background": "light"
     },
     "output_type": "display_data"
    }
   ],
   "source": [
    "# plot the birth rate and the population to see if there was correlation\n",
    "x_axis = merge_all_df[\"birth rate\"]\n",
    "y_axis = merge_all_df[\"population\"]\n",
    "plt.xlabel(\"Birth Rate\")\n",
    "plt.ylabel(\"Population\")\n",
    "plt.title(\"Impact of Birth Rate on Population 1800 to 2014\")\n",
    "plt.grid(color='grey', linestyle='-', linewidth=0.25, alpha=0.5)\n",
    "plt.scatter(x_axis, y_axis, alpha=0.5, s=10)\n",
    "plt.savefig(\"ImpactBirthOnPop.png\", dpi=150)\n",
    "plt.show()"
   ]
  },
  {
   "cell_type": "code",
   "execution_count": 10,
   "metadata": {},
   "outputs": [],
   "source": [
    "#Molly's code ends here"
   ]
  },
  {
   "cell_type": "code",
   "execution_count": 11,
   "metadata": {},
   "outputs": [],
   "source": [
    "#Kaan's code starts here"
   ]
  },
  {
   "cell_type": "code",
   "execution_count": 12,
   "metadata": {},
   "outputs": [],
   "source": [
    "#Kaan's code ends here"
   ]
  },
  {
   "cell_type": "code",
   "execution_count": 13,
   "metadata": {},
   "outputs": [],
   "source": [
    "#Vallie's code starts here"
   ]
  },
  {
   "cell_type": "code",
   "execution_count": 14,
   "metadata": {},
   "outputs": [
    {
     "data": {
      "text/html": [
       "<div>\n",
       "<style scoped>\n",
       "    .dataframe tbody tr th:only-of-type {\n",
       "        vertical-align: middle;\n",
       "    }\n",
       "\n",
       "    .dataframe tbody tr th {\n",
       "        vertical-align: top;\n",
       "    }\n",
       "\n",
       "    .dataframe thead th {\n",
       "        text-align: right;\n",
       "    }\n",
       "</style>\n",
       "<table border=\"1\" class=\"dataframe\">\n",
       "  <thead>\n",
       "    <tr style=\"text-align: right;\">\n",
       "      <th></th>\n",
       "      <th>country</th>\n",
       "      <th>1800</th>\n",
       "      <th>1801</th>\n",
       "      <th>1802</th>\n",
       "      <th>1803</th>\n",
       "      <th>1804</th>\n",
       "      <th>1805</th>\n",
       "      <th>1806</th>\n",
       "      <th>1807</th>\n",
       "      <th>1808</th>\n",
       "      <th>...</th>\n",
       "      <th>2009</th>\n",
       "      <th>2010</th>\n",
       "      <th>2011</th>\n",
       "      <th>2012</th>\n",
       "      <th>2013</th>\n",
       "      <th>2014</th>\n",
       "      <th>2015</th>\n",
       "      <th>2016</th>\n",
       "      <th>2017</th>\n",
       "      <th>2018</th>\n",
       "    </tr>\n",
       "  </thead>\n",
       "  <tbody>\n",
       "    <tr>\n",
       "      <td>0</td>\n",
       "      <td>Afghanistan</td>\n",
       "      <td>7.00</td>\n",
       "      <td>7.00</td>\n",
       "      <td>7.00</td>\n",
       "      <td>7.00</td>\n",
       "      <td>7.00</td>\n",
       "      <td>7.00</td>\n",
       "      <td>7.00</td>\n",
       "      <td>7.00</td>\n",
       "      <td>7.00</td>\n",
       "      <td>...</td>\n",
       "      <td>6.04</td>\n",
       "      <td>5.82</td>\n",
       "      <td>5.60</td>\n",
       "      <td>5.38</td>\n",
       "      <td>5.17</td>\n",
       "      <td>4.98</td>\n",
       "      <td>4.80</td>\n",
       "      <td>4.64</td>\n",
       "      <td>4.48</td>\n",
       "      <td>4.33</td>\n",
       "    </tr>\n",
       "    <tr>\n",
       "      <td>1</td>\n",
       "      <td>Albania</td>\n",
       "      <td>4.60</td>\n",
       "      <td>4.60</td>\n",
       "      <td>4.60</td>\n",
       "      <td>4.60</td>\n",
       "      <td>4.60</td>\n",
       "      <td>4.60</td>\n",
       "      <td>4.60</td>\n",
       "      <td>4.60</td>\n",
       "      <td>4.60</td>\n",
       "      <td>...</td>\n",
       "      <td>1.65</td>\n",
       "      <td>1.65</td>\n",
       "      <td>1.67</td>\n",
       "      <td>1.69</td>\n",
       "      <td>1.70</td>\n",
       "      <td>1.71</td>\n",
       "      <td>1.71</td>\n",
       "      <td>1.71</td>\n",
       "      <td>1.71</td>\n",
       "      <td>1.71</td>\n",
       "    </tr>\n",
       "    <tr>\n",
       "      <td>2</td>\n",
       "      <td>Algeria</td>\n",
       "      <td>6.99</td>\n",
       "      <td>6.99</td>\n",
       "      <td>6.99</td>\n",
       "      <td>6.99</td>\n",
       "      <td>6.99</td>\n",
       "      <td>6.99</td>\n",
       "      <td>6.99</td>\n",
       "      <td>6.99</td>\n",
       "      <td>6.99</td>\n",
       "      <td>...</td>\n",
       "      <td>2.83</td>\n",
       "      <td>2.89</td>\n",
       "      <td>2.93</td>\n",
       "      <td>2.94</td>\n",
       "      <td>2.92</td>\n",
       "      <td>2.89</td>\n",
       "      <td>2.84</td>\n",
       "      <td>2.78</td>\n",
       "      <td>2.71</td>\n",
       "      <td>2.64</td>\n",
       "    </tr>\n",
       "    <tr>\n",
       "      <td>3</td>\n",
       "      <td>Angola</td>\n",
       "      <td>6.93</td>\n",
       "      <td>6.93</td>\n",
       "      <td>6.93</td>\n",
       "      <td>6.93</td>\n",
       "      <td>6.93</td>\n",
       "      <td>6.93</td>\n",
       "      <td>6.93</td>\n",
       "      <td>6.94</td>\n",
       "      <td>6.94</td>\n",
       "      <td>...</td>\n",
       "      <td>6.24</td>\n",
       "      <td>6.16</td>\n",
       "      <td>6.08</td>\n",
       "      <td>6.00</td>\n",
       "      <td>5.92</td>\n",
       "      <td>5.84</td>\n",
       "      <td>5.77</td>\n",
       "      <td>5.69</td>\n",
       "      <td>5.62</td>\n",
       "      <td>5.55</td>\n",
       "    </tr>\n",
       "    <tr>\n",
       "      <td>4</td>\n",
       "      <td>Antigua and Barbuda</td>\n",
       "      <td>5.00</td>\n",
       "      <td>5.00</td>\n",
       "      <td>4.99</td>\n",
       "      <td>4.99</td>\n",
       "      <td>4.99</td>\n",
       "      <td>4.98</td>\n",
       "      <td>4.98</td>\n",
       "      <td>4.97</td>\n",
       "      <td>4.97</td>\n",
       "      <td>...</td>\n",
       "      <td>2.15</td>\n",
       "      <td>2.13</td>\n",
       "      <td>2.12</td>\n",
       "      <td>2.10</td>\n",
       "      <td>2.09</td>\n",
       "      <td>2.08</td>\n",
       "      <td>2.06</td>\n",
       "      <td>2.05</td>\n",
       "      <td>2.04</td>\n",
       "      <td>2.03</td>\n",
       "    </tr>\n",
       "  </tbody>\n",
       "</table>\n",
       "<p>5 rows × 220 columns</p>\n",
       "</div>"
      ],
      "text/plain": [
       "               country  1800  1801  1802  1803  1804  1805  1806  1807  1808  \\\n",
       "0          Afghanistan  7.00  7.00  7.00  7.00  7.00  7.00  7.00  7.00  7.00   \n",
       "1              Albania  4.60  4.60  4.60  4.60  4.60  4.60  4.60  4.60  4.60   \n",
       "2              Algeria  6.99  6.99  6.99  6.99  6.99  6.99  6.99  6.99  6.99   \n",
       "3               Angola  6.93  6.93  6.93  6.93  6.93  6.93  6.93  6.94  6.94   \n",
       "4  Antigua and Barbuda  5.00  5.00  4.99  4.99  4.99  4.98  4.98  4.97  4.97   \n",
       "\n",
       "   ...  2009  2010  2011  2012  2013  2014  2015  2016  2017  2018  \n",
       "0  ...  6.04  5.82  5.60  5.38  5.17  4.98  4.80  4.64  4.48  4.33  \n",
       "1  ...  1.65  1.65  1.67  1.69  1.70  1.71  1.71  1.71  1.71  1.71  \n",
       "2  ...  2.83  2.89  2.93  2.94  2.92  2.89  2.84  2.78  2.71  2.64  \n",
       "3  ...  6.24  6.16  6.08  6.00  5.92  5.84  5.77  5.69  5.62  5.55  \n",
       "4  ...  2.15  2.13  2.12  2.10  2.09  2.08  2.06  2.05  2.04  2.03  \n",
       "\n",
       "[5 rows x 220 columns]"
      ]
     },
     "execution_count": 14,
     "metadata": {},
     "output_type": "execute_result"
    }
   ],
   "source": [
    "# print out the birthrate df\n",
    "birthrate_df.head()"
   ]
  },
  {
   "cell_type": "code",
   "execution_count": 15,
   "metadata": {},
   "outputs": [
    {
     "data": {
      "text/html": [
       "<div>\n",
       "<style scoped>\n",
       "    .dataframe tbody tr th:only-of-type {\n",
       "        vertical-align: middle;\n",
       "    }\n",
       "\n",
       "    .dataframe tbody tr th {\n",
       "        vertical-align: top;\n",
       "    }\n",
       "\n",
       "    .dataframe thead th {\n",
       "        text-align: right;\n",
       "    }\n",
       "</style>\n",
       "<table border=\"1\" class=\"dataframe\">\n",
       "  <thead>\n",
       "    <tr style=\"text-align: right;\">\n",
       "      <th></th>\n",
       "      <th>country</th>\n",
       "      <th>1800</th>\n",
       "      <th>1801</th>\n",
       "      <th>1802</th>\n",
       "      <th>1803</th>\n",
       "      <th>1804</th>\n",
       "      <th>1805</th>\n",
       "      <th>1806</th>\n",
       "      <th>1807</th>\n",
       "      <th>1808</th>\n",
       "      <th>...</th>\n",
       "      <th>2005</th>\n",
       "      <th>2006</th>\n",
       "      <th>2007</th>\n",
       "      <th>2008</th>\n",
       "      <th>2009</th>\n",
       "      <th>2010</th>\n",
       "      <th>2011</th>\n",
       "      <th>2012</th>\n",
       "      <th>2013</th>\n",
       "      <th>2014</th>\n",
       "    </tr>\n",
       "  </thead>\n",
       "  <tbody>\n",
       "    <tr>\n",
       "      <td>0</td>\n",
       "      <td>Afghanistan</td>\n",
       "      <td>NaN</td>\n",
       "      <td>NaN</td>\n",
       "      <td>NaN</td>\n",
       "      <td>NaN</td>\n",
       "      <td>NaN</td>\n",
       "      <td>NaN</td>\n",
       "      <td>NaN</td>\n",
       "      <td>NaN</td>\n",
       "      <td>NaN</td>\n",
       "      <td>...</td>\n",
       "      <td>0.0529</td>\n",
       "      <td>0.0637</td>\n",
       "      <td>0.0854</td>\n",
       "      <td>0.154</td>\n",
       "      <td>0.242</td>\n",
       "      <td>0.294</td>\n",
       "      <td>0.412</td>\n",
       "      <td>0.35</td>\n",
       "      <td>0.316</td>\n",
       "      <td>0.299</td>\n",
       "    </tr>\n",
       "    <tr>\n",
       "      <td>1</td>\n",
       "      <td>Albania</td>\n",
       "      <td>NaN</td>\n",
       "      <td>NaN</td>\n",
       "      <td>NaN</td>\n",
       "      <td>NaN</td>\n",
       "      <td>NaN</td>\n",
       "      <td>NaN</td>\n",
       "      <td>NaN</td>\n",
       "      <td>NaN</td>\n",
       "      <td>NaN</td>\n",
       "      <td>...</td>\n",
       "      <td>1.3800</td>\n",
       "      <td>1.2800</td>\n",
       "      <td>1.3000</td>\n",
       "      <td>1.460</td>\n",
       "      <td>1.480</td>\n",
       "      <td>1.560</td>\n",
       "      <td>1.790</td>\n",
       "      <td>1.68</td>\n",
       "      <td>1.730</td>\n",
       "      <td>1.960</td>\n",
       "    </tr>\n",
       "    <tr>\n",
       "      <td>2</td>\n",
       "      <td>Algeria</td>\n",
       "      <td>NaN</td>\n",
       "      <td>NaN</td>\n",
       "      <td>NaN</td>\n",
       "      <td>NaN</td>\n",
       "      <td>NaN</td>\n",
       "      <td>NaN</td>\n",
       "      <td>NaN</td>\n",
       "      <td>NaN</td>\n",
       "      <td>NaN</td>\n",
       "      <td>...</td>\n",
       "      <td>3.2200</td>\n",
       "      <td>2.9900</td>\n",
       "      <td>3.1900</td>\n",
       "      <td>3.160</td>\n",
       "      <td>3.420</td>\n",
       "      <td>3.300</td>\n",
       "      <td>3.290</td>\n",
       "      <td>3.46</td>\n",
       "      <td>3.510</td>\n",
       "      <td>3.720</td>\n",
       "    </tr>\n",
       "    <tr>\n",
       "      <td>3</td>\n",
       "      <td>Andorra</td>\n",
       "      <td>NaN</td>\n",
       "      <td>NaN</td>\n",
       "      <td>NaN</td>\n",
       "      <td>NaN</td>\n",
       "      <td>NaN</td>\n",
       "      <td>NaN</td>\n",
       "      <td>NaN</td>\n",
       "      <td>NaN</td>\n",
       "      <td>NaN</td>\n",
       "      <td>...</td>\n",
       "      <td>7.3000</td>\n",
       "      <td>6.7500</td>\n",
       "      <td>6.5200</td>\n",
       "      <td>6.430</td>\n",
       "      <td>6.120</td>\n",
       "      <td>6.120</td>\n",
       "      <td>5.870</td>\n",
       "      <td>5.92</td>\n",
       "      <td>5.900</td>\n",
       "      <td>5.830</td>\n",
       "    </tr>\n",
       "    <tr>\n",
       "      <td>4</td>\n",
       "      <td>Angola</td>\n",
       "      <td>NaN</td>\n",
       "      <td>NaN</td>\n",
       "      <td>NaN</td>\n",
       "      <td>NaN</td>\n",
       "      <td>NaN</td>\n",
       "      <td>NaN</td>\n",
       "      <td>NaN</td>\n",
       "      <td>NaN</td>\n",
       "      <td>NaN</td>\n",
       "      <td>...</td>\n",
       "      <td>0.9800</td>\n",
       "      <td>1.1000</td>\n",
       "      <td>1.2000</td>\n",
       "      <td>1.180</td>\n",
       "      <td>1.230</td>\n",
       "      <td>1.240</td>\n",
       "      <td>1.250</td>\n",
       "      <td>1.33</td>\n",
       "      <td>1.250</td>\n",
       "      <td>1.290</td>\n",
       "    </tr>\n",
       "  </tbody>\n",
       "</table>\n",
       "<p>5 rows × 216 columns</p>\n",
       "</div>"
      ],
      "text/plain": [
       "       country  1800  1801  1802  1803  1804  1805  1806  1807  1808  ...  \\\n",
       "0  Afghanistan   NaN   NaN   NaN   NaN   NaN   NaN   NaN   NaN   NaN  ...   \n",
       "1      Albania   NaN   NaN   NaN   NaN   NaN   NaN   NaN   NaN   NaN  ...   \n",
       "2      Algeria   NaN   NaN   NaN   NaN   NaN   NaN   NaN   NaN   NaN  ...   \n",
       "3      Andorra   NaN   NaN   NaN   NaN   NaN   NaN   NaN   NaN   NaN  ...   \n",
       "4       Angola   NaN   NaN   NaN   NaN   NaN   NaN   NaN   NaN   NaN  ...   \n",
       "\n",
       "     2005    2006    2007   2008   2009   2010   2011  2012   2013   2014  \n",
       "0  0.0529  0.0637  0.0854  0.154  0.242  0.294  0.412  0.35  0.316  0.299  \n",
       "1  1.3800  1.2800  1.3000  1.460  1.480  1.560  1.790  1.68  1.730  1.960  \n",
       "2  3.2200  2.9900  3.1900  3.160  3.420  3.300  3.290  3.46  3.510  3.720  \n",
       "3  7.3000  6.7500  6.5200  6.430  6.120  6.120  5.870  5.92  5.900  5.830  \n",
       "4  0.9800  1.1000  1.2000  1.180  1.230  1.240  1.250  1.33  1.250  1.290  \n",
       "\n",
       "[5 rows x 216 columns]"
      ]
     },
     "execution_count": 15,
     "metadata": {},
     "output_type": "execute_result"
    }
   ],
   "source": [
    "# print out the co2 dataframe\n",
    "co2_df.head()"
   ]
  },
  {
   "cell_type": "code",
   "execution_count": 16,
   "metadata": {},
   "outputs": [
    {
     "data": {
      "text/html": [
       "<div>\n",
       "<style scoped>\n",
       "    .dataframe tbody tr th:only-of-type {\n",
       "        vertical-align: middle;\n",
       "    }\n",
       "\n",
       "    .dataframe tbody tr th {\n",
       "        vertical-align: top;\n",
       "    }\n",
       "\n",
       "    .dataframe thead th {\n",
       "        text-align: right;\n",
       "    }\n",
       "</style>\n",
       "<table border=\"1\" class=\"dataframe\">\n",
       "  <thead>\n",
       "    <tr style=\"text-align: right;\">\n",
       "      <th></th>\n",
       "      <th>country</th>\n",
       "      <th>1800_x</th>\n",
       "      <th>1801_x</th>\n",
       "      <th>1802_x</th>\n",
       "      <th>1803_x</th>\n",
       "      <th>1804_x</th>\n",
       "      <th>1805_x</th>\n",
       "      <th>1806_x</th>\n",
       "      <th>1807_x</th>\n",
       "      <th>1808_x</th>\n",
       "      <th>...</th>\n",
       "      <th>2009_y</th>\n",
       "      <th>2010_y</th>\n",
       "      <th>2011_y</th>\n",
       "      <th>2012_y</th>\n",
       "      <th>2013_y</th>\n",
       "      <th>2014_y</th>\n",
       "      <th>2015</th>\n",
       "      <th>2016</th>\n",
       "      <th>2017</th>\n",
       "      <th>2018</th>\n",
       "    </tr>\n",
       "  </thead>\n",
       "  <tbody>\n",
       "    <tr>\n",
       "      <td>0</td>\n",
       "      <td>Afghanistan</td>\n",
       "      <td>NaN</td>\n",
       "      <td>NaN</td>\n",
       "      <td>NaN</td>\n",
       "      <td>NaN</td>\n",
       "      <td>NaN</td>\n",
       "      <td>NaN</td>\n",
       "      <td>NaN</td>\n",
       "      <td>NaN</td>\n",
       "      <td>NaN</td>\n",
       "      <td>...</td>\n",
       "      <td>6.04</td>\n",
       "      <td>5.82</td>\n",
       "      <td>5.60</td>\n",
       "      <td>5.38</td>\n",
       "      <td>5.17</td>\n",
       "      <td>4.98</td>\n",
       "      <td>4.80</td>\n",
       "      <td>4.64</td>\n",
       "      <td>4.48</td>\n",
       "      <td>4.33</td>\n",
       "    </tr>\n",
       "    <tr>\n",
       "      <td>1</td>\n",
       "      <td>Albania</td>\n",
       "      <td>NaN</td>\n",
       "      <td>NaN</td>\n",
       "      <td>NaN</td>\n",
       "      <td>NaN</td>\n",
       "      <td>NaN</td>\n",
       "      <td>NaN</td>\n",
       "      <td>NaN</td>\n",
       "      <td>NaN</td>\n",
       "      <td>NaN</td>\n",
       "      <td>...</td>\n",
       "      <td>1.65</td>\n",
       "      <td>1.65</td>\n",
       "      <td>1.67</td>\n",
       "      <td>1.69</td>\n",
       "      <td>1.70</td>\n",
       "      <td>1.71</td>\n",
       "      <td>1.71</td>\n",
       "      <td>1.71</td>\n",
       "      <td>1.71</td>\n",
       "      <td>1.71</td>\n",
       "    </tr>\n",
       "    <tr>\n",
       "      <td>2</td>\n",
       "      <td>Algeria</td>\n",
       "      <td>NaN</td>\n",
       "      <td>NaN</td>\n",
       "      <td>NaN</td>\n",
       "      <td>NaN</td>\n",
       "      <td>NaN</td>\n",
       "      <td>NaN</td>\n",
       "      <td>NaN</td>\n",
       "      <td>NaN</td>\n",
       "      <td>NaN</td>\n",
       "      <td>...</td>\n",
       "      <td>2.83</td>\n",
       "      <td>2.89</td>\n",
       "      <td>2.93</td>\n",
       "      <td>2.94</td>\n",
       "      <td>2.92</td>\n",
       "      <td>2.89</td>\n",
       "      <td>2.84</td>\n",
       "      <td>2.78</td>\n",
       "      <td>2.71</td>\n",
       "      <td>2.64</td>\n",
       "    </tr>\n",
       "    <tr>\n",
       "      <td>3</td>\n",
       "      <td>Angola</td>\n",
       "      <td>NaN</td>\n",
       "      <td>NaN</td>\n",
       "      <td>NaN</td>\n",
       "      <td>NaN</td>\n",
       "      <td>NaN</td>\n",
       "      <td>NaN</td>\n",
       "      <td>NaN</td>\n",
       "      <td>NaN</td>\n",
       "      <td>NaN</td>\n",
       "      <td>...</td>\n",
       "      <td>6.24</td>\n",
       "      <td>6.16</td>\n",
       "      <td>6.08</td>\n",
       "      <td>6.00</td>\n",
       "      <td>5.92</td>\n",
       "      <td>5.84</td>\n",
       "      <td>5.77</td>\n",
       "      <td>5.69</td>\n",
       "      <td>5.62</td>\n",
       "      <td>5.55</td>\n",
       "    </tr>\n",
       "    <tr>\n",
       "      <td>4</td>\n",
       "      <td>Antigua and Barbuda</td>\n",
       "      <td>NaN</td>\n",
       "      <td>NaN</td>\n",
       "      <td>NaN</td>\n",
       "      <td>NaN</td>\n",
       "      <td>NaN</td>\n",
       "      <td>NaN</td>\n",
       "      <td>NaN</td>\n",
       "      <td>NaN</td>\n",
       "      <td>NaN</td>\n",
       "      <td>...</td>\n",
       "      <td>2.15</td>\n",
       "      <td>2.13</td>\n",
       "      <td>2.12</td>\n",
       "      <td>2.10</td>\n",
       "      <td>2.09</td>\n",
       "      <td>2.08</td>\n",
       "      <td>2.06</td>\n",
       "      <td>2.05</td>\n",
       "      <td>2.04</td>\n",
       "      <td>2.03</td>\n",
       "    </tr>\n",
       "  </tbody>\n",
       "</table>\n",
       "<p>5 rows × 435 columns</p>\n",
       "</div>"
      ],
      "text/plain": [
       "               country  1800_x  1801_x  1802_x  1803_x  1804_x  1805_x  \\\n",
       "0          Afghanistan     NaN     NaN     NaN     NaN     NaN     NaN   \n",
       "1              Albania     NaN     NaN     NaN     NaN     NaN     NaN   \n",
       "2              Algeria     NaN     NaN     NaN     NaN     NaN     NaN   \n",
       "3               Angola     NaN     NaN     NaN     NaN     NaN     NaN   \n",
       "4  Antigua and Barbuda     NaN     NaN     NaN     NaN     NaN     NaN   \n",
       "\n",
       "   1806_x  1807_x  1808_x  ...  2009_y  2010_y  2011_y  2012_y  2013_y  \\\n",
       "0     NaN     NaN     NaN  ...    6.04    5.82    5.60    5.38    5.17   \n",
       "1     NaN     NaN     NaN  ...    1.65    1.65    1.67    1.69    1.70   \n",
       "2     NaN     NaN     NaN  ...    2.83    2.89    2.93    2.94    2.92   \n",
       "3     NaN     NaN     NaN  ...    6.24    6.16    6.08    6.00    5.92   \n",
       "4     NaN     NaN     NaN  ...    2.15    2.13    2.12    2.10    2.09   \n",
       "\n",
       "   2014_y  2015  2016  2017  2018  \n",
       "0    4.98  4.80  4.64  4.48  4.33  \n",
       "1    1.71  1.71  1.71  1.71  1.71  \n",
       "2    2.89  2.84  2.78  2.71  2.64  \n",
       "3    5.84  5.77  5.69  5.62  5.55  \n",
       "4    2.08  2.06  2.05  2.04  2.03  \n",
       "\n",
       "[5 rows x 435 columns]"
      ]
     },
     "execution_count": 16,
     "metadata": {},
     "output_type": "execute_result"
    }
   ],
   "source": [
    "# merge birthrate and co2 dataframes on country\n",
    "co2_br_merge = pd.merge(co2_df, birthrate_df, on=\"country\")\n",
    "co2_br_merge.head()"
   ]
  },
  {
   "cell_type": "code",
   "execution_count": 17,
   "metadata": {},
   "outputs": [
    {
     "data": {
      "text/html": [
       "<div>\n",
       "<style scoped>\n",
       "    .dataframe tbody tr th:only-of-type {\n",
       "        vertical-align: middle;\n",
       "    }\n",
       "\n",
       "    .dataframe tbody tr th {\n",
       "        vertical-align: top;\n",
       "    }\n",
       "\n",
       "    .dataframe thead th {\n",
       "        text-align: right;\n",
       "    }\n",
       "</style>\n",
       "<table border=\"1\" class=\"dataframe\">\n",
       "  <thead>\n",
       "    <tr style=\"text-align: right;\">\n",
       "      <th></th>\n",
       "      <th>Country</th>\n",
       "      <th>1974 CO2 Emissions</th>\n",
       "      <th>1984 CO2 Emissions</th>\n",
       "      <th>1994 CO2 Emissions</th>\n",
       "      <th>2004 CO2 Emissions</th>\n",
       "      <th>2014 CO2 Emissions</th>\n",
       "      <th>Birthrate_1974</th>\n",
       "      <th>Birthrate_1984</th>\n",
       "      <th>Birthrate_1994</th>\n",
       "      <th>Birthrate_2004</th>\n",
       "      <th>Birthrate_2014</th>\n",
       "    </tr>\n",
       "  </thead>\n",
       "  <tbody>\n",
       "    <tr>\n",
       "      <td>0</td>\n",
       "      <td>Afghanistan</td>\n",
       "      <td>0.156</td>\n",
       "      <td>0.235</td>\n",
       "      <td>0.080</td>\n",
       "      <td>0.0394</td>\n",
       "      <td>0.299</td>\n",
       "      <td>7.45</td>\n",
       "      <td>7.46</td>\n",
       "      <td>7.57</td>\n",
       "      <td>6.99</td>\n",
       "      <td>4.98</td>\n",
       "    </tr>\n",
       "    <tr>\n",
       "      <td>1</td>\n",
       "      <td>Albania</td>\n",
       "      <td>1.840</td>\n",
       "      <td>2.700</td>\n",
       "      <td>0.613</td>\n",
       "      <td>1.3400</td>\n",
       "      <td>1.960</td>\n",
       "      <td>4.37</td>\n",
       "      <td>3.32</td>\n",
       "      <td>2.67</td>\n",
       "      <td>1.82</td>\n",
       "      <td>1.71</td>\n",
       "    </tr>\n",
       "    <tr>\n",
       "      <td>2</td>\n",
       "      <td>Algeria</td>\n",
       "      <td>1.960</td>\n",
       "      <td>3.250</td>\n",
       "      <td>3.050</td>\n",
       "      <td>2.7000</td>\n",
       "      <td>3.720</td>\n",
       "      <td>7.51</td>\n",
       "      <td>6.04</td>\n",
       "      <td>3.70</td>\n",
       "      <td>2.44</td>\n",
       "      <td>2.89</td>\n",
       "    </tr>\n",
       "    <tr>\n",
       "      <td>3</td>\n",
       "      <td>Angola</td>\n",
       "      <td>0.652</td>\n",
       "      <td>0.487</td>\n",
       "      <td>0.281</td>\n",
       "      <td>0.9960</td>\n",
       "      <td>1.290</td>\n",
       "      <td>7.61</td>\n",
       "      <td>7.39</td>\n",
       "      <td>6.99</td>\n",
       "      <td>6.50</td>\n",
       "      <td>5.84</td>\n",
       "    </tr>\n",
       "    <tr>\n",
       "      <td>4</td>\n",
       "      <td>Antigua and Barbuda</td>\n",
       "      <td>6.050</td>\n",
       "      <td>2.070</td>\n",
       "      <td>3.730</td>\n",
       "      <td>4.7800</td>\n",
       "      <td>5.380</td>\n",
       "      <td>2.91</td>\n",
       "      <td>2.10</td>\n",
       "      <td>2.17</td>\n",
       "      <td>2.25</td>\n",
       "      <td>2.08</td>\n",
       "    </tr>\n",
       "  </tbody>\n",
       "</table>\n",
       "</div>"
      ],
      "text/plain": [
       "               Country  1974 CO2 Emissions  1984 CO2 Emissions  \\\n",
       "0          Afghanistan               0.156               0.235   \n",
       "1              Albania               1.840               2.700   \n",
       "2              Algeria               1.960               3.250   \n",
       "3               Angola               0.652               0.487   \n",
       "4  Antigua and Barbuda               6.050               2.070   \n",
       "\n",
       "   1994 CO2 Emissions  2004 CO2 Emissions  2014 CO2 Emissions  Birthrate_1974  \\\n",
       "0               0.080              0.0394               0.299            7.45   \n",
       "1               0.613              1.3400               1.960            4.37   \n",
       "2               3.050              2.7000               3.720            7.51   \n",
       "3               0.281              0.9960               1.290            7.61   \n",
       "4               3.730              4.7800               5.380            2.91   \n",
       "\n",
       "   Birthrate_1984  Birthrate_1994  Birthrate_2004  Birthrate_2014  \n",
       "0            7.46            7.57            6.99            4.98  \n",
       "1            3.32            2.67            1.82            1.71  \n",
       "2            6.04            3.70            2.44            2.89  \n",
       "3            7.39            6.99            6.50            5.84  \n",
       "4            2.10            2.17            2.25            2.08  "
      ]
     },
     "execution_count": 17,
     "metadata": {},
     "output_type": "execute_result"
    }
   ],
   "source": [
    "# rename columns\n",
    "co2_br_rename = co2_br_merge.rename(columns={\"country\": \"Country\",\n",
    "                                             \"1974_x\": \"1974 CO2 Emissions\",\n",
    "                                             \"1984_x\": \"1984 CO2 Emissions\",\n",
    "                                             \"1994_x\": \"1994 CO2 Emissions\",\n",
    "                                             \"2004_x\": \"2004 CO2 Emissions\",\n",
    "                                             \"2014_x\": \"2014 CO2 Emissions\",\n",
    "                                             \"1974_y\": \"Birthrate_1974\",\n",
    "                                             \"1984_y\": \"Birthrate_1984\",\n",
    "                                             \"1994_y\": \"Birthrate_1994\",\n",
    "                                             \"2004_y\": \"Birthrate_2004\",\n",
    "                                             \"2014_y\": \"Birthrate_2014\"})\n",
    "\n",
    "# make df with only the columns we want to keep\n",
    "co2_br_df = co2_br_rename[[\"Country\", \"1974 CO2 Emissions\", \"1984 CO2 Emissions\", \"1994 CO2 Emissions\", \"2004 CO2 Emissions\", \"2014 CO2 Emissions\",\n",
    "                           \"Birthrate_1974\", \"Birthrate_1984\", \"Birthrate_1994\", \"Birthrate_2004\", \"Birthrate_2014\"]]\n",
    "co2_br_df.head()"
   ]
  },
  {
   "cell_type": "code",
   "execution_count": 18,
   "metadata": {},
   "outputs": [
    {
     "data": {
      "text/html": [
       "<div>\n",
       "<style scoped>\n",
       "    .dataframe tbody tr th:only-of-type {\n",
       "        vertical-align: middle;\n",
       "    }\n",
       "\n",
       "    .dataframe tbody tr th {\n",
       "        vertical-align: top;\n",
       "    }\n",
       "\n",
       "    .dataframe thead th {\n",
       "        text-align: right;\n",
       "    }\n",
       "</style>\n",
       "<table border=\"1\" class=\"dataframe\">\n",
       "  <thead>\n",
       "    <tr style=\"text-align: right;\">\n",
       "      <th></th>\n",
       "      <th>Country</th>\n",
       "      <th>1974 CO2 Emissions</th>\n",
       "      <th>Birthrate_1974</th>\n",
       "    </tr>\n",
       "  </thead>\n",
       "  <tbody>\n",
       "    <tr>\n",
       "      <td>0</td>\n",
       "      <td>Qatar</td>\n",
       "      <td>68.20000</td>\n",
       "      <td>6.58</td>\n",
       "    </tr>\n",
       "    <tr>\n",
       "      <td>1</td>\n",
       "      <td>United Arab Emirates</td>\n",
       "      <td>66.50000</td>\n",
       "      <td>6.25</td>\n",
       "    </tr>\n",
       "    <tr>\n",
       "      <td>2</td>\n",
       "      <td>Brunei</td>\n",
       "      <td>52.80000</td>\n",
       "      <td>5.56</td>\n",
       "    </tr>\n",
       "    <tr>\n",
       "      <td>3</td>\n",
       "      <td>Luxembourg</td>\n",
       "      <td>41.00000</td>\n",
       "      <td>1.63</td>\n",
       "    </tr>\n",
       "    <tr>\n",
       "      <td>4</td>\n",
       "      <td>Bahamas</td>\n",
       "      <td>39.90000</td>\n",
       "      <td>3.33</td>\n",
       "    </tr>\n",
       "    <tr>\n",
       "      <td>...</td>\n",
       "      <td>...</td>\n",
       "      <td>...</td>\n",
       "      <td>...</td>\n",
       "    </tr>\n",
       "    <tr>\n",
       "      <td>164</td>\n",
       "      <td>Maldives</td>\n",
       "      <td>0.02770</td>\n",
       "      <td>7.04</td>\n",
       "    </tr>\n",
       "    <tr>\n",
       "      <td>165</td>\n",
       "      <td>Burundi</td>\n",
       "      <td>0.02530</td>\n",
       "      <td>7.35</td>\n",
       "    </tr>\n",
       "    <tr>\n",
       "      <td>166</td>\n",
       "      <td>Rwanda</td>\n",
       "      <td>0.01740</td>\n",
       "      <td>8.34</td>\n",
       "    </tr>\n",
       "    <tr>\n",
       "      <td>167</td>\n",
       "      <td>Bhutan</td>\n",
       "      <td>0.01080</td>\n",
       "      <td>6.69</td>\n",
       "    </tr>\n",
       "    <tr>\n",
       "      <td>168</td>\n",
       "      <td>Cambodia</td>\n",
       "      <td>0.00974</td>\n",
       "      <td>5.83</td>\n",
       "    </tr>\n",
       "  </tbody>\n",
       "</table>\n",
       "<p>169 rows × 3 columns</p>\n",
       "</div>"
      ],
      "text/plain": [
       "                  Country  1974 CO2 Emissions  Birthrate_1974\n",
       "0                   Qatar            68.20000            6.58\n",
       "1    United Arab Emirates            66.50000            6.25\n",
       "2                  Brunei            52.80000            5.56\n",
       "3              Luxembourg            41.00000            1.63\n",
       "4                 Bahamas            39.90000            3.33\n",
       "..                    ...                 ...             ...\n",
       "164              Maldives             0.02770            7.04\n",
       "165               Burundi             0.02530            7.35\n",
       "166                Rwanda             0.01740            8.34\n",
       "167                Bhutan             0.01080            6.69\n",
       "168              Cambodia             0.00974            5.83\n",
       "\n",
       "[169 rows x 3 columns]"
      ]
     },
     "execution_count": 18,
     "metadata": {},
     "output_type": "execute_result"
    }
   ],
   "source": [
    "# create 1974 dataframe, co2 descending order\n",
    "df_1974 = co2_br_df[[\"Country\", \"1974 CO2 Emissions\", \"Birthrate_1974\"]].sort_values(\"1974 CO2 Emissions\", ascending=False).reset_index()\n",
    "df_1974 = df_1974[[\"Country\", \"1974 CO2 Emissions\", \"Birthrate_1974\"]]\n",
    "\n",
    "# drop rows with nan values\n",
    "df_1974 = df_1974.dropna()\n",
    "df_1974"
   ]
  },
  {
   "cell_type": "code",
   "execution_count": 19,
   "metadata": {},
   "outputs": [
    {
     "data": {
      "text/plain": [
       "Text(0.5, 1.0, 'CO2 Emissions v Birthrate (1974)')"
      ]
     },
     "execution_count": 19,
     "metadata": {},
     "output_type": "execute_result"
    },
    {
     "data": {
      "image/png": "[encoded data removed]",
      "text/plain": [
       "<Figure size 432x288 with 1 Axes>"
      ]
     },
     "metadata": {
      "needs_background": "light"
     },
     "output_type": "display_data"
    }
   ],
   "source": [
    "# run linear regression on co2 v birthrate (year 1974)\n",
    "\n",
    "# first create scatter plot\n",
    "x_values = df_1974[\"1974 CO2 Emissions\"]\n",
    "y_values = df_1974[\"Birthrate_1974\"]\n",
    "plt.scatter(x_values, y_values, edgecolors=\"black\")\n",
    "plt.xlabel(\"CO2 Emissions (tons/person)\")\n",
    "plt.ylabel(\"Birthrate (child/woman)\")\n",
    "plt.title(\"CO2 Emissions v Birthrate (1974)\")"
   ]
  },
  {
   "cell_type": "code",
   "execution_count": 20,
   "metadata": {},
   "outputs": [
    {
     "name": "stdout",
     "output_type": "stream",
     "text": [
      "y = -0.06x +5.35\n"
     ]
    }
   ],
   "source": [
    "# perform a linear regression on co2 v birthrate (year 1974)\n",
    "(slope, intercept, rvalue, pvalue, stderr) = stats.linregress(x_values, y_values)\n",
    "\n",
    "# get regression values\n",
    "regress_values = x_values * slope + intercept\n",
    "\n",
    "# create line equation string\n",
    "line_eq = \"y = \" + str(round(slope,2)) + \"x +\" + str(round(intercept,2))\n",
    "print(line_eq)"
   ]
  },
  {
   "cell_type": "code",
   "execution_count": 21,
   "metadata": {},
   "outputs": [
    {
     "name": "stdout",
     "output_type": "stream",
     "text": [
      "The r-squared is: -0.2799233935911636\n"
     ]
    },
    {
     "data": {
      "image/png": "[encoded data removed]",
      "text/plain": [
       "<Figure size 432x288 with 1 Axes>"
      ]
     },
     "metadata": {
      "needs_background": "light"
     },
     "output_type": "display_data"
    }
   ],
   "source": [
    "# create plot (co2 v birthrate, 1974)\n",
    "plt.scatter(x_values,y_values,edgecolors=\"black\")\n",
    "plt.plot(x_values,regress_values,\"r-\")\n",
    "\n",
    "# label plot and annotate the line equation\n",
    "plt.xlabel('CO2 Emissions')\n",
    "plt.ylabel('Birthrate')\n",
    "plt.annotate(line_eq,(20,5),fontsize=15,color=\"red\")\n",
    "plt.title(\"CO2 Emissions v Birthrate (1974)\")\n",
    "\n",
    "# Print r square value\n",
    "print(f\"The r-squared is: {rvalue}\")\n",
    "\n",
    "# save plot to images folder\n",
    "plt.savefig(os.path.join(\"Images\",\"1974_co2_v_birthrate.png\"))\n",
    "\n",
    "# show plot\n",
    "plt.show()"
   ]
  },
  {
   "cell_type": "code",
   "execution_count": 22,
   "metadata": {},
   "outputs": [
    {
     "data": {
      "text/html": [
       "<div>\n",
       "<style scoped>\n",
       "    .dataframe tbody tr th:only-of-type {\n",
       "        vertical-align: middle;\n",
       "    }\n",
       "\n",
       "    .dataframe tbody tr th {\n",
       "        vertical-align: top;\n",
       "    }\n",
       "\n",
       "    .dataframe thead th {\n",
       "        text-align: right;\n",
       "    }\n",
       "</style>\n",
       "<table border=\"1\" class=\"dataframe\">\n",
       "  <thead>\n",
       "    <tr style=\"text-align: right;\">\n",
       "      <th></th>\n",
       "      <th>Country</th>\n",
       "      <th>1984 CO2 Emissions</th>\n",
       "      <th>Birthrate_1984</th>\n",
       "    </tr>\n",
       "  </thead>\n",
       "  <tbody>\n",
       "    <tr>\n",
       "      <td>0</td>\n",
       "      <td>Qatar</td>\n",
       "      <td>36.1</td>\n",
       "      <td>5.13</td>\n",
       "    </tr>\n",
       "    <tr>\n",
       "      <td>1</td>\n",
       "      <td>United Arab Emirates</td>\n",
       "      <td>35.2</td>\n",
       "      <td>5.22</td>\n",
       "    </tr>\n",
       "    <tr>\n",
       "      <td>2</td>\n",
       "      <td>Luxembourg</td>\n",
       "      <td>24.4</td>\n",
       "      <td>1.45</td>\n",
       "    </tr>\n",
       "    <tr>\n",
       "      <td>3</td>\n",
       "      <td>Bahrain</td>\n",
       "      <td>22.6</td>\n",
       "      <td>4.47</td>\n",
       "    </tr>\n",
       "    <tr>\n",
       "      <td>4</td>\n",
       "      <td>United States</td>\n",
       "      <td>18.8</td>\n",
       "      <td>1.79</td>\n",
       "    </tr>\n",
       "  </tbody>\n",
       "</table>\n",
       "</div>"
      ],
      "text/plain": [
       "                Country  1984 CO2 Emissions  Birthrate_1984\n",
       "0                 Qatar                36.1            5.13\n",
       "1  United Arab Emirates                35.2            5.22\n",
       "2            Luxembourg                24.4            1.45\n",
       "3               Bahrain                22.6            4.47\n",
       "4         United States                18.8            1.79"
      ]
     },
     "execution_count": 22,
     "metadata": {},
     "output_type": "execute_result"
    }
   ],
   "source": [
    "# create 1984 dataframe, co2 descending order\n",
    "df_1984 = co2_br_df[[\"Country\", \"1984 CO2 Emissions\", \"Birthrate_1984\"]].sort_values(\"1984 CO2 Emissions\", ascending=False).reset_index()\n",
    "df_1984 = df_1984[[\"Country\", \"1984 CO2 Emissions\", \"Birthrate_1984\"]]\n",
    "\n",
    "# drop rows with nan values\n",
    "df_1984 = df_1984.dropna()\n",
    "df_1984.head()"
   ]
  },
  {
   "cell_type": "code",
   "execution_count": 23,
   "metadata": {},
   "outputs": [
    {
     "data": {
      "text/plain": [
       "Text(0.5, 1.0, 'CO2 Emissions v Birthrate (1984)')"
      ]
     },
     "execution_count": 23,
     "metadata": {},
     "output_type": "execute_result"
    },
    {
     "data": {
      "image/png": "[encoded data removed]",
      "text/plain": [
       "<Figure size 432x288 with 1 Axes>"
      ]
     },
     "metadata": {
      "needs_background": "light"
     },
     "output_type": "display_data"
    }
   ],
   "source": [
    "# run linear regression on co2 v birthrate (year 1984)\n",
    "\n",
    "# first create scatter plot\n",
    "x_values = df_1984[\"1984 CO2 Emissions\"]\n",
    "y_values = df_1984[\"Birthrate_1984\"]\n",
    "plt.scatter(x_values, y_values, edgecolors=\"black\")\n",
    "plt.xlabel(\"CO2 Emissions (tons/person)\")\n",
    "plt.ylabel(\"Birthrate (child/woman)\")\n",
    "plt.title(\"CO2 Emissions v Birthrate (1984)\")"
   ]
  },
  {
   "cell_type": "code",
   "execution_count": 24,
   "metadata": {},
   "outputs": [
    {
     "name": "stdout",
     "output_type": "stream",
     "text": [
      "y = -0.15x +5.15\n"
     ]
    }
   ],
   "source": [
    "# perform a linear regression on co2 v birthrate (year 1984)\n",
    "(slope, intercept, rvalue, pvalue, stderr) = stats.linregress(x_values, y_values)\n",
    "\n",
    "# get regression values\n",
    "regress_values = x_values * slope + intercept\n",
    "\n",
    "# create line equation string\n",
    "line_eq = \"y = \" + str(round(slope,2)) + \"x +\" + str(round(intercept,2))\n",
    "print(line_eq)"
   ]
  },
  {
   "cell_type": "code",
   "execution_count": 25,
   "metadata": {},
   "outputs": [
    {
     "name": "stdout",
     "output_type": "stream",
     "text": [
      "The r-squared is: -0.46050704252171903\n"
     ]
    },
    {
     "data": {
      "image/png": "[encoded data removed]",
      "text/plain": [
       "<Figure size 432x288 with 1 Axes>"
      ]
     },
     "metadata": {
      "needs_background": "light"
     },
     "output_type": "display_data"
    }
   ],
   "source": [
    "# create plot (co2 v birthrate, 1984)\n",
    "plt.scatter(x_values,y_values,edgecolors=\"black\")\n",
    "plt.plot(x_values,regress_values,\"r-\")\n",
    "\n",
    "# label plot and annotate the line equation\n",
    "plt.xlabel('CO2 Emissions')\n",
    "plt.ylabel('Birthrate')\n",
    "plt.annotate(line_eq,(20,5),fontsize=15,color=\"red\")\n",
    "plt.title(\"CO2 Emissions v Birthrate (1984)\")\n",
    "\n",
    "# Print r square value\n",
    "print(f\"The r-squared is: {rvalue}\")\n",
    "\n",
    "# save plot to images folder\n",
    "plt.savefig(os.path.join(\"Images\",\"1984_co2_v_birthrate.png\"))\n",
    "\n",
    "# show plot\n",
    "plt.show()"
   ]
  },
  {
   "cell_type": "code",
   "execution_count": 26,
   "metadata": {},
   "outputs": [
    {
     "data": {
      "text/html": [
       "<div>\n",
       "<style scoped>\n",
       "    .dataframe tbody tr th:only-of-type {\n",
       "        vertical-align: middle;\n",
       "    }\n",
       "\n",
       "    .dataframe tbody tr th {\n",
       "        vertical-align: top;\n",
       "    }\n",
       "\n",
       "    .dataframe thead th {\n",
       "        text-align: right;\n",
       "    }\n",
       "</style>\n",
       "<table border=\"1\" class=\"dataframe\">\n",
       "  <thead>\n",
       "    <tr style=\"text-align: right;\">\n",
       "      <th></th>\n",
       "      <th>Country</th>\n",
       "      <th>1994 CO2 Emissions</th>\n",
       "      <th>Birthrate_1994</th>\n",
       "    </tr>\n",
       "  </thead>\n",
       "  <tbody>\n",
       "    <tr>\n",
       "      <td>0</td>\n",
       "      <td>Qatar</td>\n",
       "      <td>59.6</td>\n",
       "      <td>3.65</td>\n",
       "    </tr>\n",
       "    <tr>\n",
       "      <td>1</td>\n",
       "      <td>United Arab Emirates</td>\n",
       "      <td>31.4</td>\n",
       "      <td>3.62</td>\n",
       "    </tr>\n",
       "    <tr>\n",
       "      <td>2</td>\n",
       "      <td>Bahrain</td>\n",
       "      <td>26.9</td>\n",
       "      <td>3.21</td>\n",
       "    </tr>\n",
       "    <tr>\n",
       "      <td>3</td>\n",
       "      <td>Luxembourg</td>\n",
       "      <td>25.3</td>\n",
       "      <td>1.69</td>\n",
       "    </tr>\n",
       "    <tr>\n",
       "      <td>4</td>\n",
       "      <td>Kuwait</td>\n",
       "      <td>23.4</td>\n",
       "      <td>2.66</td>\n",
       "    </tr>\n",
       "  </tbody>\n",
       "</table>\n",
       "</div>"
      ],
      "text/plain": [
       "                Country  1994 CO2 Emissions  Birthrate_1994\n",
       "0                 Qatar                59.6            3.65\n",
       "1  United Arab Emirates                31.4            3.62\n",
       "2               Bahrain                26.9            3.21\n",
       "3            Luxembourg                25.3            1.69\n",
       "4                Kuwait                23.4            2.66"
      ]
     },
     "execution_count": 26,
     "metadata": {},
     "output_type": "execute_result"
    }
   ],
   "source": [
    "# create 1994 dataframe, co2 descending order\n",
    "df_1994 = co2_br_df[[\"Country\", \"1994 CO2 Emissions\", \"Birthrate_1994\"]].sort_values(\"1994 CO2 Emissions\", ascending=False).reset_index()\n",
    "df_1994 = df_1994[[\"Country\", \"1994 CO2 Emissions\", \"Birthrate_1994\"]]\n",
    "\n",
    "# drop rows with nan values\n",
    "df_1994 = df_1994.dropna()\n",
    "df_1994.head()"
   ]
  },
  {
   "cell_type": "code",
   "execution_count": 27,
   "metadata": {},
   "outputs": [
    {
     "data": {
      "text/plain": [
       "Text(0.5, 1.0, 'CO2 Emissions v Birthrate (1994)')"
      ]
     },
     "execution_count": 27,
     "metadata": {},
     "output_type": "execute_result"
    },
    {
     "data": {
      "image/png": "[encoded data removed]",
      "text/plain": [
       "<Figure size 432x288 with 1 Axes>"
      ]
     },
     "metadata": {
      "needs_background": "light"
     },
     "output_type": "display_data"
    }
   ],
   "source": [
    "# run linear regression on co2 v birthrate (year 1994)\n",
    "\n",
    "# first create scatter plot\n",
    "x_values = df_1994[\"1994 CO2 Emissions\"]\n",
    "y_values = df_1994[\"Birthrate_1994\"]\n",
    "plt.scatter(x_values, y_values, edgecolors=\"black\")\n",
    "plt.xlabel(\"CO2 Emissions (tons/person)\")\n",
    "plt.ylabel(\"Birthrate (child/woman)\")\n",
    "plt.title(\"CO2 Emissions v Birthrate (1994)\")"
   ]
  },
  {
   "cell_type": "code",
   "execution_count": 28,
   "metadata": {},
   "outputs": [
    {
     "name": "stdout",
     "output_type": "stream",
     "text": [
      "y = -0.11x +4.21\n"
     ]
    }
   ],
   "source": [
    "# perform a linear regression on co2 v birthrate (year 1994)\n",
    "(slope, intercept, rvalue, pvalue, stderr) = stats.linregress(x_values, y_values)\n",
    "\n",
    "# get regression values\n",
    "regress_values = x_values * slope + intercept\n",
    "\n",
    "# create line equation string\n",
    "line_eq = \"y = \" + str(round(slope,2)) + \"x +\" + str(round(intercept,2))\n",
    "print(line_eq)"
   ]
  },
  {
   "cell_type": "code",
   "execution_count": 29,
   "metadata": {},
   "outputs": [
    {
     "name": "stdout",
     "output_type": "stream",
     "text": [
      "The r-squared is: -0.4071706551055931\n"
     ]
    },
    {
     "data": {
      "image/png": "[encoded data removed]",
      "text/plain": [
       "<Figure size 432x288 with 1 Axes>"
      ]
     },
     "metadata": {
      "needs_background": "light"
     },
     "output_type": "display_data"
    }
   ],
   "source": [
    "# create plot (co2 v birthrate, 1994)\n",
    "plt.scatter(x_values,y_values,edgecolors=\"black\")\n",
    "plt.plot(x_values,regress_values,\"r-\")\n",
    "\n",
    "# label plot and annotate the line equation\n",
    "plt.xlabel(\"CO2 Emissions\")\n",
    "plt.ylabel(\"Birthrate\")\n",
    "plt.annotate(line_eq,(20,5),fontsize=15,color=\"red\")\n",
    "plt.title(\"CO2 Emissions v Birthrate (1994)\")\n",
    "\n",
    "# Print r square value\n",
    "print(f\"The r-squared is: {rvalue}\")\n",
    "\n",
    "# save plot to images folder\n",
    "plt.savefig(os.path.join(\"Images\",\"1994_co2_v_birthrate.png\"))\n",
    "\n",
    "# show plot\n",
    "plt.show()"
   ]
  },
  {
   "cell_type": "code",
   "execution_count": 30,
   "metadata": {},
   "outputs": [
    {
     "data": {
      "text/html": [
       "<div>\n",
       "<style scoped>\n",
       "    .dataframe tbody tr th:only-of-type {\n",
       "        vertical-align: middle;\n",
       "    }\n",
       "\n",
       "    .dataframe tbody tr th {\n",
       "        vertical-align: top;\n",
       "    }\n",
       "\n",
       "    .dataframe thead th {\n",
       "        text-align: right;\n",
       "    }\n",
       "</style>\n",
       "<table border=\"1\" class=\"dataframe\">\n",
       "  <thead>\n",
       "    <tr style=\"text-align: right;\">\n",
       "      <th></th>\n",
       "      <th>Country</th>\n",
       "      <th>2004 CO2 Emissions</th>\n",
       "      <th>Birthrate_2004</th>\n",
       "    </tr>\n",
       "  </thead>\n",
       "  <tbody>\n",
       "    <tr>\n",
       "      <td>0</td>\n",
       "      <td>Qatar</td>\n",
       "      <td>56.6</td>\n",
       "      <td>2.71</td>\n",
       "    </tr>\n",
       "    <tr>\n",
       "      <td>1</td>\n",
       "      <td>Kuwait</td>\n",
       "      <td>28.8</td>\n",
       "      <td>2.55</td>\n",
       "    </tr>\n",
       "    <tr>\n",
       "      <td>2</td>\n",
       "      <td>United Arab Emirates</td>\n",
       "      <td>27.7</td>\n",
       "      <td>2.24</td>\n",
       "    </tr>\n",
       "    <tr>\n",
       "      <td>3</td>\n",
       "      <td>Trinidad and Tobago</td>\n",
       "      <td>25.9</td>\n",
       "      <td>1.76</td>\n",
       "    </tr>\n",
       "    <tr>\n",
       "      <td>4</td>\n",
       "      <td>Luxembourg</td>\n",
       "      <td>24.9</td>\n",
       "      <td>1.65</td>\n",
       "    </tr>\n",
       "  </tbody>\n",
       "</table>\n",
       "</div>"
      ],
      "text/plain": [
       "                Country  2004 CO2 Emissions  Birthrate_2004\n",
       "0                 Qatar                56.6            2.71\n",
       "1                Kuwait                28.8            2.55\n",
       "2  United Arab Emirates                27.7            2.24\n",
       "3   Trinidad and Tobago                25.9            1.76\n",
       "4            Luxembourg                24.9            1.65"
      ]
     },
     "execution_count": 30,
     "metadata": {},
     "output_type": "execute_result"
    }
   ],
   "source": [
    "# create 2004 dataframe, co2 descending order\n",
    "df_2004 = co2_br_df[[\"Country\", \"2004 CO2 Emissions\", \"Birthrate_2004\"]].sort_values(\"2004 CO2 Emissions\", ascending=False).reset_index()\n",
    "df_2004 = df_2004[[\"Country\", \"2004 CO2 Emissions\", \"Birthrate_2004\"]]\n",
    "\n",
    "# drop rows with nan values\n",
    "df_2004 = df_2004.dropna()\n",
    "df_2004.head()"
   ]
  },
  {
   "cell_type": "code",
   "execution_count": 31,
   "metadata": {},
   "outputs": [
    {
     "data": {
      "text/plain": [
       "Text(0.5, 1.0, 'CO2 Emissions v Birthrate (2004)')"
      ]
     },
     "execution_count": 31,
     "metadata": {},
     "output_type": "execute_result"
    },
    {
     "data": {
      "image/png": "[encoded data removed]",
      "text/plain": [
       "<Figure size 432x288 with 1 Axes>"
      ]
     },
     "metadata": {
      "needs_background": "light"
     },
     "output_type": "display_data"
    }
   ],
   "source": [
    "# run linear regression on co2 v birthrate (year 2004)\n",
    "\n",
    "# first create scatter plot\n",
    "x_values = df_2004[\"2004 CO2 Emissions\"]\n",
    "y_values = df_2004[\"Birthrate_2004\"]\n",
    "plt.scatter(x_values, y_values, edgecolors=\"black\")\n",
    "plt.xlabel(\"CO2 Emissions (tons/person)\")\n",
    "plt.ylabel(\"Birthrate (child/woman)\")\n",
    "plt.title(\"CO2 Emissions v Birthrate (2004)\")"
   ]
  },
  {
   "cell_type": "code",
   "execution_count": 32,
   "metadata": {},
   "outputs": [
    {
     "name": "stdout",
     "output_type": "stream",
     "text": [
      "y = -0.11x +3.64\n"
     ]
    }
   ],
   "source": [
    "# perform a linear regression on co2 v birthrate (year 2004)\n",
    "(slope, intercept, rvalue, pvalue, stderr) = stats.linregress(x_values, y_values)\n",
    "\n",
    "# get regression values\n",
    "regress_values = x_values * slope + intercept\n",
    "\n",
    "# create line equation string\n",
    "line_eq = \"y = \" + str(round(slope,2)) + \"x +\" + str(round(intercept,2))\n",
    "print(line_eq)"
   ]
  },
  {
   "cell_type": "code",
   "execution_count": 33,
   "metadata": {},
   "outputs": [
    {
     "name": "stdout",
     "output_type": "stream",
     "text": [
      "The r-squared is: -0.41787255072032625\n"
     ]
    },
    {
     "data": {
      "image/png": "[encoded data removed]",
      "text/plain": [
       "<Figure size 432x288 with 1 Axes>"
      ]
     },
     "metadata": {
      "needs_background": "light"
     },
     "output_type": "display_data"
    }
   ],
   "source": [
    "# create plot (co2 v birthrate, 2004)\n",
    "plt.scatter(x_values,y_values,edgecolors=\"black\")\n",
    "plt.plot(x_values,regress_values,\"r-\")\n",
    "\n",
    "# label plot and annotate the line equation\n",
    "plt.xlabel('CO2 Emissions')\n",
    "plt.ylabel('Birthrate')\n",
    "plt.annotate(line_eq,(20,5),fontsize=15,color=\"red\")\n",
    "plt.title(\"CO2 Emissions v Birthrate (2004)\")\n",
    "\n",
    "# Print r square value\n",
    "print(f\"The r-squared is: {rvalue}\")\n",
    "\n",
    "# save plot to images folder\n",
    "plt.savefig(os.path.join(\"Images\",\"2004_co2_v_birthrate.png\"))\n",
    "\n",
    "# show plot\n",
    "plt.show()"
   ]
  },
  {
   "cell_type": "code",
   "execution_count": 34,
   "metadata": {},
   "outputs": [
    {
     "data": {
      "text/html": [
       "<div>\n",
       "<style scoped>\n",
       "    .dataframe tbody tr th:only-of-type {\n",
       "        vertical-align: middle;\n",
       "    }\n",
       "\n",
       "    .dataframe tbody tr th {\n",
       "        vertical-align: top;\n",
       "    }\n",
       "\n",
       "    .dataframe thead th {\n",
       "        text-align: right;\n",
       "    }\n",
       "</style>\n",
       "<table border=\"1\" class=\"dataframe\">\n",
       "  <thead>\n",
       "    <tr style=\"text-align: right;\">\n",
       "      <th></th>\n",
       "      <th>Country</th>\n",
       "      <th>2014 CO2 Emissions</th>\n",
       "      <th>Birthrate_2014</th>\n",
       "    </tr>\n",
       "  </thead>\n",
       "  <tbody>\n",
       "    <tr>\n",
       "      <td>0</td>\n",
       "      <td>Qatar</td>\n",
       "      <td>45.4</td>\n",
       "      <td>1.95</td>\n",
       "    </tr>\n",
       "    <tr>\n",
       "      <td>1</td>\n",
       "      <td>Trinidad and Tobago</td>\n",
       "      <td>34.2</td>\n",
       "      <td>1.78</td>\n",
       "    </tr>\n",
       "    <tr>\n",
       "      <td>2</td>\n",
       "      <td>Kuwait</td>\n",
       "      <td>25.2</td>\n",
       "      <td>2.01</td>\n",
       "    </tr>\n",
       "    <tr>\n",
       "      <td>3</td>\n",
       "      <td>Bahrain</td>\n",
       "      <td>23.4</td>\n",
       "      <td>2.07</td>\n",
       "    </tr>\n",
       "    <tr>\n",
       "      <td>4</td>\n",
       "      <td>United Arab Emirates</td>\n",
       "      <td>23.3</td>\n",
       "      <td>1.78</td>\n",
       "    </tr>\n",
       "  </tbody>\n",
       "</table>\n",
       "</div>"
      ],
      "text/plain": [
       "                Country  2014 CO2 Emissions  Birthrate_2014\n",
       "0                 Qatar                45.4            1.95\n",
       "1   Trinidad and Tobago                34.2            1.78\n",
       "2                Kuwait                25.2            2.01\n",
       "3               Bahrain                23.4            2.07\n",
       "4  United Arab Emirates                23.3            1.78"
      ]
     },
     "execution_count": 34,
     "metadata": {},
     "output_type": "execute_result"
    }
   ],
   "source": [
    "# create 2014 dataframe, co2 descending order\n",
    "df_2014 = co2_br_df[[\"Country\", \"2014 CO2 Emissions\", \"Birthrate_2014\"]].sort_values(\"2014 CO2 Emissions\", ascending=False).reset_index()\n",
    "df_2014 = df_2014[[\"Country\", \"2014 CO2 Emissions\", \"Birthrate_2014\"]]\n",
    "\n",
    "# drop rows with nan values\n",
    "df_2014 = df_2014.dropna()\n",
    "df_2014.head()"
   ]
  },
  {
   "cell_type": "code",
   "execution_count": 35,
   "metadata": {},
   "outputs": [
    {
     "data": {
      "text/plain": [
       "Text(0.5, 1.0, 'CO2 Emissions v Birthrate (2014)')"
      ]
     },
     "execution_count": 35,
     "metadata": {},
     "output_type": "execute_result"
    },
    {
     "data": {
      "image/png": "[encoded data removed]",
      "text/plain": [
       "<Figure size 432x288 with 1 Axes>"
      ]
     },
     "metadata": {
      "needs_background": "light"
     },
     "output_type": "display_data"
    }
   ],
   "source": [
    "# run linear regression on co2 v birthrate (year 2014)\n",
    "\n",
    "# first create scatter plot\n",
    "x_values = df_2014[\"2014 CO2 Emissions\"]\n",
    "y_values = df_2014[\"Birthrate_2014\"]\n",
    "plt.scatter(x_values, y_values, edgecolors=\"black\")\n",
    "plt.xlabel(\"CO2 Emissions (tons/person)\")\n",
    "plt.ylabel(\"Birthrate (child/woman)\")\n",
    "plt.title(\"CO2 Emissions v Birthrate (2014)\")"
   ]
  },
  {
   "cell_type": "code",
   "execution_count": 36,
   "metadata": {},
   "outputs": [
    {
     "name": "stdout",
     "output_type": "stream",
     "text": [
      "y = -0.1x +3.3\n"
     ]
    }
   ],
   "source": [
    "# perform a linear regression on co2 v birthrate (year 2014)\n",
    "(slope, intercept, rvalue, pvalue, stderr) = stats.linregress(x_values, y_values)\n",
    "\n",
    "# get regression values\n",
    "regress_values = x_values * slope + intercept\n",
    "\n",
    "# create line equation string\n",
    "line_eq = \"y = \" + str(round(slope,2)) + \"x +\" + str(round(intercept,2))\n",
    "print(line_eq)"
   ]
  },
  {
   "cell_type": "code",
   "execution_count": 37,
   "metadata": {},
   "outputs": [
    {
     "name": "stdout",
     "output_type": "stream",
     "text": [
      "The r-squared is: -0.4263862548440094\n"
     ]
    },
    {
     "data": {
      "image/png": "[encoded data removed]",
      "text/plain": [
       "<Figure size 432x288 with 1 Axes>"
      ]
     },
     "metadata": {
      "needs_background": "light"
     },
     "output_type": "display_data"
    }
   ],
   "source": [
    "# create plot (co2 v birthrate, 2014)\n",
    "plt.scatter(x_values,y_values,edgecolors=\"black\")\n",
    "plt.plot(x_values,regress_values,\"r-\")\n",
    "\n",
    "# label plot and annotate the line equation\n",
    "plt.xlabel('CO2 Emissions')\n",
    "plt.ylabel('Birthrate')\n",
    "plt.annotate(line_eq,(20,5),fontsize=15,color=\"red\")\n",
    "plt.title(\"CO2 Emissions v Birthrate (2014)\")\n",
    "\n",
    "# Print r square value\n",
    "print(f\"The r-squared is: {rvalue}\")\n",
    "\n",
    "# save plot to images folder\n",
    "plt.savefig(os.path.join(\"Images\",\"2014_co2_v_birthrate.png\"))\n",
    "\n",
    "# show plot\n",
    "plt.show()"
   ]
  },
  {
   "cell_type": "markdown",
   "metadata": {},
   "source": [
    "**ANALYSIS:**   Based off of linear regression alone, there doesn't appear to be a statistically significant correlation between co2 and birthrate, over any of the years Kaan and I looked at. Could it be of significance that 4 of the 5 years I tested had an r-value that fell within a .058 window of each other? 1974 was the farthest away from the rest, with an r-value of -.28, classified as a weak correlation (the rest fell under a 'moderate' correlation)."
   ]
  },
  {
   "cell_type": "code",
   "execution_count": 42,
   "metadata": {},
   "outputs": [
    {
     "data": {
      "text/html": [
       "<div>\n",
       "<style scoped>\n",
       "    .dataframe tbody tr th:only-of-type {\n",
       "        vertical-align: middle;\n",
       "    }\n",
       "\n",
       "    .dataframe tbody tr th {\n",
       "        vertical-align: top;\n",
       "    }\n",
       "\n",
       "    .dataframe thead th {\n",
       "        text-align: right;\n",
       "    }\n",
       "</style>\n",
       "<table border=\"1\" class=\"dataframe\">\n",
       "  <thead>\n",
       "    <tr style=\"text-align: right;\">\n",
       "      <th></th>\n",
       "      <th>Country</th>\n",
       "      <th>1974 CO2 Emissions</th>\n",
       "      <th>Birthrate_1974</th>\n",
       "      <th>CO2 Group</th>\n",
       "    </tr>\n",
       "  </thead>\n",
       "  <tbody>\n",
       "    <tr>\n",
       "      <td>0</td>\n",
       "      <td>Qatar</td>\n",
       "      <td>68.2</td>\n",
       "      <td>6.58</td>\n",
       "      <td>High-Level CO2</td>\n",
       "    </tr>\n",
       "    <tr>\n",
       "      <td>1</td>\n",
       "      <td>United Arab Emirates</td>\n",
       "      <td>66.5</td>\n",
       "      <td>6.25</td>\n",
       "      <td>High-Level CO2</td>\n",
       "    </tr>\n",
       "    <tr>\n",
       "      <td>2</td>\n",
       "      <td>Brunei</td>\n",
       "      <td>52.8</td>\n",
       "      <td>5.56</td>\n",
       "      <td>High-Level CO2</td>\n",
       "    </tr>\n",
       "    <tr>\n",
       "      <td>3</td>\n",
       "      <td>Luxembourg</td>\n",
       "      <td>41.0</td>\n",
       "      <td>1.63</td>\n",
       "      <td>Mid-Level CO2</td>\n",
       "    </tr>\n",
       "    <tr>\n",
       "      <td>4</td>\n",
       "      <td>Bahamas</td>\n",
       "      <td>39.9</td>\n",
       "      <td>3.33</td>\n",
       "      <td>Mid-Level CO2</td>\n",
       "    </tr>\n",
       "  </tbody>\n",
       "</table>\n",
       "</div>"
      ],
      "text/plain": [
       "                Country  1974 CO2 Emissions  Birthrate_1974       CO2 Group\n",
       "0                 Qatar                68.2            6.58  High-Level CO2\n",
       "1  United Arab Emirates                66.5            6.25  High-Level CO2\n",
       "2                Brunei                52.8            5.56  High-Level CO2\n",
       "3            Luxembourg                41.0            1.63   Mid-Level CO2\n",
       "4               Bahamas                39.9            3.33   Mid-Level CO2"
      ]
     },
     "execution_count": 42,
     "metadata": {},
     "output_type": "execute_result"
    }
   ],
   "source": [
    "# running anova and independent t-tests (1974 co2 v birthrate)\n",
    "\n",
    "# create bins to place the carbon emissions\n",
    "bins = [0, 22.72, 45.46, 69]\n",
    "\n",
    "# create labels for the bins\n",
    "group_labels = [\"Low-Level CO2\", \"Mid-Level CO2\", \"High-Level CO2\"]\n",
    "\n",
    "# slice the data and place it into bins\n",
    "pd.cut(df_1974[\"1974 CO2 Emissions\"], bins, labels=group_labels)\n",
    "\n",
    "# place the data series into a new column inside of the dataframe\n",
    "df_1974[\"CO2 Group\"] = pd.cut(df_1974[\"1974 CO2 Emissions\"], bins, labels=group_labels)\n",
    "df_1974.head()"
   ]
  },
  {
   "cell_type": "code",
   "execution_count": 43,
   "metadata": {},
   "outputs": [
    {
     "data": {
      "text/plain": [
       "<matplotlib.axes._subplots.AxesSubplot at 0x23e5e24b788>"
      ]
     },
     "execution_count": 43,
     "metadata": {},
     "output_type": "execute_result"
    },
    {
     "data": {
      "image/png": "[encoded data removed]",
      "text/plain": [
       "<Figure size 1440x720 with 1 Axes>"
      ]
     },
     "metadata": {
      "needs_background": "light"
     },
     "output_type": "display_data"
    }
   ],
   "source": [
    "# anova (co2 v birthrate, 1974)\n",
    "\n",
    "# create a boxplot to compare means\n",
    "df_1974.boxplot(\"Birthrate_1974\", by=\"CO2 Group\", figsize=(20, 10))"
   ]
  },
  {
   "cell_type": "code",
   "execution_count": 44,
   "metadata": {},
   "outputs": [
    {
     "data": {
      "text/plain": [
       "F_onewayResult(statistic=2.22546756681091, pvalue=0.11123003802745039)"
      ]
     },
     "execution_count": 44,
     "metadata": {},
     "output_type": "execute_result"
    }
   ],
   "source": [
    "# extract individual groups\n",
    "group1 = df_1974[df_1974[\"CO2 Group\"] == \"Low-Level CO2\"][\"Birthrate_1974\"]\n",
    "group2 = df_1974[df_1974[\"CO2 Group\"] == \"Mid-Level CO2\"][\"Birthrate_1974\"]\n",
    "group3 = df_1974[df_1974[\"CO2 Group\"] == \"High-Level CO2\"][\"Birthrate_1974\"]\n",
    "\n",
    "# perform the anova\n",
    "stats.f_oneway(group1, group2, group3)"
   ]
  },
  {
   "cell_type": "code",
   "execution_count": 49,
   "metadata": {},
   "outputs": [
    {
     "data": {
      "text/plain": [
       "5.086158536585367"
      ]
     },
     "execution_count": 49,
     "metadata": {},
     "output_type": "execute_result"
    }
   ],
   "source": [
    "# independent t-test\n",
    "\n",
    "# calculate the 'population' mean for birthrate in lowest co2 group (year 1974)\n",
    "population1 = df_1974[df_1974[\"CO2 Group\"] == \"Low-Level CO2\"]\n",
    "population1.Birthrate_1974.mean()"
   ]
  },
  {
   "cell_type": "code",
   "execution_count": 50,
   "metadata": {},
   "outputs": [
    {
     "data": {
      "text/plain": [
       "2.48"
      ]
     },
     "execution_count": 50,
     "metadata": {},
     "output_type": "execute_result"
    }
   ],
   "source": [
    "# calculate the 'population' mean for birthrate in mid co2 group (year 1974)\n",
    "population2 = df_1974[df_1974[\"CO2 Group\"] == \"Mid-Level CO2\"]\n",
    "population2.Birthrate_1974.mean()"
   ]
  },
  {
   "cell_type": "code",
   "execution_count": 51,
   "metadata": {},
   "outputs": [
    {
     "data": {
      "text/plain": [
       "6.13"
      ]
     },
     "execution_count": 51,
     "metadata": {},
     "output_type": "execute_result"
    }
   ],
   "source": [
    "# calculate the 'population' mean for birthrate in highest co2 group (year 1974)\n",
    "population3 = df_1974[df_1974[\"CO2 Group\"] == \"High-Level CO2\"]\n",
    "population3.Birthrate_1974.mean()"
   ]
  },
  {
   "cell_type": "code",
   "execution_count": 53,
   "metadata": {},
   "outputs": [
    {
     "data": {
      "text/plain": [
       "Ttest_indResult(statistic=3.017586886880267, pvalue=0.19116443352329557)"
      ]
     },
     "execution_count": 53,
     "metadata": {},
     "output_type": "execute_result"
    }
   ],
   "source": [
    "# calculate independent t-test, low v mid (1974)\n",
    "stats.ttest_ind(population1.Birthrate_1974, population2.Birthrate_1974, equal_var=False)"
   ]
  },
  {
   "cell_type": "code",
   "execution_count": 54,
   "metadata": {},
   "outputs": [
    {
     "data": {
      "text/plain": [
       "Ttest_indResult(statistic=-3.0956327560549117, pvalue=0.04972510869748724)"
      ]
     },
     "execution_count": 54,
     "metadata": {},
     "output_type": "execute_result"
    }
   ],
   "source": [
    "# calculate independent (two sample) t-test, low v high (1974)\n",
    "stats.ttest_ind(population1.Birthrate_1974, population3.Birthrate_1974, equal_var=False)"
   ]
  },
  {
   "cell_type": "code",
   "execution_count": 55,
   "metadata": {},
   "outputs": [
    {
     "data": {
      "text/plain": [
       "Ttest_indResult(statistic=-4.0485640742110185, pvalue=0.11417299856100048)"
      ]
     },
     "execution_count": 55,
     "metadata": {},
     "output_type": "execute_result"
    }
   ],
   "source": [
    "# calculate independent (two sample) t-test, mid v high (1974)\n",
    "stats.ttest_ind(population2.Birthrate_1974, population3.Birthrate_1974, equal_var=False)"
   ]
  },
  {
   "cell_type": "markdown",
   "metadata": {},
   "source": [
    "**ANALYSIS:** Looking at 1974, we fail to reject the null hypothesis that all three co2 level groups have the same mean birthrate. But when comparing the groups to one another, we found that there could be statistically significant data in the low v high comparison."
   ]
  },
  {
   "cell_type": "code",
   "execution_count": 56,
   "metadata": {},
   "outputs": [
    {
     "data": {
      "text/html": [
       "<div>\n",
       "<style scoped>\n",
       "    .dataframe tbody tr th:only-of-type {\n",
       "        vertical-align: middle;\n",
       "    }\n",
       "\n",
       "    .dataframe tbody tr th {\n",
       "        vertical-align: top;\n",
       "    }\n",
       "\n",
       "    .dataframe thead th {\n",
       "        text-align: right;\n",
       "    }\n",
       "</style>\n",
       "<table border=\"1\" class=\"dataframe\">\n",
       "  <thead>\n",
       "    <tr style=\"text-align: right;\">\n",
       "      <th></th>\n",
       "      <th>Country</th>\n",
       "      <th>1984 CO2 Emissions</th>\n",
       "      <th>Birthrate_1984</th>\n",
       "      <th>CO2 Group</th>\n",
       "    </tr>\n",
       "  </thead>\n",
       "  <tbody>\n",
       "    <tr>\n",
       "      <td>0</td>\n",
       "      <td>Qatar</td>\n",
       "      <td>36.1</td>\n",
       "      <td>5.13</td>\n",
       "      <td>High-Level CO2</td>\n",
       "    </tr>\n",
       "    <tr>\n",
       "      <td>1</td>\n",
       "      <td>United Arab Emirates</td>\n",
       "      <td>35.2</td>\n",
       "      <td>5.22</td>\n",
       "      <td>High-Level CO2</td>\n",
       "    </tr>\n",
       "    <tr>\n",
       "      <td>2</td>\n",
       "      <td>Luxembourg</td>\n",
       "      <td>24.4</td>\n",
       "      <td>1.45</td>\n",
       "      <td>High-Level CO2</td>\n",
       "    </tr>\n",
       "    <tr>\n",
       "      <td>3</td>\n",
       "      <td>Bahrain</td>\n",
       "      <td>22.6</td>\n",
       "      <td>4.47</td>\n",
       "      <td>Mid-Level CO2</td>\n",
       "    </tr>\n",
       "    <tr>\n",
       "      <td>4</td>\n",
       "      <td>United States</td>\n",
       "      <td>18.8</td>\n",
       "      <td>1.79</td>\n",
       "      <td>Mid-Level CO2</td>\n",
       "    </tr>\n",
       "  </tbody>\n",
       "</table>\n",
       "</div>"
      ],
      "text/plain": [
       "                Country  1984 CO2 Emissions  Birthrate_1984       CO2 Group\n",
       "0                 Qatar                36.1            5.13  High-Level CO2\n",
       "1  United Arab Emirates                35.2            5.22  High-Level CO2\n",
       "2            Luxembourg                24.4            1.45  High-Level CO2\n",
       "3               Bahrain                22.6            4.47   Mid-Level CO2\n",
       "4         United States                18.8            1.79   Mid-Level CO2"
      ]
     },
     "execution_count": 56,
     "metadata": {},
     "output_type": "execute_result"
    }
   ],
   "source": [
    "# running anova and independent t-tests (1984 co2 v birthrate)\n",
    "\n",
    "# create bins to place the carbon emissions\n",
    "bins = [0, 12.06, 24.08, 36.2]\n",
    "\n",
    "# create labels for the bins\n",
    "group_labels = [\"Low-Level CO2\", \"Mid-Level CO2\", \"High-Level CO2\"]\n",
    "\n",
    "# slice the data and place it into bins\n",
    "pd.cut(df_1984[\"1984 CO2 Emissions\"], bins, labels=group_labels)\n",
    "\n",
    "# place the data series into a new column inside of the DataFrame\n",
    "df_1984[\"CO2 Group\"] = pd.cut(df_1984[\"1984 CO2 Emissions\"], bins, labels=group_labels)\n",
    "df_1984.head()"
   ]
  },
  {
   "cell_type": "code",
   "execution_count": 57,
   "metadata": {},
   "outputs": [
    {
     "data": {
      "text/plain": [
       "<matplotlib.axes._subplots.AxesSubplot at 0x23e5f5d6e48>"
      ]
     },
     "execution_count": 57,
     "metadata": {},
     "output_type": "execute_result"
    },
    {
     "data": {
      "image/png": "[encoded data removed]",
      "text/plain": [
       "<Figure size 1440x720 with 1 Axes>"
      ]
     },
     "metadata": {
      "needs_background": "light"
     },
     "output_type": "display_data"
    }
   ],
   "source": [
    "# anova (co2 v birthrate, 1984)\n",
    "\n",
    "# create a boxplot to compare means\n",
    "df_1984.boxplot(\"Birthrate_1984\", by=\"CO2 Group\", figsize=(20, 10))"
   ]
  },
  {
   "cell_type": "code",
   "execution_count": 58,
   "metadata": {},
   "outputs": [
    {
     "data": {
      "text/plain": [
       "F_onewayResult(statistic=5.4197155924514, pvalue=0.0052469295784811605)"
      ]
     },
     "execution_count": 58,
     "metadata": {},
     "output_type": "execute_result"
    }
   ],
   "source": [
    "# extract individual groups\n",
    "group1 = df_1984[df_1984[\"CO2 Group\"] == \"Low-Level CO2\"][\"Birthrate_1984\"]\n",
    "group2 = df_1984[df_1984[\"CO2 Group\"] == \"Mid-Level CO2\"][\"Birthrate_1984\"]\n",
    "group3 = df_1984[df_1984[\"CO2 Group\"] == \"High-Level CO2\"][\"Birthrate_1984\"]\n",
    "\n",
    "# perform the anova\n",
    "stats.f_oneway(group1, group2, group3)"
   ]
  },
  {
   "cell_type": "code",
   "execution_count": 60,
   "metadata": {},
   "outputs": [
    {
     "data": {
      "text/plain": [
       "4.650261437908497"
      ]
     },
     "execution_count": 60,
     "metadata": {},
     "output_type": "execute_result"
    }
   ],
   "source": [
    "# independent t-test\n",
    "\n",
    "# calculate the 'population' mean for birthrate in lowest co2 group (year 1984)\n",
    "population1 = df_1984[df_1984[\"CO2 Group\"] == \"Low-Level CO2\"]\n",
    "population1.Birthrate_1984.mean()"
   ]
  },
  {
   "cell_type": "code",
   "execution_count": 61,
   "metadata": {},
   "outputs": [
    {
     "data": {
      "text/plain": [
       "2.803846153846154"
      ]
     },
     "execution_count": 61,
     "metadata": {},
     "output_type": "execute_result"
    }
   ],
   "source": [
    "# calculate the 'population' mean for birthrate in mid co2 group (year 1984)\n",
    "population2 = df_1984[df_1984[\"CO2 Group\"] == \"Mid-Level CO2\"]\n",
    "population2.Birthrate_1984.mean()"
   ]
  },
  {
   "cell_type": "code",
   "execution_count": 62,
   "metadata": {},
   "outputs": [
    {
     "data": {
      "text/plain": [
       "3.933333333333333"
      ]
     },
     "execution_count": 62,
     "metadata": {},
     "output_type": "execute_result"
    }
   ],
   "source": [
    "# calculate the 'population' mean for birthrate in highest co2 group (year 1984)\n",
    "population3 = df_1984[df_1984[\"CO2 Group\"] == \"High-Level CO2\"]\n",
    "population3.Birthrate_1984.mean()"
   ]
  },
  {
   "cell_type": "code",
   "execution_count": 63,
   "metadata": {},
   "outputs": [
    {
     "data": {
      "text/plain": [
       "Ttest_indResult(statistic=3.916311221072401, pvalue=0.001322492667227697)"
      ]
     },
     "execution_count": 63,
     "metadata": {},
     "output_type": "execute_result"
    }
   ],
   "source": [
    "#calculate independent (two sample) t-test, low v mid (1984)\n",
    "stats.ttest_ind(population1.Birthrate_1984, population2.Birthrate_1984, equal_var=False)"
   ]
  },
  {
   "cell_type": "code",
   "execution_count": 64,
   "metadata": {},
   "outputs": [
    {
     "data": {
      "text/plain": [
       "Ttest_indResult(statistic=0.5724935509811278, pvalue=0.6231034774169064)"
      ]
     },
     "execution_count": 64,
     "metadata": {},
     "output_type": "execute_result"
    }
   ],
   "source": [
    "#calculate independent (two sample) t-test, low v high (1984)\n",
    "stats.ttest_ind(population1.Birthrate_1984, population3.Birthrate_1984, equal_var=False)"
   ]
  },
  {
   "cell_type": "code",
   "execution_count": 65,
   "metadata": {},
   "outputs": [
    {
     "data": {
      "text/plain": [
       "Ttest_indResult(statistic=-0.8565393730267056, pvalue=0.4649917518020482)"
      ]
     },
     "execution_count": 65,
     "metadata": {},
     "output_type": "execute_result"
    }
   ],
   "source": [
    "# calculate independent (two sample) t-test, mid v high (1984)\n",
    "stats.ttest_ind(population2.Birthrate_1984, population3.Birthrate_1984, equal_var=False)"
   ]
  },
  {
   "cell_type": "markdown",
   "metadata": {},
   "source": [
    "**ANALYSIS:** The 1984 anova test has a statistically significant p-value of 0.0002, meaning we reject the null hypothesis. When comparing the three co2 groups against one another, low level versus mid level is the only comparison where we also rejected the null hypothesis. Not being well-versed in statistics, could it be worthwhile to further explore why the anova test rejected the null hypothesis but the t-test only rejected the null hypothesis on 1 out of the 3 comparisons?"
   ]
  },
  {
   "cell_type": "code",
   "execution_count": 66,
   "metadata": {},
   "outputs": [
    {
     "data": {
      "text/html": [
       "<div>\n",
       "<style scoped>\n",
       "    .dataframe tbody tr th:only-of-type {\n",
       "        vertical-align: middle;\n",
       "    }\n",
       "\n",
       "    .dataframe tbody tr th {\n",
       "        vertical-align: top;\n",
       "    }\n",
       "\n",
       "    .dataframe thead th {\n",
       "        text-align: right;\n",
       "    }\n",
       "</style>\n",
       "<table border=\"1\" class=\"dataframe\">\n",
       "  <thead>\n",
       "    <tr style=\"text-align: right;\">\n",
       "      <th></th>\n",
       "      <th>Country</th>\n",
       "      <th>1994 CO2 Emissions</th>\n",
       "      <th>Birthrate_1994</th>\n",
       "      <th>CO2 Group</th>\n",
       "    </tr>\n",
       "  </thead>\n",
       "  <tbody>\n",
       "    <tr>\n",
       "      <td>0</td>\n",
       "      <td>Qatar</td>\n",
       "      <td>59.6</td>\n",
       "      <td>3.65</td>\n",
       "      <td>NaN</td>\n",
       "    </tr>\n",
       "    <tr>\n",
       "      <td>1</td>\n",
       "      <td>United Arab Emirates</td>\n",
       "      <td>31.4</td>\n",
       "      <td>3.62</td>\n",
       "      <td>High-Level CO2</td>\n",
       "    </tr>\n",
       "    <tr>\n",
       "      <td>2</td>\n",
       "      <td>Bahrain</td>\n",
       "      <td>26.9</td>\n",
       "      <td>3.21</td>\n",
       "      <td>High-Level CO2</td>\n",
       "    </tr>\n",
       "    <tr>\n",
       "      <td>3</td>\n",
       "      <td>Luxembourg</td>\n",
       "      <td>25.3</td>\n",
       "      <td>1.69</td>\n",
       "      <td>High-Level CO2</td>\n",
       "    </tr>\n",
       "    <tr>\n",
       "      <td>4</td>\n",
       "      <td>Kuwait</td>\n",
       "      <td>23.4</td>\n",
       "      <td>2.66</td>\n",
       "      <td>High-Level CO2</td>\n",
       "    </tr>\n",
       "  </tbody>\n",
       "</table>\n",
       "</div>"
      ],
      "text/plain": [
       "                Country  1994 CO2 Emissions  Birthrate_1994       CO2 Group\n",
       "0                 Qatar                59.6            3.65             NaN\n",
       "1  United Arab Emirates                31.4            3.62  High-Level CO2\n",
       "2               Bahrain                26.9            3.21  High-Level CO2\n",
       "3            Luxembourg                25.3            1.69  High-Level CO2\n",
       "4                Kuwait                23.4            2.66  High-Level CO2"
      ]
     },
     "execution_count": 66,
     "metadata": {},
     "output_type": "execute_result"
    }
   ],
   "source": [
    "# running anova and independent t-tests (1994 co2 v birthrate)\n",
    "\n",
    "# create bins to place the carbon emissions\n",
    "# changed bins to pull out singleton high level co2\n",
    "bins = [0, 10.47, 20.94, 31.5]\n",
    "\n",
    "# create labels for the bins\n",
    "group_labels = [\"Low-Level CO2\", \"Mid-Level CO2\", \"High-Level CO2\"]\n",
    "\n",
    "# slice the data and place it into bins\n",
    "pd.cut(df_1994[\"1994 CO2 Emissions\"], bins, labels=group_labels)\n",
    "\n",
    "#place the data series into a new column inside of the DataFrame\n",
    "df_1994[\"CO2 Group\"] = pd.cut(df_1994[\"1994 CO2 Emissions\"], bins, labels=group_labels)\n",
    "df_1994.head()"
   ]
  },
  {
   "cell_type": "code",
   "execution_count": 67,
   "metadata": {},
   "outputs": [
    {
     "data": {
      "text/plain": [
       "<matplotlib.axes._subplots.AxesSubplot at 0x23e5f234608>"
      ]
     },
     "execution_count": 67,
     "metadata": {},
     "output_type": "execute_result"
    },
    {
     "data": {
      "image/png": "[encoded data removed]",
      "text/plain": [
       "<Figure size 1440x720 with 1 Axes>"
      ]
     },
     "metadata": {
      "needs_background": "light"
     },
     "output_type": "display_data"
    }
   ],
   "source": [
    "# anova (co2 v birthrate, 1994)\n",
    "\n",
    "# create a boxplot to compare means\n",
    "df_1994.boxplot(\"Birthrate_1994\", by=\"CO2 Group\", figsize=(20, 10))"
   ]
  },
  {
   "cell_type": "code",
   "execution_count": 68,
   "metadata": {},
   "outputs": [
    {
     "data": {
      "text/plain": [
       "F_onewayResult(statistic=8.95348947937137, pvalue=0.0001972143158635787)"
      ]
     },
     "execution_count": 68,
     "metadata": {},
     "output_type": "execute_result"
    }
   ],
   "source": [
    "# extract individual groups\n",
    "group1 = df_1994[df_1994[\"CO2 Group\"] == \"Low-Level CO2\"][\"Birthrate_1994\"]\n",
    "group2 = df_1994[df_1994[\"CO2 Group\"] == \"Mid-Level CO2\"][\"Birthrate_1994\"]\n",
    "group3 = df_1994[df_1994[\"CO2 Group\"] == \"High-Level CO2\"][\"Birthrate_1994\"]\n",
    "\n",
    "# perform the anova\n",
    "stats.f_oneway(group1, group2, group3)"
   ]
  },
  {
   "cell_type": "code",
   "execution_count": 69,
   "metadata": {},
   "outputs": [
    {
     "data": {
      "text/plain": [
       "3.9208695652173913"
      ]
     },
     "execution_count": 69,
     "metadata": {},
     "output_type": "execute_result"
    }
   ],
   "source": [
    "# independent t-test\n",
    "\n",
    "# calculate the 'population' mean for birthrate in lowest co2 group (year 1994)\n",
    "population1 = df_1994[df_1994[\"CO2 Group\"] == \"Low-Level CO2\"]\n",
    "population1.Birthrate_1994.mean()"
   ]
  },
  {
   "cell_type": "code",
   "execution_count": 70,
   "metadata": {},
   "outputs": [
    {
     "data": {
      "text/plain": [
       "2.0256250000000002"
      ]
     },
     "execution_count": 70,
     "metadata": {},
     "output_type": "execute_result"
    }
   ],
   "source": [
    "# calculate the 'population' mean for birthrate in mid co2 group (year 1994)\n",
    "population2 = df_1994[df_1994[\"CO2 Group\"] == \"Mid-Level CO2\"]\n",
    "population2.Birthrate_1994.mean()"
   ]
  },
  {
   "cell_type": "code",
   "execution_count": 71,
   "metadata": {},
   "outputs": [
    {
     "data": {
      "text/plain": [
       "2.795"
      ]
     },
     "execution_count": 71,
     "metadata": {},
     "output_type": "execute_result"
    }
   ],
   "source": [
    "# calculate the 'population' mean for birthrate in highest co2 group (year 1994)\n",
    "population3 = df_1994[df_1994[\"CO2 Group\"] == \"High-Level CO2\"]\n",
    "population3.Birthrate_1994.mean()"
   ]
  },
  {
   "cell_type": "code",
   "execution_count": 72,
   "metadata": {},
   "outputs": [
    {
     "data": {
      "text/plain": [
       "Ttest_indResult(statistic=6.83028356992508, pvalue=2.0456190226109258e-07)"
      ]
     },
     "execution_count": 72,
     "metadata": {},
     "output_type": "execute_result"
    }
   ],
   "source": [
    "# calculate independent (two sample) t-test, low v mid (1994)\n",
    "stats.ttest_ind(population1.Birthrate_1994, population2.Birthrate_1994, equal_var=False)"
   ]
  },
  {
   "cell_type": "code",
   "execution_count": 73,
   "metadata": {},
   "outputs": [
    {
     "data": {
      "text/plain": [
       "Ttest_indResult(statistic=2.547725857100322, pvalue=0.06731869902518281)"
      ]
     },
     "execution_count": 73,
     "metadata": {},
     "output_type": "execute_result"
    }
   ],
   "source": [
    "# calculate independent (two sample) t-test, low v high (1994)\n",
    "stats.ttest_ind(population1.Birthrate_1994, population3.Birthrate_1994, equal_var=False)"
   ]
  },
  {
   "cell_type": "code",
   "execution_count": 74,
   "metadata": {},
   "outputs": [
    {
     "data": {
      "text/plain": [
       "Ttest_indResult(statistic=-1.6028965605632597, pvalue=0.16835126798273775)"
      ]
     },
     "execution_count": 74,
     "metadata": {},
     "output_type": "execute_result"
    }
   ],
   "source": [
    "# calculate independent (two sample) t-test, mid v high (1994)\n",
    "stats.ttest_ind(population2.Birthrate_1994, population3.Birthrate_1994, equal_var=False)"
   ]
  },
  {
   "cell_type": "markdown",
   "metadata": {},
   "source": [
    "**ANALYSIS:** Similar to 1984, we reject the null hypothesis that the three co2 groups have the same birthrate means. This is a statistically significant result. And running the independent t-test, we found one p-value under .05, looking at the low versus mid co2 groups.\n",
    "\n",
    "*Important to note:* We pulled out a singleton high-level co2 value from the 1994 data. Is it worth exploring further, maybe breaking the data into smaller subsets, or running different statistical tests?"
   ]
  },
  {
   "cell_type": "code",
   "execution_count": 75,
   "metadata": {},
   "outputs": [
    {
     "data": {
      "text/html": [
       "<div>\n",
       "<style scoped>\n",
       "    .dataframe tbody tr th:only-of-type {\n",
       "        vertical-align: middle;\n",
       "    }\n",
       "\n",
       "    .dataframe tbody tr th {\n",
       "        vertical-align: top;\n",
       "    }\n",
       "\n",
       "    .dataframe thead th {\n",
       "        text-align: right;\n",
       "    }\n",
       "</style>\n",
       "<table border=\"1\" class=\"dataframe\">\n",
       "  <thead>\n",
       "    <tr style=\"text-align: right;\">\n",
       "      <th></th>\n",
       "      <th>Country</th>\n",
       "      <th>2004 CO2 Emissions</th>\n",
       "      <th>Birthrate_2004</th>\n",
       "      <th>CO2 Group</th>\n",
       "    </tr>\n",
       "  </thead>\n",
       "  <tbody>\n",
       "    <tr>\n",
       "      <td>0</td>\n",
       "      <td>Qatar</td>\n",
       "      <td>56.6</td>\n",
       "      <td>2.71</td>\n",
       "      <td>NaN</td>\n",
       "    </tr>\n",
       "    <tr>\n",
       "      <td>1</td>\n",
       "      <td>Kuwait</td>\n",
       "      <td>28.8</td>\n",
       "      <td>2.55</td>\n",
       "      <td>High-Level CO2</td>\n",
       "    </tr>\n",
       "    <tr>\n",
       "      <td>2</td>\n",
       "      <td>United Arab Emirates</td>\n",
       "      <td>27.7</td>\n",
       "      <td>2.24</td>\n",
       "      <td>High-Level CO2</td>\n",
       "    </tr>\n",
       "    <tr>\n",
       "      <td>3</td>\n",
       "      <td>Trinidad and Tobago</td>\n",
       "      <td>25.9</td>\n",
       "      <td>1.76</td>\n",
       "      <td>High-Level CO2</td>\n",
       "    </tr>\n",
       "    <tr>\n",
       "      <td>4</td>\n",
       "      <td>Luxembourg</td>\n",
       "      <td>24.9</td>\n",
       "      <td>1.65</td>\n",
       "      <td>High-Level CO2</td>\n",
       "    </tr>\n",
       "  </tbody>\n",
       "</table>\n",
       "</div>"
      ],
      "text/plain": [
       "                Country  2004 CO2 Emissions  Birthrate_2004       CO2 Group\n",
       "0                 Qatar                56.6            2.71             NaN\n",
       "1                Kuwait                28.8            2.55  High-Level CO2\n",
       "2  United Arab Emirates                27.7            2.24  High-Level CO2\n",
       "3   Trinidad and Tobago                25.9            1.76  High-Level CO2\n",
       "4            Luxembourg                24.9            1.65  High-Level CO2"
      ]
     },
     "execution_count": 75,
     "metadata": {},
     "output_type": "execute_result"
    }
   ],
   "source": [
    "# running anova and independent t-tests (2004 co2 v birthrate)\n",
    "\n",
    "# create bins to place the carbon emissions\n",
    "# change bins in order to pull out singleton high level co2\n",
    "bins = [0, 9.43, 18.87, 28.9]\n",
    "\n",
    "# create labels for the bins\n",
    "group_labels = [\"Low-Level CO2\", \"Mid-Level CO2\", \"High-Level CO2\"]\n",
    "\n",
    "# slice the data and place it into bins\n",
    "pd.cut(df_2004[\"2004 CO2 Emissions\"], bins, labels=group_labels)\n",
    "\n",
    "# place the data series into a new column inside of the DataFrame\n",
    "df_2004[\"CO2 Group\"] = pd.cut(df_2004[\"2004 CO2 Emissions\"], bins, labels=group_labels)\n",
    "df_2004.head()"
   ]
  },
  {
   "cell_type": "code",
   "execution_count": 76,
   "metadata": {},
   "outputs": [
    {
     "data": {
      "text/plain": [
       "<matplotlib.axes._subplots.AxesSubplot at 0x23e5f22d708>"
      ]
     },
     "execution_count": 76,
     "metadata": {},
     "output_type": "execute_result"
    },
    {
     "data": {
      "image/png": "[encoded data removed]",
      "text/plain": [
       "<Figure size 1440x720 with 1 Axes>"
      ]
     },
     "metadata": {
      "needs_background": "light"
     },
     "output_type": "display_data"
    }
   ],
   "source": [
    "# anova (co2 v birthrate, 2004)\n",
    "\n",
    "# create a boxplot to compare means\n",
    "df_2004.boxplot(\"Birthrate_2004\", by=\"CO2 Group\", figsize=(20, 10))"
   ]
  },
  {
   "cell_type": "code",
   "execution_count": 77,
   "metadata": {},
   "outputs": [
    {
     "data": {
      "text/plain": [
       "F_onewayResult(statistic=7.414528152724707, pvalue=0.0008060396295975093)"
      ]
     },
     "execution_count": 77,
     "metadata": {},
     "output_type": "execute_result"
    }
   ],
   "source": [
    "# extract individual groups\n",
    "group1 = df_2004[df_2004[\"CO2 Group\"] == \"Low-Level CO2\"][\"Birthrate_2004\"]\n",
    "group2 = df_2004[df_2004[\"CO2 Group\"] == \"Mid-Level CO2\"][\"Birthrate_2004\"]\n",
    "group3 = df_2004[df_2004[\"CO2 Group\"] == \"High-Level CO2\"][\"Birthrate_2004\"]\n",
    "\n",
    "# perform the anova\n",
    "stats.f_oneway(group1, group2, group3)"
   ]
  },
  {
   "cell_type": "code",
   "execution_count": 78,
   "metadata": {},
   "outputs": [
    {
     "data": {
      "text/plain": [
       "3.333459119496856"
      ]
     },
     "execution_count": 78,
     "metadata": {},
     "output_type": "execute_result"
    }
   ],
   "source": [
    "# independent t-test\n",
    "\n",
    "# calculate the 'population' mean for birthrate in lowest co2 group (year 2004)\n",
    "population1 = df_2004[df_2004[\"CO2 Group\"] == \"Low-Level CO2\"]\n",
    "population1.Birthrate_2004.mean()"
   ]
  },
  {
   "cell_type": "code",
   "execution_count": 79,
   "metadata": {},
   "outputs": [
    {
     "data": {
      "text/plain": [
       "1.868823529411765"
      ]
     },
     "execution_count": 79,
     "metadata": {},
     "output_type": "execute_result"
    }
   ],
   "source": [
    "# calculate the 'population' mean for birthrate in mid co2 group (year 2004)\n",
    "population2 = df_2004[df_2004[\"CO2 Group\"] == \"Mid-Level CO2\"]\n",
    "population2.Birthrate_2004.mean()"
   ]
  },
  {
   "cell_type": "code",
   "execution_count": 80,
   "metadata": {},
   "outputs": [
    {
     "data": {
      "text/plain": [
       "2.1316666666666664"
      ]
     },
     "execution_count": 80,
     "metadata": {},
     "output_type": "execute_result"
    }
   ],
   "source": [
    "# calculate the 'population' mean for birthrate in highest co2 group (year 2004)\n",
    "population3 = df_2004[df_2004[\"CO2 Group\"] == \"High-Level CO2\"]\n",
    "population3.Birthrate_2004.mean()"
   ]
  },
  {
   "cell_type": "code",
   "execution_count": 81,
   "metadata": {},
   "outputs": [
    {
     "data": {
      "text/plain": [
       "Ttest_indResult(statistic=7.0063229791353425, pvalue=8.766856976516902e-09)"
      ]
     },
     "execution_count": 81,
     "metadata": {},
     "output_type": "execute_result"
    }
   ],
   "source": [
    "# calculate independent (two sample) t-test, low v mid (2004)\n",
    "stats.ttest_ind(population1.Birthrate_2004, population2.Birthrate_2004, equal_var=False)"
   ]
  },
  {
   "cell_type": "code",
   "execution_count": 82,
   "metadata": {},
   "outputs": [
    {
     "data": {
      "text/plain": [
       "Ttest_indResult(statistic=5.816745660317116, pvalue=2.9850813435716226e-05)"
      ]
     },
     "execution_count": 82,
     "metadata": {},
     "output_type": "execute_result"
    }
   ],
   "source": [
    "# calculate independent (two sample) t-test, low v high (2004)\n",
    "stats.ttest_ind(population1.Birthrate_2004, population3.Birthrate_2004, equal_var=False)"
   ]
  },
  {
   "cell_type": "code",
   "execution_count": 83,
   "metadata": {},
   "outputs": [
    {
     "data": {
      "text/plain": [
       "Ttest_indResult(statistic=-1.1867023091700577, pvalue=0.25313922444906123)"
      ]
     },
     "execution_count": 83,
     "metadata": {},
     "output_type": "execute_result"
    }
   ],
   "source": [
    "# calculate independent (two sample) t-test, mid v high (2004)\n",
    "stats.ttest_ind(population2.Birthrate_2004, population3.Birthrate_2004, equal_var=False)"
   ]
  },
  {
   "cell_type": "markdown",
   "metadata": {},
   "source": [
    "**ANALYSIS:** In line with 1984 and 1994, the anova produced a rejection of the null hypothesis. And then testing the groups against one another, we also reject the null hypothesis as it pertains to the low v mid co2 group and low v high co2 group.\n",
    "\n",
    "*Important to note:* Similar to 1994, we pulled out a singleton high-level co2 datapoint."
   ]
  },
  {
   "cell_type": "code",
   "execution_count": 84,
   "metadata": {},
   "outputs": [
    {
     "data": {
      "text/html": [
       "<div>\n",
       "<style scoped>\n",
       "    .dataframe tbody tr th:only-of-type {\n",
       "        vertical-align: middle;\n",
       "    }\n",
       "\n",
       "    .dataframe tbody tr th {\n",
       "        vertical-align: top;\n",
       "    }\n",
       "\n",
       "    .dataframe thead th {\n",
       "        text-align: right;\n",
       "    }\n",
       "</style>\n",
       "<table border=\"1\" class=\"dataframe\">\n",
       "  <thead>\n",
       "    <tr style=\"text-align: right;\">\n",
       "      <th></th>\n",
       "      <th>Country</th>\n",
       "      <th>2014 CO2 Emissions</th>\n",
       "      <th>Birthrate_2014</th>\n",
       "      <th>CO2 Group</th>\n",
       "    </tr>\n",
       "  </thead>\n",
       "  <tbody>\n",
       "    <tr>\n",
       "      <td>0</td>\n",
       "      <td>Qatar</td>\n",
       "      <td>45.4</td>\n",
       "      <td>1.95</td>\n",
       "      <td>High-Level CO2</td>\n",
       "    </tr>\n",
       "    <tr>\n",
       "      <td>1</td>\n",
       "      <td>Trinidad and Tobago</td>\n",
       "      <td>34.2</td>\n",
       "      <td>1.78</td>\n",
       "      <td>High-Level CO2</td>\n",
       "    </tr>\n",
       "    <tr>\n",
       "      <td>2</td>\n",
       "      <td>Kuwait</td>\n",
       "      <td>25.2</td>\n",
       "      <td>2.01</td>\n",
       "      <td>Mid-Level CO2</td>\n",
       "    </tr>\n",
       "    <tr>\n",
       "      <td>3</td>\n",
       "      <td>Bahrain</td>\n",
       "      <td>23.4</td>\n",
       "      <td>2.07</td>\n",
       "      <td>Mid-Level CO2</td>\n",
       "    </tr>\n",
       "    <tr>\n",
       "      <td>4</td>\n",
       "      <td>United Arab Emirates</td>\n",
       "      <td>23.3</td>\n",
       "      <td>1.78</td>\n",
       "      <td>Mid-Level CO2</td>\n",
       "    </tr>\n",
       "  </tbody>\n",
       "</table>\n",
       "</div>"
      ],
      "text/plain": [
       "                Country  2014 CO2 Emissions  Birthrate_2014       CO2 Group\n",
       "0                 Qatar                45.4            1.95  High-Level CO2\n",
       "1   Trinidad and Tobago                34.2            1.78  High-Level CO2\n",
       "2                Kuwait                25.2            2.01   Mid-Level CO2\n",
       "3               Bahrain                23.4            2.07   Mid-Level CO2\n",
       "4  United Arab Emirates                23.3            1.78   Mid-Level CO2"
      ]
     },
     "execution_count": 84,
     "metadata": {},
     "output_type": "execute_result"
    }
   ],
   "source": [
    "# running anova and independent t-tests (2014 co2 v birthrate)\n",
    "\n",
    "# create bins to place the carbon emissions\n",
    "bins = [0, 15.13, 30.26, 45.5]\n",
    "\n",
    "# create labels for the bins\n",
    "group_labels = [\"Low-Level CO2\", \"Mid-Level CO2\", \"High-Level CO2\"]\n",
    "\n",
    "# slice the data and place it into bins\n",
    "pd.cut(df_2014[\"2014 CO2 Emissions\"], bins, labels=group_labels)\n",
    "\n",
    "# place the data series into a new column inside of the DataFrame\n",
    "df_2014[\"CO2 Group\"] = pd.cut(df_2014[\"2014 CO2 Emissions\"], bins, labels=group_labels)\n",
    "df_2014.head()"
   ]
  },
  {
   "cell_type": "code",
   "execution_count": 85,
   "metadata": {},
   "outputs": [
    {
     "data": {
      "text/plain": [
       "<matplotlib.axes._subplots.AxesSubplot at 0x23e5f972dc8>"
      ]
     },
     "execution_count": 85,
     "metadata": {},
     "output_type": "execute_result"
    },
    {
     "data": {
      "image/png": "[encoded data removed]",
      "text/plain": [
       "<Figure size 1440x720 with 1 Axes>"
      ]
     },
     "metadata": {
      "needs_background": "light"
     },
     "output_type": "display_data"
    }
   ],
   "source": [
    "# anova (co2 v birthrate, 2014)\n",
    "\n",
    "# create a boxplot to compare means\n",
    "df_2014.boxplot(\"Birthrate_2014\", by=\"CO2 Group\", figsize=(20, 10))"
   ]
  },
  {
   "cell_type": "code",
   "execution_count": 86,
   "metadata": {},
   "outputs": [
    {
     "data": {
      "text/plain": [
       "F_onewayResult(statistic=2.1590094168910055, pvalue=0.11840330378773414)"
      ]
     },
     "execution_count": 86,
     "metadata": {},
     "output_type": "execute_result"
    }
   ],
   "source": [
    "# extract individual groups\n",
    "group1 = df_2014[df_2014[\"CO2 Group\"] == \"Low-Level CO2\"][\"Birthrate_2014\"]\n",
    "group2 = df_2014[df_2014[\"CO2 Group\"] == \"Mid-Level CO2\"][\"Birthrate_2014\"]\n",
    "group3 = df_2014[df_2014[\"CO2 Group\"] == \"High-Level CO2\"][\"Birthrate_2014\"]\n",
    "\n",
    "# perform the anova\n",
    "stats.f_oneway(group1, group2, group3)"
   ]
  },
  {
   "cell_type": "code",
   "execution_count": 87,
   "metadata": {},
   "outputs": [
    {
     "data": {
      "text/plain": [
       "2.9230057803468217"
      ]
     },
     "execution_count": 87,
     "metadata": {},
     "output_type": "execute_result"
    }
   ],
   "source": [
    "# independent t-test\n",
    "\n",
    "# calculate the 'population' mean for birthrate in lowest co2 group (year 2014)\n",
    "population1 = df_2014[df_2014[\"CO2 Group\"] == \"Low-Level CO2\"]\n",
    "population1.Birthrate_2014.mean()"
   ]
  },
  {
   "cell_type": "code",
   "execution_count": 88,
   "metadata": {},
   "outputs": [
    {
     "data": {
      "text/plain": [
       "2.0633333333333335"
      ]
     },
     "execution_count": 88,
     "metadata": {},
     "output_type": "execute_result"
    }
   ],
   "source": [
    "# calculate the 'population' mean for birthrate in mid co2 group (year 2014)\n",
    "population2 = df_2014[df_2014[\"CO2 Group\"] == \"Mid-Level CO2\"]\n",
    "population2.Birthrate_2014.mean()"
   ]
  },
  {
   "cell_type": "code",
   "execution_count": 89,
   "metadata": {},
   "outputs": [
    {
     "data": {
      "text/plain": [
       "1.865"
      ]
     },
     "execution_count": 89,
     "metadata": {},
     "output_type": "execute_result"
    }
   ],
   "source": [
    "# calculate the 'population' mean for birthrate in mid co2 group (year 2014)\n",
    "population3 = df_2014[df_2014[\"CO2 Group\"] == \"High-Level CO2\"]\n",
    "population3.Birthrate_2014.mean()"
   ]
  },
  {
   "cell_type": "code",
   "execution_count": 90,
   "metadata": {},
   "outputs": [
    {
     "data": {
      "text/plain": [
       "Ttest_indResult(statistic=4.989941926331347, pvalue=5.780655003320307e-05)"
      ]
     },
     "execution_count": 90,
     "metadata": {},
     "output_type": "execute_result"
    }
   ],
   "source": [
    "# calculate independent (two sample) t-test, low v mid (2014)\n",
    "stats.ttest_ind(population1.Birthrate_2014, population2.Birthrate_2014, equal_var=False)"
   ]
  },
  {
   "cell_type": "code",
   "execution_count": 91,
   "metadata": {},
   "outputs": [
    {
     "data": {
      "text/plain": [
       "Ttest_indResult(statistic=7.683406230953071, pvalue=0.0001383794422842055)"
      ]
     },
     "execution_count": 91,
     "metadata": {},
     "output_type": "execute_result"
    }
   ],
   "source": [
    "# calculate independent (two sample) t-test, low v high (2014)\n",
    "stats.ttest_ind(population1.Birthrate_2014, population3.Birthrate_2014, equal_var=False)"
   ]
  },
  {
   "cell_type": "code",
   "execution_count": 92,
   "metadata": {},
   "outputs": [
    {
     "data": {
      "text/plain": [
       "Ttest_indResult(statistic=1.2501407050264302, pvalue=0.25224938444185263)"
      ]
     },
     "execution_count": 92,
     "metadata": {},
     "output_type": "execute_result"
    }
   ],
   "source": [
    "# calculate independent (two sample) t-test, mid v high (2014)\n",
    "stats.ttest_ind(population2.Birthrate_2014, population3.Birthrate_2014, equal_var=False)"
   ]
  },
  {
   "cell_type": "markdown",
   "metadata": {},
   "source": [
    "**ANALYSIS:**  The anova test performed on the 2014 data set resulted in a failure to reject the null hypothesis. While this isn't statistically significant, we did find statistical significance when performing independent t-tests on both low v mid co2 groups and low v high co2 groups."
   ]
  },
  {
   "cell_type": "code",
   "execution_count": null,
   "metadata": {},
   "outputs": [],
   "source": []
  },
  {
   "cell_type": "code",
   "execution_count": 38,
   "metadata": {},
   "outputs": [],
   "source": [
    "#Vallie's code ends here"
   ]
  }
 ],
 "metadata": {
  "kernelspec": {
   "display_name": "Python 3",
   "language": "python",
   "name": "python3"
  },
  "language_info": {
   "codemirror_mode": {
    "name": "ipython",
    "version": 3
   },
   "file_extension": ".py",
   "mimetype": "text/x-python",
   "name": "python",
   "nbconvert_exporter": "python",
   "pygments_lexer": "ipython3",
   "version": "3.7.4"
  }
 },
 "nbformat": 4,
 "nbformat_minor": 2
}
