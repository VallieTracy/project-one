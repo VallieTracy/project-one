{
 "cells": [
  {
   "cell_type": "code",
   "execution_count": null,
   "metadata": {},
   "outputs": [],
   "source": [
    "import warnings\n",
    "warnings.filterwarnings('ignore')"
   ]
  },
  {
   "cell_type": "code",
   "execution_count": null,
   "metadata": {},
   "outputs": [],
   "source": [
    "#import dependencies\n",
    "import matplotlib.pyplot as plt\n",
    "import pandas as pd\n",
    "import numpy as np\n",
    "import requests\n",
    "import time\n",
    "import os\n",
    "from scipy.stats import linregress\n",
    "from scipy import stats\n",
    "import scipy.stats as stats\n",
    "%matplotlib inline"
   ]
  },
  {
   "cell_type": "code",
   "execution_count": null,
   "metadata": {},
   "outputs": [],
   "source": [
    "#Bernt's code starts here"
   ]
  },
  {
   "cell_type": "code",
   "execution_count": null,
   "metadata": {},
   "outputs": [],
   "source": [
    "# Importing necessary dataframes\n",
    "\n",
    "birthrate_csv = \"../project-one/Resources/children_per_woman_total_fertility.csv\"\n",
    "birthrate_df = pd.read_csv(birthrate_csv)\n",
    "birthrate_df.head()"
   ]
  },
  {
   "cell_type": "code",
   "execution_count": null,
   "metadata": {},
   "outputs": [],
   "source": [
    "co2_csv = \"../project-one/Resources/co2_emissions_tonnes_per_person.csv\"\n",
    "co2_df = pd.read_csv(co2_csv)\n",
    "co2_df.head()"
   ]
  },
  {
   "cell_type": "code",
   "execution_count": null,
   "metadata": {},
   "outputs": [],
   "source": [
    "income_csv = \"../project-one/Resources/income_per_person_gdppercapita_ppp_inflation_adjusted.csv\"\n",
    "income_df = pd.read_csv(income_csv)\n",
    "income_df.head()"
   ]
  },
  {
   "cell_type": "code",
   "execution_count": null,
   "metadata": {},
   "outputs": [],
   "source": [
    "population_csv = \"../project-one/Resources/population_total.csv\"\n",
    "population_df = pd.read_csv(population_csv)\n",
    "population_df.head()"
   ]
  },
  {
   "cell_type": "code",
   "execution_count": null,
   "metadata": {},
   "outputs": [],
   "source": [
    "#Bernt's code ends here"
   ]
  },
  {
   "cell_type": "code",
   "execution_count": null,
   "metadata": {},
   "outputs": [],
   "source": [
    "#Molly's code starts here"
   ]
  },
  {
   "cell_type": "code",
   "execution_count": null,
   "metadata": {},
   "outputs": [],
   "source": [
    "# reshape the income dataframe to show every Country|Year with the income for that year (using group by looked nice but didn't cut it) \n",
    "df_meltInc =income_df.melt(id_vars=['country'], var_name='year', value_name='income')\n",
    "df_meltInc = df_meltInc.dropna()\n",
    "df_meltInc"
   ]
  },
  {
   "cell_type": "code",
   "execution_count": null,
   "metadata": {},
   "outputs": [],
   "source": [
    "# take the reshaped income values and create a new data element that combines country and year\n",
    "cols = ['country', 'year']\n",
    "df_meltInc['combined'] = df_meltInc[cols].apply(lambda row: ' '.join(row.values.astype(str)), axis=1)\n",
    "df_meltInc"
   ]
  },
  {
   "cell_type": "code",
   "execution_count": null,
   "metadata": {},
   "outputs": [],
   "source": [
    "# reshape the income dataframe to show every Country|Year with the income for that year (using group by looked nice but didn't cut it) \n",
    "df_meltCO2 =income_df.melt(id_vars=['country'], var_name='year', value_name='co2')\n",
    "df_meltCO2 = df_meltCO2.dropna()\n",
    "df_meltCO2"
   ]
  },
  {
   "cell_type": "code",
   "execution_count": null,
   "metadata": {},
   "outputs": [],
   "source": [
    "# take the reshaped co2 values and create a new data element that combines country and year\n",
    "cols = ['country', 'year']\n",
    "df_meltCO2['combined'] = df_meltInc[cols].apply(lambda row: ' '.join(row.values.astype(str)), axis=1)\n",
    "df_meltCO2"
   ]
  },
  {
   "cell_type": "code",
   "execution_count": null,
   "metadata": {},
   "outputs": [],
   "source": [
    "# merge the reshaped income and co2\n",
    "merge_inc_co2_df = pd.merge(df_meltInc,df_meltCO2, on=\"combined\", how=\"inner\")\n",
    "merge_inc_co2_df = merge_inc_co2_df.drop('country_x', axis=1)\n",
    "merge_inc_co2_df = merge_inc_co2_df.drop('year_x', axis=1)\n",
    "merge_inc_co2_df = merge_inc_co2_df.drop('country_y', axis=1)\n",
    "merge_inc_co2_df = merge_inc_co2_df.drop('year_y', axis=1)\n",
    "merge_inc_co2_df"
   ]
  },
  {
   "cell_type": "code",
   "execution_count": null,
   "metadata": {},
   "outputs": [],
   "source": [
    "# get the log of the income so the span of the plot isn't so wide\n",
    "merge_inc_co2_df['log income'] = np.log10(merge_inc_co2_df['income'])\n",
    "merge_inc_co2_df.head()"
   ]
  },
  {
   "cell_type": "code",
   "execution_count": null,
   "metadata": {},
   "outputs": [],
   "source": [
    "# plot the log of the income and the co2 to see if there was correlation\n",
    "x_axis = merge_inc_co2_df[\"log income\"]\n",
    "y_axis = merge_inc_co2_df[\"co2\"]\n",
    "plt.xlabel(\"Log Income\")\n",
    "plt.ylabel(\"CO2 Emissions\")\n",
    "plt.title(\"Impact of Income on CO2 Emissions 1800 to 2014\")\n",
    "plt.grid(color='grey', linestyle='-', linewidth=0.25, alpha=0.5)\n",
    "plt.scatter(x_axis, y_axis, alpha=0.5, s=10)\n",
    "plt.savefig(os.path.join(\"Images\", \"ImpactIncomeOnCO2.png\"))\n",
    "plt.show()"
   ]
  },
  {
   "cell_type": "code",
   "execution_count": null,
   "metadata": {},
   "outputs": [],
   "source": [
    "print(merge_inc_co2_df['income'].mean())\n",
    "print(merge_inc_co2_df['income'].median())\n",
    "print(merge_inc_co2_df['income'].mode())"
   ]
  },
  {
   "cell_type": "code",
   "execution_count": null,
   "metadata": {},
   "outputs": [],
   "source": [
    "print(merge_inc_co2_df['co2'].mean())\n",
    "print(merge_inc_co2_df['co2'].median())\n",
    "print(merge_inc_co2_df['co2'].mode())"
   ]
  },
  {
   "cell_type": "code",
   "execution_count": null,
   "metadata": {},
   "outputs": [],
   "source": [
    "# Determine if the co2 emissions is normally distributed\n",
    "plt.hist(merge_inc_co2_df['co2'])\n",
    "plt.xlabel('co2')\n",
    "plt.ylabel('Counts')\n",
    "plt.show()\n",
    "print(stats.normaltest(merge_inc_co2_df[\"co2\"].sample(100)))"
   ]
  },
  {
   "cell_type": "code",
   "execution_count": null,
   "metadata": {},
   "outputs": [],
   "source": [
    "# reshape the population dataframe to show every Country|Year with the population for that year (using group by looked nice but didn't cut it) \n",
    "df_meltPop = population_df.melt(id_vars=['country'], var_name='year', value_name='population')\n",
    "df_meltPop = df_meltPop.dropna()\n",
    "df_meltPop"
   ]
  },
  {
   "cell_type": "code",
   "execution_count": null,
   "metadata": {},
   "outputs": [],
   "source": [
    "# take the reshaped population values and create a new data element that combines country and year\n",
    "cols = ['country', 'year']\n",
    "df_meltPop['combined'] = df_meltPop[cols].apply(lambda row: ' '.join(row.values.astype(str)), axis=1)\n",
    "df_meltPop"
   ]
  },
  {
   "cell_type": "code",
   "execution_count": null,
   "metadata": {},
   "outputs": [],
   "source": [
    "# reshape the birthrate dataframe to show every Country|Year with the birthrate for that year (using group \n",
    "# by looked nice but didn't cut it) \n",
    "df_meltBirth = birthrate_df.melt(id_vars=['country'], var_name='year', value_name='birth rate')\n",
    "df_meltBirth = df_meltBirth.dropna()\n",
    "df_meltBirth"
   ]
  },
  {
   "cell_type": "code",
   "execution_count": null,
   "metadata": {},
   "outputs": [],
   "source": [
    "# take the reshaped birth rate values and create a new data element that combines country and year\n",
    "cols = ['country', 'year']\n",
    "df_meltBirth['combined'] = df_meltBirth[cols].apply(lambda row: ' '.join(row.values.astype(str)), axis=1)\n",
    "df_meltBirth"
   ]
  },
  {
   "cell_type": "code",
   "execution_count": null,
   "metadata": {},
   "outputs": [],
   "source": [
    "# merge the reshaped population and birth rate\n",
    "merge_pop_birth_df = pd.merge(df_meltPop,df_meltBirth, on=\"combined\", how=\"inner\")\n",
    "merge_pop_birth_df = merge_pop_birth_df.drop('country_x', axis=1)\n",
    "merge_pop_birth_df = merge_pop_birth_df.drop('year_x', axis=1)\n",
    "merge_pop_birth_df = merge_pop_birth_df.drop('country_y', axis=1)\n",
    "merge_pop_birth_df = merge_pop_birth_df.drop('year_y', axis=1)\n",
    "merge_pop_birth_df"
   ]
  },
  {
   "cell_type": "code",
   "execution_count": null,
   "metadata": {},
   "outputs": [],
   "source": [
    "# merge the income/co2 dataframe to the population/birth rate dataframe\n",
    "merge_all_df = pd.merge(merge_pop_birth_df,merge_inc_co2_df, on=\"combined\", how=\"inner\")\n",
    "merge_all_df"
   ]
  },
  {
   "cell_type": "code",
   "execution_count": null,
   "metadata": {},
   "outputs": [],
   "source": [
    "# plot the birth rate and the population to see if there was correlation\n",
    "x_axis = merge_all_df[\"birth rate\"]\n",
    "y_axis = merge_all_df[\"population\"]\n",
    "plt.xlabel(\"Birth Rate\")\n",
    "plt.ylabel(\"Population\")\n",
    "plt.title(\"Impact of Birth Rate on Population 1800 to 2014\")\n",
    "plt.grid(color='grey', linestyle='-', linewidth=0.25, alpha=0.5)\n",
    "plt.scatter(x_axis, y_axis, alpha=0.5, s=10)\n",
    "plt.savefig(os.path.join(\"Images\",\"ImpactBirthOnPop.png\"))\n",
    "plt.show()"
   ]
  },
  {
   "cell_type": "code",
   "execution_count": null,
   "metadata": {},
   "outputs": [],
   "source": [
    "# merge the reshaped birth rate and co2\n",
    "merge_birth_co2_df = pd.merge(df_meltBirth, df_meltCO2, on=\"combined\", how=\"inner\")\n",
    "merge_birth_co2_df = merge_birth_co2_df.drop('country_x', axis=1)\n",
    "merge_birth_co2_df = merge_birth_co2_df.drop('year_x', axis=1)\n",
    "merge_birth_co2_df = merge_birth_co2_df.drop('country_y', axis=1)\n",
    "merge_birth_co2_df = merge_birth_co2_df.drop('year_y', axis=1)\n",
    "merge_birth_co2_df"
   ]
  },
  {
   "cell_type": "code",
   "execution_count": null,
   "metadata": {},
   "outputs": [],
   "source": [
    "# plot the CO2 and birth rate to see if there was correlation\n",
    "x_values = merge_birth_co2_df[\"co2\"]\n",
    "y_values = merge_birth_co2_df[\"birth rate\"]\n",
    "plt.scatter(x_values, y_values, edgecolors=\"black\")\n",
    "plt.xlabel(\"CO2 Emissions (tons/person)\")\n",
    "plt.ylabel(\"Birthrate (child/woman)\")\n",
    "plt.savefig(os.path.join(\"Images\",\"ImpactBirthOnPop.png\"))\n",
    "plt.title(\"CO2 Emissions v Birthrate (1800 - 2014)\")"
   ]
  },
  {
   "cell_type": "code",
   "execution_count": null,
   "metadata": {},
   "outputs": [],
   "source": [
    "# perform a linear regression on co2 v birthrate \n",
    "(slope, intercept, rvalue, pvalue, stderr) = stats.linregress(x_values, y_values)\n",
    "\n",
    "# get regression values\n",
    "regress_values = x_values * slope + intercept\n",
    "\n",
    "# create line equation string\n",
    "line_eq = \"y = \" + str(round(slope,2)) + \"x +\" + str(round(intercept,2))\n",
    "print(line_eq)"
   ]
  },
  {
   "cell_type": "code",
   "execution_count": null,
   "metadata": {},
   "outputs": [],
   "source": [
    "# create plot (co2 v birthrate)\n",
    "plt.scatter(x_values,y_values,edgecolors=\"black\")\n",
    "plt.plot(x_values,regress_values,\"r-\")\n",
    "\n",
    "# label plot and annotate the line equation\n",
    "plt.xlabel('CO2 Emissions')\n",
    "plt.ylabel('Birthrate')\n",
    "plt.annotate(line_eq,(20,5),fontsize=15,color=\"red\")\n",
    "plt.title(\"CO2 Emissions v Birthrate (1800-2014)\")\n",
    "\n",
    "# Print r square value\n",
    "print(f\"The r-squared is: {rvalue}\")\n",
    "\n",
    "# save plot to images folder\n",
    "plt.savefig(os.path.join(\"Images\",\"allYears_co2_v_birthrate.png\"))\n",
    "\n",
    "# show plot\n",
    "plt.show()"
   ]
  },
  {
   "cell_type": "code",
   "execution_count": null,
   "metadata": {},
   "outputs": [],
   "source": [
    "#Molly's code ends here"
   ]
  },
  {
   "cell_type": "code",
   "execution_count": null,
   "metadata": {},
   "outputs": [],
   "source": [
    "#Kaan's code starts here"
   ]
  },
  {
   "cell_type": "code",
   "execution_count": null,
   "metadata": {},
   "outputs": [],
   "source": [
    "#Kaan's code ends here"
   ]
  },
  {
   "cell_type": "code",
   "execution_count": null,
   "metadata": {},
   "outputs": [],
   "source": [
    "#Vallie's code starts here"
   ]
  },
  {
   "cell_type": "code",
   "execution_count": null,
   "metadata": {},
   "outputs": [],
   "source": [
    "# print out the birthrate df\n",
    "birthrate_df.head()"
   ]
  },
  {
   "cell_type": "code",
   "execution_count": null,
   "metadata": {},
   "outputs": [],
   "source": [
    "# print out the co2 dataframe\n",
    "co2_df.head()"
   ]
  },
  {
   "cell_type": "code",
   "execution_count": null,
   "metadata": {},
   "outputs": [],
   "source": [
    "# merge birthrate and co2 dataframes on country\n",
    "co2_br_merge = pd.merge(co2_df, birthrate_df, on=\"country\")\n",
    "co2_br_merge.head()"
   ]
  },
  {
   "cell_type": "code",
   "execution_count": null,
   "metadata": {},
   "outputs": [],
   "source": [
    "# rename columns\n",
    "co2_br_rename = co2_br_merge.rename(columns={\"country\": \"Country\",\n",
    "                                             \"1974_x\": \"1974 CO2 Emissions\",\n",
    "                                             \"1984_x\": \"1984 CO2 Emissions\",\n",
    "                                             \"1994_x\": \"1994 CO2 Emissions\",\n",
    "                                             \"2004_x\": \"2004 CO2 Emissions\",\n",
    "                                             \"2014_x\": \"2014 CO2 Emissions\",\n",
    "                                             \"1974_y\": \"Birthrate_1974\",\n",
    "                                             \"1984_y\": \"Birthrate_1984\",\n",
    "                                             \"1994_y\": \"Birthrate_1994\",\n",
    "                                             \"2004_y\": \"Birthrate_2004\",\n",
    "                                             \"2014_y\": \"Birthrate_2014\"})\n",
    "\n",
    "# make df with only the columns we want to keep\n",
    "co2_br_df = co2_br_rename[[\"Country\", \"1974 CO2 Emissions\", \"1984 CO2 Emissions\", \"1994 CO2 Emissions\", \"2004 CO2 Emissions\", \"2014 CO2 Emissions\",\n",
    "                           \"Birthrate_1974\", \"Birthrate_1984\", \"Birthrate_1994\", \"Birthrate_2004\", \"Birthrate_2014\"]]\n",
    "co2_br_df.head()"
   ]
  },
  {
   "cell_type": "code",
   "execution_count": null,
   "metadata": {},
   "outputs": [],
   "source": [
    "# create 1974 dataframe, co2 descending order\n",
    "df_1974 = co2_br_df[[\"Country\", \"1974 CO2 Emissions\", \"Birthrate_1974\"]].sort_values(\"1974 CO2 Emissions\", ascending=False).reset_index()\n",
    "df_1974 = df_1974[[\"Country\", \"1974 CO2 Emissions\", \"Birthrate_1974\"]]\n",
    "\n",
    "# drop rows with nan values\n",
    "df_1974 = df_1974.dropna()\n",
    "df_1974"
   ]
  },
  {
   "cell_type": "code",
   "execution_count": null,
   "metadata": {},
   "outputs": [],
   "source": [
    "# run linear regression on co2 v birthrate (year 1974)\n",
    "\n",
    "# first create scatter plot\n",
    "x_values = df_1974[\"1974 CO2 Emissions\"]\n",
    "y_values = df_1974[\"Birthrate_1974\"]\n",
    "plt.scatter(x_values, y_values, edgecolors=\"black\")\n",
    "plt.xlabel(\"CO2 Emissions (tons/person)\")\n",
    "plt.ylabel(\"Birthrate (child/woman)\")\n",
    "plt.title(\"CO2 Emissions v Birthrate (1974)\")"
   ]
  },
  {
   "cell_type": "code",
   "execution_count": null,
   "metadata": {},
   "outputs": [],
   "source": [
    "# perform a linear regression on co2 v birthrate (year 1974)\n",
    "(slope, intercept, rvalue, pvalue, stderr) = stats.linregress(x_values, y_values)\n",
    "\n",
    "# get regression values\n",
    "regress_values = x_values * slope + intercept\n",
    "\n",
    "# create line equation string\n",
    "line_eq = \"y = \" + str(round(slope,2)) + \"x +\" + str(round(intercept,2))\n",
    "print(line_eq)"
   ]
  },
  {
   "cell_type": "code",
   "execution_count": null,
   "metadata": {},
   "outputs": [],
   "source": [
    "# create plot (co2 v birthrate, 1974)\n",
    "plt.scatter(x_values,y_values,edgecolors=\"black\")\n",
    "plt.plot(x_values,regress_values,\"r-\")\n",
    "\n",
    "# label plot and annotate the line equation\n",
    "plt.xlabel('CO2 Emissions')\n",
    "plt.ylabel('Birthrate')\n",
    "plt.annotate(line_eq,(20,5),fontsize=15,color=\"red\")\n",
    "plt.title(\"CO2 Emissions v Birthrate (1974)\")\n",
    "\n",
    "# Print r square value\n",
    "print(f\"The r-squared is: {rvalue}\")\n",
    "\n",
    "# save plot to images folder\n",
    "plt.savefig(os.path.join(\"Images\",\"1974_co2_v_birthrate.png\"))\n",
    "\n",
    "# show plot\n",
    "plt.show()"
   ]
  },
  {
   "cell_type": "code",
   "execution_count": null,
   "metadata": {},
   "outputs": [],
   "source": [
    "# create 1984 dataframe, co2 descending order\n",
    "df_1984 = co2_br_df[[\"Country\", \"1984 CO2 Emissions\", \"Birthrate_1984\"]].sort_values(\"1984 CO2 Emissions\", ascending=False).reset_index()\n",
    "df_1984 = df_1984[[\"Country\", \"1984 CO2 Emissions\", \"Birthrate_1984\"]]\n",
    "\n",
    "# drop rows with nan values\n",
    "df_1984 = df_1984.dropna()\n",
    "df_1984.head()"
   ]
  },
  {
   "cell_type": "code",
   "execution_count": null,
   "metadata": {},
   "outputs": [],
   "source": [
    "# run linear regression on co2 v birthrate (year 1984)\n",
    "\n",
    "# first create scatter plot\n",
    "x_values = df_1984[\"1984 CO2 Emissions\"]\n",
    "y_values = df_1984[\"Birthrate_1984\"]\n",
    "plt.scatter(x_values, y_values, edgecolors=\"black\")\n",
    "plt.xlabel(\"CO2 Emissions (tons/person)\")\n",
    "plt.ylabel(\"Birthrate (child/woman)\")\n",
    "plt.title(\"CO2 Emissions v Birthrate (1984)\")"
   ]
  },
  {
   "cell_type": "code",
   "execution_count": null,
   "metadata": {},
   "outputs": [],
   "source": [
    "# perform a linear regression on co2 v birthrate (year 1984)\n",
    "(slope, intercept, rvalue, pvalue, stderr) = stats.linregress(x_values, y_values)\n",
    "\n",
    "# get regression values\n",
    "regress_values = x_values * slope + intercept\n",
    "\n",
    "# create line equation string\n",
    "line_eq = \"y = \" + str(round(slope,2)) + \"x +\" + str(round(intercept,2))\n",
    "print(line_eq)"
   ]
  },
  {
   "cell_type": "code",
   "execution_count": null,
   "metadata": {},
   "outputs": [],
   "source": [
    "# create plot (co2 v birthrate, 1984)\n",
    "plt.scatter(x_values,y_values,edgecolors=\"black\")\n",
    "plt.plot(x_values,regress_values,\"r-\")\n",
    "\n",
    "# label plot and annotate the line equation\n",
    "plt.xlabel('CO2 Emissions')\n",
    "plt.ylabel('Birthrate')\n",
    "plt.annotate(line_eq,(20,5),fontsize=15,color=\"red\")\n",
    "plt.title(\"CO2 Emissions v Birthrate (1984)\")\n",
    "\n",
    "# Print r square value\n",
    "print(f\"The r-squared is: {rvalue}\")\n",
    "\n",
    "# save plot to images folder\n",
    "plt.savefig(os.path.join(\"Images\",\"1984_co2_v_birthrate.png\"))\n",
    "\n",
    "# show plot\n",
    "plt.show()"
   ]
  },
  {
   "cell_type": "code",
   "execution_count": null,
   "metadata": {},
   "outputs": [],
   "source": [
    "# create 1994 dataframe, co2 descending order\n",
    "df_1994 = co2_br_df[[\"Country\", \"1994 CO2 Emissions\", \"Birthrate_1994\"]].sort_values(\"1994 CO2 Emissions\", ascending=False).reset_index()\n",
    "df_1994 = df_1994[[\"Country\", \"1994 CO2 Emissions\", \"Birthrate_1994\"]]\n",
    "\n",
    "# drop rows with nan values\n",
    "df_1994 = df_1994.dropna()\n",
    "df_1994.head()"
   ]
  },
  {
   "cell_type": "code",
   "execution_count": null,
   "metadata": {},
   "outputs": [],
   "source": [
    "# run linear regression on co2 v birthrate (year 1994)\n",
    "\n",
    "# first create scatter plot\n",
    "x_values = df_1994[\"1994 CO2 Emissions\"]\n",
    "y_values = df_1994[\"Birthrate_1994\"]\n",
    "plt.scatter(x_values, y_values, edgecolors=\"black\")\n",
    "plt.xlabel(\"CO2 Emissions (tons/person)\")\n",
    "plt.ylabel(\"Birthrate (child/woman)\")\n",
    "plt.title(\"CO2 Emissions v Birthrate (1994)\")"
   ]
  },
  {
   "cell_type": "code",
   "execution_count": null,
   "metadata": {},
   "outputs": [],
   "source": [
    "# perform a linear regression on co2 v birthrate (year 1994)\n",
    "(slope, intercept, rvalue, pvalue, stderr) = stats.linregress(x_values, y_values)\n",
    "\n",
    "# get regression values\n",
    "regress_values = x_values * slope + intercept\n",
    "\n",
    "# create line equation string\n",
    "line_eq = \"y = \" + str(round(slope,2)) + \"x +\" + str(round(intercept,2))\n",
    "print(line_eq)"
   ]
  },
  {
   "cell_type": "code",
   "execution_count": null,
   "metadata": {},
   "outputs": [],
   "source": [
    "# create plot (co2 v birthrate, 1994)\n",
    "plt.scatter(x_values,y_values,edgecolors=\"black\")\n",
    "plt.plot(x_values,regress_values,\"r-\")\n",
    "\n",
    "# label plot and annotate the line equation\n",
    "plt.xlabel(\"CO2 Emissions\")\n",
    "plt.ylabel(\"Birthrate\")\n",
    "plt.annotate(line_eq,(20,5),fontsize=15,color=\"red\")\n",
    "plt.title(\"CO2 Emissions v Birthrate (1994)\")\n",
    "\n",
    "# Print r square value\n",
    "print(f\"The r-squared is: {rvalue}\")\n",
    "\n",
    "# save plot to images folder\n",
    "plt.savefig(os.path.join(\"Images\",\"1994_co2_v_birthrate.png\"))\n",
    "\n",
    "# show plot\n",
    "plt.show()"
   ]
  },
  {
   "cell_type": "code",
   "execution_count": null,
   "metadata": {},
   "outputs": [],
   "source": [
    "# create 2004 dataframe, co2 descending order\n",
    "df_2004 = co2_br_df[[\"Country\", \"2004 CO2 Emissions\", \"Birthrate_2004\"]].sort_values(\"2004 CO2 Emissions\", ascending=False).reset_index()\n",
    "df_2004 = df_2004[[\"Country\", \"2004 CO2 Emissions\", \"Birthrate_2004\"]]\n",
    "\n",
    "# drop rows with nan values\n",
    "df_2004 = df_2004.dropna()\n",
    "df_2004.head()"
   ]
  },
  {
   "cell_type": "code",
   "execution_count": null,
   "metadata": {},
   "outputs": [],
   "source": [
    "# run linear regression on co2 v birthrate (year 2004)\n",
    "\n",
    "# first create scatter plot\n",
    "x_values = df_2004[\"2004 CO2 Emissions\"]\n",
    "y_values = df_2004[\"Birthrate_2004\"]\n",
    "plt.scatter(x_values, y_values, edgecolors=\"black\")\n",
    "plt.xlabel(\"CO2 Emissions (tons/person)\")\n",
    "plt.ylabel(\"Birthrate (child/woman)\")\n",
    "plt.title(\"CO2 Emissions v Birthrate (2004)\")"
   ]
  },
  {
   "cell_type": "code",
   "execution_count": null,
   "metadata": {},
   "outputs": [],
   "source": [
    "# perform a linear regression on co2 v birthrate (year 2004)\n",
    "(slope, intercept, rvalue, pvalue, stderr) = stats.linregress(x_values, y_values)\n",
    "\n",
    "# get regression values\n",
    "regress_values = x_values * slope + intercept\n",
    "\n",
    "# create line equation string\n",
    "line_eq = \"y = \" + str(round(slope,2)) + \"x +\" + str(round(intercept,2))\n",
    "print(line_eq)"
   ]
  },
  {
   "cell_type": "code",
   "execution_count": null,
   "metadata": {},
   "outputs": [],
   "source": [
    "# create plot (co2 v birthrate, 2004)\n",
    "plt.scatter(x_values,y_values,edgecolors=\"black\")\n",
    "plt.plot(x_values,regress_values,\"r-\")\n",
    "\n",
    "# label plot and annotate the line equation\n",
    "plt.xlabel('CO2 Emissions')\n",
    "plt.ylabel('Birthrate')\n",
    "plt.annotate(line_eq,(20,5),fontsize=15,color=\"red\")\n",
    "plt.title(\"CO2 Emissions v Birthrate (2004)\")\n",
    "\n",
    "# Print r square value\n",
    "print(f\"The r-squared is: {rvalue}\")\n",
    "\n",
    "# save plot to images folder\n",
    "plt.savefig(os.path.join(\"Images\",\"2004_co2_v_birthrate.png\"))\n",
    "\n",
    "# show plot\n",
    "plt.show()"
   ]
  },
  {
   "cell_type": "code",
   "execution_count": null,
   "metadata": {},
   "outputs": [],
   "source": [
    "# create 2014 dataframe, co2 descending order\n",
    "df_2014 = co2_br_df[[\"Country\", \"2014 CO2 Emissions\", \"Birthrate_2014\"]].sort_values(\"2014 CO2 Emissions\", ascending=False).reset_index()\n",
    "df_2014 = df_2014[[\"Country\", \"2014 CO2 Emissions\", \"Birthrate_2014\"]]\n",
    "\n",
    "# drop rows with nan values\n",
    "df_2014 = df_2014.dropna()\n",
    "df_2014.head()"
   ]
  },
  {
   "cell_type": "code",
   "execution_count": null,
   "metadata": {},
   "outputs": [],
   "source": [
    "# run linear regression on co2 v birthrate (year 2014)\n",
    "\n",
    "# first create scatter plot\n",
    "x_values = df_2014[\"2014 CO2 Emissions\"]\n",
    "y_values = df_2014[\"Birthrate_2014\"]\n",
    "plt.scatter(x_values, y_values, edgecolors=\"black\")\n",
    "plt.xlabel(\"CO2 Emissions (tons/person)\")\n",
    "plt.ylabel(\"Birthrate (child/woman)\")\n",
    "plt.title(\"CO2 Emissions v Birthrate (2014)\")"
   ]
  },
  {
   "cell_type": "code",
   "execution_count": null,
   "metadata": {},
   "outputs": [],
   "source": [
    "# perform a linear regression on co2 v birthrate (year 2014)\n",
    "(slope, intercept, rvalue, pvalue, stderr) = stats.linregress(x_values, y_values)\n",
    "\n",
    "# get regression values\n",
    "regress_values = x_values * slope + intercept\n",
    "\n",
    "# create line equation string\n",
    "line_eq = \"y = \" + str(round(slope,2)) + \"x +\" + str(round(intercept,2))\n",
    "print(line_eq)"
   ]
  },
  {
   "cell_type": "code",
   "execution_count": null,
   "metadata": {},
   "outputs": [],
   "source": [
    "# create plot (co2 v birthrate, 2014)\n",
    "plt.scatter(x_values,y_values,edgecolors=\"black\")\n",
    "plt.plot(x_values,regress_values,\"r-\")\n",
    "\n",
    "# label plot and annotate the line equation\n",
    "plt.xlabel('CO2 Emissions')\n",
    "plt.ylabel('Birthrate')\n",
    "plt.annotate(line_eq,(20,5),fontsize=15,color=\"red\")\n",
    "plt.title(\"CO2 Emissions v Birthrate (2014)\")\n",
    "\n",
    "# Print r square value\n",
    "print(f\"The r-squared is: {rvalue}\")\n",
    "\n",
    "# save plot to images folder\n",
    "plt.savefig(os.path.join(\"Images\",\"2014_co2_v_birthrate.png\"))\n",
    "\n",
    "# show plot\n",
    "plt.show()"
   ]
  },
  {
   "cell_type": "markdown",
   "metadata": {},
   "source": [
    "**ANALYSIS:**   Based off of linear regression alone, there doesn't appear to be a statistically significant correlation between co2 and birthrate, over any of the years Kaan and I looked at. Could it be of significance that 4 of the 5 years I tested had an r-value that fell within a .058 window of each other? 1974 was the farthest away from the rest, with an r-value of -.28, classified as a weak correlation (the rest fell under a 'moderate' correlation)."
   ]
  },
  {
   "cell_type": "code",
   "execution_count": null,
   "metadata": {},
   "outputs": [],
   "source": [
    "# running anova and independent t-tests (1974 co2 v birthrate)\n",
    "\n",
    "# create bins to place the carbon emissions\n",
    "bins = [0, 22.72, 45.46, 69]\n",
    "\n",
    "# create labels for the bins\n",
    "group_labels = [\"Low-Level CO2\", \"Mid-Level CO2\", \"High-Level CO2\"]\n",
    "\n",
    "# slice the data and place it into bins\n",
    "pd.cut(df_1974[\"1974 CO2 Emissions\"], bins, labels=group_labels)\n",
    "\n",
    "# place the data series into a new column inside of the dataframe\n",
    "df_1974[\"CO2 Group\"] = pd.cut(df_1974[\"1974 CO2 Emissions\"], bins, labels=group_labels)\n",
    "df_1974.head()"
   ]
  },
  {
   "cell_type": "code",
   "execution_count": null,
   "metadata": {},
   "outputs": [],
   "source": [
    "# anova (co2 v birthrate, 1974)\n",
    "\n",
    "# create a boxplot to compare means\n",
    "df_1974.boxplot(\"Birthrate_1974\", by=\"CO2 Group\", figsize=(20, 10))"
   ]
  },
  {
   "cell_type": "code",
   "execution_count": null,
   "metadata": {},
   "outputs": [],
   "source": [
    "# extract individual groups\n",
    "group1 = df_1974[df_1974[\"CO2 Group\"] == \"Low-Level CO2\"][\"Birthrate_1974\"]\n",
    "group2 = df_1974[df_1974[\"CO2 Group\"] == \"Mid-Level CO2\"][\"Birthrate_1974\"]\n",
    "group3 = df_1974[df_1974[\"CO2 Group\"] == \"High-Level CO2\"][\"Birthrate_1974\"]\n",
    "\n",
    "# perform the anova\n",
    "stats.f_oneway(group1, group2, group3)"
   ]
  },
  {
   "cell_type": "code",
   "execution_count": null,
   "metadata": {},
   "outputs": [],
   "source": [
    "# independent t-test\n",
    "\n",
    "# calculate the 'population' mean for birthrate in lowest co2 group (year 1974)\n",
    "population1 = df_1974[df_1974[\"CO2 Group\"] == \"Low-Level CO2\"]\n",
    "population1.Birthrate_1974.mean()"
   ]
  },
  {
   "cell_type": "code",
   "execution_count": null,
   "metadata": {},
   "outputs": [],
   "source": [
    "# calculate the 'population' mean for birthrate in mid co2 group (year 1974)\n",
    "population2 = df_1974[df_1974[\"CO2 Group\"] == \"Mid-Level CO2\"]\n",
    "population2.Birthrate_1974.mean()"
   ]
  },
  {
   "cell_type": "code",
   "execution_count": null,
   "metadata": {},
   "outputs": [],
   "source": [
    "# calculate the 'population' mean for birthrate in highest co2 group (year 1974)\n",
    "population3 = df_1974[df_1974[\"CO2 Group\"] == \"High-Level CO2\"]\n",
    "population3.Birthrate_1974.mean()"
   ]
  },
  {
   "cell_type": "code",
   "execution_count": null,
   "metadata": {},
   "outputs": [],
   "source": [
    "# calculate independent t-test, low v mid (1974)\n",
    "stats.ttest_ind(population1.Birthrate_1974, population2.Birthrate_1974, equal_var=False)"
   ]
  },
  {
   "cell_type": "code",
   "execution_count": null,
   "metadata": {},
   "outputs": [],
   "source": [
    "# calculate independent (two sample) t-test, low v high (1974)\n",
    "stats.ttest_ind(population1.Birthrate_1974, population3.Birthrate_1974, equal_var=False)"
   ]
  },
  {
   "cell_type": "code",
   "execution_count": null,
   "metadata": {},
   "outputs": [],
   "source": [
    "# calculate independent (two sample) t-test, mid v high (1974)\n",
    "stats.ttest_ind(population2.Birthrate_1974, population3.Birthrate_1974, equal_var=False)"
   ]
  },
  {
   "cell_type": "markdown",
   "metadata": {},
   "source": [
    "**ANALYSIS:** Looking at 1974, we fail to reject the null hypothesis that all three co2 level groups have the same mean birthrate. But when comparing the groups to one another, we found that there could be statistically significant data in the low v high comparison."
   ]
  },
  {
   "cell_type": "code",
   "execution_count": null,
   "metadata": {},
   "outputs": [],
   "source": [
    "# running anova and independent t-tests (1984 co2 v birthrate)\n",
    "\n",
    "# create bins to place the carbon emissions\n",
    "bins = [0, 12.06, 24.08, 36.2]\n",
    "\n",
    "# create labels for the bins\n",
    "group_labels = [\"Low-Level CO2\", \"Mid-Level CO2\", \"High-Level CO2\"]\n",
    "\n",
    "# slice the data and place it into bins\n",
    "pd.cut(df_1984[\"1984 CO2 Emissions\"], bins, labels=group_labels)\n",
    "\n",
    "# place the data series into a new column inside of the DataFrame\n",
    "df_1984[\"CO2 Group\"] = pd.cut(df_1984[\"1984 CO2 Emissions\"], bins, labels=group_labels)\n",
    "df_1984.head()"
   ]
  },
  {
   "cell_type": "code",
   "execution_count": null,
   "metadata": {},
   "outputs": [],
   "source": [
    "# anova (co2 v birthrate, 1984)\n",
    "\n",
    "# create a boxplot to compare means\n",
    "df_1984.boxplot(\"Birthrate_1984\", by=\"CO2 Group\", figsize=(20, 10))"
   ]
  },
  {
   "cell_type": "code",
   "execution_count": null,
   "metadata": {},
   "outputs": [],
   "source": [
    "# extract individual groups\n",
    "group1 = df_1984[df_1984[\"CO2 Group\"] == \"Low-Level CO2\"][\"Birthrate_1984\"]\n",
    "group2 = df_1984[df_1984[\"CO2 Group\"] == \"Mid-Level CO2\"][\"Birthrate_1984\"]\n",
    "group3 = df_1984[df_1984[\"CO2 Group\"] == \"High-Level CO2\"][\"Birthrate_1984\"]\n",
    "\n",
    "# perform the anova\n",
    "stats.f_oneway(group1, group2, group3)"
   ]
  },
  {
   "cell_type": "code",
   "execution_count": null,
   "metadata": {},
   "outputs": [],
   "source": [
    "# independent t-test\n",
    "\n",
    "# calculate the 'population' mean for birthrate in lowest co2 group (year 1984)\n",
    "population1 = df_1984[df_1984[\"CO2 Group\"] == \"Low-Level CO2\"]\n",
    "population1.Birthrate_1984.mean()"
   ]
  },
  {
   "cell_type": "code",
   "execution_count": null,
   "metadata": {},
   "outputs": [],
   "source": [
    "# calculate the 'population' mean for birthrate in mid co2 group (year 1984)\n",
    "population2 = df_1984[df_1984[\"CO2 Group\"] == \"Mid-Level CO2\"]\n",
    "population2.Birthrate_1984.mean()"
   ]
  },
  {
   "cell_type": "code",
   "execution_count": null,
   "metadata": {},
   "outputs": [],
   "source": [
    "# calculate the 'population' mean for birthrate in highest co2 group (year 1984)\n",
    "population3 = df_1984[df_1984[\"CO2 Group\"] == \"High-Level CO2\"]\n",
    "population3.Birthrate_1984.mean()"
   ]
  },
  {
   "cell_type": "code",
   "execution_count": null,
   "metadata": {},
   "outputs": [],
   "source": [
    "#calculate independent (two sample) t-test, low v mid (1984)\n",
    "stats.ttest_ind(population1.Birthrate_1984, population2.Birthrate_1984, equal_var=False)"
   ]
  },
  {
   "cell_type": "code",
   "execution_count": null,
   "metadata": {},
   "outputs": [],
   "source": [
    "#calculate independent (two sample) t-test, low v high (1984)\n",
    "stats.ttest_ind(population1.Birthrate_1984, population3.Birthrate_1984, equal_var=False)"
   ]
  },
  {
   "cell_type": "code",
   "execution_count": null,
   "metadata": {},
   "outputs": [],
   "source": [
    "# calculate independent (two sample) t-test, mid v high (1984)\n",
    "stats.ttest_ind(population2.Birthrate_1984, population3.Birthrate_1984, equal_var=False)"
   ]
  },
  {
   "cell_type": "markdown",
   "metadata": {},
   "source": [
    "**ANALYSIS:** The 1984 anova test has a statistically significant p-value of 0.0002, meaning we reject the null hypothesis. When comparing the three co2 groups against one another, low level versus mid level is the only comparison where we also rejected the null hypothesis. Not being well-versed in statistics, could it be worthwhile to further explore why the anova test rejected the null hypothesis but the t-test only rejected the null hypothesis on 1 out of the 3 comparisons?"
   ]
  },
  {
   "cell_type": "code",
   "execution_count": null,
   "metadata": {},
   "outputs": [],
   "source": [
    "# running anova and independent t-tests (1994 co2 v birthrate)\n",
    "\n",
    "# create bins to place the carbon emissions\n",
    "# changed bins to pull out singleton high level co2\n",
    "bins = [0, 10.47, 20.94, 31.5]\n",
    "\n",
    "# create labels for the bins\n",
    "group_labels = [\"Low-Level CO2\", \"Mid-Level CO2\", \"High-Level CO2\"]\n",
    "\n",
    "# slice the data and place it into bins\n",
    "pd.cut(df_1994[\"1994 CO2 Emissions\"], bins, labels=group_labels)\n",
    "\n",
    "#place the data series into a new column inside of the DataFrame\n",
    "df_1994[\"CO2 Group\"] = pd.cut(df_1994[\"1994 CO2 Emissions\"], bins, labels=group_labels)\n",
    "df_1994.head()"
   ]
  },
  {
   "cell_type": "code",
   "execution_count": null,
   "metadata": {},
   "outputs": [],
   "source": [
    "# anova (co2 v birthrate, 1994)\n",
    "\n",
    "# create a boxplot to compare means\n",
    "df_1994.boxplot(\"Birthrate_1994\", by=\"CO2 Group\", figsize=(20, 10))"
   ]
  },
  {
   "cell_type": "code",
   "execution_count": null,
   "metadata": {},
   "outputs": [],
   "source": [
    "# extract individual groups\n",
    "group1 = df_1994[df_1994[\"CO2 Group\"] == \"Low-Level CO2\"][\"Birthrate_1994\"]\n",
    "group2 = df_1994[df_1994[\"CO2 Group\"] == \"Mid-Level CO2\"][\"Birthrate_1994\"]\n",
    "group3 = df_1994[df_1994[\"CO2 Group\"] == \"High-Level CO2\"][\"Birthrate_1994\"]\n",
    "\n",
    "# perform the anova\n",
    "stats.f_oneway(group1, group2, group3)"
   ]
  },
  {
   "cell_type": "code",
   "execution_count": null,
   "metadata": {},
   "outputs": [],
   "source": [
    "# independent t-test\n",
    "\n",
    "# calculate the 'population' mean for birthrate in lowest co2 group (year 1994)\n",
    "population1 = df_1994[df_1994[\"CO2 Group\"] == \"Low-Level CO2\"]\n",
    "population1.Birthrate_1994.mean()"
   ]
  },
  {
   "cell_type": "code",
   "execution_count": null,
   "metadata": {},
   "outputs": [],
   "source": [
    "# calculate the 'population' mean for birthrate in mid co2 group (year 1994)\n",
    "population2 = df_1994[df_1994[\"CO2 Group\"] == \"Mid-Level CO2\"]\n",
    "population2.Birthrate_1994.mean()"
   ]
  },
  {
   "cell_type": "code",
   "execution_count": null,
   "metadata": {},
   "outputs": [],
   "source": [
    "# calculate the 'population' mean for birthrate in highest co2 group (year 1994)\n",
    "population3 = df_1994[df_1994[\"CO2 Group\"] == \"High-Level CO2\"]\n",
    "population3.Birthrate_1994.mean()"
   ]
  },
  {
   "cell_type": "code",
   "execution_count": null,
   "metadata": {},
   "outputs": [],
   "source": [
    "# calculate independent (two sample) t-test, low v mid (1994)\n",
    "stats.ttest_ind(population1.Birthrate_1994, population2.Birthrate_1994, equal_var=False)"
   ]
  },
  {
   "cell_type": "code",
   "execution_count": null,
   "metadata": {},
   "outputs": [],
   "source": [
    "# calculate independent (two sample) t-test, low v high (1994)\n",
    "stats.ttest_ind(population1.Birthrate_1994, population3.Birthrate_1994, equal_var=False)"
   ]
  },
  {
   "cell_type": "code",
   "execution_count": null,
   "metadata": {},
   "outputs": [],
   "source": [
    "# calculate independent (two sample) t-test, mid v high (1994)\n",
    "stats.ttest_ind(population2.Birthrate_1994, population3.Birthrate_1994, equal_var=False)"
   ]
  },
  {
   "cell_type": "markdown",
   "metadata": {},
   "source": [
    "**ANALYSIS:** Similar to 1984, we reject the null hypothesis that the three co2 groups have the same birthrate means. This is a statistically significant result. And running the independent t-test, we found one p-value under .05, looking at the low versus mid co2 groups.\n",
    "\n",
    "*Important to note:* We pulled out a singleton high-level co2 value from the 1994 data. Is it worth exploring further, maybe breaking the data into smaller subsets, or running different statistical tests?"
   ]
  },
  {
   "cell_type": "code",
   "execution_count": null,
   "metadata": {},
   "outputs": [],
   "source": [
    "# running anova and independent t-tests (2004 co2 v birthrate)\n",
    "\n",
    "# create bins to place the carbon emissions\n",
    "# change bins in order to pull out singleton high level co2\n",
    "bins = [0, 9.43, 18.87, 28.9]\n",
    "\n",
    "# create labels for the bins\n",
    "group_labels = [\"Low-Level CO2\", \"Mid-Level CO2\", \"High-Level CO2\"]\n",
    "\n",
    "# slice the data and place it into bins\n",
    "pd.cut(df_2004[\"2004 CO2 Emissions\"], bins, labels=group_labels)\n",
    "\n",
    "# place the data series into a new column inside of the DataFrame\n",
    "df_2004[\"CO2 Group\"] = pd.cut(df_2004[\"2004 CO2 Emissions\"], bins, labels=group_labels)\n",
    "df_2004.head()"
   ]
  },
  {
   "cell_type": "code",
   "execution_count": null,
   "metadata": {},
   "outputs": [],
   "source": [
    "# anova (co2 v birthrate, 2004)\n",
    "\n",
    "# create a boxplot to compare means\n",
    "df_2004.boxplot(\"Birthrate_2004\", by=\"CO2 Group\", figsize=(20, 10))"
   ]
  },
  {
   "cell_type": "code",
   "execution_count": null,
   "metadata": {},
   "outputs": [],
   "source": [
    "# extract individual groups\n",
    "group1 = df_2004[df_2004[\"CO2 Group\"] == \"Low-Level CO2\"][\"Birthrate_2004\"]\n",
    "group2 = df_2004[df_2004[\"CO2 Group\"] == \"Mid-Level CO2\"][\"Birthrate_2004\"]\n",
    "group3 = df_2004[df_2004[\"CO2 Group\"] == \"High-Level CO2\"][\"Birthrate_2004\"]\n",
    "\n",
    "# perform the anova\n",
    "stats.f_oneway(group1, group2, group3)"
   ]
  },
  {
   "cell_type": "code",
   "execution_count": null,
   "metadata": {},
   "outputs": [],
   "source": [
    "# independent t-test\n",
    "\n",
    "# calculate the 'population' mean for birthrate in lowest co2 group (year 2004)\n",
    "population1 = df_2004[df_2004[\"CO2 Group\"] == \"Low-Level CO2\"]\n",
    "population1.Birthrate_2004.mean()"
   ]
  },
  {
   "cell_type": "code",
   "execution_count": null,
   "metadata": {},
   "outputs": [],
   "source": [
    "# calculate the 'population' mean for birthrate in mid co2 group (year 2004)\n",
    "population2 = df_2004[df_2004[\"CO2 Group\"] == \"Mid-Level CO2\"]\n",
    "population2.Birthrate_2004.mean()"
   ]
  },
  {
   "cell_type": "code",
   "execution_count": null,
   "metadata": {},
   "outputs": [],
   "source": [
    "# calculate the 'population' mean for birthrate in highest co2 group (year 2004)\n",
    "population3 = df_2004[df_2004[\"CO2 Group\"] == \"High-Level CO2\"]\n",
    "population3.Birthrate_2004.mean()"
   ]
  },
  {
   "cell_type": "code",
   "execution_count": null,
   "metadata": {},
   "outputs": [],
   "source": [
    "# calculate independent (two sample) t-test, low v mid (2004)\n",
    "stats.ttest_ind(population1.Birthrate_2004, population2.Birthrate_2004, equal_var=False)"
   ]
  },
  {
   "cell_type": "code",
   "execution_count": null,
   "metadata": {},
   "outputs": [],
   "source": [
    "# calculate independent (two sample) t-test, low v high (2004)\n",
    "stats.ttest_ind(population1.Birthrate_2004, population3.Birthrate_2004, equal_var=False)"
   ]
  },
  {
   "cell_type": "code",
   "execution_count": null,
   "metadata": {},
   "outputs": [],
   "source": [
    "# calculate independent (two sample) t-test, mid v high (2004)\n",
    "stats.ttest_ind(population2.Birthrate_2004, population3.Birthrate_2004, equal_var=False)"
   ]
  },
  {
   "cell_type": "markdown",
   "metadata": {},
   "source": [
    "**ANALYSIS:** In line with 1984 and 1994, the anova produced a rejection of the null hypothesis. And then testing the groups against one another, we also reject the null hypothesis as it pertains to the low v mid co2 group and low v high co2 group.\n",
    "\n",
    "*Important to note:* Similar to 1994, we pulled out a singleton high-level co2 datapoint."
   ]
  },
  {
   "cell_type": "code",
   "execution_count": null,
   "metadata": {},
   "outputs": [],
   "source": [
    "# running anova and independent t-tests (2014 co2 v birthrate)\n",
    "\n",
    "# create bins to place the carbon emissions\n",
    "bins = [0, 15.13, 30.26, 45.5]\n",
    "\n",
    "# create labels for the bins\n",
    "group_labels = [\"Low-Level CO2\", \"Mid-Level CO2\", \"High-Level CO2\"]\n",
    "\n",
    "# slice the data and place it into bins\n",
    "pd.cut(df_2014[\"2014 CO2 Emissions\"], bins, labels=group_labels)\n",
    "\n",
    "# place the data series into a new column inside of the DataFrame\n",
    "df_2014[\"CO2 Group\"] = pd.cut(df_2014[\"2014 CO2 Emissions\"], bins, labels=group_labels)\n",
    "df_2014.head()"
   ]
  },
  {
   "cell_type": "code",
   "execution_count": null,
   "metadata": {},
   "outputs": [],
   "source": [
    "# anova (co2 v birthrate, 2014)\n",
    "\n",
    "# create a boxplot to compare means\n",
    "df_2014.boxplot(\"Birthrate_2014\", by=\"CO2 Group\", figsize=(20, 10))"
   ]
  },
  {
   "cell_type": "code",
   "execution_count": null,
   "metadata": {},
   "outputs": [],
   "source": [
    "# extract individual groups\n",
    "group1 = df_2014[df_2014[\"CO2 Group\"] == \"Low-Level CO2\"][\"Birthrate_2014\"]\n",
    "group2 = df_2014[df_2014[\"CO2 Group\"] == \"Mid-Level CO2\"][\"Birthrate_2014\"]\n",
    "group3 = df_2014[df_2014[\"CO2 Group\"] == \"High-Level CO2\"][\"Birthrate_2014\"]\n",
    "\n",
    "# perform the anova\n",
    "stats.f_oneway(group1, group2, group3)"
   ]
  },
  {
   "cell_type": "code",
   "execution_count": null,
   "metadata": {},
   "outputs": [],
   "source": [
    "# independent t-test\n",
    "\n",
    "# calculate the 'population' mean for birthrate in lowest co2 group (year 2014)\n",
    "population1 = df_2014[df_2014[\"CO2 Group\"] == \"Low-Level CO2\"]\n",
    "population1.Birthrate_2014.mean()"
   ]
  },
  {
   "cell_type": "code",
   "execution_count": null,
   "metadata": {},
   "outputs": [],
   "source": [
    "# calculate the 'population' mean for birthrate in mid co2 group (year 2014)\n",
    "population2 = df_2014[df_2014[\"CO2 Group\"] == \"Mid-Level CO2\"]\n",
    "population2.Birthrate_2014.mean()"
   ]
  },
  {
   "cell_type": "code",
   "execution_count": null,
   "metadata": {},
   "outputs": [],
   "source": [
    "# calculate the 'population' mean for birthrate in mid co2 group (year 2014)\n",
    "population3 = df_2014[df_2014[\"CO2 Group\"] == \"High-Level CO2\"]\n",
    "population3.Birthrate_2014.mean()"
   ]
  },
  {
   "cell_type": "code",
   "execution_count": null,
   "metadata": {},
   "outputs": [],
   "source": [
    "# calculate independent (two sample) t-test, low v mid (2014)\n",
    "stats.ttest_ind(population1.Birthrate_2014, population2.Birthrate_2014, equal_var=False)"
   ]
  },
  {
   "cell_type": "code",
   "execution_count": null,
   "metadata": {},
   "outputs": [],
   "source": [
    "# calculate independent (two sample) t-test, low v high (2014)\n",
    "stats.ttest_ind(population1.Birthrate_2014, population3.Birthrate_2014, equal_var=False)"
   ]
  },
  {
   "cell_type": "code",
   "execution_count": null,
   "metadata": {},
   "outputs": [],
   "source": [
    "# calculate independent (two sample) t-test, mid v high (2014)\n",
    "stats.ttest_ind(population2.Birthrate_2014, population3.Birthrate_2014, equal_var=False)"
   ]
  },
  {
   "cell_type": "markdown",
   "metadata": {},
   "source": [
    "**ANALYSIS:**  The anova test performed on the 2014 data set resulted in a failure to reject the null hypothesis. While this isn't statistically significant, we did find statistical significance when performing independent t-tests on both low v mid co2 groups and low v high co2 groups."
   ]
  },
  {
   "cell_type": "code",
   "execution_count": null,
   "metadata": {},
   "outputs": [],
   "source": []
  },
  {
   "cell_type": "code",
   "execution_count": null,
   "metadata": {},
   "outputs": [],
   "source": [
    "#Vallie's code ends here"
   ]
  },
  {
   "cell_type": "code",
   "execution_count": null,
   "metadata": {},
   "outputs": [],
   "source": []
  }
 ],
 "metadata": {
  "kernelspec": {
   "display_name": "Python 3",
   "language": "python",
   "name": "python3"
  },
  "language_info": {
   "codemirror_mode": {
    "name": "ipython",
    "version": 3
   },
   "file_extension": ".py",
   "mimetype": "text/x-python",
   "name": "python",
   "nbconvert_exporter": "python",
   "pygments_lexer": "ipython3",
   "version": "3.7.4"
  }
 },
 "nbformat": 4,
 "nbformat_minor": 2
}
